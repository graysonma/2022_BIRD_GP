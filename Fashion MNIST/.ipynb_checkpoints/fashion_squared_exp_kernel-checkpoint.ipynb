{
 "cells": [
  {
   "cell_type": "code",
   "execution_count": 1,
   "id": "3fc3b1d6-9e73-41b9-b47f-0ee306f3925f",
   "metadata": {},
   "outputs": [],
   "source": [
    "import sys\n",
    "sys.path.append(\"../birdgp\")\n",
    "\n",
    "import numpy as np\n",
    "import matplotlib.pyplot as plt\n",
    "import math\n",
    "import bird_gp\n",
    "import random\n",
    "import torch\n",
    "from sklearn.gaussian_process.kernels import RBF\n",
    "\n",
    "%matplotlib inline"
   ]
  },
  {
   "cell_type": "code",
   "execution_count": null,
   "id": "d07d7ae7-0631-49fb-a972-cc294dbf18c0",
   "metadata": {
    "collapsed": true,
    "jupyter": {
     "outputs_hidden": true
    },
    "tags": []
   },
   "outputs": [
    {
     "name": "stdout",
     "output_type": "stream",
     "text": [
      "fit basis coefficients for predictors ...\n"
     ]
    },
    {
     "name": "stderr",
     "output_type": "stream",
     "text": [
      "100%|██████████| 1000/1000 [06:30<00:00,  2.56it/s]\n"
     ]
    },
    {
     "name": "stdout",
     "output_type": "stream",
     "text": [
      "fit basis coefficients for outcomes ...\n"
     ]
    },
    {
     "name": "stderr",
     "output_type": "stream",
     "text": [
      "100%|██████████| 1000/1000 [05:30<00:00,  3.03it/s]\n"
     ]
    },
    {
     "name": "stdout",
     "output_type": "stream",
     "text": [
      "stein variation gradient descent ...\n",
      "epoch: 1 / 30, training rmse: 1.5468, training r2: 0.1717\n",
      "epoch: 2 / 30, training rmse: 1.3853, training r2: 0.3356\n",
      "epoch: 3 / 30, training rmse: 1.2001, training r2: 0.5014\n",
      "epoch: 4 / 30, training rmse: 1.0018, training r2: 0.6525\n",
      "epoch: 5 / 30, training rmse: 0.8306, training r2: 0.7611\n",
      "epoch: 6 / 30, training rmse: 0.7168, training r2: 0.8221\n",
      "epoch: 7 / 30, training rmse: 0.6512, training r2: 0.8532\n",
      "epoch: 8 / 30, training rmse: 0.6092, training r2: 0.8715\n",
      "epoch: 9 / 30, training rmse: 0.5834, training r2: 0.8822\n",
      "epoch: 10 / 30, training rmse: 0.5623, training r2: 0.8906\n",
      "epoch: 11 / 30, training rmse: 0.5477, training r2: 0.8962\n",
      "epoch: 12 / 30, training rmse: 0.5357, training r2: 0.9007\n",
      "epoch: 13 / 30, training rmse: 0.5267, training r2: 0.904\n",
      "epoch: 14 / 30, training rmse: 0.5177, training r2: 0.9072\n",
      "epoch: 15 / 30, training rmse: 0.5098, training r2: 0.91\n",
      "epoch: 16 / 30, training rmse: 0.502, training r2: 0.9128\n",
      "epoch: 17 / 30, training rmse: 0.4972, training r2: 0.9144\n",
      "epoch: 18 / 30, training rmse: 0.4916, training r2: 0.9163\n",
      "epoch: 19 / 30, training rmse: 0.4864, training r2: 0.9181\n",
      "epoch: 20 / 30, training rmse: 0.4827, training r2: 0.9193\n",
      "epoch: 21 / 30, training rmse: 0.4778, training r2: 0.921\n",
      "epoch: 22 / 30, training rmse: 0.4744, training r2: 0.9221\n",
      "epoch: 23 / 30, training rmse: 0.4712, training r2: 0.9231\n",
      "epoch: 24 / 30, training rmse: 0.4681, training r2: 0.9242\n",
      "epoch: 25 / 30, training rmse: 0.4653, training r2: 0.9251\n",
      "epoch: 26 / 30, training rmse: 0.4609, training r2: 0.9265\n",
      "epoch: 27 / 30, training rmse: 0.4608, training r2: 0.9265\n",
      "epoch: 28 / 30, training rmse: 0.457, training r2: 0.9277\n",
      "epoch: 29 / 30, training rmse: 0.4555, training r2: 0.9282\n",
      "epoch: 30 / 30, training rmse: 0.4524, training r2: 0.9291\n"
     ]
    },
    {
     "data": {
      "image/png": "[encoded data removed]",
      "text/plain": [
       "<Figure size 432x288 with 1 Axes>"
      ]
     },
     "metadata": {
      "needs_background": "light"
     },
     "output_type": "display_data"
    },
    {
     "name": "stderr",
     "output_type": "stream",
     "text": [
      "100%|██████████| 1000/1000 [06:30<00:00,  2.56it/s]\n"
     ]
    },
    {
     "name": "stdout",
     "output_type": "stream",
     "text": [
      "fit basis coefficients for predictors ...\n"
     ]
    },
    {
     "name": "stderr",
     "output_type": "stream",
     "text": [
      "100%|██████████| 1000/1000 [06:37<00:00,  2.51it/s]\n"
     ]
    },
    {
     "name": "stdout",
     "output_type": "stream",
     "text": [
      "fit basis coefficients for outcomes ...\n"
     ]
    },
    {
     "name": "stderr",
     "output_type": "stream",
     "text": [
      "100%|██████████| 1000/1000 [05:33<00:00,  2.99it/s]\n"
     ]
    },
    {
     "name": "stdout",
     "output_type": "stream",
     "text": [
      "stein variation gradient descent ...\n",
      "epoch: 1 / 30, training rmse: 1.5299, training r2: 0.1781\n",
      "epoch: 2 / 30, training rmse: 1.3667, training r2: 0.344\n",
      "epoch: 3 / 30, training rmse: 1.1823, training r2: 0.5091\n",
      "epoch: 4 / 30, training rmse: 0.9911, training r2: 0.6551\n",
      "epoch: 5 / 30, training rmse: 0.826, training r2: 0.7604\n",
      "epoch: 6 / 30, training rmse: 0.7136, training r2: 0.8212\n",
      "epoch: 7 / 30, training rmse: 0.6468, training r2: 0.8531\n",
      "epoch: 8 / 30, training rmse: 0.6047, training r2: 0.8716\n",
      "epoch: 9 / 30, training rmse: 0.5765, training r2: 0.8833\n",
      "epoch: 10 / 30, training rmse: 0.5566, training r2: 0.8912\n",
      "epoch: 11 / 30, training rmse: 0.5395, training r2: 0.8978\n",
      "epoch: 12 / 30, training rmse: 0.5261, training r2: 0.9028\n",
      "epoch: 13 / 30, training rmse: 0.5149, training r2: 0.9069\n",
      "epoch: 14 / 30, training rmse: 0.5056, training r2: 0.9102\n",
      "epoch: 15 / 30, training rmse: 0.4978, training r2: 0.913\n",
      "epoch: 16 / 30, training rmse: 0.4884, training r2: 0.9162\n",
      "epoch: 17 / 30, training rmse: 0.4827, training r2: 0.9182\n",
      "epoch: 18 / 30, training rmse: 0.477, training r2: 0.9201\n",
      "epoch: 19 / 30, training rmse: 0.4708, training r2: 0.9222\n",
      "epoch: 20 / 30, training rmse: 0.4661, training r2: 0.9237\n",
      "epoch: 21 / 30, training rmse: 0.4618, training r2: 0.9251\n",
      "epoch: 22 / 30, training rmse: 0.4582, training r2: 0.9263\n",
      "epoch: 23 / 30, training rmse: 0.4538, training r2: 0.9277\n",
      "epoch: 24 / 30, training rmse: 0.4504, training r2: 0.9288\n",
      "epoch: 25 / 30, training rmse: 0.447, training r2: 0.9299\n",
      "epoch: 26 / 30, training rmse: 0.4455, training r2: 0.9303\n",
      "epoch: 27 / 30, training rmse: 0.4416, training r2: 0.9315\n",
      "epoch: 28 / 30, training rmse: 0.4394, training r2: 0.9322\n",
      "epoch: 29 / 30, training rmse: 0.4374, training r2: 0.9328\n",
      "epoch: 30 / 30, training rmse: 0.4355, training r2: 0.9334\n"
     ]
    },
    {
     "data": {
      "image/png": "[encoded data removed]",
      "text/plain": [
       "<Figure size 432x288 with 1 Axes>"
      ]
     },
     "metadata": {
      "needs_background": "light"
     },
     "output_type": "display_data"
    },
    {
     "name": "stderr",
     "output_type": "stream",
     "text": [
      "100%|██████████| 1000/1000 [06:36<00:00,  2.52it/s]\n"
     ]
    },
    {
     "name": "stdout",
     "output_type": "stream",
     "text": [
      "fit basis coefficients for predictors ...\n"
     ]
    },
    {
     "name": "stderr",
     "output_type": "stream",
     "text": [
      "100%|██████████| 1000/1000 [06:36<00:00,  2.52it/s]\n"
     ]
    },
    {
     "name": "stdout",
     "output_type": "stream",
     "text": [
      "fit basis coefficients for outcomes ...\n"
     ]
    },
    {
     "name": "stderr",
     "output_type": "stream",
     "text": [
      "100%|██████████| 1000/1000 [05:31<00:00,  3.01it/s]\n"
     ]
    },
    {
     "name": "stdout",
     "output_type": "stream",
     "text": [
      "stein variation gradient descent ...\n",
      "epoch: 1 / 30, training rmse: 1.5278, training r2: 0.1795\n",
      "epoch: 2 / 30, training rmse: 1.3656, training r2: 0.3445\n",
      "epoch: 3 / 30, training rmse: 1.1782, training r2: 0.5121\n",
      "epoch: 4 / 30, training rmse: 0.9826, training r2: 0.6606\n",
      "epoch: 5 / 30, training rmse: 0.8163, training r2: 0.7658\n",
      "epoch: 6 / 30, training rmse: 0.7092, training r2: 0.8232\n",
      "epoch: 7 / 30, training rmse: 0.6425, training r2: 0.8549\n",
      "epoch: 8 / 30, training rmse: 0.6054, training r2: 0.8711\n",
      "epoch: 9 / 30, training rmse: 0.5818, training r2: 0.881\n",
      "epoch: 10 / 30, training rmse: 0.5608, training r2: 0.8894\n",
      "epoch: 11 / 30, training rmse: 0.5474, training r2: 0.8947\n",
      "epoch: 12 / 30, training rmse: 0.5347, training r2: 0.8995\n",
      "epoch: 13 / 30, training rmse: 0.5243, training r2: 0.9034\n",
      "epoch: 14 / 30, training rmse: 0.5139, training r2: 0.9072\n",
      "epoch: 15 / 30, training rmse: 0.5065, training r2: 0.9098\n",
      "epoch: 16 / 30, training rmse: 0.4995, training r2: 0.9123\n",
      "epoch: 17 / 30, training rmse: 0.492, training r2: 0.9149\n",
      "epoch: 18 / 30, training rmse: 0.4872, training r2: 0.9166\n",
      "epoch: 19 / 30, training rmse: 0.4817, training r2: 0.9184\n",
      "epoch: 20 / 30, training rmse: 0.4751, training r2: 0.9207\n",
      "epoch: 21 / 30, training rmse: 0.4718, training r2: 0.9218\n",
      "epoch: 22 / 30, training rmse: 0.4674, training r2: 0.9232\n",
      "epoch: 23 / 30, training rmse: 0.4645, training r2: 0.9242\n",
      "epoch: 24 / 30, training rmse: 0.4606, training r2: 0.9254\n",
      "epoch: 25 / 30, training rmse: 0.4563, training r2: 0.9268\n",
      "epoch: 26 / 30, training rmse: 0.4541, training r2: 0.9275\n",
      "epoch: 27 / 30, training rmse: 0.452, training r2: 0.9282\n",
      "epoch: 28 / 30, training rmse: 0.4477, training r2: 0.9295\n",
      "epoch: 29 / 30, training rmse: 0.4456, training r2: 0.9302\n",
      "epoch: 30 / 30, training rmse: 0.4443, training r2: 0.9306\n"
     ]
    },
    {
     "data": {
      "image/png": "[encoded data removed]",
      "text/plain": [
       "<Figure size 432x288 with 1 Axes>"
      ]
     },
     "metadata": {
      "needs_background": "light"
     },
     "output_type": "display_data"
    },
    {
     "name": "stderr",
     "output_type": "stream",
     "text": [
      "100%|██████████| 1000/1000 [06:37<00:00,  2.51it/s]\n"
     ]
    },
    {
     "name": "stdout",
     "output_type": "stream",
     "text": [
      "fit basis coefficients for predictors ...\n"
     ]
    },
    {
     "name": "stderr",
     "output_type": "stream",
     "text": [
      "100%|██████████| 1000/1000 [06:38<00:00,  2.51it/s]\n"
     ]
    },
    {
     "name": "stdout",
     "output_type": "stream",
     "text": [
      "fit basis coefficients for outcomes ...\n"
     ]
    },
    {
     "name": "stderr",
     "output_type": "stream",
     "text": [
      "100%|██████████| 1000/1000 [05:31<00:00,  3.01it/s]\n"
     ]
    },
    {
     "name": "stdout",
     "output_type": "stream",
     "text": [
      "stein variation gradient descent ...\n",
      "epoch: 1 / 30, training rmse: 1.5252, training r2: 0.1771\n",
      "epoch: 2 / 30, training rmse: 1.3629, training r2: 0.3429\n",
      "epoch: 3 / 30, training rmse: 1.1794, training r2: 0.508\n",
      "epoch: 4 / 30, training rmse: 0.9857, training r2: 0.6563\n",
      "epoch: 5 / 30, training rmse: 0.819, training r2: 0.7627\n",
      "epoch: 6 / 30, training rmse: 0.7087, training r2: 0.8223\n",
      "epoch: 7 / 30, training rmse: 0.641, training r2: 0.8547\n",
      "epoch: 8 / 30, training rmse: 0.5988, training r2: 0.8732\n",
      "epoch: 9 / 30, training rmse: 0.5704, training r2: 0.8849\n",
      "epoch: 10 / 30, training rmse: 0.5494, training r2: 0.8932\n",
      "epoch: 11 / 30, training rmse: 0.5347, training r2: 0.8989\n",
      "epoch: 12 / 30, training rmse: 0.5218, training r2: 0.9037\n",
      "epoch: 13 / 30, training rmse: 0.5111, training r2: 0.9076\n",
      "epoch: 14 / 30, training rmse: 0.5019, training r2: 0.9109\n",
      "epoch: 15 / 30, training rmse: 0.4945, training r2: 0.9135\n",
      "epoch: 16 / 30, training rmse: 0.4862, training r2: 0.9164\n",
      "epoch: 17 / 30, training rmse: 0.4813, training r2: 0.9181\n",
      "epoch: 18 / 30, training rmse: 0.4763, training r2: 0.9197\n",
      "epoch: 19 / 30, training rmse: 0.4703, training r2: 0.9218\n",
      "epoch: 20 / 30, training rmse: 0.4668, training r2: 0.9229\n",
      "epoch: 21 / 30, training rmse: 0.4622, training r2: 0.9244\n",
      "epoch: 22 / 30, training rmse: 0.4584, training r2: 0.9257\n",
      "epoch: 23 / 30, training rmse: 0.4554, training r2: 0.9266\n",
      "epoch: 24 / 30, training rmse: 0.4522, training r2: 0.9277\n",
      "epoch: 25 / 30, training rmse: 0.4504, training r2: 0.9282\n",
      "epoch: 26 / 30, training rmse: 0.4464, training r2: 0.9295\n",
      "epoch: 27 / 30, training rmse: 0.4443, training r2: 0.9302\n",
      "epoch: 28 / 30, training rmse: 0.4413, training r2: 0.9311\n",
      "epoch: 29 / 30, training rmse: 0.4399, training r2: 0.9315\n",
      "epoch: 30 / 30, training rmse: 0.4368, training r2: 0.9325\n"
     ]
    },
    {
     "data": {
      "image/png": "[encoded data removed]",
      "text/plain": [
       "<Figure size 432x288 with 1 Axes>"
      ]
     },
     "metadata": {
      "needs_background": "light"
     },
     "output_type": "display_data"
    },
    {
     "name": "stderr",
     "output_type": "stream",
     "text": [
      "100%|██████████| 1000/1000 [06:37<00:00,  2.51it/s]\n"
     ]
    },
    {
     "name": "stdout",
     "output_type": "stream",
     "text": [
      "fit basis coefficients for predictors ...\n"
     ]
    },
    {
     "name": "stderr",
     "output_type": "stream",
     "text": [
      "100%|██████████| 1000/1000 [06:35<00:00,  2.53it/s]\n"
     ]
    },
    {
     "name": "stdout",
     "output_type": "stream",
     "text": [
      "fit basis coefficients for outcomes ...\n"
     ]
    },
    {
     "name": "stderr",
     "output_type": "stream",
     "text": [
      "100%|██████████| 1000/1000 [05:32<00:00,  3.01it/s]\n"
     ]
    },
    {
     "name": "stdout",
     "output_type": "stream",
     "text": [
      "stein variation gradient descent ...\n",
      "epoch: 1 / 30, training rmse: 1.4943, training r2: 0.1927\n",
      "epoch: 2 / 30, training rmse: 1.3203, training r2: 0.3697\n",
      "epoch: 3 / 30, training rmse: 1.1198, training r2: 0.5466\n",
      "epoch: 4 / 30, training rmse: 0.9102, training r2: 0.7005\n",
      "epoch: 5 / 30, training rmse: 0.7439, training r2: 0.7999\n",
      "epoch: 6 / 30, training rmse: 0.6453, training r2: 0.8494\n",
      "epoch: 7 / 30, training rmse: 0.5907, training r2: 0.8738\n",
      "epoch: 8 / 30, training rmse: 0.5566, training r2: 0.888\n",
      "epoch: 9 / 30, training rmse: 0.5325, training r2: 0.8975\n",
      "epoch: 10 / 30, training rmse: 0.5161, training r2: 0.9037\n",
      "epoch: 11 / 30, training rmse: 0.5011, training r2: 0.9092\n",
      "epoch: 12 / 30, training rmse: 0.4885, training r2: 0.9137\n",
      "epoch: 13 / 30, training rmse: 0.4785, training r2: 0.9172\n",
      "epoch: 14 / 30, training rmse: 0.4692, training r2: 0.9204\n",
      "epoch: 15 / 30, training rmse: 0.4611, training r2: 0.9231\n",
      "epoch: 16 / 30, training rmse: 0.4545, training r2: 0.9253\n",
      "epoch: 17 / 30, training rmse: 0.448, training r2: 0.9274\n",
      "epoch: 18 / 30, training rmse: 0.4429, training r2: 0.9291\n",
      "epoch: 19 / 30, training rmse: 0.4372, training r2: 0.9309\n",
      "epoch: 20 / 30, training rmse: 0.4325, training r2: 0.9324\n",
      "epoch: 21 / 30, training rmse: 0.4278, training r2: 0.9338\n",
      "epoch: 22 / 30, training rmse: 0.424, training r2: 0.935\n",
      "epoch: 23 / 30, training rmse: 0.4209, training r2: 0.9359\n",
      "epoch: 24 / 30, training rmse: 0.4172, training r2: 0.9371\n",
      "epoch: 25 / 30, training rmse: 0.4134, training r2: 0.9382\n",
      "epoch: 26 / 30, training rmse: 0.4111, training r2: 0.9389\n",
      "epoch: 27 / 30, training rmse: 0.4086, training r2: 0.9396\n",
      "epoch: 28 / 30, training rmse: 0.4058, training r2: 0.9404\n",
      "epoch: 29 / 30, training rmse: 0.4031, training r2: 0.9412\n",
      "epoch: 30 / 30, training rmse: 0.402, training r2: 0.9416\n"
     ]
    },
    {
     "data": {
      "image/png": "[encoded data removed]",
      "text/plain": [
       "<Figure size 432x288 with 1 Axes>"
      ]
     },
     "metadata": {
      "needs_background": "light"
     },
     "output_type": "display_data"
    },
    {
     "name": "stderr",
     "output_type": "stream",
     "text": [
      "100%|██████████| 1000/1000 [06:34<00:00,  2.53it/s]\n"
     ]
    },
    {
     "name": "stdout",
     "output_type": "stream",
     "text": [
      "fit basis coefficients for predictors ...\n"
     ]
    },
    {
     "name": "stderr",
     "output_type": "stream",
     "text": [
      "100%|██████████| 1000/1000 [06:37<00:00,  2.51it/s]\n"
     ]
    },
    {
     "name": "stdout",
     "output_type": "stream",
     "text": [
      "fit basis coefficients for outcomes ...\n"
     ]
    },
    {
     "name": "stderr",
     "output_type": "stream",
     "text": [
      "100%|██████████| 1000/1000 [05:30<00:00,  3.03it/s]\n"
     ]
    },
    {
     "name": "stdout",
     "output_type": "stream",
     "text": [
      "stein variation gradient descent ...\n",
      "epoch: 1 / 30, training rmse: 1.5162, training r2: 0.178\n",
      "epoch: 2 / 30, training rmse: 1.3548, training r2: 0.3438\n",
      "epoch: 3 / 30, training rmse: 1.1743, training r2: 0.507\n",
      "epoch: 4 / 30, training rmse: 0.983, training r2: 0.6545\n",
      "epoch: 5 / 30, training rmse: 0.8211, training r2: 0.759\n",
      "epoch: 6 / 30, training rmse: 0.7111, training r2: 0.8192\n",
      "epoch: 7 / 30, training rmse: 0.6442, training r2: 0.8516\n",
      "epoch: 8 / 30, training rmse: 0.6044, training r2: 0.8694\n",
      "epoch: 9 / 30, training rmse: 0.578, training r2: 0.8806\n",
      "epoch: 10 / 30, training rmse: 0.558, training r2: 0.8887\n",
      "epoch: 11 / 30, training rmse: 0.5423, training r2: 0.8948\n",
      "epoch: 12 / 30, training rmse: 0.5305, training r2: 0.8994\n",
      "epoch: 13 / 30, training rmse: 0.5194, training r2: 0.9035\n",
      "epoch: 14 / 30, training rmse: 0.5104, training r2: 0.9069\n",
      "epoch: 15 / 30, training rmse: 0.502, training r2: 0.9099\n",
      "epoch: 16 / 30, training rmse: 0.4948, training r2: 0.9125\n",
      "epoch: 17 / 30, training rmse: 0.4886, training r2: 0.9147\n",
      "epoch: 18 / 30, training rmse: 0.4827, training r2: 0.9167\n",
      "epoch: 19 / 30, training rmse: 0.478, training r2: 0.9183\n",
      "epoch: 20 / 30, training rmse: 0.4736, training r2: 0.9198\n",
      "epoch: 21 / 30, training rmse: 0.4681, training r2: 0.9217\n",
      "epoch: 22 / 30, training rmse: 0.4659, training r2: 0.9224\n",
      "epoch: 23 / 30, training rmse: 0.4615, training r2: 0.9239\n",
      "epoch: 24 / 30, training rmse: 0.4594, training r2: 0.9246\n",
      "epoch: 25 / 30, training rmse: 0.4548, training r2: 0.9261\n",
      "epoch: 26 / 30, training rmse: 0.4537, training r2: 0.9264\n",
      "epoch: 27 / 30, training rmse: 0.4504, training r2: 0.9275\n",
      "epoch: 28 / 30, training rmse: 0.4483, training r2: 0.9281\n",
      "epoch: 29 / 30, training rmse: 0.4462, training r2: 0.9288\n",
      "epoch: 30 / 30, training rmse: 0.4445, training r2: 0.9293\n"
     ]
    },
    {
     "data": {
      "image/png": "[encoded data removed]",
      "text/plain": [
       "<Figure size 432x288 with 1 Axes>"
      ]
     },
     "metadata": {
      "needs_background": "light"
     },
     "output_type": "display_data"
    },
    {
     "name": "stderr",
     "output_type": "stream",
     "text": [
      "100%|██████████| 1000/1000 [06:40<00:00,  2.50it/s]\n"
     ]
    },
    {
     "name": "stdout",
     "output_type": "stream",
     "text": [
      "fit basis coefficients for predictors ...\n"
     ]
    },
    {
     "name": "stderr",
     "output_type": "stream",
     "text": [
      "100%|██████████| 1000/1000 [06:35<00:00,  2.53it/s]\n"
     ]
    },
    {
     "name": "stdout",
     "output_type": "stream",
     "text": [
      "fit basis coefficients for outcomes ...\n"
     ]
    },
    {
     "name": "stderr",
     "output_type": "stream",
     "text": [
      "100%|██████████| 1000/1000 [05:30<00:00,  3.02it/s]\n"
     ]
    },
    {
     "name": "stdout",
     "output_type": "stream",
     "text": [
      "stein variation gradient descent ...\n",
      "epoch: 1 / 30, training rmse: 1.4963, training r2: 0.1993\n",
      "epoch: 2 / 30, training rmse: 1.3201, training r2: 0.3768\n",
      "epoch: 3 / 30, training rmse: 1.1224, training r2: 0.5494\n",
      "epoch: 4 / 30, training rmse: 0.9204, training r2: 0.697\n",
      "epoch: 5 / 30, training rmse: 0.7597, training r2: 0.7936\n",
      "epoch: 6 / 30, training rmse: 0.6584, training r2: 0.845\n",
      "epoch: 7 / 30, training rmse: 0.6012, training r2: 0.8707\n",
      "epoch: 8 / 30, training rmse: 0.5663, training r2: 0.8853\n",
      "epoch: 9 / 30, training rmse: 0.543, training r2: 0.8946\n",
      "epoch: 10 / 30, training rmse: 0.5266, training r2: 0.9008\n",
      "epoch: 11 / 30, training rmse: 0.5119, training r2: 0.9063\n",
      "epoch: 12 / 30, training rmse: 0.501, training r2: 0.9102\n",
      "epoch: 13 / 30, training rmse: 0.4913, training r2: 0.9137\n",
      "epoch: 14 / 30, training rmse: 0.4825, training r2: 0.9168\n",
      "epoch: 15 / 30, training rmse: 0.4749, training r2: 0.9193\n",
      "epoch: 16 / 30, training rmse: 0.469, training r2: 0.9213\n",
      "epoch: 17 / 30, training rmse: 0.4626, training r2: 0.9235\n",
      "epoch: 18 / 30, training rmse: 0.4574, training r2: 0.9252\n",
      "epoch: 19 / 30, training rmse: 0.4529, training r2: 0.9267\n",
      "epoch: 20 / 30, training rmse: 0.4483, training r2: 0.9281\n",
      "epoch: 21 / 30, training rmse: 0.4445, training r2: 0.9294\n",
      "epoch: 22 / 30, training rmse: 0.4409, training r2: 0.9305\n",
      "epoch: 23 / 30, training rmse: 0.4369, training r2: 0.9317\n",
      "epoch: 24 / 30, training rmse: 0.4344, training r2: 0.9325\n",
      "epoch: 25 / 30, training rmse: 0.4312, training r2: 0.9335\n",
      "epoch: 26 / 30, training rmse: 0.4285, training r2: 0.9343\n",
      "epoch: 27 / 30, training rmse: 0.4265, training r2: 0.9349\n",
      "epoch: 28 / 30, training rmse: 0.424, training r2: 0.9357\n",
      "epoch: 29 / 30, training rmse: 0.4216, training r2: 0.9364\n",
      "epoch: 30 / 30, training rmse: 0.42, training r2: 0.9369\n"
     ]
    },
    {
     "data": {
      "image/png": "[encoded data removed]",
      "text/plain": [
       "<Figure size 432x288 with 1 Axes>"
      ]
     },
     "metadata": {
      "needs_background": "light"
     },
     "output_type": "display_data"
    },
    {
     "name": "stderr",
     "output_type": "stream",
     "text": [
      "100%|██████████| 1000/1000 [06:35<00:00,  2.53it/s]\n"
     ]
    },
    {
     "name": "stdout",
     "output_type": "stream",
     "text": [
      "fit basis coefficients for predictors ...\n"
     ]
    },
    {
     "name": "stderr",
     "output_type": "stream",
     "text": [
      "100%|██████████| 1000/1000 [06:38<00:00,  2.51it/s]\n"
     ]
    },
    {
     "name": "stdout",
     "output_type": "stream",
     "text": [
      "fit basis coefficients for outcomes ...\n"
     ]
    },
    {
     "name": "stderr",
     "output_type": "stream",
     "text": [
      "100%|██████████| 1000/1000 [05:33<00:00,  3.00it/s]\n"
     ]
    },
    {
     "name": "stdout",
     "output_type": "stream",
     "text": [
      "stein variation gradient descent ...\n",
      "epoch: 1 / 30, training rmse: 1.5108, training r2: 0.1849\n",
      "epoch: 2 / 30, training rmse: 1.3422, training r2: 0.3567\n",
      "epoch: 3 / 30, training rmse: 1.1533, training r2: 0.525\n",
      "epoch: 4 / 30, training rmse: 0.9595, training r2: 0.6713\n",
      "epoch: 5 / 30, training rmse: 0.8027, training r2: 0.7699\n",
      "epoch: 6 / 30, training rmse: 0.6978, training r2: 0.8261\n",
      "epoch: 7 / 30, training rmse: 0.6322, training r2: 0.8573\n",
      "epoch: 8 / 30, training rmse: 0.5919, training r2: 0.8749\n",
      "epoch: 9 / 30, training rmse: 0.5644, training r2: 0.8863\n",
      "epoch: 10 / 30, training rmse: 0.5439, training r2: 0.8944\n",
      "epoch: 11 / 30, training rmse: 0.528, training r2: 0.9004\n",
      "epoch: 12 / 30, training rmse: 0.5143, training r2: 0.9056\n",
      "epoch: 13 / 30, training rmse: 0.5021, training r2: 0.91\n",
      "epoch: 14 / 30, training rmse: 0.4939, training r2: 0.9129\n",
      "epoch: 15 / 30, training rmse: 0.4851, training r2: 0.916\n",
      "epoch: 16 / 30, training rmse: 0.4777, training r2: 0.9185\n",
      "epoch: 17 / 30, training rmse: 0.4719, training r2: 0.9205\n",
      "epoch: 18 / 30, training rmse: 0.4662, training r2: 0.9224\n",
      "epoch: 19 / 30, training rmse: 0.4601, training r2: 0.9244\n",
      "epoch: 20 / 30, training rmse: 0.4572, training r2: 0.9254\n",
      "epoch: 21 / 30, training rmse: 0.4525, training r2: 0.9269\n",
      "epoch: 22 / 30, training rmse: 0.4482, training r2: 0.9283\n",
      "epoch: 23 / 30, training rmse: 0.4444, training r2: 0.9295\n",
      "epoch: 24 / 30, training rmse: 0.4418, training r2: 0.9303\n",
      "epoch: 25 / 30, training rmse: 0.4381, training r2: 0.9315\n",
      "epoch: 26 / 30, training rmse: 0.4353, training r2: 0.9323\n",
      "epoch: 27 / 30, training rmse: 0.4334, training r2: 0.9329\n",
      "epoch: 28 / 30, training rmse: 0.4302, training r2: 0.9339\n",
      "epoch: 29 / 30, training rmse: 0.4289, training r2: 0.9343\n",
      "epoch: 30 / 30, training rmse: 0.4262, training r2: 0.9351\n"
     ]
    },
    {
     "data": {
      "image/png": "[encoded data removed]",
      "text/plain": [
       "<Figure size 432x288 with 1 Axes>"
      ]
     },
     "metadata": {
      "needs_background": "light"
     },
     "output_type": "display_data"
    },
    {
     "name": "stderr",
     "output_type": "stream",
     "text": [
      "100%|██████████| 1000/1000 [06:39<00:00,  2.51it/s]\n"
     ]
    },
    {
     "name": "stdout",
     "output_type": "stream",
     "text": [
      "fit basis coefficients for predictors ...\n"
     ]
    },
    {
     "name": "stderr",
     "output_type": "stream",
     "text": [
      "100%|██████████| 1000/1000 [06:36<00:00,  2.52it/s]\n"
     ]
    },
    {
     "name": "stdout",
     "output_type": "stream",
     "text": [
      "fit basis coefficients for outcomes ...\n"
     ]
    },
    {
     "name": "stderr",
     "output_type": "stream",
     "text": [
      "100%|██████████| 1000/1000 [05:31<00:00,  3.02it/s]\n"
     ]
    },
    {
     "name": "stdout",
     "output_type": "stream",
     "text": [
      "stein variation gradient descent ...\n",
      "epoch: 1 / 30, training rmse: 1.522, training r2: 0.1861\n",
      "epoch: 2 / 30, training rmse: 1.3536, training r2: 0.3561\n",
      "epoch: 3 / 30, training rmse: 1.163, training r2: 0.5247\n",
      "epoch: 4 / 30, training rmse: 0.9642, training r2: 0.6733\n",
      "epoch: 5 / 30, training rmse: 0.7979, training r2: 0.7763\n",
      "epoch: 6 / 30, training rmse: 0.6936, training r2: 0.831\n",
      "epoch: 7 / 30, training rmse: 0.6309, training r2: 0.8602\n",
      "epoch: 8 / 30, training rmse: 0.5908, training r2: 0.8774\n",
      "epoch: 9 / 30, training rmse: 0.5638, training r2: 0.8883\n",
      "epoch: 10 / 30, training rmse: 0.5441, training r2: 0.896\n",
      "epoch: 11 / 30, training rmse: 0.5277, training r2: 0.9022\n",
      "epoch: 12 / 30, training rmse: 0.515, training r2: 0.9068\n",
      "epoch: 13 / 30, training rmse: 0.5027, training r2: 0.9112\n",
      "epoch: 14 / 30, training rmse: 0.4936, training r2: 0.9144\n",
      "epoch: 15 / 30, training rmse: 0.4856, training r2: 0.9171\n",
      "epoch: 16 / 30, training rmse: 0.4781, training r2: 0.9197\n",
      "epoch: 17 / 30, training rmse: 0.4719, training r2: 0.9217\n",
      "epoch: 18 / 30, training rmse: 0.4659, training r2: 0.9237\n",
      "epoch: 19 / 30, training rmse: 0.4597, training r2: 0.9257\n",
      "epoch: 20 / 30, training rmse: 0.4549, training r2: 0.9273\n",
      "epoch: 21 / 30, training rmse: 0.4513, training r2: 0.9284\n",
      "epoch: 22 / 30, training rmse: 0.4469, training r2: 0.9298\n",
      "epoch: 23 / 30, training rmse: 0.4423, training r2: 0.9313\n",
      "epoch: 24 / 30, training rmse: 0.4391, training r2: 0.9322\n",
      "epoch: 25 / 30, training rmse: 0.4356, training r2: 0.9333\n",
      "epoch: 26 / 30, training rmse: 0.4319, training r2: 0.9344\n",
      "epoch: 27 / 30, training rmse: 0.4297, training r2: 0.9351\n",
      "epoch: 28 / 30, training rmse: 0.4267, training r2: 0.936\n",
      "epoch: 29 / 30, training rmse: 0.4238, training r2: 0.9369\n",
      "epoch: 30 / 30, training rmse: 0.4212, training r2: 0.9377\n"
     ]
    },
    {
     "data": {
      "image/png": "[encoded data removed]",
      "text/plain": [
       "<Figure size 432x288 with 1 Axes>"
      ]
     },
     "metadata": {
      "needs_background": "light"
     },
     "output_type": "display_data"
    },
    {
     "name": "stderr",
     "output_type": "stream",
     "text": [
      "100%|██████████| 1000/1000 [06:38<00:00,  2.51it/s]\n"
     ]
    },
    {
     "name": "stdout",
     "output_type": "stream",
     "text": [
      "fit basis coefficients for predictors ...\n"
     ]
    },
    {
     "name": "stderr",
     "output_type": "stream",
     "text": [
      "100%|██████████| 1000/1000 [06:39<00:00,  2.50it/s]\n"
     ]
    },
    {
     "name": "stdout",
     "output_type": "stream",
     "text": [
      "fit basis coefficients for outcomes ...\n"
     ]
    },
    {
     "name": "stderr",
     "output_type": "stream",
     "text": [
      "100%|██████████| 1000/1000 [05:31<00:00,  3.02it/s]\n"
     ]
    },
    {
     "name": "stdout",
     "output_type": "stream",
     "text": [
      "stein variation gradient descent ...\n",
      "epoch: 1 / 30, training rmse: 1.5168, training r2: 0.1819\n",
      "epoch: 2 / 30, training rmse: 1.3455, training r2: 0.3562\n",
      "epoch: 3 / 30, training rmse: 1.1496, training r2: 0.5301\n",
      "epoch: 4 / 30, training rmse: 0.9487, training r2: 0.6799\n",
      "epoch: 5 / 30, training rmse: 0.7873, training r2: 0.7796\n",
      "epoch: 6 / 30, training rmse: 0.6829, training r2: 0.8342\n",
      "epoch: 7 / 30, training rmse: 0.6214, training r2: 0.8627\n",
      "epoch: 8 / 30, training rmse: 0.5838, training r2: 0.8788\n",
      "epoch: 9 / 30, training rmse: 0.5562, training r2: 0.89\n",
      "epoch: 10 / 30, training rmse: 0.5365, training r2: 0.8977\n",
      "epoch: 11 / 30, training rmse: 0.5203, training r2: 0.9038\n",
      "epoch: 12 / 30, training rmse: 0.5055, training r2: 0.9091\n",
      "epoch: 13 / 30, training rmse: 0.4945, training r2: 0.913\n",
      "epoch: 14 / 30, training rmse: 0.4856, training r2: 0.9161\n",
      "epoch: 15 / 30, training rmse: 0.4766, training r2: 0.9192\n",
      "epoch: 16 / 30, training rmse: 0.4685, training r2: 0.922\n",
      "epoch: 17 / 30, training rmse: 0.4633, training r2: 0.9237\n",
      "epoch: 18 / 30, training rmse: 0.4567, training r2: 0.9258\n",
      "epoch: 19 / 30, training rmse: 0.4509, training r2: 0.9277\n",
      "epoch: 20 / 30, training rmse: 0.446, training r2: 0.9293\n",
      "epoch: 21 / 30, training rmse: 0.442, training r2: 0.9305\n",
      "epoch: 22 / 30, training rmse: 0.4375, training r2: 0.9319\n",
      "epoch: 23 / 30, training rmse: 0.4331, training r2: 0.9333\n",
      "epoch: 24 / 30, training rmse: 0.4296, training r2: 0.9344\n",
      "epoch: 25 / 30, training rmse: 0.4269, training r2: 0.9352\n",
      "epoch: 26 / 30, training rmse: 0.4241, training r2: 0.936\n",
      "epoch: 27 / 30, training rmse: 0.4205, training r2: 0.9371\n",
      "epoch: 28 / 30, training rmse: 0.4181, training r2: 0.9378\n",
      "epoch: 29 / 30, training rmse: 0.4153, training r2: 0.9387\n",
      "epoch: 30 / 30, training rmse: 0.4123, training r2: 0.9396\n"
     ]
    },
    {
     "data": {
      "image/png": "[encoded data removed]",
      "text/plain": [
       "<Figure size 432x288 with 1 Axes>"
      ]
     },
     "metadata": {
      "needs_background": "light"
     },
     "output_type": "display_data"
    },
    {
     "name": "stderr",
     "output_type": "stream",
     "text": [
      "100%|██████████| 1000/1000 [06:38<00:00,  2.51it/s]\n"
     ]
    },
    {
     "name": "stdout",
     "output_type": "stream",
     "text": [
      "fit basis coefficients for predictors ...\n"
     ]
    },
    {
     "name": "stderr",
     "output_type": "stream",
     "text": [
      "100%|██████████| 1000/1000 [06:35<00:00,  2.53it/s]\n"
     ]
    },
    {
     "name": "stdout",
     "output_type": "stream",
     "text": [
      "fit basis coefficients for outcomes ...\n"
     ]
    },
    {
     "name": "stderr",
     "output_type": "stream",
     "text": [
      "100%|██████████| 1000/1000 [05:33<00:00,  3.00it/s]\n"
     ]
    },
    {
     "name": "stdout",
     "output_type": "stream",
     "text": [
      "stein variation gradient descent ...\n",
      "epoch: 1 / 30, training rmse: 1.5222, training r2: 0.1889\n",
      "epoch: 2 / 30, training rmse: 1.3491, training r2: 0.3629\n",
      "epoch: 3 / 30, training rmse: 1.154, training r2: 0.5339\n",
      "epoch: 4 / 30, training rmse: 0.9488, training r2: 0.6849\n",
      "epoch: 5 / 30, training rmse: 0.7836, training r2: 0.7851\n",
      "epoch: 6 / 30, training rmse: 0.678, training r2: 0.8391\n",
      "epoch: 7 / 30, training rmse: 0.614, training r2: 0.868\n",
      "epoch: 8 / 30, training rmse: 0.5749, training r2: 0.8843\n",
      "epoch: 9 / 30, training rmse: 0.5467, training r2: 0.8954\n",
      "epoch: 10 / 30, training rmse: 0.5272, training r2: 0.9027\n",
      "epoch: 11 / 30, training rmse: 0.5122, training r2: 0.9082\n",
      "epoch: 12 / 30, training rmse: 0.5002, training r2: 0.9124\n",
      "epoch: 13 / 30, training rmse: 0.4893, training r2: 0.9162\n",
      "epoch: 14 / 30, training rmse: 0.4804, training r2: 0.9192\n",
      "epoch: 15 / 30, training rmse: 0.4725, training r2: 0.9219\n",
      "epoch: 16 / 30, training rmse: 0.4658, training r2: 0.9241\n",
      "epoch: 17 / 30, training rmse: 0.4601, training r2: 0.9259\n",
      "epoch: 18 / 30, training rmse: 0.4549, training r2: 0.9276\n",
      "epoch: 19 / 30, training rmse: 0.4499, training r2: 0.9291\n",
      "epoch: 20 / 30, training rmse: 0.4446, training r2: 0.9308\n",
      "epoch: 21 / 30, training rmse: 0.4407, training r2: 0.932\n",
      "epoch: 22 / 30, training rmse: 0.4368, training r2: 0.9332\n",
      "epoch: 23 / 30, training rmse: 0.4329, training r2: 0.9344\n",
      "epoch: 24 / 30, training rmse: 0.43, training r2: 0.9353\n",
      "epoch: 25 / 30, training rmse: 0.4267, training r2: 0.9363\n",
      "epoch: 26 / 30, training rmse: 0.4247, training r2: 0.9368\n",
      "epoch: 27 / 30, training rmse: 0.4213, training r2: 0.9379\n",
      "epoch: 28 / 30, training rmse: 0.4186, training r2: 0.9387\n",
      "epoch: 29 / 30, training rmse: 0.4158, training r2: 0.9395\n",
      "epoch: 30 / 30, training rmse: 0.415, training r2: 0.9397\n"
     ]
    },
    {
     "data": {
      "image/png": "[encoded data removed]",
      "text/plain": [
       "<Figure size 432x288 with 1 Axes>"
      ]
     },
     "metadata": {
      "needs_background": "light"
     },
     "output_type": "display_data"
    },
    {
     "name": "stderr",
     "output_type": "stream",
     "text": [
      "100%|██████████| 1000/1000 [06:36<00:00,  2.52it/s]\n"
     ]
    },
    {
     "name": "stdout",
     "output_type": "stream",
     "text": [
      "fit basis coefficients for predictors ...\n"
     ]
    },
    {
     "name": "stderr",
     "output_type": "stream",
     "text": [
      "100%|██████████| 1000/1000 [06:38<00:00,  2.51it/s]\n"
     ]
    },
    {
     "name": "stdout",
     "output_type": "stream",
     "text": [
      "fit basis coefficients for outcomes ...\n"
     ]
    },
    {
     "name": "stderr",
     "output_type": "stream",
     "text": [
      "100%|██████████| 1000/1000 [05:30<00:00,  3.03it/s]\n"
     ]
    },
    {
     "name": "stdout",
     "output_type": "stream",
     "text": [
      "stein variation gradient descent ...\n",
      "epoch: 1 / 30, training rmse: 1.5318, training r2: 0.1807\n",
      "epoch: 2 / 30, training rmse: 1.3699, training r2: 0.3447\n",
      "epoch: 3 / 30, training rmse: 1.1831, training r2: 0.5112\n",
      "epoch: 4 / 30, training rmse: 0.9896, training r2: 0.658\n",
      "epoch: 5 / 30, training rmse: 0.8286, training r2: 0.7602\n",
      "epoch: 6 / 30, training rmse: 0.7238, training r2: 0.8171\n",
      "epoch: 7 / 30, training rmse: 0.6599, training r2: 0.8479\n",
      "epoch: 8 / 30, training rmse: 0.6216, training r2: 0.8651\n",
      "epoch: 9 / 30, training rmse: 0.5949, training r2: 0.8764\n",
      "epoch: 10 / 30, training rmse: 0.5767, training r2: 0.8839\n",
      "epoch: 11 / 30, training rmse: 0.562, training r2: 0.8897\n",
      "epoch: 12 / 30, training rmse: 0.5493, training r2: 0.8946\n",
      "epoch: 13 / 30, training rmse: 0.541, training r2: 0.8978\n",
      "epoch: 14 / 30, training rmse: 0.5317, training r2: 0.9013\n",
      "epoch: 15 / 30, training rmse: 0.5249, training r2: 0.9038\n",
      "epoch: 16 / 30, training rmse: 0.5181, training r2: 0.9063\n",
      "epoch: 17 / 30, training rmse: 0.5137, training r2: 0.9079\n",
      "epoch: 18 / 30, training rmse: 0.5077, training r2: 0.91\n",
      "epoch: 19 / 30, training rmse: 0.504, training r2: 0.9113\n",
      "epoch: 20 / 30, training rmse: 0.5006, training r2: 0.9125\n",
      "epoch: 21 / 30, training rmse: 0.4973, training r2: 0.9137\n",
      "epoch: 22 / 30, training rmse: 0.4934, training r2: 0.915\n",
      "epoch: 23 / 30, training rmse: 0.4907, training r2: 0.9159\n",
      "epoch: 24 / 30, training rmse: 0.4887, training r2: 0.9166\n",
      "epoch: 25 / 30, training rmse: 0.4863, training r2: 0.9174\n",
      "epoch: 26 / 30, training rmse: 0.483, training r2: 0.9185\n",
      "epoch: 27 / 30, training rmse: 0.4824, training r2: 0.9187\n",
      "epoch: 28 / 30, training rmse: 0.4798, training r2: 0.9196\n",
      "epoch: 29 / 30, training rmse: 0.4782, training r2: 0.9202\n",
      "epoch: 30 / 30, training rmse: 0.4782, training r2: 0.9201\n"
     ]
    },
    {
     "data": {
      "image/png": "[encoded data removed]",
      "text/plain": [
       "<Figure size 432x288 with 1 Axes>"
      ]
     },
     "metadata": {
      "needs_background": "light"
     },
     "output_type": "display_data"
    },
    {
     "name": "stderr",
     "output_type": "stream",
     "text": [
      "100%|██████████| 1000/1000 [06:41<00:00,  2.49it/s]\n"
     ]
    },
    {
     "name": "stdout",
     "output_type": "stream",
     "text": [
      "fit basis coefficients for predictors ...\n"
     ]
    },
    {
     "name": "stderr",
     "output_type": "stream",
     "text": [
      "100%|██████████| 1000/1000 [06:35<00:00,  2.53it/s]\n"
     ]
    },
    {
     "name": "stdout",
     "output_type": "stream",
     "text": [
      "fit basis coefficients for outcomes ...\n"
     ]
    },
    {
     "name": "stderr",
     "output_type": "stream",
     "text": [
      "100%|██████████| 1000/1000 [05:33<00:00,  3.00it/s]\n"
     ]
    },
    {
     "name": "stdout",
     "output_type": "stream",
     "text": [
      "stein variation gradient descent ...\n",
      "epoch: 1 / 30, training rmse: 1.5213, training r2: 0.1862\n",
      "epoch: 2 / 30, training rmse: 1.3534, training r2: 0.3559\n",
      "epoch: 3 / 30, training rmse: 1.1634, training r2: 0.524\n",
      "epoch: 4 / 30, training rmse: 0.9679, training r2: 0.6706\n",
      "epoch: 5 / 30, training rmse: 0.8082, training r2: 0.7703\n",
      "epoch: 6 / 30, training rmse: 0.6984, training r2: 0.8285\n",
      "epoch: 7 / 30, training rmse: 0.6295, training r2: 0.8607\n",
      "epoch: 8 / 30, training rmse: 0.5871, training r2: 0.8788\n",
      "epoch: 9 / 30, training rmse: 0.5589, training r2: 0.8901\n",
      "epoch: 10 / 30, training rmse: 0.5394, training r2: 0.8977\n",
      "epoch: 11 / 30, training rmse: 0.5235, training r2: 0.9036\n",
      "epoch: 12 / 30, training rmse: 0.5098, training r2: 0.9086\n",
      "epoch: 13 / 30, training rmse: 0.4996, training r2: 0.9122\n",
      "epoch: 14 / 30, training rmse: 0.4908, training r2: 0.9153\n",
      "epoch: 15 / 30, training rmse: 0.4819, training r2: 0.9183\n",
      "epoch: 16 / 30, training rmse: 0.4755, training r2: 0.9205\n",
      "epoch: 17 / 30, training rmse: 0.4686, training r2: 0.9228\n",
      "epoch: 18 / 30, training rmse: 0.4632, training r2: 0.9246\n",
      "epoch: 19 / 30, training rmse: 0.457, training r2: 0.9266\n",
      "epoch: 20 / 30, training rmse: 0.4526, training r2: 0.928\n",
      "epoch: 21 / 30, training rmse: 0.4474, training r2: 0.9296\n",
      "epoch: 22 / 30, training rmse: 0.4439, training r2: 0.9307\n",
      "epoch: 23 / 30, training rmse: 0.4407, training r2: 0.9317\n",
      "epoch: 24 / 30, training rmse: 0.437, training r2: 0.9328\n",
      "epoch: 25 / 30, training rmse: 0.4332, training r2: 0.934\n",
      "epoch: 26 / 30, training rmse: 0.4307, training r2: 0.9348\n",
      "epoch: 27 / 30, training rmse: 0.4278, training r2: 0.9357\n",
      "epoch: 28 / 30, training rmse: 0.4252, training r2: 0.9364\n",
      "epoch: 29 / 30, training rmse: 0.4219, training r2: 0.9374\n",
      "epoch: 30 / 30, training rmse: 0.4202, training r2: 0.9379\n"
     ]
    },
    {
     "data": {
      "image/png": "[encoded data removed]",
      "text/plain": [
       "<Figure size 432x288 with 1 Axes>"
      ]
     },
     "metadata": {
      "needs_background": "light"
     },
     "output_type": "display_data"
    },
    {
     "name": "stderr",
     "output_type": "stream",
     "text": [
      "100%|██████████| 1000/1000 [06:35<00:00,  2.53it/s]\n"
     ]
    },
    {
     "name": "stdout",
     "output_type": "stream",
     "text": [
      "fit basis coefficients for predictors ...\n"
     ]
    },
    {
     "name": "stderr",
     "output_type": "stream",
     "text": [
      "100%|██████████| 1000/1000 [06:38<00:00,  2.51it/s]\n"
     ]
    },
    {
     "name": "stdout",
     "output_type": "stream",
     "text": [
      "fit basis coefficients for outcomes ...\n"
     ]
    },
    {
     "name": "stderr",
     "output_type": "stream",
     "text": [
      "100%|██████████| 1000/1000 [05:33<00:00,  3.00it/s]\n"
     ]
    },
    {
     "name": "stdout",
     "output_type": "stream",
     "text": [
      "stein variation gradient descent ...\n",
      "epoch: 1 / 30, training rmse: 1.5365, training r2: 0.1716\n",
      "epoch: 2 / 30, training rmse: 1.3804, training r2: 0.3314\n",
      "epoch: 3 / 30, training rmse: 1.2, training r2: 0.4948\n",
      "epoch: 4 / 30, training rmse: 1.011, training r2: 0.6414\n",
      "epoch: 5 / 30, training rmse: 0.8465, training r2: 0.7486\n",
      "epoch: 6 / 30, training rmse: 0.7342, training r2: 0.8109\n",
      "epoch: 7 / 30, training rmse: 0.6663, training r2: 0.8442\n",
      "epoch: 8 / 30, training rmse: 0.6229, training r2: 0.8639\n",
      "epoch: 9 / 30, training rmse: 0.5934, training r2: 0.8764\n",
      "epoch: 10 / 30, training rmse: 0.57, training r2: 0.886\n",
      "epoch: 11 / 30, training rmse: 0.5549, training r2: 0.892\n",
      "epoch: 12 / 30, training rmse: 0.5399, training r2: 0.8977\n",
      "epoch: 13 / 30, training rmse: 0.5275, training r2: 0.9024\n",
      "epoch: 14 / 30, training rmse: 0.5179, training r2: 0.9059\n",
      "epoch: 15 / 30, training rmse: 0.5089, training r2: 0.9091\n",
      "epoch: 16 / 30, training rmse: 0.5003, training r2: 0.9122\n",
      "epoch: 17 / 30, training rmse: 0.4928, training r2: 0.9148\n",
      "epoch: 18 / 30, training rmse: 0.4883, training r2: 0.9163\n",
      "epoch: 19 / 30, training rmse: 0.4817, training r2: 0.9186\n",
      "epoch: 20 / 30, training rmse: 0.4763, training r2: 0.9204\n",
      "epoch: 21 / 30, training rmse: 0.472, training r2: 0.9218\n",
      "epoch: 22 / 30, training rmse: 0.4673, training r2: 0.9234\n",
      "epoch: 23 / 30, training rmse: 0.4641, training r2: 0.9244\n",
      "epoch: 24 / 30, training rmse: 0.4602, training r2: 0.9257\n",
      "epoch: 25 / 30, training rmse: 0.4564, training r2: 0.9269\n",
      "epoch: 26 / 30, training rmse: 0.4536, training r2: 0.9278\n",
      "epoch: 27 / 30, training rmse: 0.4522, training r2: 0.9282\n",
      "epoch: 28 / 30, training rmse: 0.4475, training r2: 0.9297\n",
      "epoch: 29 / 30, training rmse: 0.4447, training r2: 0.9306\n",
      "epoch: 30 / 30, training rmse: 0.4439, training r2: 0.9309\n"
     ]
    },
    {
     "data": {
      "image/png": "[encoded data removed]",
      "text/plain": [
       "<Figure size 432x288 with 1 Axes>"
      ]
     },
     "metadata": {
      "needs_background": "light"
     },
     "output_type": "display_data"
    },
    {
     "name": "stderr",
     "output_type": "stream",
     "text": [
      "100%|██████████| 1000/1000 [06:37<00:00,  2.52it/s]\n"
     ]
    },
    {
     "name": "stdout",
     "output_type": "stream",
     "text": [
      "fit basis coefficients for predictors ...\n"
     ]
    },
    {
     "name": "stderr",
     "output_type": "stream",
     "text": [
      "100%|██████████| 1000/1000 [06:35<00:00,  2.53it/s]\n"
     ]
    },
    {
     "name": "stdout",
     "output_type": "stream",
     "text": [
      "fit basis coefficients for outcomes ...\n"
     ]
    },
    {
     "name": "stderr",
     "output_type": "stream",
     "text": [
      "100%|██████████| 1000/1000 [05:30<00:00,  3.02it/s]\n"
     ]
    },
    {
     "name": "stdout",
     "output_type": "stream",
     "text": [
      "stein variation gradient descent ...\n",
      "epoch: 1 / 30, training rmse: 1.5122, training r2: 0.1898\n",
      "epoch: 2 / 30, training rmse: 1.3398, training r2: 0.364\n",
      "epoch: 3 / 30, training rmse: 1.1427, training r2: 0.5374\n",
      "epoch: 4 / 30, training rmse: 0.9396, training r2: 0.6872\n",
      "epoch: 5 / 30, training rmse: 0.7716, training r2: 0.7891\n",
      "epoch: 6 / 30, training rmse: 0.6648, training r2: 0.8434\n",
      "epoch: 7 / 30, training rmse: 0.607, training r2: 0.8695\n",
      "epoch: 8 / 30, training rmse: 0.5687, training r2: 0.8854\n",
      "epoch: 9 / 30, training rmse: 0.5419, training r2: 0.896\n",
      "epoch: 10 / 30, training rmse: 0.522, training r2: 0.9035\n",
      "epoch: 11 / 30, training rmse: 0.5066, training r2: 0.9091\n",
      "epoch: 12 / 30, training rmse: 0.4929, training r2: 0.9139\n",
      "epoch: 13 / 30, training rmse: 0.4826, training r2: 0.9175\n",
      "epoch: 14 / 30, training rmse: 0.4722, training r2: 0.921\n",
      "epoch: 15 / 30, training rmse: 0.4637, training r2: 0.9238\n",
      "epoch: 16 / 30, training rmse: 0.4568, training r2: 0.9261\n",
      "epoch: 17 / 30, training rmse: 0.4494, training r2: 0.9285\n",
      "epoch: 18 / 30, training rmse: 0.4437, training r2: 0.9302\n",
      "epoch: 19 / 30, training rmse: 0.4379, training r2: 0.9321\n",
      "epoch: 20 / 30, training rmse: 0.4338, training r2: 0.9333\n",
      "epoch: 21 / 30, training rmse: 0.4286, training r2: 0.9349\n",
      "epoch: 22 / 30, training rmse: 0.4248, training r2: 0.9361\n",
      "epoch: 23 / 30, training rmse: 0.4207, training r2: 0.9373\n",
      "epoch: 24 / 30, training rmse: 0.4167, training r2: 0.9385\n",
      "epoch: 25 / 30, training rmse: 0.4134, training r2: 0.9395\n",
      "epoch: 26 / 30, training rmse: 0.4104, training r2: 0.9403\n",
      "epoch: 27 / 30, training rmse: 0.4069, training r2: 0.9413\n",
      "epoch: 28 / 30, training rmse: 0.4047, training r2: 0.942\n",
      "epoch: 29 / 30, training rmse: 0.4026, training r2: 0.9426\n",
      "epoch: 30 / 30, training rmse: 0.3995, training r2: 0.9435\n"
     ]
    },
    {
     "data": {
      "image/png": "[encoded data removed]",
      "text/plain": [
       "<Figure size 432x288 with 1 Axes>"
      ]
     },
     "metadata": {
      "needs_background": "light"
     },
     "output_type": "display_data"
    },
    {
     "name": "stderr",
     "output_type": "stream",
     "text": [
      "100%|██████████| 1000/1000 [06:36<00:00,  2.52it/s]\n"
     ]
    },
    {
     "name": "stdout",
     "output_type": "stream",
     "text": [
      "fit basis coefficients for predictors ...\n"
     ]
    },
    {
     "name": "stderr",
     "output_type": "stream",
     "text": [
      "100%|██████████| 1000/1000 [06:38<00:00,  2.51it/s]\n"
     ]
    },
    {
     "name": "stdout",
     "output_type": "stream",
     "text": [
      "fit basis coefficients for outcomes ...\n"
     ]
    },
    {
     "name": "stderr",
     "output_type": "stream",
     "text": [
      "100%|██████████| 1000/1000 [05:30<00:00,  3.02it/s]\n"
     ]
    },
    {
     "name": "stdout",
     "output_type": "stream",
     "text": [
      "stein variation gradient descent ...\n",
      "epoch: 1 / 30, training rmse: 1.5252, training r2: 0.1914\n",
      "epoch: 2 / 30, training rmse: 1.3544, training r2: 0.3624\n",
      "epoch: 3 / 30, training rmse: 1.1609, training r2: 0.5316\n",
      "epoch: 4 / 30, training rmse: 0.9599, training r2: 0.6797\n",
      "epoch: 5 / 30, training rmse: 0.7919, training r2: 0.782\n",
      "epoch: 6 / 30, training rmse: 0.6822, training r2: 0.8382\n",
      "epoch: 7 / 30, training rmse: 0.6152, training r2: 0.8684\n",
      "epoch: 8 / 30, training rmse: 0.5751, training r2: 0.885\n",
      "epoch: 9 / 30, training rmse: 0.5478, training r2: 0.8957\n",
      "epoch: 10 / 30, training rmse: 0.5281, training r2: 0.9031\n",
      "epoch: 11 / 30, training rmse: 0.5124, training r2: 0.9087\n",
      "epoch: 12 / 30, training rmse: 0.4986, training r2: 0.9136\n",
      "epoch: 13 / 30, training rmse: 0.4887, training r2: 0.917\n",
      "epoch: 14 / 30, training rmse: 0.4789, training r2: 0.9203\n",
      "epoch: 15 / 30, training rmse: 0.4706, training r2: 0.923\n",
      "epoch: 16 / 30, training rmse: 0.4634, training r2: 0.9254\n",
      "epoch: 17 / 30, training rmse: 0.4567, training r2: 0.9275\n",
      "epoch: 18 / 30, training rmse: 0.4502, training r2: 0.9296\n",
      "epoch: 19 / 30, training rmse: 0.4447, training r2: 0.9313\n",
      "epoch: 20 / 30, training rmse: 0.4402, training r2: 0.9326\n",
      "epoch: 21 / 30, training rmse: 0.4358, training r2: 0.934\n",
      "epoch: 22 / 30, training rmse: 0.4312, training r2: 0.9354\n",
      "epoch: 23 / 30, training rmse: 0.4274, training r2: 0.9365\n",
      "epoch: 24 / 30, training rmse: 0.4233, training r2: 0.9377\n",
      "epoch: 25 / 30, training rmse: 0.4199, training r2: 0.9387\n",
      "epoch: 26 / 30, training rmse: 0.416, training r2: 0.9398\n",
      "epoch: 27 / 30, training rmse: 0.4135, training r2: 0.9406\n",
      "epoch: 28 / 30, training rmse: 0.4098, training r2: 0.9416\n",
      "epoch: 29 / 30, training rmse: 0.4079, training r2: 0.9422\n",
      "epoch: 30 / 30, training rmse: 0.4054, training r2: 0.9429\n"
     ]
    },
    {
     "data": {
      "image/png": "[encoded data removed]",
      "text/plain": [
       "<Figure size 432x288 with 1 Axes>"
      ]
     },
     "metadata": {
      "needs_background": "light"
     },
     "output_type": "display_data"
    },
    {
     "name": "stderr",
     "output_type": "stream",
     "text": [
      "100%|██████████| 1000/1000 [06:37<00:00,  2.52it/s]\n"
     ]
    },
    {
     "name": "stdout",
     "output_type": "stream",
     "text": [
      "fit basis coefficients for predictors ...\n"
     ]
    },
    {
     "name": "stderr",
     "output_type": "stream",
     "text": [
      "100%|██████████| 1000/1000 [06:38<00:00,  2.51it/s]\n"
     ]
    },
    {
     "name": "stdout",
     "output_type": "stream",
     "text": [
      "fit basis coefficients for outcomes ...\n"
     ]
    },
    {
     "name": "stderr",
     "output_type": "stream",
     "text": [
      "100%|██████████| 1000/1000 [05:33<00:00,  3.00it/s]\n"
     ]
    },
    {
     "name": "stdout",
     "output_type": "stream",
     "text": [
      "stein variation gradient descent ...\n",
      "epoch: 1 / 30, training rmse: 1.5034, training r2: 0.1864\n",
      "epoch: 2 / 30, training rmse: 1.3323, training r2: 0.3611\n",
      "epoch: 3 / 30, training rmse: 1.139, training r2: 0.533\n",
      "epoch: 4 / 30, training rmse: 0.9398, training r2: 0.6821\n",
      "epoch: 5 / 30, training rmse: 0.7767, training r2: 0.7829\n",
      "epoch: 6 / 30, training rmse: 0.6736, training r2: 0.8367\n",
      "epoch: 7 / 30, training rmse: 0.6137, training r2: 0.8644\n",
      "epoch: 8 / 30, training rmse: 0.5762, training r2: 0.8805\n",
      "epoch: 9 / 30, training rmse: 0.5504, training r2: 0.8909\n",
      "epoch: 10 / 30, training rmse: 0.5318, training r2: 0.8982\n",
      "epoch: 11 / 30, training rmse: 0.5157, training r2: 0.9043\n",
      "epoch: 12 / 30, training rmse: 0.5038, training r2: 0.9086\n",
      "epoch: 13 / 30, training rmse: 0.4922, training r2: 0.9128\n",
      "epoch: 14 / 30, training rmse: 0.4837, training r2: 0.9158\n",
      "epoch: 15 / 30, training rmse: 0.4751, training r2: 0.9187\n",
      "epoch: 16 / 30, training rmse: 0.4685, training r2: 0.921\n",
      "epoch: 17 / 30, training rmse: 0.4624, training r2: 0.923\n",
      "epoch: 18 / 30, training rmse: 0.4561, training r2: 0.9251\n",
      "epoch: 19 / 30, training rmse: 0.4507, training r2: 0.9269\n",
      "epoch: 20 / 30, training rmse: 0.4456, training r2: 0.9285\n",
      "epoch: 21 / 30, training rmse: 0.441, training r2: 0.93\n",
      "epoch: 22 / 30, training rmse: 0.4365, training r2: 0.9314\n",
      "epoch: 23 / 30, training rmse: 0.4327, training r2: 0.9326\n",
      "epoch: 24 / 30, training rmse: 0.4287, training r2: 0.9338\n",
      "epoch: 25 / 30, training rmse: 0.4261, training r2: 0.9347\n",
      "epoch: 26 / 30, training rmse: 0.423, training r2: 0.9356\n",
      "epoch: 27 / 30, training rmse: 0.4198, training r2: 0.9366\n",
      "epoch: 28 / 30, training rmse: 0.4174, training r2: 0.9373\n",
      "epoch: 29 / 30, training rmse: 0.4151, training r2: 0.938\n",
      "epoch: 30 / 30, training rmse: 0.4124, training r2: 0.9388\n"
     ]
    },
    {
     "data": {
      "image/png": "[encoded data removed]",
      "text/plain": [
       "<Figure size 432x288 with 1 Axes>"
      ]
     },
     "metadata": {
      "needs_background": "light"
     },
     "output_type": "display_data"
    },
    {
     "name": "stderr",
     "output_type": "stream",
     "text": [
      "100%|██████████| 1000/1000 [06:38<00:00,  2.51it/s]\n"
     ]
    },
    {
     "name": "stdout",
     "output_type": "stream",
     "text": [
      "fit basis coefficients for predictors ...\n"
     ]
    },
    {
     "name": "stderr",
     "output_type": "stream",
     "text": [
      "100%|██████████| 1000/1000 [06:37<00:00,  2.52it/s]\n"
     ]
    },
    {
     "name": "stdout",
     "output_type": "stream",
     "text": [
      "fit basis coefficients for outcomes ...\n"
     ]
    },
    {
     "name": "stderr",
     "output_type": "stream",
     "text": [
      "100%|██████████| 1000/1000 [05:30<00:00,  3.03it/s]\n"
     ]
    },
    {
     "name": "stdout",
     "output_type": "stream",
     "text": [
      "stein variation gradient descent ...\n",
      "epoch: 1 / 30, training rmse: 1.5048, training r2: 0.1833\n",
      "epoch: 2 / 30, training rmse: 1.336, training r2: 0.3563\n",
      "epoch: 3 / 30, training rmse: 1.1471, training r2: 0.5254\n",
      "epoch: 4 / 30, training rmse: 0.9507, training r2: 0.674\n",
      "epoch: 5 / 30, training rmse: 0.7912, training r2: 0.7742\n",
      "epoch: 6 / 30, training rmse: 0.6891, training r2: 0.8287\n",
      "epoch: 7 / 30, training rmse: 0.6274, training r2: 0.858\n",
      "epoch: 8 / 30, training rmse: 0.5874, training r2: 0.8755\n",
      "epoch: 9 / 30, training rmse: 0.5604, training r2: 0.8867\n",
      "epoch: 10 / 30, training rmse: 0.5404, training r2: 0.8947\n",
      "epoch: 11 / 30, training rmse: 0.5255, training r2: 0.9004\n",
      "epoch: 12 / 30, training rmse: 0.5118, training r2: 0.9055\n",
      "epoch: 13 / 30, training rmse: 0.5011, training r2: 0.9094\n",
      "epoch: 14 / 30, training rmse: 0.4915, training r2: 0.9129\n",
      "epoch: 15 / 30, training rmse: 0.4848, training r2: 0.9152\n",
      "epoch: 16 / 30, training rmse: 0.4769, training r2: 0.918\n",
      "epoch: 17 / 30, training rmse: 0.4692, training r2: 0.9206\n",
      "epoch: 18 / 30, training rmse: 0.4643, training r2: 0.9222\n",
      "epoch: 19 / 30, training rmse: 0.4588, training r2: 0.9241\n",
      "epoch: 20 / 30, training rmse: 0.454, training r2: 0.9256\n",
      "epoch: 21 / 30, training rmse: 0.4497, training r2: 0.9271\n",
      "epoch: 22 / 30, training rmse: 0.4458, training r2: 0.9283\n",
      "epoch: 23 / 30, training rmse: 0.4421, training r2: 0.9295\n",
      "epoch: 24 / 30, training rmse: 0.4383, training r2: 0.9307\n",
      "epoch: 25 / 30, training rmse: 0.4354, training r2: 0.9316\n",
      "epoch: 26 / 30, training rmse: 0.4322, training r2: 0.9326\n",
      "epoch: 27 / 30, training rmse: 0.429, training r2: 0.9336\n",
      "epoch: 28 / 30, training rmse: 0.4269, training r2: 0.9343\n",
      "epoch: 29 / 30, training rmse: 0.4243, training r2: 0.9351\n",
      "epoch: 30 / 30, training rmse: 0.4216, training r2: 0.9359\n"
     ]
    },
    {
     "data": {
      "image/png": "[encoded data removed]",
      "text/plain": [
       "<Figure size 432x288 with 1 Axes>"
      ]
     },
     "metadata": {
      "needs_background": "light"
     },
     "output_type": "display_data"
    },
    {
     "name": "stderr",
     "output_type": "stream",
     "text": [
      "100%|██████████| 1000/1000 [06:40<00:00,  2.50it/s]\n"
     ]
    },
    {
     "name": "stdout",
     "output_type": "stream",
     "text": [
      "fit basis coefficients for predictors ...\n"
     ]
    },
    {
     "name": "stderr",
     "output_type": "stream",
     "text": [
      "100%|██████████| 1000/1000 [06:41<00:00,  2.49it/s]\n"
     ]
    },
    {
     "name": "stdout",
     "output_type": "stream",
     "text": [
      "fit basis coefficients for outcomes ...\n"
     ]
    },
    {
     "name": "stderr",
     "output_type": "stream",
     "text": [
      "100%|██████████| 1000/1000 [05:31<00:00,  3.02it/s]\n"
     ]
    },
    {
     "name": "stdout",
     "output_type": "stream",
     "text": [
      "stein variation gradient descent ...\n",
      "epoch: 1 / 30, training rmse: 1.5535, training r2: 0.1739\n",
      "epoch: 2 / 30, training rmse: 1.3876, training r2: 0.3409\n",
      "epoch: 3 / 30, training rmse: 1.1979, training r2: 0.5088\n",
      "epoch: 4 / 30, training rmse: 0.9977, training r2: 0.6592\n",
      "epoch: 5 / 30, training rmse: 0.8266, training r2: 0.7661\n",
      "epoch: 6 / 30, training rmse: 0.714, training r2: 0.8255\n",
      "epoch: 7 / 30, training rmse: 0.6452, training r2: 0.8575\n",
      "epoch: 8 / 30, training rmse: 0.6019, training r2: 0.876\n",
      "epoch: 9 / 30, training rmse: 0.5726, training r2: 0.8878\n",
      "epoch: 10 / 30, training rmse: 0.5518, training r2: 0.8958\n",
      "epoch: 11 / 30, training rmse: 0.533, training r2: 0.9027\n",
      "epoch: 12 / 30, training rmse: 0.5197, training r2: 0.9076\n",
      "epoch: 13 / 30, training rmse: 0.5078, training r2: 0.9117\n",
      "epoch: 14 / 30, training rmse: 0.4972, training r2: 0.9154\n",
      "epoch: 15 / 30, training rmse: 0.4892, training r2: 0.9181\n",
      "epoch: 16 / 30, training rmse: 0.4826, training r2: 0.9203\n",
      "epoch: 17 / 30, training rmse: 0.4748, training r2: 0.9228\n",
      "epoch: 18 / 30, training rmse: 0.4682, training r2: 0.925\n",
      "epoch: 19 / 30, training rmse: 0.4629, training r2: 0.9267\n",
      "epoch: 20 / 30, training rmse: 0.4567, training r2: 0.9286\n",
      "epoch: 21 / 30, training rmse: 0.4532, training r2: 0.9297\n",
      "epoch: 22 / 30, training rmse: 0.449, training r2: 0.931\n",
      "epoch: 23 / 30, training rmse: 0.4458, training r2: 0.932\n",
      "epoch: 24 / 30, training rmse: 0.4402, training r2: 0.9337\n",
      "epoch: 25 / 30, training rmse: 0.4368, training r2: 0.9347\n",
      "epoch: 26 / 30, training rmse: 0.4347, training r2: 0.9353\n",
      "epoch: 27 / 30, training rmse: 0.4305, training r2: 0.9366\n",
      "epoch: 28 / 30, training rmse: 0.4281, training r2: 0.9373\n",
      "epoch: 29 / 30, training rmse: 0.4248, training r2: 0.9382\n",
      "epoch: 30 / 30, training rmse: 0.4222, training r2: 0.939\n"
     ]
    },
    {
     "data": {
      "image/png": "[encoded data removed]",
      "text/plain": [
       "<Figure size 432x288 with 1 Axes>"
      ]
     },
     "metadata": {
      "needs_background": "light"
     },
     "output_type": "display_data"
    },
    {
     "name": "stderr",
     "output_type": "stream",
     "text": [
      "100%|██████████| 1000/1000 [06:41<00:00,  2.49it/s]\n"
     ]
    },
    {
     "name": "stdout",
     "output_type": "stream",
     "text": [
      "fit basis coefficients for predictors ...\n"
     ]
    },
    {
     "name": "stderr",
     "output_type": "stream",
     "text": [
      "100%|██████████| 1000/1000 [06:34<00:00,  2.53it/s]\n"
     ]
    },
    {
     "name": "stdout",
     "output_type": "stream",
     "text": [
      "fit basis coefficients for outcomes ...\n"
     ]
    },
    {
     "name": "stderr",
     "output_type": "stream",
     "text": [
      "100%|██████████| 1000/1000 [05:31<00:00,  3.01it/s]\n"
     ]
    },
    {
     "name": "stdout",
     "output_type": "stream",
     "text": [
      "stein variation gradient descent ...\n",
      "epoch: 1 / 30, training rmse: 1.5063, training r2: 0.1781\n",
      "epoch: 2 / 30, training rmse: 1.3418, training r2: 0.3479\n",
      "epoch: 3 / 30, training rmse: 1.1539, training r2: 0.5177\n",
      "epoch: 4 / 30, training rmse: 0.9568, training r2: 0.6684\n",
      "epoch: 5 / 30, training rmse: 0.7953, training r2: 0.7709\n",
      "epoch: 6 / 30, training rmse: 0.6868, training r2: 0.8291\n",
      "epoch: 7 / 30, training rmse: 0.6232, training r2: 0.8593\n",
      "epoch: 8 / 30, training rmse: 0.5834, training r2: 0.8767\n",
      "epoch: 9 / 30, training rmse: 0.5574, training r2: 0.8875\n",
      "epoch: 10 / 30, training rmse: 0.5382, training r2: 0.8951\n",
      "epoch: 11 / 30, training rmse: 0.5234, training r2: 0.9008\n",
      "epoch: 12 / 30, training rmse: 0.5121, training r2: 0.905\n",
      "epoch: 13 / 30, training rmse: 0.5017, training r2: 0.9088\n",
      "epoch: 14 / 30, training rmse: 0.493, training r2: 0.912\n",
      "epoch: 15 / 30, training rmse: 0.485, training r2: 0.9148\n",
      "epoch: 16 / 30, training rmse: 0.4778, training r2: 0.9173\n",
      "epoch: 17 / 30, training rmse: 0.4712, training r2: 0.9196\n",
      "epoch: 18 / 30, training rmse: 0.4663, training r2: 0.9212\n",
      "epoch: 19 / 30, training rmse: 0.4603, training r2: 0.9233\n",
      "epoch: 20 / 30, training rmse: 0.4555, training r2: 0.9248\n",
      "epoch: 21 / 30, training rmse: 0.4518, training r2: 0.9261\n",
      "epoch: 22 / 30, training rmse: 0.4486, training r2: 0.9271\n",
      "epoch: 23 / 30, training rmse: 0.4437, training r2: 0.9287\n",
      "epoch: 24 / 30, training rmse: 0.4407, training r2: 0.9296\n",
      "epoch: 25 / 30, training rmse: 0.4365, training r2: 0.931\n",
      "epoch: 26 / 30, training rmse: 0.4346, training r2: 0.9316\n",
      "epoch: 27 / 30, training rmse: 0.4317, training r2: 0.9325\n",
      "epoch: 28 / 30, training rmse: 0.4292, training r2: 0.9333\n",
      "epoch: 29 / 30, training rmse: 0.4269, training r2: 0.934\n",
      "epoch: 30 / 30, training rmse: 0.4238, training r2: 0.9349\n"
     ]
    },
    {
     "data": {
      "image/png": "[encoded data removed]",
      "text/plain": [
       "<Figure size 432x288 with 1 Axes>"
      ]
     },
     "metadata": {
      "needs_background": "light"
     },
     "output_type": "display_data"
    },
    {
     "name": "stderr",
     "output_type": "stream",
     "text": [
      "100%|██████████| 1000/1000 [06:35<00:00,  2.53it/s]\n"
     ]
    },
    {
     "name": "stdout",
     "output_type": "stream",
     "text": [
      "fit basis coefficients for predictors ...\n"
     ]
    },
    {
     "name": "stderr",
     "output_type": "stream",
     "text": [
      "100%|██████████| 1000/1000 [06:42<00:00,  2.49it/s]\n"
     ]
    },
    {
     "name": "stdout",
     "output_type": "stream",
     "text": [
      "fit basis coefficients for outcomes ...\n"
     ]
    },
    {
     "name": "stderr",
     "output_type": "stream",
     "text": [
      " 43%|████▎     | 433/1000 [02:23<03:07,  3.02it/s]"
     ]
    }
   ],
   "source": [
    "train_data = np.loadtxt(\"fashion-mnist_train.csv\", skiprows = 1, delimiter = \",\")\n",
    "test_data = np.loadtxt(\"fashion-mnist_test.csv\", skiprows = 1, delimiter = \",\")\n",
    "\n",
    "train_img = train_data[:, 1:]\n",
    "test_img = test_data[:, 1:]\n",
    "train_label = train_data[:, 0]\n",
    "test_label = test_data[:, 0]\n",
    "train_img = train_img / 255\n",
    "test_img = test_img / 255\n",
    "\n",
    "train_idx_all = np.arange(60000)\n",
    "test_idx_all = np.arange(10000)\n",
    "\n",
    "n = 2000\n",
    "n_train = 1000\n",
    "n_test = 1000\n",
    "\n",
    "num_exp = 50\n",
    "mse = np.zeros((num_exp, 2))\n",
    "for exp in range(num_exp):\n",
    "    random.seed(exp)\n",
    "    torch.manual_seed(exp)\n",
    "    np.random.seed(exp)\n",
    "\n",
    "    #####################################################################\n",
    "    # generate images\n",
    "    train_idx = np.random.choice(train_idx_all, size = n_train, replace = False)\n",
    "    test_idx = np.random.choice(test_idx_all, size = n_test, replace = False)\n",
    "\n",
    "    train_imgs = train_img[train_idx, ]\n",
    "    test_imgs = test_img[test_idx, ]\n",
    "    train_lbs = train_label[train_idx]\n",
    "    test_lbs = test_label[test_idx]\n",
    "\n",
    "    train_quantiles = np.zeros((4, n_train))\n",
    "    for i in range(n_train):\n",
    "        train_img_i = train_imgs[i, :]\n",
    "        train_img_i = train_img_i[train_img_i > 0]\n",
    "        train_quantiles[:, i] = np.quantile(train_img_i, [0, 0.25, 0.5, 0.75])\n",
    "\n",
    "    train_q0 = np.tile(train_quantiles[0, :].reshape((n_train, 1)), (1, 784))\n",
    "    train_q1 = np.tile(train_quantiles[1, :].reshape((n_train, 1)), (1, 784))\n",
    "    train_q2 = np.tile(train_quantiles[2, :].reshape((n_train, 1)), (1, 784))\n",
    "    train_q3 = np.tile(train_quantiles[3, :].reshape((n_train, 1)), (1, 784))\n",
    "\n",
    "    train_p0 = np.zeros((n_train, 784))\n",
    "    train_p1 = np.zeros((n_train, 784))\n",
    "    train_p2 = np.zeros((n_train, 784))\n",
    "    train_p3 = np.zeros((n_train, 784))\n",
    "\n",
    "    train_p3[train_imgs >= train_q3] = train_imgs[train_imgs >= train_q3]\n",
    "    train_p2[(train_imgs >= train_q2) & (train_imgs < train_q3)] = train_imgs[(train_imgs >= train_q2) & (train_imgs < train_q3)]\n",
    "    train_p1[(train_imgs >= train_q1) & (train_imgs < train_q2)] = train_imgs[(train_imgs >= train_q1) & (train_imgs < train_q2)]\n",
    "    train_p0[(train_imgs >= train_q0) & (train_imgs < train_q1)] = train_imgs[(train_imgs >= train_q0) & (train_imgs < train_q1)]\n",
    "\n",
    "    train_predictors = np.zeros((n_train, 28*28*4))\n",
    "    train_outcomes = train_imgs\n",
    "    for i in range(n_train):\n",
    "        train_p0_i = train_p0[i, :].reshape((28, 28))\n",
    "        train_p1_i = train_p1[i, :].reshape((28, 28))\n",
    "        train_p2_i = train_p2[i, :].reshape((28, 28))\n",
    "        train_p3_i = train_p3[i, :].reshape((28, 28))\n",
    "        train_predictor_i = np.hstack((train_p0_i, train_p1_i, train_p2_i, train_p3_i))\n",
    "        train_predictors[i, :] = train_predictor_i.reshape(-1)\n",
    "\n",
    "    test_quantiles = np.zeros((4, n_test))\n",
    "    for i in range(n_test):\n",
    "        test_img_i = test_imgs[i, :]\n",
    "        test_img_i = test_img_i[test_img_i > 0]\n",
    "        test_quantiles[:, i] = np.quantile(test_img_i, [0, 0.25, 0.5, 0.75])\n",
    "\n",
    "\n",
    "    test_q0 = np.tile(test_quantiles[0, :].reshape((n_test, 1)), (1, 784))\n",
    "    test_q1 = np.tile(test_quantiles[1, :].reshape((n_test, 1)), (1, 784))\n",
    "    test_q2 = np.tile(test_quantiles[2, :].reshape((n_test, 1)), (1, 784))\n",
    "    test_q3 = np.tile(test_quantiles[3, :].reshape((n_test, 1)), (1, 784))\n",
    "\n",
    "    test_p0 = np.zeros((n_test, 784))\n",
    "    test_p1 = np.zeros((n_test, 784))\n",
    "    test_p2 = np.zeros((n_test, 784))\n",
    "    test_p3 = np.zeros((n_test, 784))\n",
    "\n",
    "    test_p3[test_imgs >= test_q3] = test_imgs[test_imgs >= test_q3]\n",
    "    test_p2[(test_imgs >= test_q2) & (test_imgs < test_q3)] = test_imgs[(test_imgs >= test_q2) & (test_imgs < test_q3)]\n",
    "    test_p1[(test_imgs >= test_q1) & (test_imgs < test_q2)] = test_imgs[(test_imgs >= test_q1) & (test_imgs < test_q2)]\n",
    "    test_p0[(test_imgs >= test_q0) & (test_imgs < test_q1)] = test_imgs[(test_imgs >= test_q0) & (test_imgs < test_q1)]\n",
    "\n",
    "    test_predictors = np.zeros((n_test, 28*28*4))\n",
    "    test_outcomes = test_imgs\n",
    "    for i in range(n_test):\n",
    "        test_p0_i = test_p0[i, :].reshape((28, 28))\n",
    "        test_p1_i = test_p1[i, :].reshape((28, 28))\n",
    "        test_p2_i = test_p2[i, :].reshape((28, 28))\n",
    "        test_p3_i = test_p3[i, :].reshape((28, 28))\n",
    "        test_predictor_i = np.hstack((test_p0_i, test_p1_i, test_p2_i, test_p3_i))\n",
    "        test_predictors[i, :] = test_predictor_i.reshape(-1)\n",
    "    \n",
    "    predictor_grids = bird_gp.generate_grids([28, 112])\n",
    "    outcome_grids = bird_gp.generate_grids([28, 28])\n",
    "\n",
    "    length_scale = 0.05\n",
    "    K_predictor = RBF(length_scale = length_scale)(predictor_grids)\n",
    "    K_outcome = RBF(length_scale = length_scale)(outcome_grids)\n",
    "    v_predictors, Psi_predictors = np.linalg.eig(K_predictor)\n",
    "    v_outcomes, Psi_outcomes = np.linalg.eig(K_outcome)\n",
    "    \n",
    "    Psi_predictors = np.real(Psi_predictors[:, 0:50])\n",
    "    Psi_outcomes = np.real(Psi_outcomes[:, 0:50])\n",
    "    \n",
    "    birdgp = bird_gp.BIRD_GP(predictor_grids = predictor_grids,\n",
    "                             outcome_grids = outcome_grids,\n",
    "                             predictor_L = 50,\n",
    "                             outcome_L = 50,\n",
    "                             svgd_b_lambda = 1e2, \n",
    "                             bf_predictor_steps = 10000,\n",
    "                             bf_outcome_steps = 10000\n",
    "                             )\n",
    "    birdgp.fit(train_predictors, train_outcomes, Psi_predictors, Psi_outcomes)\n",
    "\n",
    "    train_pred = birdgp.predict_train()\n",
    "    test_pred = birdgp.predict_test(test_predictors)\n",
    "\n",
    "    mse[exp, 0] = np.mean((train_pred - train_outcomes)**2)\n",
    "    mse[exp, 1] = np.mean((test_pred - test_outcomes)**2)\n",
    "    \n",
    "    np.savetxt(\"mse_sq_exp.txt\", mse)"
   ]
  },
  {
   "cell_type": "code",
   "execution_count": 5,
   "id": "b4804525-7a31-43bb-a566-57b384f6b0a1",
   "metadata": {},
   "outputs": [
    {
     "data": {
      "text/plain": [
       "array([0.03562024, 0.03784507])"
      ]
     },
     "execution_count": 5,
     "metadata": {},
     "output_type": "execute_result"
    }
   ],
   "source": [
    "np.mean(mse, 0)"
   ]
  },
  {
   "cell_type": "code",
   "execution_count": 6,
   "id": "e2cb1aa6-3661-4f77-a21f-ab8b6248672c",
   "metadata": {},
   "outputs": [
    {
     "data": {
      "text/plain": [
       "array([0.00113298, 0.00095899])"
      ]
     },
     "execution_count": 6,
     "metadata": {},
     "output_type": "execute_result"
    }
   ],
   "source": [
    "np.std(mse, 0)"
   ]
  },
  {
   "cell_type": "code",
   "execution_count": null,
   "id": "e729761b-c4c5-4ecc-bd48-05b41e2294fb",
   "metadata": {},
   "outputs": [],
   "source": []
  }
 ],
 "metadata": {
  "kernelspec": {
   "display_name": "Python 3 (ipykernel)",
   "language": "python",
   "name": "python3"
  },
  "language_info": {
   "codemirror_mode": {
    "name": "ipython",
    "version": 3
   },
   "file_extension": ".py",
   "mimetype": "text/x-python",
   "name": "python",
   "nbconvert_exporter": "python",
   "pygments_lexer": "ipython3",
   "version": "3.9.12"
  }
 },
 "nbformat": 4,
 "nbformat_minor": 5
}
