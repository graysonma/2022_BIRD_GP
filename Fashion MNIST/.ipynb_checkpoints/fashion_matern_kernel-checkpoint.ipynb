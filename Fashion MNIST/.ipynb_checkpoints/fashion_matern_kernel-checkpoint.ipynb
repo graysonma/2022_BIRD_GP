{
 "cells": [
  {
   "cell_type": "code",
   "execution_count": 1,
   "id": "3fc3b1d6-9e73-41b9-b47f-0ee306f3925f",
   "metadata": {},
   "outputs": [],
   "source": [
    "import sys\n",
    "sys.path.append(\"../birdgp\")\n",
    "\n",
    "import numpy as np\n",
    "import matplotlib.pyplot as plt\n",
    "import math\n",
    "import bird_gp\n",
    "import random\n",
    "import torch\n",
    "from sklearn.gaussian_process.kernels import Matern\n",
    "\n",
    "%matplotlib inline"
   ]
  },
  {
   "cell_type": "code",
   "execution_count": null,
   "id": "d07d7ae7-0631-49fb-a972-cc294dbf18c0",
   "metadata": {
    "collapsed": true,
    "jupyter": {
     "outputs_hidden": true
    },
    "tags": []
   },
   "outputs": [
    {
     "name": "stdout",
     "output_type": "stream",
     "text": [
      "fit basis coefficients for predictors ...\n"
     ]
    },
    {
     "name": "stderr",
     "output_type": "stream",
     "text": [
      "100%|██████████| 1000/1000 [04:55<00:00,  3.39it/s]\n"
     ]
    },
    {
     "name": "stdout",
     "output_type": "stream",
     "text": [
      "fit basis coefficients for outcomes ...\n"
     ]
    },
    {
     "name": "stderr",
     "output_type": "stream",
     "text": [
      "100%|██████████| 1000/1000 [04:50<00:00,  3.44it/s]\n"
     ]
    },
    {
     "name": "stdout",
     "output_type": "stream",
     "text": [
      "stein variation gradient descent ...\n",
      "epoch: 1 / 30, training rmse: 1.6114, training r2: 0.1716\n",
      "epoch: 2 / 30, training rmse: 1.4299, training r2: 0.3477\n",
      "epoch: 3 / 30, training rmse: 1.2237, training r2: 0.5223\n",
      "epoch: 4 / 30, training rmse: 1.0326, training r2: 0.6598\n",
      "epoch: 5 / 30, training rmse: 0.8912, training r2: 0.7466\n",
      "epoch: 6 / 30, training rmse: 0.7989, training r2: 0.7964\n",
      "epoch: 7 / 30, training rmse: 0.7403, training r2: 0.8252\n",
      "epoch: 8 / 30, training rmse: 0.7013, training r2: 0.8431\n",
      "epoch: 9 / 30, training rmse: 0.6703, training r2: 0.8567\n",
      "epoch: 10 / 30, training rmse: 0.6452, training r2: 0.8672\n",
      "epoch: 11 / 30, training rmse: 0.6264, training r2: 0.8748\n",
      "epoch: 12 / 30, training rmse: 0.6095, training r2: 0.8815\n",
      "epoch: 13 / 30, training rmse: 0.5956, training r2: 0.8868\n",
      "epoch: 14 / 30, training rmse: 0.5834, training r2: 0.8914\n",
      "epoch: 15 / 30, training rmse: 0.5735, training r2: 0.8951\n",
      "epoch: 16 / 30, training rmse: 0.5662, training r2: 0.8977\n",
      "epoch: 17 / 30, training rmse: 0.5588, training r2: 0.9004\n",
      "epoch: 18 / 30, training rmse: 0.5515, training r2: 0.903\n",
      "epoch: 19 / 30, training rmse: 0.5459, training r2: 0.9049\n",
      "epoch: 20 / 30, training rmse: 0.5398, training r2: 0.907\n",
      "epoch: 21 / 30, training rmse: 0.5356, training r2: 0.9085\n",
      "epoch: 22 / 30, training rmse: 0.5313, training r2: 0.9099\n",
      "epoch: 23 / 30, training rmse: 0.5263, training r2: 0.9116\n",
      "epoch: 24 / 30, training rmse: 0.5224, training r2: 0.913\n",
      "epoch: 25 / 30, training rmse: 0.5196, training r2: 0.9139\n",
      "epoch: 26 / 30, training rmse: 0.5159, training r2: 0.9151\n",
      "epoch: 27 / 30, training rmse: 0.5123, training r2: 0.9163\n",
      "epoch: 28 / 30, training rmse: 0.5097, training r2: 0.9171\n",
      "epoch: 29 / 30, training rmse: 0.5086, training r2: 0.9175\n",
      "epoch: 30 / 30, training rmse: 0.5059, training r2: 0.9184\n"
     ]
    },
    {
     "data": {
      "image/png": "[encoded data removed]",
      "text/plain": [
       "<Figure size 432x288 with 1 Axes>"
      ]
     },
     "metadata": {
      "needs_background": "light"
     },
     "output_type": "display_data"
    },
    {
     "name": "stderr",
     "output_type": "stream",
     "text": [
      "100%|██████████| 1000/1000 [04:54<00:00,  3.39it/s]\n"
     ]
    },
    {
     "name": "stdout",
     "output_type": "stream",
     "text": [
      "fit basis coefficients for predictors ...\n"
     ]
    },
    {
     "name": "stderr",
     "output_type": "stream",
     "text": [
      "100%|██████████| 1000/1000 [04:55<00:00,  3.39it/s]\n"
     ]
    },
    {
     "name": "stdout",
     "output_type": "stream",
     "text": [
      "fit basis coefficients for outcomes ...\n"
     ]
    },
    {
     "name": "stderr",
     "output_type": "stream",
     "text": [
      "100%|██████████| 1000/1000 [04:51<00:00,  3.43it/s]\n"
     ]
    },
    {
     "name": "stdout",
     "output_type": "stream",
     "text": [
      "stein variation gradient descent ...\n",
      "epoch: 1 / 30, training rmse: 1.5734, training r2: 0.1697\n",
      "epoch: 2 / 30, training rmse: 1.3897, training r2: 0.3522\n",
      "epoch: 3 / 30, training rmse: 1.1798, training r2: 0.5332\n",
      "epoch: 4 / 30, training rmse: 0.9857, training r2: 0.6741\n",
      "epoch: 5 / 30, training rmse: 0.8502, training r2: 0.7575\n",
      "epoch: 6 / 30, training rmse: 0.7664, training r2: 0.803\n",
      "epoch: 7 / 30, training rmse: 0.7126, training r2: 0.8297\n",
      "epoch: 8 / 30, training rmse: 0.6764, training r2: 0.8466\n",
      "epoch: 9 / 30, training rmse: 0.6485, training r2: 0.8589\n",
      "epoch: 10 / 30, training rmse: 0.6261, training r2: 0.8685\n",
      "epoch: 11 / 30, training rmse: 0.6075, training r2: 0.8762\n",
      "epoch: 12 / 30, training rmse: 0.5927, training r2: 0.8822\n",
      "epoch: 13 / 30, training rmse: 0.58, training r2: 0.8872\n",
      "epoch: 14 / 30, training rmse: 0.5687, training r2: 0.8915\n",
      "epoch: 15 / 30, training rmse: 0.5603, training r2: 0.8947\n",
      "epoch: 16 / 30, training rmse: 0.5522, training r2: 0.8977\n",
      "epoch: 17 / 30, training rmse: 0.546, training r2: 0.9\n",
      "epoch: 18 / 30, training rmse: 0.5388, training r2: 0.9026\n",
      "epoch: 19 / 30, training rmse: 0.532, training r2: 0.9051\n",
      "epoch: 20 / 30, training rmse: 0.5277, training r2: 0.9066\n",
      "epoch: 21 / 30, training rmse: 0.5232, training r2: 0.9082\n",
      "epoch: 22 / 30, training rmse: 0.5188, training r2: 0.9097\n",
      "epoch: 23 / 30, training rmse: 0.5146, training r2: 0.9112\n",
      "epoch: 24 / 30, training rmse: 0.5106, training r2: 0.9126\n",
      "epoch: 25 / 30, training rmse: 0.5076, training r2: 0.9136\n",
      "epoch: 26 / 30, training rmse: 0.5041, training r2: 0.9148\n",
      "epoch: 27 / 30, training rmse: 0.5021, training r2: 0.9154\n",
      "epoch: 28 / 30, training rmse: 0.4989, training r2: 0.9165\n",
      "epoch: 29 / 30, training rmse: 0.4963, training r2: 0.9174\n",
      "epoch: 30 / 30, training rmse: 0.4935, training r2: 0.9183\n"
     ]
    },
    {
     "data": {
      "image/png": "[encoded data removed]",
      "text/plain": [
       "<Figure size 432x288 with 1 Axes>"
      ]
     },
     "metadata": {
      "needs_background": "light"
     },
     "output_type": "display_data"
    },
    {
     "name": "stderr",
     "output_type": "stream",
     "text": [
      "100%|██████████| 1000/1000 [04:54<00:00,  3.39it/s]\n"
     ]
    },
    {
     "name": "stdout",
     "output_type": "stream",
     "text": [
      "fit basis coefficients for predictors ...\n"
     ]
    },
    {
     "name": "stderr",
     "output_type": "stream",
     "text": [
      "100%|██████████| 1000/1000 [04:55<00:00,  3.39it/s]\n"
     ]
    },
    {
     "name": "stdout",
     "output_type": "stream",
     "text": [
      "fit basis coefficients for outcomes ...\n"
     ]
    },
    {
     "name": "stderr",
     "output_type": "stream",
     "text": [
      "100%|██████████| 1000/1000 [04:51<00:00,  3.43it/s]\n"
     ]
    },
    {
     "name": "stdout",
     "output_type": "stream",
     "text": [
      "stein variation gradient descent ...\n",
      "epoch: 1 / 30, training rmse: 1.5942, training r2: 0.1769\n",
      "epoch: 2 / 30, training rmse: 1.4093, training r2: 0.3567\n",
      "epoch: 3 / 30, training rmse: 1.2028, training r2: 0.5314\n",
      "epoch: 4 / 30, training rmse: 1.0101, training r2: 0.6695\n",
      "epoch: 5 / 30, training rmse: 0.8768, training r2: 0.751\n",
      "epoch: 6 / 30, training rmse: 0.7963, training r2: 0.7946\n",
      "epoch: 7 / 30, training rmse: 0.7431, training r2: 0.8212\n",
      "epoch: 8 / 30, training rmse: 0.7042, training r2: 0.8394\n",
      "epoch: 9 / 30, training rmse: 0.6725, training r2: 0.8535\n",
      "epoch: 10 / 30, training rmse: 0.6472, training r2: 0.8644\n",
      "epoch: 11 / 30, training rmse: 0.6253, training r2: 0.8733\n",
      "epoch: 12 / 30, training rmse: 0.6079, training r2: 0.8803\n",
      "epoch: 13 / 30, training rmse: 0.5939, training r2: 0.8858\n",
      "epoch: 14 / 30, training rmse: 0.5806, training r2: 0.8908\n",
      "epoch: 15 / 30, training rmse: 0.5698, training r2: 0.8948\n",
      "epoch: 16 / 30, training rmse: 0.5621, training r2: 0.8977\n",
      "epoch: 17 / 30, training rmse: 0.5532, training r2: 0.9009\n",
      "epoch: 18 / 30, training rmse: 0.5466, training r2: 0.9032\n",
      "epoch: 19 / 30, training rmse: 0.5408, training r2: 0.9053\n",
      "epoch: 20 / 30, training rmse: 0.5362, training r2: 0.9069\n",
      "epoch: 21 / 30, training rmse: 0.5301, training r2: 0.909\n",
      "epoch: 22 / 30, training rmse: 0.526, training r2: 0.9104\n",
      "epoch: 23 / 30, training rmse: 0.5216, training r2: 0.9119\n",
      "epoch: 24 / 30, training rmse: 0.5182, training r2: 0.913\n",
      "epoch: 25 / 30, training rmse: 0.5151, training r2: 0.9141\n",
      "epoch: 26 / 30, training rmse: 0.5111, training r2: 0.9154\n",
      "epoch: 27 / 30, training rmse: 0.5084, training r2: 0.9163\n",
      "epoch: 28 / 30, training rmse: 0.5054, training r2: 0.9173\n",
      "epoch: 29 / 30, training rmse: 0.5028, training r2: 0.9181\n",
      "epoch: 30 / 30, training rmse: 0.5006, training r2: 0.9188\n"
     ]
    },
    {
     "data": {
      "image/png": "[encoded data removed]",
      "text/plain": [
       "<Figure size 432x288 with 1 Axes>"
      ]
     },
     "metadata": {
      "needs_background": "light"
     },
     "output_type": "display_data"
    },
    {
     "name": "stderr",
     "output_type": "stream",
     "text": [
      "100%|██████████| 1000/1000 [04:54<00:00,  3.39it/s]\n"
     ]
    },
    {
     "name": "stdout",
     "output_type": "stream",
     "text": [
      "fit basis coefficients for predictors ...\n"
     ]
    },
    {
     "name": "stderr",
     "output_type": "stream",
     "text": [
      "100%|██████████| 1000/1000 [04:54<00:00,  3.39it/s]\n"
     ]
    },
    {
     "name": "stdout",
     "output_type": "stream",
     "text": [
      "fit basis coefficients for outcomes ...\n"
     ]
    },
    {
     "name": "stderr",
     "output_type": "stream",
     "text": [
      "100%|██████████| 1000/1000 [04:51<00:00,  3.43it/s]\n"
     ]
    },
    {
     "name": "stdout",
     "output_type": "stream",
     "text": [
      "stein variation gradient descent ...\n",
      "epoch: 1 / 30, training rmse: 1.5701, training r2: 0.1815\n",
      "epoch: 2 / 30, training rmse: 1.3813, training r2: 0.3665\n",
      "epoch: 3 / 30, training rmse: 1.1731, training r2: 0.5431\n",
      "epoch: 4 / 30, training rmse: 0.9831, training r2: 0.6791\n",
      "epoch: 5 / 30, training rmse: 0.8534, training r2: 0.7582\n",
      "epoch: 6 / 30, training rmse: 0.7701, training r2: 0.8031\n",
      "epoch: 7 / 30, training rmse: 0.7137, training r2: 0.8309\n",
      "epoch: 8 / 30, training rmse: 0.6744, training r2: 0.849\n",
      "epoch: 9 / 30, training rmse: 0.6436, training r2: 0.8625\n",
      "epoch: 10 / 30, training rmse: 0.6206, training r2: 0.8721\n",
      "epoch: 11 / 30, training rmse: 0.6008, training r2: 0.8801\n",
      "epoch: 12 / 30, training rmse: 0.5859, training r2: 0.886\n",
      "epoch: 13 / 30, training rmse: 0.5725, training r2: 0.8912\n",
      "epoch: 14 / 30, training rmse: 0.5609, training r2: 0.8955\n",
      "epoch: 15 / 30, training rmse: 0.552, training r2: 0.8988\n",
      "epoch: 16 / 30, training rmse: 0.5439, training r2: 0.9018\n",
      "epoch: 17 / 30, training rmse: 0.5363, training r2: 0.9045\n",
      "epoch: 18 / 30, training rmse: 0.5288, training r2: 0.9072\n",
      "epoch: 19 / 30, training rmse: 0.5227, training r2: 0.9093\n",
      "epoch: 20 / 30, training rmse: 0.5178, training r2: 0.911\n",
      "epoch: 21 / 30, training rmse: 0.5121, training r2: 0.9129\n",
      "epoch: 22 / 30, training rmse: 0.5079, training r2: 0.9144\n",
      "epoch: 23 / 30, training rmse: 0.5034, training r2: 0.9159\n",
      "epoch: 24 / 30, training rmse: 0.4992, training r2: 0.9173\n",
      "epoch: 25 / 30, training rmse: 0.4958, training r2: 0.9184\n",
      "epoch: 26 / 30, training rmse: 0.492, training r2: 0.9196\n",
      "epoch: 27 / 30, training rmse: 0.4884, training r2: 0.9208\n",
      "epoch: 28 / 30, training rmse: 0.4855, training r2: 0.9217\n",
      "epoch: 29 / 30, training rmse: 0.4825, training r2: 0.9227\n",
      "epoch: 30 / 30, training rmse: 0.4795, training r2: 0.9237\n"
     ]
    },
    {
     "data": {
      "image/png": "[encoded data removed]",
      "text/plain": [
       "<Figure size 432x288 with 1 Axes>"
      ]
     },
     "metadata": {
      "needs_background": "light"
     },
     "output_type": "display_data"
    },
    {
     "name": "stderr",
     "output_type": "stream",
     "text": [
      "100%|██████████| 1000/1000 [04:54<00:00,  3.39it/s]\n"
     ]
    },
    {
     "name": "stdout",
     "output_type": "stream",
     "text": [
      "fit basis coefficients for predictors ...\n"
     ]
    },
    {
     "name": "stderr",
     "output_type": "stream",
     "text": [
      "100%|██████████| 1000/1000 [04:55<00:00,  3.39it/s]\n"
     ]
    },
    {
     "name": "stdout",
     "output_type": "stream",
     "text": [
      "fit basis coefficients for outcomes ...\n"
     ]
    },
    {
     "name": "stderr",
     "output_type": "stream",
     "text": [
      "100%|██████████| 1000/1000 [04:51<00:00,  3.43it/s]\n"
     ]
    },
    {
     "name": "stdout",
     "output_type": "stream",
     "text": [
      "stein variation gradient descent ...\n",
      "epoch: 1 / 30, training rmse: 1.5587, training r2: 0.1742\n",
      "epoch: 2 / 30, training rmse: 1.3751, training r2: 0.3572\n",
      "epoch: 3 / 30, training rmse: 1.1622, training r2: 0.5409\n",
      "epoch: 4 / 30, training rmse: 0.9607, training r2: 0.6862\n",
      "epoch: 5 / 30, training rmse: 0.8199, training r2: 0.7715\n",
      "epoch: 6 / 30, training rmse: 0.738, training r2: 0.8149\n",
      "epoch: 7 / 30, training rmse: 0.688, training r2: 0.8391\n",
      "epoch: 8 / 30, training rmse: 0.6556, training r2: 0.8539\n",
      "epoch: 9 / 30, training rmse: 0.6308, training r2: 0.8647\n",
      "epoch: 10 / 30, training rmse: 0.6108, training r2: 0.8732\n",
      "epoch: 11 / 30, training rmse: 0.5935, training r2: 0.8803\n",
      "epoch: 12 / 30, training rmse: 0.5791, training r2: 0.886\n",
      "epoch: 13 / 30, training rmse: 0.5669, training r2: 0.8907\n",
      "epoch: 14 / 30, training rmse: 0.5566, training r2: 0.8947\n",
      "epoch: 15 / 30, training rmse: 0.5487, training r2: 0.8977\n",
      "epoch: 16 / 30, training rmse: 0.5396, training r2: 0.901\n",
      "epoch: 17 / 30, training rmse: 0.5333, training r2: 0.9033\n",
      "epoch: 18 / 30, training rmse: 0.5263, training r2: 0.9058\n",
      "epoch: 19 / 30, training rmse: 0.5205, training r2: 0.9079\n",
      "epoch: 20 / 30, training rmse: 0.5159, training r2: 0.9095\n",
      "epoch: 21 / 30, training rmse: 0.5108, training r2: 0.9113\n",
      "epoch: 22 / 30, training rmse: 0.5059, training r2: 0.913\n",
      "epoch: 23 / 30, training rmse: 0.5024, training r2: 0.9142\n",
      "epoch: 24 / 30, training rmse: 0.4983, training r2: 0.9156\n",
      "epoch: 25 / 30, training rmse: 0.4941, training r2: 0.917\n",
      "epoch: 26 / 30, training rmse: 0.4914, training r2: 0.9179\n",
      "epoch: 27 / 30, training rmse: 0.4897, training r2: 0.9185\n",
      "epoch: 28 / 30, training rmse: 0.4862, training r2: 0.9197\n",
      "epoch: 29 / 30, training rmse: 0.4837, training r2: 0.9205\n",
      "epoch: 30 / 30, training rmse: 0.4804, training r2: 0.9216\n"
     ]
    },
    {
     "data": {
      "image/png": "[encoded data removed]",
      "text/plain": [
       "<Figure size 432x288 with 1 Axes>"
      ]
     },
     "metadata": {
      "needs_background": "light"
     },
     "output_type": "display_data"
    },
    {
     "name": "stderr",
     "output_type": "stream",
     "text": [
      "100%|██████████| 1000/1000 [04:54<00:00,  3.40it/s]\n"
     ]
    },
    {
     "name": "stdout",
     "output_type": "stream",
     "text": [
      "fit basis coefficients for predictors ...\n"
     ]
    },
    {
     "name": "stderr",
     "output_type": "stream",
     "text": [
      "100%|██████████| 1000/1000 [04:54<00:00,  3.40it/s]\n"
     ]
    },
    {
     "name": "stdout",
     "output_type": "stream",
     "text": [
      "fit basis coefficients for outcomes ...\n"
     ]
    },
    {
     "name": "stderr",
     "output_type": "stream",
     "text": [
      "100%|██████████| 1000/1000 [04:50<00:00,  3.44it/s]\n"
     ]
    },
    {
     "name": "stdout",
     "output_type": "stream",
     "text": [
      "stein variation gradient descent ...\n",
      "epoch: 1 / 30, training rmse: 1.5771, training r2: 0.1865\n",
      "epoch: 2 / 30, training rmse: 1.3867, training r2: 0.371\n",
      "epoch: 3 / 30, training rmse: 1.1704, training r2: 0.5519\n",
      "epoch: 4 / 30, training rmse: 0.9747, training r2: 0.6893\n",
      "epoch: 5 / 30, training rmse: 0.8426, training r2: 0.7678\n",
      "epoch: 6 / 30, training rmse: 0.7598, training r2: 0.8112\n",
      "epoch: 7 / 30, training rmse: 0.7063, training r2: 0.8368\n",
      "epoch: 8 / 30, training rmse: 0.6692, training r2: 0.8535\n",
      "epoch: 9 / 30, training rmse: 0.6391, training r2: 0.8664\n",
      "epoch: 10 / 30, training rmse: 0.6158, training r2: 0.876\n",
      "epoch: 11 / 30, training rmse: 0.5956, training r2: 0.884\n",
      "epoch: 12 / 30, training rmse: 0.5784, training r2: 0.8906\n",
      "epoch: 13 / 30, training rmse: 0.5652, training r2: 0.8955\n",
      "epoch: 14 / 30, training rmse: 0.5538, training r2: 0.8997\n",
      "epoch: 15 / 30, training rmse: 0.5432, training r2: 0.9035\n",
      "epoch: 16 / 30, training rmse: 0.5336, training r2: 0.9069\n",
      "epoch: 17 / 30, training rmse: 0.5265, training r2: 0.9093\n",
      "epoch: 18 / 30, training rmse: 0.5186, training r2: 0.912\n",
      "epoch: 19 / 30, training rmse: 0.5128, training r2: 0.914\n",
      "epoch: 20 / 30, training rmse: 0.5063, training r2: 0.9162\n",
      "epoch: 21 / 30, training rmse: 0.5017, training r2: 0.9177\n",
      "epoch: 22 / 30, training rmse: 0.4969, training r2: 0.9192\n",
      "epoch: 23 / 30, training rmse: 0.4919, training r2: 0.9209\n",
      "epoch: 24 / 30, training rmse: 0.4878, training r2: 0.9222\n",
      "epoch: 25 / 30, training rmse: 0.4837, training r2: 0.9235\n",
      "epoch: 26 / 30, training rmse: 0.4795, training r2: 0.9248\n",
      "epoch: 27 / 30, training rmse: 0.4761, training r2: 0.9258\n",
      "epoch: 28 / 30, training rmse: 0.4726, training r2: 0.9269\n",
      "epoch: 29 / 30, training rmse: 0.4697, training r2: 0.9278\n",
      "epoch: 30 / 30, training rmse: 0.4664, training r2: 0.9288\n"
     ]
    },
    {
     "data": {
      "image/png": "[encoded data removed]",
      "text/plain": [
       "<Figure size 432x288 with 1 Axes>"
      ]
     },
     "metadata": {
      "needs_background": "light"
     },
     "output_type": "display_data"
    },
    {
     "name": "stderr",
     "output_type": "stream",
     "text": [
      "100%|██████████| 1000/1000 [04:54<00:00,  3.40it/s]\n"
     ]
    },
    {
     "name": "stdout",
     "output_type": "stream",
     "text": [
      "fit basis coefficients for predictors ...\n"
     ]
    },
    {
     "name": "stderr",
     "output_type": "stream",
     "text": [
      "100%|██████████| 1000/1000 [04:54<00:00,  3.39it/s]\n"
     ]
    },
    {
     "name": "stdout",
     "output_type": "stream",
     "text": [
      "fit basis coefficients for outcomes ...\n"
     ]
    },
    {
     "name": "stderr",
     "output_type": "stream",
     "text": [
      "100%|██████████| 1000/1000 [04:51<00:00,  3.43it/s]\n"
     ]
    },
    {
     "name": "stdout",
     "output_type": "stream",
     "text": [
      "stein variation gradient descent ...\n",
      "epoch: 1 / 30, training rmse: 1.5818, training r2: 0.1698\n",
      "epoch: 2 / 30, training rmse: 1.3978, training r2: 0.3516\n",
      "epoch: 3 / 30, training rmse: 1.1911, training r2: 0.5292\n",
      "epoch: 4 / 30, training rmse: 0.9935, training r2: 0.6725\n",
      "epoch: 5 / 30, training rmse: 0.8532, training r2: 0.7584\n",
      "epoch: 6 / 30, training rmse: 0.7673, training r2: 0.8046\n",
      "epoch: 7 / 30, training rmse: 0.7115, training r2: 0.832\n",
      "epoch: 8 / 30, training rmse: 0.6738, training r2: 0.8494\n",
      "epoch: 9 / 30, training rmse: 0.6459, training r2: 0.8615\n",
      "epoch: 10 / 30, training rmse: 0.6235, training r2: 0.871\n",
      "epoch: 11 / 30, training rmse: 0.6052, training r2: 0.8785\n",
      "epoch: 12 / 30, training rmse: 0.5889, training r2: 0.8849\n",
      "epoch: 13 / 30, training rmse: 0.5761, training r2: 0.8898\n",
      "epoch: 14 / 30, training rmse: 0.5664, training r2: 0.8936\n",
      "epoch: 15 / 30, training rmse: 0.5562, training r2: 0.8974\n",
      "epoch: 16 / 30, training rmse: 0.5478, training r2: 0.9004\n",
      "epoch: 17 / 30, training rmse: 0.541, training r2: 0.9029\n",
      "epoch: 18 / 30, training rmse: 0.5341, training r2: 0.9053\n",
      "epoch: 19 / 30, training rmse: 0.528, training r2: 0.9075\n",
      "epoch: 20 / 30, training rmse: 0.5225, training r2: 0.9094\n",
      "epoch: 21 / 30, training rmse: 0.5176, training r2: 0.9111\n",
      "epoch: 22 / 30, training rmse: 0.5134, training r2: 0.9125\n",
      "epoch: 23 / 30, training rmse: 0.5092, training r2: 0.914\n",
      "epoch: 24 / 30, training rmse: 0.5046, training r2: 0.9155\n",
      "epoch: 25 / 30, training rmse: 0.5015, training r2: 0.9165\n",
      "epoch: 26 / 30, training rmse: 0.4985, training r2: 0.9175\n",
      "epoch: 27 / 30, training rmse: 0.495, training r2: 0.9187\n",
      "epoch: 28 / 30, training rmse: 0.492, training r2: 0.9197\n",
      "epoch: 29 / 30, training rmse: 0.4892, training r2: 0.9206\n",
      "epoch: 30 / 30, training rmse: 0.4863, training r2: 0.9215\n"
     ]
    },
    {
     "data": {
      "image/png": "[encoded data removed]",
      "text/plain": [
       "<Figure size 432x288 with 1 Axes>"
      ]
     },
     "metadata": {
      "needs_background": "light"
     },
     "output_type": "display_data"
    },
    {
     "name": "stderr",
     "output_type": "stream",
     "text": [
      "100%|██████████| 1000/1000 [04:54<00:00,  3.39it/s]\n"
     ]
    },
    {
     "name": "stdout",
     "output_type": "stream",
     "text": [
      "fit basis coefficients for predictors ...\n"
     ]
    },
    {
     "name": "stderr",
     "output_type": "stream",
     "text": [
      "100%|██████████| 1000/1000 [04:54<00:00,  3.39it/s]\n"
     ]
    },
    {
     "name": "stdout",
     "output_type": "stream",
     "text": [
      "fit basis coefficients for outcomes ...\n"
     ]
    },
    {
     "name": "stderr",
     "output_type": "stream",
     "text": [
      "100%|██████████| 1000/1000 [04:51<00:00,  3.43it/s]\n"
     ]
    },
    {
     "name": "stdout",
     "output_type": "stream",
     "text": [
      "stein variation gradient descent ...\n",
      "epoch: 1 / 30, training rmse: 1.5711, training r2: 0.1794\n",
      "epoch: 2 / 30, training rmse: 1.3884, training r2: 0.3591\n",
      "epoch: 3 / 30, training rmse: 1.1869, training r2: 0.5317\n",
      "epoch: 4 / 30, training rmse: 1.0042, training r2: 0.6647\n",
      "epoch: 5 / 30, training rmse: 0.8756, training r2: 0.7451\n",
      "epoch: 6 / 30, training rmse: 0.7904, training r2: 0.7923\n",
      "epoch: 7 / 30, training rmse: 0.7336, training r2: 0.8211\n",
      "epoch: 8 / 30, training rmse: 0.6932, training r2: 0.8402\n",
      "epoch: 9 / 30, training rmse: 0.6609, training r2: 0.8548\n",
      "epoch: 10 / 30, training rmse: 0.6346, training r2: 0.8661\n",
      "epoch: 11 / 30, training rmse: 0.6142, training r2: 0.8746\n",
      "epoch: 12 / 30, training rmse: 0.5978, training r2: 0.8812\n",
      "epoch: 13 / 30, training rmse: 0.5853, training r2: 0.8861\n",
      "epoch: 14 / 30, training rmse: 0.5729, training r2: 0.8909\n",
      "epoch: 15 / 30, training rmse: 0.5634, training r2: 0.8945\n",
      "epoch: 16 / 30, training rmse: 0.5556, training r2: 0.8974\n",
      "epoch: 17 / 30, training rmse: 0.5478, training r2: 0.9002\n",
      "epoch: 18 / 30, training rmse: 0.541, training r2: 0.9027\n",
      "epoch: 19 / 30, training rmse: 0.5346, training r2: 0.905\n",
      "epoch: 20 / 30, training rmse: 0.529, training r2: 0.907\n",
      "epoch: 21 / 30, training rmse: 0.5241, training r2: 0.9087\n",
      "epoch: 22 / 30, training rmse: 0.5203, training r2: 0.91\n",
      "epoch: 23 / 30, training rmse: 0.516, training r2: 0.9115\n",
      "epoch: 24 / 30, training rmse: 0.5119, training r2: 0.9129\n",
      "epoch: 25 / 30, training rmse: 0.5081, training r2: 0.9142\n",
      "epoch: 26 / 30, training rmse: 0.5061, training r2: 0.9149\n",
      "epoch: 27 / 30, training rmse: 0.5013, training r2: 0.9164\n",
      "epoch: 28 / 30, training rmse: 0.499, training r2: 0.9172\n",
      "epoch: 29 / 30, training rmse: 0.4962, training r2: 0.9181\n",
      "epoch: 30 / 30, training rmse: 0.4934, training r2: 0.9191\n"
     ]
    },
    {
     "data": {
      "image/png": "[encoded data removed]",
      "text/plain": [
       "<Figure size 432x288 with 1 Axes>"
      ]
     },
     "metadata": {
      "needs_background": "light"
     },
     "output_type": "display_data"
    },
    {
     "name": "stderr",
     "output_type": "stream",
     "text": [
      "100%|██████████| 1000/1000 [04:54<00:00,  3.39it/s]\n"
     ]
    },
    {
     "name": "stdout",
     "output_type": "stream",
     "text": [
      "fit basis coefficients for predictors ...\n"
     ]
    },
    {
     "name": "stderr",
     "output_type": "stream",
     "text": [
      "100%|██████████| 1000/1000 [04:56<00:00,  3.37it/s]\n"
     ]
    },
    {
     "name": "stdout",
     "output_type": "stream",
     "text": [
      "fit basis coefficients for outcomes ...\n"
     ]
    },
    {
     "name": "stderr",
     "output_type": "stream",
     "text": [
      " 73%|███████▎  | 727/1000 [03:31<01:19,  3.43it/s]"
     ]
    }
   ],
   "source": [
    "train_data = np.loadtxt(\"fashion-mnist_train.csv\", skiprows = 1, delimiter = \",\")\n",
    "test_data = np.loadtxt(\"fashion-mnist_test.csv\", skiprows = 1, delimiter = \",\")\n",
    "\n",
    "train_img = train_data[:, 1:]\n",
    "test_img = test_data[:, 1:]\n",
    "train_label = train_data[:, 0]\n",
    "test_label = test_data[:, 0]\n",
    "train_img = train_img / 255\n",
    "test_img = test_img / 255\n",
    "\n",
    "train_idx_all = np.arange(60000)\n",
    "test_idx_all = np.arange(10000)\n",
    "\n",
    "n = 2000\n",
    "n_train = 1000\n",
    "n_test = 1000\n",
    "\n",
    "num_exp = 50\n",
    "mse = np.zeros((num_exp, 4))\n",
    "for exp in range(num_exp):\n",
    "    random.seed(exp)\n",
    "    torch.manual_seed(exp)\n",
    "    np.random.seed(exp)\n",
    "\n",
    "    #####################################################################\n",
    "    # generate images\n",
    "    train_idx = np.random.choice(train_idx_all, size = n_train, replace = False)\n",
    "    test_idx = np.random.choice(test_idx_all, size = n_test, replace = False)\n",
    "\n",
    "    train_imgs = train_img[train_idx, ]\n",
    "    test_imgs = test_img[test_idx, ]\n",
    "    train_lbs = train_label[train_idx]\n",
    "    test_lbs = test_label[test_idx]\n",
    "\n",
    "    train_quantiles = np.zeros((4, n_train))\n",
    "    for i in range(n_train):\n",
    "        train_img_i = train_imgs[i, :]\n",
    "        train_img_i = train_img_i[train_img_i > 0]\n",
    "        train_quantiles[:, i] = np.quantile(train_img_i, [0, 0.25, 0.5, 0.75])\n",
    "\n",
    "    train_q0 = np.tile(train_quantiles[0, :].reshape((n_train, 1)), (1, 784))\n",
    "    train_q1 = np.tile(train_quantiles[1, :].reshape((n_train, 1)), (1, 784))\n",
    "    train_q2 = np.tile(train_quantiles[2, :].reshape((n_train, 1)), (1, 784))\n",
    "    train_q3 = np.tile(train_quantiles[3, :].reshape((n_train, 1)), (1, 784))\n",
    "\n",
    "    train_p0 = np.zeros((n_train, 784))\n",
    "    train_p1 = np.zeros((n_train, 784))\n",
    "    train_p2 = np.zeros((n_train, 784))\n",
    "    train_p3 = np.zeros((n_train, 784))\n",
    "\n",
    "    train_p3[train_imgs >= train_q3] = train_imgs[train_imgs >= train_q3]\n",
    "    train_p2[(train_imgs >= train_q2) & (train_imgs < train_q3)] = train_imgs[(train_imgs >= train_q2) & (train_imgs < train_q3)]\n",
    "    train_p1[(train_imgs >= train_q1) & (train_imgs < train_q2)] = train_imgs[(train_imgs >= train_q1) & (train_imgs < train_q2)]\n",
    "    train_p0[(train_imgs >= train_q0) & (train_imgs < train_q1)] = train_imgs[(train_imgs >= train_q0) & (train_imgs < train_q1)]\n",
    "\n",
    "    train_predictors = np.zeros((n_train, 28*28*4))\n",
    "    train_outcomes = train_imgs\n",
    "    for i in range(n_train):\n",
    "        train_p0_i = train_p0[i, :].reshape((28, 28))\n",
    "        train_p1_i = train_p1[i, :].reshape((28, 28))\n",
    "        train_p2_i = train_p2[i, :].reshape((28, 28))\n",
    "        train_p3_i = train_p3[i, :].reshape((28, 28))\n",
    "        train_predictor_i = np.hstack((train_p0_i, train_p1_i, train_p2_i, train_p3_i))\n",
    "        train_predictors[i, :] = train_predictor_i.reshape(-1)\n",
    "\n",
    "    test_quantiles = np.zeros((4, n_test))\n",
    "    for i in range(n_test):\n",
    "        test_img_i = test_imgs[i, :]\n",
    "        test_img_i = test_img_i[test_img_i > 0]\n",
    "        test_quantiles[:, i] = np.quantile(test_img_i, [0, 0.25, 0.5, 0.75])\n",
    "\n",
    "\n",
    "    test_q0 = np.tile(test_quantiles[0, :].reshape((n_test, 1)), (1, 784))\n",
    "    test_q1 = np.tile(test_quantiles[1, :].reshape((n_test, 1)), (1, 784))\n",
    "    test_q2 = np.tile(test_quantiles[2, :].reshape((n_test, 1)), (1, 784))\n",
    "    test_q3 = np.tile(test_quantiles[3, :].reshape((n_test, 1)), (1, 784))\n",
    "\n",
    "    test_p0 = np.zeros((n_test, 784))\n",
    "    test_p1 = np.zeros((n_test, 784))\n",
    "    test_p2 = np.zeros((n_test, 784))\n",
    "    test_p3 = np.zeros((n_test, 784))\n",
    "\n",
    "    test_p3[test_imgs >= test_q3] = test_imgs[test_imgs >= test_q3]\n",
    "    test_p2[(test_imgs >= test_q2) & (test_imgs < test_q3)] = test_imgs[(test_imgs >= test_q2) & (test_imgs < test_q3)]\n",
    "    test_p1[(test_imgs >= test_q1) & (test_imgs < test_q2)] = test_imgs[(test_imgs >= test_q1) & (test_imgs < test_q2)]\n",
    "    test_p0[(test_imgs >= test_q0) & (test_imgs < test_q1)] = test_imgs[(test_imgs >= test_q0) & (test_imgs < test_q1)]\n",
    "\n",
    "    test_predictors = np.zeros((n_test, 28*28*4))\n",
    "    test_outcomes = test_imgs\n",
    "    for i in range(n_test):\n",
    "        test_p0_i = test_p0[i, :].reshape((28, 28))\n",
    "        test_p1_i = test_p1[i, :].reshape((28, 28))\n",
    "        test_p2_i = test_p2[i, :].reshape((28, 28))\n",
    "        test_p3_i = test_p3[i, :].reshape((28, 28))\n",
    "        test_predictor_i = np.hstack((test_p0_i, test_p1_i, test_p2_i, test_p3_i))\n",
    "        test_predictors[i, :] = test_predictor_i.reshape(-1)\n",
    "    \n",
    "    predictor_grids = bird_gp.generate_grids([28, 112])\n",
    "    outcome_grids = bird_gp.generate_grids([28, 28])\n",
    "\n",
    "    length_scale = 0.05\n",
    "    nu = 1.5\n",
    "    K_predictor = Matern(length_scale = length_scale, nu = nu)(predictor_grids)\n",
    "    K_outcome = Matern(length_scale = length_scale, nu = nu)(outcome_grids)\n",
    "    v_predictors, Psi_predictors = np.linalg.eig(K_predictor)\n",
    "    v_outcomes, Psi_outcomes = np.linalg.eig(K_outcome)\n",
    "    \n",
    "    Psi_predictors = np.real(Psi_predictors[:, 0:50])\n",
    "    Psi_outcomes = np.real(Psi_outcomes[:, 0:50])\n",
    "    \n",
    "    birdgp = bird_gp.BIRD_GP(predictor_grids = predictor_grids,\n",
    "                             outcome_grids = outcome_grids,\n",
    "                             predictor_L = 50,\n",
    "                             outcome_L = 50,\n",
    "                             svgd_b_lambda = 1e2, \n",
    "                             bf_predictor_steps = 10000,\n",
    "                             bf_outcome_steps = 10000\n",
    "                             )\n",
    "    birdgp.fit(train_predictors, train_outcomes, Psi_predictors, Psi_outcomes)\n",
    "\n",
    "    train_pred = birdgp.predict_train()\n",
    "    test_pred = birdgp.predict_test(test_predictors)\n",
    "\n",
    "    mse[exp, 0] = np.mean((train_pred - train_outcomes)**2)\n",
    "    mse[exp, 1] = np.mean((test_pred - test_outcomes)**2)\n",
    "    \n",
    "    np.savetxt(\"mse_matern.txt\", mse)"
   ]
  },
  {
   "cell_type": "code",
   "execution_count": 3,
   "id": "b4804525-7a31-43bb-a566-57b384f6b0a1",
   "metadata": {},
   "outputs": [
    {
     "data": {
      "text/plain": [
       "array([0.03535791, 0.03779166, 0.        , 0.        ])"
      ]
     },
     "execution_count": 3,
     "metadata": {},
     "output_type": "execute_result"
    }
   ],
   "source": [
    "np.mean(mse, 0)"
   ]
  },
  {
   "cell_type": "code",
   "execution_count": 4,
   "id": "a8550ffb-5f3e-4808-a3a3-7686bec11aba",
   "metadata": {},
   "outputs": [
    {
     "data": {
      "text/plain": [
       "array([0.00095635, 0.00097008, 0.        , 0.        ])"
      ]
     },
     "execution_count": 4,
     "metadata": {},
     "output_type": "execute_result"
    }
   ],
   "source": [
    "np.std(mse, 0)"
   ]
  },
  {
   "cell_type": "code",
   "execution_count": null,
   "id": "8a9176b7-4dd6-49be-9d8c-fd902efa089b",
   "metadata": {},
   "outputs": [],
   "source": []
  }
 ],
 "metadata": {
  "kernelspec": {
   "display_name": "Python 3 (ipykernel)",
   "language": "python",
   "name": "python3"
  },
  "language_info": {
   "codemirror_mode": {
    "name": "ipython",
    "version": 3
   },
   "file_extension": ".py",
   "mimetype": "text/x-python",
   "name": "python",
   "nbconvert_exporter": "python",
   "pygments_lexer": "ipython3",
   "version": "3.9.12"
  }
 },
 "nbformat": 4,
 "nbformat_minor": 5
}
