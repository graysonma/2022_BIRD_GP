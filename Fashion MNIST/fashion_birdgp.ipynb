{
 "cells": [
  {
   "cell_type": "code",
   "execution_count": 1,
   "id": "3fc3b1d6-9e73-41b9-b47f-0ee306f3925f",
   "metadata": {},
   "outputs": [],
   "source": [
    "import subprocess\n",
    "import torch\n",
    "import numpy as np\n",
    "import matplotlib.pyplot as plt\n",
    "import math\n",
    "import svgd\n",
    "import random\n",
    "%matplotlib inline\n",
    "\n",
    "class BFNN(torch.nn.Module):\n",
    "    def __init__(self, d, L, n, V):\n",
    "        super().__init__()\n",
    "        self.d = d\n",
    "        self.L = L\n",
    "        self.n = n\n",
    "        self.V = V\n",
    "        self.theta = torch.nn.Parameter(torch.randn(self.n, self.L))\n",
    "\n",
    "        # define layers\n",
    "        #self.num_nodes = num_nodes\n",
    "        #self.layers = []\n",
    "        #for i in range(len(num_nodes)):\n",
    "        #  if i == 0:\n",
    "        #    self.layers.append(torch.nn.Linear(self.d, num_nodes[0]))\n",
    "        #  else:\n",
    "        #    self.layers.append(torch.nn.Linear(num_nodes[i-1], num_nodes[i]))\n",
    "        #self.layers.append(torch.nn.Linear(num_nodes[-1], L))\n",
    "        self.layer1 = torch.nn.Linear(d, 128)\n",
    "        self.layer2 = torch.nn.Linear(128, 128)\n",
    "        self.layer3 = torch.nn.Linear(128, 128)\n",
    "        self.layer4 = torch.nn.Linear(128, 128)\n",
    "        self.layerL = torch.nn.Linear(128, L)\n",
    "\n",
    "        # define activation functions\n",
    "        self.relu = torch.nn.ReLU()\n",
    "\n",
    "    def forward(self, X):\n",
    "        #for i in range(len(self.num_nodes)):\n",
    "        #  X = self.layers[i](X)\n",
    "        #  X = self.relu(X)\n",
    "        #self.Psi = self.layers[-1](X)\n",
    "\n",
    "        X = self.layer1(X)\n",
    "        X = self.relu(X)\n",
    "        X = self.layer2(X)\n",
    "        X = self.relu(X)\n",
    "        X = self.layer3(X)\n",
    "        X = self.relu(X)\n",
    "        X = self.layer4(X)\n",
    "        X = self.relu(X)\n",
    "        self.Psi = self.layerL(X)\n",
    "        self.yhat = self.theta @ self.Psi.t() \n",
    "        return self.yhat\n",
    "    \n",
    "\n",
    "class Dataset(torch.utils.data.Dataset):\n",
    "    def __init__(self, predictors, labels):\n",
    "        self.labels = labels\n",
    "        self.predictors = predictors\n",
    "\n",
    "    def __len__(self):\n",
    "        return self.labels.shape[0]\n",
    "\n",
    "    def __getitem__(self, index):\n",
    "        X = self.predictors[index, :]\n",
    "        y = self.labels[index, :]\n",
    "\n",
    "        return X, y\n",
    "    \n",
    "\n",
    "import torch.nn as nn\n",
    "\n",
    "class CNN(nn.Module):\n",
    "    def __init__(self):\n",
    "        super(CNN, self).__init__()\n",
    "        self.conv1 = nn.Sequential(         \n",
    "            nn.Conv2d(\n",
    "                in_channels=1,              \n",
    "                out_channels=16,            \n",
    "                kernel_size=5,              \n",
    "                stride=1,                   \n",
    "                padding=2,                  \n",
    "            ),                              \n",
    "            nn.ReLU(),                      \n",
    "            nn.MaxPool2d(kernel_size=2),    \n",
    "        )\n",
    "        self.conv2 = nn.Sequential(         \n",
    "            nn.Conv2d(16, 32, 5, 1, 2),     \n",
    "            nn.ReLU(),                      \n",
    "            nn.MaxPool2d(2),                \n",
    "        )\n",
    "        # fully connected layer, output 10 classes\n",
    "        self.linear = nn.Linear(32 * 7 * 7, 1)\n",
    "        self.sigmoid = nn.Sigmoid()\n",
    "        \n",
    "    def forward(self, x):\n",
    "        x = self.conv1(x)\n",
    "        x = self.conv2(x)\n",
    "        # flatten the output of conv2 to (batch_size, 32 * 7 * 7)\n",
    "        x = x.view(x.size(0), -1)       \n",
    "        x = self.linear(x)\n",
    "        x = self.sigmoid(x)\n",
    "        return x\n",
    "    \n",
    "\n",
    "import torch.nn as nn\n",
    "\n",
    "class CNN_FB(nn.Module):\n",
    "    def __init__(self):\n",
    "        super().__init__()\n",
    "        self.conv1 = nn.Sequential(         \n",
    "            nn.Conv2d(1, 64, 3, 1, \"same\"),                              \n",
    "            nn.ReLU(),                      \n",
    "            nn.MaxPool2d(kernel_size = 2),    \n",
    "        )\n",
    "        self.conv2 = nn.Sequential(         \n",
    "            nn.Conv2d(64, 32, 3, 1, \"same\"),     \n",
    "            nn.ReLU(),                      \n",
    "            nn.MaxPool2d(2),                \n",
    "        )\n",
    "        self.conv3 = nn.Sequential(         \n",
    "            nn.Conv2d(32, 32, 3, 1, \"same\"),     \n",
    "            nn.ReLU(),                      \n",
    "            nn.MaxPool2d(2),                \n",
    "        )\n",
    "        self.conv4 = nn.Sequential(         \n",
    "            nn.Conv2d(32, 32, 3, 1, \"same\"),     \n",
    "            nn.ReLU(),                      \n",
    "            nn.MaxPool2d(2),                \n",
    "        )\n",
    "        self.linear1 = nn.Linear(224, 64)\n",
    "        self.linear2 = nn.Linear(64, 784)\n",
    "        self.relu1 = nn.ReLU()\n",
    "        self.dropout = nn.Dropout(0.3)\n",
    "                                 \n",
    "        \n",
    "    def forward(self, x):\n",
    "        x = self.conv1(x)\n",
    "        x = self.conv2(x)\n",
    "        x = self.conv3(x)\n",
    "        x = self.conv4(x)\n",
    "        x = x.view(x.size(0), -1)      \n",
    "        x = self.linear1(x)\n",
    "        x = self.relu1(x)\n",
    "        x = self.dropout(x)\n",
    "        x = self.linear2(x)\n",
    "        return x"
   ]
  },
  {
   "cell_type": "code",
   "execution_count": 2,
   "id": "d07d7ae7-0631-49fb-a972-cc294dbf18c0",
   "metadata": {},
   "outputs": [],
   "source": [
    "train_data = np.loadtxt(\"fashion-mnist_train.csv\", skiprows = 1, delimiter = \",\")\n",
    "test_data = np.loadtxt(\"fashion-mnist_test.csv\", skiprows = 1, delimiter = \",\")"
   ]
  },
  {
   "cell_type": "code",
   "execution_count": 4,
   "id": "661a3b96-e01b-4f63-a039-82b2981eaf0f",
   "metadata": {},
   "outputs": [],
   "source": [
    "train_img = train_data[:, 1:]\n",
    "test_img = test_data[:, 1:]\n",
    "train_label = train_data[:, 0]\n",
    "test_label = test_data[:, 0]\n",
    "train_img = train_img / 255\n",
    "test_img = test_img / 255"
   ]
  },
  {
   "cell_type": "code",
   "execution_count": 5,
   "id": "d7e9541c-9c9b-4f25-84d0-f560a02d47c8",
   "metadata": {},
   "outputs": [],
   "source": [
    "#label = 7\n",
    "#train_idx_all = np.where(train_label == label)[0]\n",
    "#test_idx_all = np.where(test_label == label)[0]\n",
    "train_idx_all = np.arange(60000)\n",
    "test_idx_all = np.arange(10000)"
   ]
  },
  {
   "cell_type": "code",
   "execution_count": 6,
   "id": "2f18ff69-c0f8-4382-afd6-6c4663091a85",
   "metadata": {
    "collapsed": true,
    "jupyter": {
     "outputs_hidden": true
    },
    "tags": []
   },
   "outputs": [
    {
     "name": "stderr",
     "output_type": "stream",
     "text": [
      "Loading required package: lattice\n",
      "Loading required package: Rcpp\n",
      "Loading required package: RcppArmadillo\n",
      "Loading required package: glmnet\n",
      "Loading required package: Matrix\n",
      "Loaded glmnet 4.1-3\n",
      "Loading required package: horseshoe\n",
      "Loading required package: pgdraw\n"
     ]
    },
    {
     "name": "stdout",
     "output_type": "stream",
     "text": [
      "epoch: 1 / 30, training rmse: 1.1614, training r2: 0.1229\n",
      "epoch: 2 / 30, training rmse: 1.0802, training r2: 0.2413\n",
      "epoch: 3 / 30, training rmse: 0.9921, training r2: 0.3601\n",
      "epoch: 4 / 30, training rmse: 0.8912, training r2: 0.4836\n",
      "epoch: 5 / 30, training rmse: 0.7796, training r2: 0.6048\n",
      "epoch: 6 / 30, training rmse: 0.6713, training r2: 0.707\n",
      "epoch: 7 / 30, training rmse: 0.5759, training r2: 0.7843\n",
      "epoch: 8 / 30, training rmse: 0.5046, training r2: 0.8344\n",
      "epoch: 9 / 30, training rmse: 0.4515, training r2: 0.8675\n",
      "epoch: 10 / 30, training rmse: 0.4149, training r2: 0.8881\n",
      "epoch: 11 / 30, training rmse: 0.3881, training r2: 0.902\n",
      "epoch: 12 / 30, training rmse: 0.3694, training r2: 0.9113\n",
      "epoch: 13 / 30, training rmse: 0.3549, training r2: 0.9181\n",
      "epoch: 14 / 30, training rmse: 0.3452, training r2: 0.9225\n",
      "epoch: 15 / 30, training rmse: 0.3379, training r2: 0.9258\n",
      "epoch: 16 / 30, training rmse: 0.332, training r2: 0.9283\n",
      "epoch: 17 / 30, training rmse: 0.3281, training r2: 0.93\n",
      "epoch: 18 / 30, training rmse: 0.3246, training r2: 0.9315\n",
      "epoch: 19 / 30, training rmse: 0.3217, training r2: 0.9327\n",
      "epoch: 20 / 30, training rmse: 0.3204, training r2: 0.9333\n",
      "epoch: 21 / 30, training rmse: 0.3185, training r2: 0.934\n",
      "epoch: 22 / 30, training rmse: 0.3172, training r2: 0.9346\n",
      "epoch: 23 / 30, training rmse: 0.3163, training r2: 0.9349\n",
      "epoch: 24 / 30, training rmse: 0.3156, training r2: 0.9352\n",
      "epoch: 25 / 30, training rmse: 0.3148, training r2: 0.9356\n",
      "epoch: 26 / 30, training rmse: 0.3148, training r2: 0.9355\n",
      "epoch: 27 / 30, training rmse: 0.3136, training r2: 0.9361\n",
      "epoch: 28 / 30, training rmse: 0.3149, training r2: 0.9355\n",
      "epoch: 29 / 30, training rmse: 0.3139, training r2: 0.9359\n",
      "epoch: 30 / 30, training rmse: 0.3141, training r2: 0.9359\n"
     ]
    },
    {
     "data": {
      "image/png": "[encoded data removed]",
      "text/plain": [
       "<Figure size 432x288 with 1 Axes>"
      ]
     },
     "metadata": {
      "needs_background": "light"
     },
     "output_type": "display_data"
    },
    {
     "name": "stdout",
     "output_type": "stream",
     "text": [
      "0 [0. 0. 0. 0.] [0.02515139 0.02831879 0.03531513 0.03662549]\n"
     ]
    }
   ],
   "source": [
    "n = 2000\n",
    "n_train = 1000\n",
    "n_test = 1000\n",
    "\n",
    "num_exp = 50\n",
    "result_mse = np.zeros((num_exp, 4))\n",
    "result_acc = np.zeros((num_exp, 4))\n",
    "L = 100\n",
    "for exp in range(1):\n",
    "    random.seed(exp)\n",
    "    torch.manual_seed(exp)\n",
    "    np.random.seed(exp)\n",
    "    #####################################################################\n",
    "    # generate images\n",
    "    train_idx = np.random.choice(train_idx_all, size = n_train, replace = False)\n",
    "    test_idx = np.random.choice(test_idx_all, size = n_test, replace = False)\n",
    "\n",
    "    train_imgs = train_img[train_idx, ]\n",
    "    test_imgs = test_img[test_idx, ]\n",
    "    train_lbs = train_label[train_idx]\n",
    "    test_lbs = test_label[test_idx]\n",
    "\n",
    "    train_quantiles = np.zeros((4, n_train))\n",
    "    for i in range(n_train):\n",
    "        train_img_i = train_imgs[i, :]\n",
    "        train_img_i = train_img_i[train_img_i > 0]\n",
    "        train_quantiles[:, i] = np.quantile(train_img_i, [0, 0.25, 0.5, 0.75])\n",
    "\n",
    "\n",
    "    train_q0 = np.tile(train_quantiles[0, :].reshape((n_train, 1)), (1, 784))\n",
    "    train_q1 = np.tile(train_quantiles[1, :].reshape((n_train, 1)), (1, 784))\n",
    "    train_q2 = np.tile(train_quantiles[2, :].reshape((n_train, 1)), (1, 784))\n",
    "    train_q3 = np.tile(train_quantiles[3, :].reshape((n_train, 1)), (1, 784))\n",
    "\n",
    "    train_p0 = np.zeros((n_train, 784))\n",
    "    train_p1 = np.zeros((n_train, 784))\n",
    "    train_p2 = np.zeros((n_train, 784))\n",
    "    train_p3 = np.zeros((n_train, 784))\n",
    "\n",
    "    train_p3[train_imgs >= train_q3] = train_imgs[train_imgs >= train_q3]\n",
    "    train_p2[(train_imgs >= train_q2) & (train_imgs < train_q3)] = train_imgs[(train_imgs >= train_q2) & (train_imgs < train_q3)]\n",
    "    train_p1[(train_imgs >= train_q1) & (train_imgs < train_q2)] = train_imgs[(train_imgs >= train_q1) & (train_imgs < train_q2)]\n",
    "    train_p0[(train_imgs >= train_q0) & (train_imgs < train_q1)] = train_imgs[(train_imgs >= train_q0) & (train_imgs < train_q1)]\n",
    "\n",
    "    train_predictors = np.zeros((n_train, 28*28*4))\n",
    "    train_outcomes = train_imgs\n",
    "    for i in range(n_train):\n",
    "        train_p0_i = train_p0[i, :].reshape((28, 28))\n",
    "        train_p1_i = train_p1[i, :].reshape((28, 28))\n",
    "        train_p2_i = train_p2[i, :].reshape((28, 28))\n",
    "        train_p3_i = train_p3[i, :].reshape((28, 28))\n",
    "        train_predictor_i = np.hstack((train_p0_i, train_p1_i, train_p2_i, train_p3_i))\n",
    "        train_predictors[i, :] = train_predictor_i.reshape(-1)\n",
    "\n",
    "    test_quantiles = np.zeros((4, n_test))\n",
    "    for i in range(n_test):\n",
    "        test_img_i = test_imgs[i, :]\n",
    "        test_img_i = test_img_i[test_img_i > 0]\n",
    "        test_quantiles[:, i] = np.quantile(test_img_i, [0, 0.25, 0.5, 0.75])\n",
    "\n",
    "\n",
    "    test_q0 = np.tile(test_quantiles[0, :].reshape((n_test, 1)), (1, 784))\n",
    "    test_q1 = np.tile(test_quantiles[1, :].reshape((n_test, 1)), (1, 784))\n",
    "    test_q2 = np.tile(test_quantiles[2, :].reshape((n_test, 1)), (1, 784))\n",
    "    test_q3 = np.tile(test_quantiles[3, :].reshape((n_test, 1)), (1, 784))\n",
    "\n",
    "    test_p0 = np.zeros((n_test, 784))\n",
    "    test_p1 = np.zeros((n_test, 784))\n",
    "    test_p2 = np.zeros((n_test, 784))\n",
    "    test_p3 = np.zeros((n_test, 784))\n",
    "\n",
    "    test_p3[test_imgs >= test_q3] = test_imgs[test_imgs >= test_q3]\n",
    "    test_p2[(test_imgs >= test_q2) & (test_imgs < test_q3)] = test_imgs[(test_imgs >= test_q2) & (test_imgs < test_q3)]\n",
    "    test_p1[(test_imgs >= test_q1) & (test_imgs < test_q2)] = test_imgs[(test_imgs >= test_q1) & (test_imgs < test_q2)]\n",
    "    test_p0[(test_imgs >= test_q0) & (test_imgs < test_q1)] = test_imgs[(test_imgs >= test_q0) & (test_imgs < test_q1)]\n",
    "\n",
    "    test_predictors = np.zeros((n_test, 28*28*4))\n",
    "    test_outcomes = test_imgs\n",
    "    for i in range(n_test):\n",
    "        test_p0_i = test_p0[i, :].reshape((28, 28))\n",
    "        test_p1_i = test_p1[i, :].reshape((28, 28))\n",
    "        test_p2_i = test_p2[i, :].reshape((28, 28))\n",
    "        test_p3_i = test_p3[i, :].reshape((28, 28))\n",
    "        test_predictor_i = np.hstack((test_p0_i, test_p1_i, test_p2_i, test_p3_i))\n",
    "        test_predictors[i, :] = test_predictor_i.reshape(-1)\n",
    "\n",
    "    np.savetxt(\"train_predictors.txt\", train_predictors)\n",
    "    np.savetxt(\"test_predictors.txt\", test_predictors)\n",
    "    np.savetxt(\"train_outcomes.txt\", train_outcomes)\n",
    "    np.savetxt(\"test_outcomes.txt\", test_outcomes)\n",
    "    \n",
    "    # fit basis for predictors\n",
    "    grid_x = np.tile(np.arange(112), 28)\n",
    "    grid_y = np.repeat(np.arange(28), 112)\n",
    "    grid_x = (grid_x - 111 / 2) / (111 / 2)\n",
    "    grid_y = (grid_y - 27 / 2) / (27 / 2)\n",
    "    grids = np.vstack((grid_x, grid_y))\n",
    "    np.savetxt(\"x.txt\", grids)\n",
    "\n",
    "    X = grids.T\n",
    "    X = torch.tensor(X, dtype = torch.float32)\n",
    "    y = train_predictors\n",
    "    y = torch.tensor(y, dtype = torch.float32)\n",
    "\n",
    "    model = BFNN(d = 2, L = L, n = n_train, V = 28*28*4)\n",
    "    optimizer = torch.optim.Adam(model.parameters(), lr = 1e-3)\n",
    "    mse_criterion = torch.nn.MSELoss()\n",
    "    for epoch in range(10000):\n",
    "        yhat = model.forward(X)\n",
    "        loss = mse_criterion(yhat, y)\n",
    "        optimizer.zero_grad()\n",
    "        loss.backward()\n",
    "        optimizer.step()\n",
    "\n",
    "    np.savetxt(\"Psi_predictors.txt\", model.Psi.detach().numpy(), delimiter = \",\")\n",
    "    \n",
    "    #####################################################################\n",
    "    # fit basis for outcomes\n",
    "    grid_x = np.tile(np.arange(28), 28)\n",
    "    grid_y = np.repeat(np.arange(28), 28)\n",
    "    grid_x = (grid_x - 27 / 2) / (27 / 2)\n",
    "    grid_y = (grid_y - 27 / 2) / (27 / 2)\n",
    "    grids = np.vstack((grid_x, grid_y))\n",
    "\n",
    "    X = grids.T\n",
    "    X = torch.tensor(X, dtype = torch.float32)\n",
    "    y = train_outcomes\n",
    "    y = torch.tensor(y, dtype = torch.float32)\n",
    "    model = BFNN(d = 2, L = L, n = n_train, V = 28*28)\n",
    "    optimizer = torch.optim.Adam(model.parameters(), lr = 1e-3)\n",
    "    mse_criterion = torch.nn.MSELoss()\n",
    "    for epoch in range(10000):\n",
    "        optimizer.zero_grad()\n",
    "        yhat = model.forward(X)\n",
    "        loss = mse_criterion(yhat, y)\n",
    "        loss.backward()\n",
    "        optimizer.step()\n",
    "\n",
    "    np.savetxt(\"Psi_outcomes.txt\", model.Psi.detach().numpy(), delimiter = \",\")\n",
    "    \n",
    "    #####################################################################\n",
    "    # orthogolize basis and find basis coefficients\n",
    "    subprocess.call([\"/sw/arcts/centos7/stacks/gcc/8.2.0/R/4.0.3/bin/Rscript\", \"part2.R\", \"{}\".format(L)], stdout=subprocess.DEVNULL)\n",
    "    \n",
    "    #####################################################################\n",
    "    # load coefficients and orthogonalized basis\n",
    "    theta_train_predictors = np.loadtxt(\"theta_train_predictors.txt\")\n",
    "    theta_test_predictors = np.loadtxt(\"theta_test_predictors.txt\")\n",
    "    theta_train_outcomes = np.loadtxt(\"theta_train_outcomes.txt\")\n",
    "    theta_test_outcomes = np.loadtxt(\"theta_test_outcomes.txt\")\n",
    "    Psi_p = np.loadtxt(\"Psi_p.txt\")\n",
    "    Psi_o = np.loadtxt(\"Psi_o.txt\")\n",
    "    \n",
    "    #####################################################################\n",
    "    # model relationship of coefficients\n",
    "    svgd_nn = svgd.svgd_bnn(X_train = theta_train_predictors, \n",
    "                        y_train = theta_train_outcomes,\n",
    "                        a_gamma = 1, \n",
    "                        b_gamma = 1, \n",
    "                        a_lambda = 1, \n",
    "                        b_lambda = 1e2, \n",
    "                        batch_size = 64, \n",
    "                        epochs = 30)\n",
    "    svgd_nn.train()\n",
    "    \n",
    "    #####################################################################\n",
    "    # check prediction accuracy\n",
    "    theta_train_pred, _, _ = svgd_nn.predict(theta_train_predictors, 0.9)\n",
    "    theta_test_pred, _, _ = svgd_nn.predict(theta_test_predictors, 0.9)\n",
    "    train_pred = theta_train_pred @ Psi_o.T\n",
    "    test_pred = theta_test_pred @ Psi_o.T\n",
    "    train_pred = torch.tensor(train_pred, dtype = torch.float32).reshape((n_train, 1, 28, 28))\n",
    "    test_pred = torch.tensor(test_pred, dtype = torch.float32).reshape((n_test, 1, 28, 28))\n",
    "\n",
    "    #result_acc[exp, 0] = sum( (cnn(train_pred).detach().numpy().reshape(-1) > 0.5) == (train_outcomes_label == 1) ) / n_train\n",
    "    #result_acc[exp, 1] = sum( (cnn(test_pred).detach().numpy().reshape(-1) > 0.5) == (test_outcomes_label == 1) ) / n_test\n",
    "\n",
    "    result_mse[exp, 0] = np.mean((train_pred.detach().numpy().reshape((n_train, 784)) - train_outcomes)**2)\n",
    "    result_mse[exp, 1] = np.mean((test_pred.detach().numpy().reshape((n_test, 784)) - test_outcomes)**2)\n",
    "    #####################################################################\n",
    "    # use cnn pipeline to predict outcomes from predictors directly\n",
    "    cnn_fb = CNN_FB()\n",
    "    cnn_train_predictors = torch.tensor(train_predictors, dtype = torch.float32).reshape((n_train, 1, 28, 112))\n",
    "    cnn_train_outcomes = torch.tensor(train_outcomes, dtype = torch.float32).reshape((n_train, 784))\n",
    "    cnn_fb_loss = nn.functional.mse_loss\n",
    "    cnn_fb_optim = torch.optim.Adam(cnn_fb.parameters(), lr = 1e-3)\n",
    "\n",
    "    cnn_fb_dataset = Dataset(cnn_train_predictors, cnn_train_outcomes)\n",
    "    cnn_fb_dataloader = torch.utils.data.DataLoader(cnn_fb_dataset, batch_size = 64, shuffle = True)\n",
    "\n",
    "    num_epochs = 50\n",
    "    cnn_fb.train()\n",
    "    for epoch in range(num_epochs):\n",
    "        for (idx, (X_batch, y_batch)) in enumerate(cnn_fb_dataloader):\n",
    "            output = cnn_fb(X_batch)             \n",
    "            loss = cnn_fb_loss(output, y_batch)\n",
    "\n",
    "            cnn_fb_optim .zero_grad()           \n",
    "            loss.backward()            \n",
    "            cnn_fb_optim .step()                \n",
    "\n",
    "    cnn_train_pred = cnn_fb(cnn_train_predictors).reshape((n_train, 1, 28, 28))\n",
    "    cnn_test_pred = cnn_fb(torch.tensor(test_predictors, dtype = torch.float32).reshape((n_test, 1, 28, 112))).reshape((n_test, 1, 28, 28))\n",
    "\n",
    "    #result_acc[exp, 2] = sum( (cnn(cnn_train_pred).detach().numpy().reshape(-1) > 0.5) == (train_outcomes_label == 1) ) / n_train\n",
    "    #result_acc[exp, 3] = sum( (cnn(cnn_test_pred).detach().numpy().reshape(-1) > 0.5) == (test_outcomes_label == 1) ) / n_test\n",
    "\n",
    "    result_mse[exp, 2] = np.mean((cnn_train_pred.detach().numpy().reshape((n_train, 784)) - train_outcomes)**2)\n",
    "    result_mse[exp, 3] = np.mean((cnn_test_pred.detach().numpy().reshape((n_test, 784)) - test_outcomes)**2)\n",
    "    print(exp, result_acc[exp, :], result_mse[exp, :])\n",
    "\n",
    "#np.savetxt(\"result_mse.txt\", result_mse)\n",
    "#np.savetxt(\"result_acc.txt\", result_acc)"
   ]
  },
  {
   "cell_type": "markdown",
   "id": "e2e29d8f-0e84-4b7f-a4dd-89d75160cf9f",
   "metadata": {},
   "source": [
    "### check MSE for each class of images"
   ]
  },
  {
   "cell_type": "code",
   "execution_count": 7,
   "id": "61fc89fe-74c3-4bab-8d97-994c9783caf5",
   "metadata": {},
   "outputs": [],
   "source": [
    "name_list = [\"T-shirt/top\", \"Trouser\", \"Pullover\", \"Dress\", \"Coat\", \n",
    "             \"Sandal\", \"Shirt\", \"Sneaker\", \"Bag\", \"Ankle boot\"]\n",
    "mse_by_class = np.zeros((10, 2))\n",
    "for lb in range(10):\n",
    "    mse_by_class[lb, 0] = sum(train_lbs == lb)\n",
    "    mse_by_class[lb, 1] = np.mean((train_pred.detach().numpy().reshape((n_train, 784))[train_lbs == lb, :] - train_outcomes[train_lbs == lb, :])**2)"
   ]
  },
  {
   "cell_type": "code",
   "execution_count": 8,
   "id": "aaf6d227-457c-4c61-b449-042b8a8e117e",
   "metadata": {},
   "outputs": [
    {
     "data": {
      "text/plain": [
       "array([ 89., 108., 110., 110.,  96., 105.,  92.,  81., 105., 104.])"
      ]
     },
     "execution_count": 8,
     "metadata": {},
     "output_type": "execute_result"
    }
   ],
   "source": [
    "mse_by_class[:, 0]"
   ]
  },
  {
   "cell_type": "code",
   "execution_count": 9,
   "id": "f8148cb2-3ece-4550-b56e-838857678105",
   "metadata": {},
   "outputs": [
    {
     "data": {
      "text/plain": [
       "array([0.02184454, 0.01963511, 0.02002398, 0.02438258, 0.02331437,\n",
       "       0.03218134, 0.02139003, 0.02216755, 0.03388098, 0.03138208])"
      ]
     },
     "execution_count": 9,
     "metadata": {},
     "output_type": "execute_result"
    }
   ],
   "source": [
    "mse_by_class[:, 1]"
   ]
  },
  {
   "cell_type": "code",
   "execution_count": 10,
   "id": "4330cc52-9bd0-4e53-b4c5-8376761ff8fa",
   "metadata": {},
   "outputs": [],
   "source": [
    "for lb in range(10):\n",
    "    mse_by_class[lb, 0] = sum(test_lbs == lb)\n",
    "    mse_by_class[lb, 1] = np.mean((test_pred.detach().numpy().reshape((n_train, 784))[test_lbs == lb, :] - test_outcomes[test_lbs == lb, :])**2)"
   ]
  },
  {
   "cell_type": "code",
   "execution_count": 11,
   "id": "b1bb37e1-5d3a-4e9d-b4b5-7bcdfe71f864",
   "metadata": {},
   "outputs": [
    {
     "data": {
      "text/plain": [
       "array([ 88., 101., 108., 103., 106., 105., 104., 104., 101.,  80.])"
      ]
     },
     "execution_count": 11,
     "metadata": {},
     "output_type": "execute_result"
    }
   ],
   "source": [
    "mse_by_class[:, 0]"
   ]
  },
  {
   "cell_type": "code",
   "execution_count": 12,
   "id": "9a3b9b1c-d2d8-40cd-ae10-ee8167176596",
   "metadata": {},
   "outputs": [
    {
     "data": {
      "text/plain": [
       "array([0.02484377, 0.02255228, 0.02515978, 0.02781031, 0.02771048,\n",
       "       0.03447405, 0.02301474, 0.02216414, 0.04201966, 0.03466709])"
      ]
     },
     "execution_count": 12,
     "metadata": {},
     "output_type": "execute_result"
    }
   ],
   "source": [
    "mse_by_class[:, 1]"
   ]
  },
  {
   "cell_type": "markdown",
   "id": "b7fecd1e-aadc-4b17-9d69-6cfc16c4b9de",
   "metadata": {},
   "source": [
    "### plot in manuscript"
   ]
  },
  {
   "cell_type": "code",
   "execution_count": 161,
   "id": "a68121a6-4422-45d4-afe0-c52094a8ff73",
   "metadata": {},
   "outputs": [
    {
     "data": {
      "image/png": "[encoded data removed]",
      "text/plain": [
       "<Figure size 864x1296 with 6 Axes>"
      ]
     },
     "metadata": {},
     "output_type": "display_data"
    }
   ],
   "source": [
    "i1, i2, i3, i4, i5, i6 = 14, 30, 35, 37, 0, 132\n",
    "fg, ax = plt.subplots(6, 1, figsize = (12, 18))\n",
    "ax[0].matshow(test_predictors[i1, :].reshape((28, 112)), cmap = \"gray\")\n",
    "ax[1].matshow(test_predictors[i2, :].reshape((28, 112)), cmap = \"gray\")\n",
    "ax[2].matshow(test_predictors[i3, :].reshape((28, 112)), cmap = \"gray\")\n",
    "ax[3].matshow(test_predictors[i4, :].reshape((28, 112)), cmap = \"gray\")\n",
    "ax[4].matshow(test_predictors[i5, :].reshape((28, 112)), cmap = \"gray\")\n",
    "ax[5].matshow(test_predictors[i6, :].reshape((28, 112)), cmap = \"gray\")\n",
    "\n",
    "for i in range(6):\n",
    "    ax[i].set_xticks([])\n",
    "    ax[i].set_yticks([])\n",
    "\n",
    "plt.tight_layout()\n",
    "plt.savefig(\"fmnist_p.png\")\n",
    "plt.show()"
   ]
  },
  {
   "cell_type": "code",
   "execution_count": 160,
   "id": "53bdc389-d9bc-4cf3-b99a-211635f545b8",
   "metadata": {},
   "outputs": [
    {
     "data": {
      "image/png": "[encoded data removed]",
      "text/plain": [
       "<Figure size 648x1296 with 18 Axes>"
      ]
     },
     "metadata": {},
     "output_type": "display_data"
    }
   ],
   "source": [
    "i1, i2, i3, i4, i5, i6 = 14, 30, 35, 37, 0, 132\n",
    "fg, ax = plt.subplots(6, 3, figsize = (9, 18))\n",
    "ax[0, 0].matshow(test_outcomes[i1, :].reshape(28, 28), cmap = \"gray\", vmin = 0, vmax = 1)\n",
    "ax[0, 1].matshow(test_pred[i1, :].detach().numpy().reshape((28, 28)), cmap = \"gray\", vmin = 0, vmax = 1)\n",
    "ax[0, 2].matshow(cnn_test_pred[i1, :].detach().numpy().reshape((28, 28)), cmap = \"gray\", vmin = 0, vmax = 1)\n",
    "\n",
    "ax[1, 0].matshow(test_outcomes[i2, :].reshape(28, 28), cmap = \"gray\", vmin = 0, vmax = 1)\n",
    "ax[1, 1].matshow(test_pred[i2, :].detach().numpy().reshape((28, 28)), cmap = \"gray\", vmin = 0, vmax = 1)\n",
    "ax[1, 2].matshow(cnn_test_pred[i2, :].detach().numpy().reshape((28, 28)), cmap = \"gray\", vmin = 0, vmax = 1)\n",
    "\n",
    "ax[2, 0].matshow(test_outcomes[i3, :].reshape(28, 28), cmap = \"gray\", vmin = 0, vmax = 1)\n",
    "ax[2, 1].matshow(test_pred[i3, :].detach().numpy().reshape((28, 28)), cmap = \"gray\", vmin = 0, vmax = 1)\n",
    "ax[2, 2].matshow(cnn_test_pred[i3, :].detach().numpy().reshape((28, 28)), cmap = \"gray\", vmin = 0, vmax = 1)\n",
    "\n",
    "ax[3, 0].matshow(test_outcomes[i4, :].reshape(28, 28), cmap = \"gray\", vmin = 0, vmax = 1)\n",
    "ax[3, 1].matshow(test_pred[i4, :].detach().numpy().reshape((28, 28)), cmap = \"gray\", vmin = 0, vmax = 1)\n",
    "ax[3, 2].matshow(cnn_test_pred[i4, :].detach().numpy().reshape((28, 28)), cmap = \"gray\", vmin = 0, vmax = 1)\n",
    "\n",
    "ax[4, 0].matshow(test_outcomes[i5, :].reshape(28, 28), cmap = \"gray\", vmin = 0, vmax = 1)\n",
    "ax[4, 1].matshow(test_pred[i5, :].detach().numpy().reshape((28, 28)), cmap = \"gray\", vmin = 0, vmax = 1)\n",
    "ax[4, 2].matshow(cnn_test_pred[i5, :].detach().numpy().reshape((28, 28)), cmap = \"gray\", vmin = 0, vmax = 1)\n",
    "\n",
    "ax[5, 0].matshow(test_outcomes[i6, :].reshape(28, 28), cmap = \"gray\", vmin = 0, vmax = 1)\n",
    "ax[5, 1].matshow(test_pred[i6, :].detach().numpy().reshape((28, 28)), cmap = \"gray\", vmin = 0, vmax = 1)\n",
    "ax[5, 2].matshow(cnn_test_pred[i6, :].detach().numpy().reshape((28, 28)), cmap = \"gray\", vmin = 0, vmax = 1)\n",
    "\n",
    "for i in range(6):\n",
    "    for j in range(3):\n",
    "        ax[i, j].set_xticks([])\n",
    "        ax[i, j].set_yticks([])\n",
    "\n",
    "plt.tight_layout()\n",
    "plt.savefig(\"fmnist_o.png\")\n",
    "plt.show()"
   ]
  },
  {
   "cell_type": "code",
   "execution_count": 148,
   "id": "bdc0feba-efbe-411a-8297-81eb724a4a9d",
   "metadata": {},
   "outputs": [
    {
     "data": {
      "text/plain": [
       "<matplotlib.image.AxesImage at 0x2b12d2f5ff10>"
      ]
     },
     "execution_count": 148,
     "metadata": {},
     "output_type": "execute_result"
    },
    {
     "data": {
      "image/png": "[encoded data removed]",
      "text/plain": [
       "<Figure size 288x288 with 1 Axes>"
      ]
     },
     "metadata": {
      "needs_background": "light"
     },
     "output_type": "display_data"
    }
   ],
   "source": [
    "plt.matshow(test_outcomes[132, :].reshape(28, 28), cmap = \"gray\")"
   ]
  }
 ],
 "metadata": {
  "kernelspec": {
   "display_name": "Python 3 (ipykernel)",
   "language": "python",
   "name": "python3"
  },
  "language_info": {
   "codemirror_mode": {
    "name": "ipython",
    "version": 3
   },
   "file_extension": ".py",
   "mimetype": "text/x-python",
   "name": "python",
   "nbconvert_exporter": "python",
   "pygments_lexer": "ipython3",
   "version": "3.9.12"
  }
 },
 "nbformat": 4,
 "nbformat_minor": 5
}
