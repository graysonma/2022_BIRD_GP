{
 "cells": [
  {
   "cell_type": "code",
   "execution_count": 1,
   "id": "3fc3b1d6-9e73-41b9-b47f-0ee306f3925f",
   "metadata": {},
   "outputs": [],
   "source": [
    "import sys\n",
    "sys.path.append(\"../birdgp\")\n",
    "\n",
    "import numpy as np\n",
    "import matplotlib.pyplot as plt\n",
    "import math\n",
    "import bird_gp\n",
    "import random\n",
    "import torch\n",
    "import mnist\n",
    "from sklearn.gaussian_process.kernels import Matern\n",
    "%matplotlib inline\n",
    "# mnist.init()\n",
    "\n",
    "def generate_sign(n = 2000, size = 28, length_min = 13, length_max = 20, width_min = 3, width_max = 5):\n",
    "    center = math.floor(size / 2)\n",
    "    sign = np.random.choice((-1, 1), size = n)\n",
    "    length = np.random.choice(np.arange(length_min, length_max + 1), size = n)\n",
    "    width = np.random.choice(np.arange(width_min, width_max + 1), size = n)\n",
    "    start = np.random.choice(np.arange(4, size - length_max - 1), size = n) - center\n",
    "    x = np.tile(np.arange(size), size) - center\n",
    "    y = np.repeat(np.arange(size), size) - center\n",
    "    \n",
    "    sign_img = np.zeros((n, size**2))\n",
    "    for i in range(n):\n",
    "        sign_i = sign[i]\n",
    "        length_i = length[i]\n",
    "        width_i = width[i]\n",
    "        start_i = start[i]\n",
    "        minus_i = ((x >= start_i) &\n",
    "                   (x <= start_i + length_i) &\n",
    "                   (y >= - math.floor(width_i / 2)) &\n",
    "                   (y <= - math.floor(width_i / 2) + width_i))\n",
    "        if sign_i == -1:\n",
    "            sign_img[i, :] = minus_i * 1\n",
    "        else:\n",
    "            mid_i = (length_i + 2 * start_i) / 2\n",
    "            minus_i_2 = ((x >= math.floor(mid_i - width_i / 2)) &\n",
    "                         (x <= math.floor(mid_i + width_i / 2)) &\n",
    "                         (y >= -math.floor(length_i / 2)) &\n",
    "                         (y <= -math.floor(length_i / 2) + length_i))\n",
    "            sign_img[i, :] = (minus_i | minus_i_2) * 1\n",
    "    \n",
    "    sign_img[sign_img > 0] = 0.9 * sign_img[sign_img > 0] + np.random.normal(scale = 0.05, size = np.sum(sign_img > 0))\n",
    "    return sign_img, sign\n",
    "\n",
    "class Dataset(torch.utils.data.Dataset):\n",
    "    def __init__(self, predictors, labels):\n",
    "        self.labels = labels\n",
    "        self.predictors = predictors\n",
    "\n",
    "    def __len__(self):\n",
    "        return self.labels.shape[0]\n",
    "\n",
    "    def __getitem__(self, index):\n",
    "        X = self.predictors[index, :]\n",
    "        y = self.labels[index, :]\n",
    "\n",
    "        return X, y\n",
    "    \n",
    "\n",
    "import torch.nn as nn\n",
    "\n",
    "class CNN(nn.Module):\n",
    "    def __init__(self):\n",
    "        super(CNN, self).__init__()\n",
    "        self.conv1 = nn.Sequential(         \n",
    "            nn.Conv2d(\n",
    "                in_channels=1,              \n",
    "                out_channels=16,            \n",
    "                kernel_size=5,              \n",
    "                stride=1,                   \n",
    "                padding=2,                  \n",
    "            ),                              \n",
    "            nn.ReLU(),                      \n",
    "            nn.MaxPool2d(kernel_size=2),    \n",
    "        )\n",
    "        self.conv2 = nn.Sequential(         \n",
    "            nn.Conv2d(16, 32, 5, 1, 2),     \n",
    "            nn.ReLU(),                      \n",
    "            nn.MaxPool2d(2),                \n",
    "        )\n",
    "        # fully connected layer, output 10 classes\n",
    "        self.linear = nn.Linear(32 * 7 * 7, 1)\n",
    "        self.sigmoid = nn.Sigmoid()\n",
    "        \n",
    "    def forward(self, x):\n",
    "        x = self.conv1(x)\n",
    "        x = self.conv2(x)\n",
    "        # flatten the output of conv2 to (batch_size, 32 * 7 * 7)\n",
    "        x = x.view(x.size(0), -1)       \n",
    "        x = self.linear(x)\n",
    "        x = self.sigmoid(x)\n",
    "        return x"
   ]
  },
  {
   "cell_type": "code",
   "execution_count": 2,
   "id": "83b1b296-6c9d-4f80-99df-d97f4935c85b",
   "metadata": {},
   "outputs": [],
   "source": [
    "train_img, train_label, test_img, test_label = mnist.load()\n",
    "train_img = train_img / 255\n",
    "test_img = test_img / 255"
   ]
  },
  {
   "cell_type": "code",
   "execution_count": null,
   "id": "31f8e68d-96bd-4e94-8c48-472fe76b1360",
   "metadata": {
    "collapsed": true,
    "jupyter": {
     "outputs_hidden": true
    },
    "tags": []
   },
   "outputs": [
    {
     "name": "stdout",
     "output_type": "stream",
     "text": [
      "fit basis coefficients for predictors ...\n"
     ]
    },
    {
     "name": "stderr",
     "output_type": "stream",
     "text": [
      "100%|██████████| 1000/1000 [04:30<00:00,  3.70it/s]\n"
     ]
    },
    {
     "name": "stdout",
     "output_type": "stream",
     "text": [
      "fit basis coefficients for outcomes ...\n"
     ]
    },
    {
     "name": "stderr",
     "output_type": "stream",
     "text": [
      "100%|██████████| 1000/1000 [04:26<00:00,  3.75it/s]\n"
     ]
    },
    {
     "name": "stdout",
     "output_type": "stream",
     "text": [
      "stein variation gradient descent ...\n",
      "epoch: 1 / 30, training rmse: 0.7662, training r2: 0.3422\n",
      "epoch: 2 / 30, training rmse: 0.656, training r2: 0.5178\n",
      "epoch: 3 / 30, training rmse: 0.6092, training r2: 0.5842\n",
      "epoch: 4 / 30, training rmse: 0.5935, training r2: 0.6053\n",
      "epoch: 5 / 30, training rmse: 0.5866, training r2: 0.6145\n",
      "epoch: 6 / 30, training rmse: 0.5823, training r2: 0.62\n",
      "epoch: 7 / 30, training rmse: 0.579, training r2: 0.6244\n",
      "epoch: 8 / 30, training rmse: 0.5766, training r2: 0.6274\n",
      "epoch: 9 / 30, training rmse: 0.5746, training r2: 0.6301\n",
      "epoch: 10 / 30, training rmse: 0.5729, training r2: 0.6323\n",
      "epoch: 11 / 30, training rmse: 0.5713, training r2: 0.6343\n",
      "epoch: 12 / 30, training rmse: 0.5689, training r2: 0.6374\n",
      "epoch: 13 / 30, training rmse: 0.5684, training r2: 0.6381\n",
      "epoch: 14 / 30, training rmse: 0.5661, training r2: 0.6409\n",
      "epoch: 15 / 30, training rmse: 0.5652, training r2: 0.642\n",
      "epoch: 16 / 30, training rmse: 0.5629, training r2: 0.645\n",
      "epoch: 17 / 30, training rmse: 0.5622, training r2: 0.6459\n",
      "epoch: 18 / 30, training rmse: 0.5605, training r2: 0.648\n",
      "epoch: 19 / 30, training rmse: 0.5596, training r2: 0.6491\n",
      "epoch: 20 / 30, training rmse: 0.557, training r2: 0.6524\n",
      "epoch: 21 / 30, training rmse: 0.5568, training r2: 0.6526\n",
      "epoch: 22 / 30, training rmse: 0.5554, training r2: 0.6544\n",
      "epoch: 23 / 30, training rmse: 0.5536, training r2: 0.6566\n",
      "epoch: 24 / 30, training rmse: 0.5521, training r2: 0.6585\n",
      "epoch: 25 / 30, training rmse: 0.5511, training r2: 0.6598\n",
      "epoch: 26 / 30, training rmse: 0.5497, training r2: 0.6615\n",
      "epoch: 27 / 30, training rmse: 0.5479, training r2: 0.6636\n",
      "epoch: 28 / 30, training rmse: 0.5468, training r2: 0.665\n",
      "epoch: 29 / 30, training rmse: 0.5456, training r2: 0.6665\n",
      "epoch: 30 / 30, training rmse: 0.5438, training r2: 0.6687\n"
     ]
    },
    {
     "data": {
      "image/png": "[encoded data removed]",
      "text/plain": [
       "<Figure size 432x288 with 1 Axes>"
      ]
     },
     "metadata": {
      "needs_background": "light"
     },
     "output_type": "display_data"
    },
    {
     "name": "stderr",
     "output_type": "stream",
     "text": [
      "100%|██████████| 1000/1000 [04:30<00:00,  3.70it/s]\n"
     ]
    },
    {
     "name": "stdout",
     "output_type": "stream",
     "text": [
      "fit basis coefficients for predictors ...\n"
     ]
    },
    {
     "name": "stderr",
     "output_type": "stream",
     "text": [
      "100%|██████████| 1000/1000 [04:28<00:00,  3.72it/s]\n"
     ]
    },
    {
     "name": "stdout",
     "output_type": "stream",
     "text": [
      "fit basis coefficients for outcomes ...\n"
     ]
    },
    {
     "name": "stderr",
     "output_type": "stream",
     "text": [
      "100%|██████████| 1000/1000 [04:27<00:00,  3.74it/s]\n"
     ]
    },
    {
     "name": "stdout",
     "output_type": "stream",
     "text": [
      "stein variation gradient descent ...\n",
      "epoch: 1 / 30, training rmse: 0.774, training r2: 0.3356\n",
      "epoch: 2 / 30, training rmse: 0.6626, training r2: 0.5131\n",
      "epoch: 3 / 30, training rmse: 0.6135, training r2: 0.5827\n",
      "epoch: 4 / 30, training rmse: 0.5979, training r2: 0.6035\n",
      "epoch: 5 / 30, training rmse: 0.5906, training r2: 0.6132\n",
      "epoch: 6 / 30, training rmse: 0.587, training r2: 0.6178\n",
      "epoch: 7 / 30, training rmse: 0.5847, training r2: 0.6208\n",
      "epoch: 8 / 30, training rmse: 0.5815, training r2: 0.625\n",
      "epoch: 9 / 30, training rmse: 0.5799, training r2: 0.627\n",
      "epoch: 10 / 30, training rmse: 0.5769, training r2: 0.6309\n",
      "epoch: 11 / 30, training rmse: 0.5754, training r2: 0.6328\n",
      "epoch: 12 / 30, training rmse: 0.5742, training r2: 0.6344\n",
      "epoch: 13 / 30, training rmse: 0.5725, training r2: 0.6366\n",
      "epoch: 14 / 30, training rmse: 0.5708, training r2: 0.6386\n",
      "epoch: 15 / 30, training rmse: 0.5697, training r2: 0.64\n",
      "epoch: 16 / 30, training rmse: 0.568, training r2: 0.6422\n",
      "epoch: 17 / 30, training rmse: 0.5669, training r2: 0.6436\n",
      "epoch: 18 / 30, training rmse: 0.5659, training r2: 0.6449\n",
      "epoch: 19 / 30, training rmse: 0.5649, training r2: 0.6461\n",
      "epoch: 20 / 30, training rmse: 0.5635, training r2: 0.6479\n",
      "epoch: 21 / 30, training rmse: 0.5618, training r2: 0.65\n",
      "epoch: 22 / 30, training rmse: 0.5603, training r2: 0.6518\n",
      "epoch: 23 / 30, training rmse: 0.5592, training r2: 0.6533\n",
      "epoch: 24 / 30, training rmse: 0.5579, training r2: 0.6549\n",
      "epoch: 25 / 30, training rmse: 0.5565, training r2: 0.6566\n",
      "epoch: 26 / 30, training rmse: 0.5549, training r2: 0.6585\n",
      "epoch: 27 / 30, training rmse: 0.5543, training r2: 0.6592\n",
      "epoch: 28 / 30, training rmse: 0.5521, training r2: 0.662\n",
      "epoch: 29 / 30, training rmse: 0.5513, training r2: 0.6629\n",
      "epoch: 30 / 30, training rmse: 0.551, training r2: 0.6633\n"
     ]
    },
    {
     "data": {
      "image/png": "[encoded data removed]",
      "text/plain": [
       "<Figure size 432x288 with 1 Axes>"
      ]
     },
     "metadata": {
      "needs_background": "light"
     },
     "output_type": "display_data"
    },
    {
     "name": "stderr",
     "output_type": "stream",
     "text": [
      "100%|██████████| 1000/1000 [04:29<00:00,  3.72it/s]\n"
     ]
    },
    {
     "name": "stdout",
     "output_type": "stream",
     "text": [
      "fit basis coefficients for predictors ...\n"
     ]
    },
    {
     "name": "stderr",
     "output_type": "stream",
     "text": [
      "100%|██████████| 1000/1000 [04:29<00:00,  3.71it/s]\n"
     ]
    },
    {
     "name": "stdout",
     "output_type": "stream",
     "text": [
      "fit basis coefficients for outcomes ...\n"
     ]
    },
    {
     "name": "stderr",
     "output_type": "stream",
     "text": [
      "100%|██████████| 1000/1000 [04:29<00:00,  3.71it/s]\n"
     ]
    },
    {
     "name": "stdout",
     "output_type": "stream",
     "text": [
      "stein variation gradient descent ...\n",
      "epoch: 1 / 30, training rmse: 0.7704, training r2: 0.3514\n",
      "epoch: 2 / 30, training rmse: 0.6566, training r2: 0.5289\n",
      "epoch: 3 / 30, training rmse: 0.6084, training r2: 0.5955\n",
      "epoch: 4 / 30, training rmse: 0.593, training r2: 0.6157\n",
      "epoch: 5 / 30, training rmse: 0.5881, training r2: 0.6221\n",
      "epoch: 6 / 30, training rmse: 0.5836, training r2: 0.6278\n",
      "epoch: 7 / 30, training rmse: 0.5813, training r2: 0.6307\n",
      "epoch: 8 / 30, training rmse: 0.5783, training r2: 0.6346\n",
      "epoch: 9 / 30, training rmse: 0.5761, training r2: 0.6373\n",
      "epoch: 10 / 30, training rmse: 0.5742, training r2: 0.6397\n",
      "epoch: 11 / 30, training rmse: 0.5729, training r2: 0.6414\n",
      "epoch: 12 / 30, training rmse: 0.5716, training r2: 0.643\n",
      "epoch: 13 / 30, training rmse: 0.5694, training r2: 0.6457\n",
      "epoch: 14 / 30, training rmse: 0.5679, training r2: 0.6476\n",
      "epoch: 15 / 30, training rmse: 0.5665, training r2: 0.6493\n",
      "epoch: 16 / 30, training rmse: 0.5654, training r2: 0.6506\n",
      "epoch: 17 / 30, training rmse: 0.5644, training r2: 0.6518\n",
      "epoch: 18 / 30, training rmse: 0.5626, training r2: 0.6541\n",
      "epoch: 19 / 30, training rmse: 0.5612, training r2: 0.6558\n",
      "epoch: 20 / 30, training rmse: 0.5604, training r2: 0.6568\n",
      "epoch: 21 / 30, training rmse: 0.5586, training r2: 0.659\n",
      "epoch: 22 / 30, training rmse: 0.557, training r2: 0.661\n",
      "epoch: 23 / 30, training rmse: 0.5559, training r2: 0.6622\n",
      "epoch: 24 / 30, training rmse: 0.5541, training r2: 0.6645\n",
      "epoch: 25 / 30, training rmse: 0.5536, training r2: 0.6651\n",
      "epoch: 26 / 30, training rmse: 0.5526, training r2: 0.6663\n",
      "epoch: 27 / 30, training rmse: 0.5509, training r2: 0.6683\n",
      "epoch: 28 / 30, training rmse: 0.5492, training r2: 0.6704\n",
      "epoch: 29 / 30, training rmse: 0.5474, training r2: 0.6726\n",
      "epoch: 30 / 30, training rmse: 0.5462, training r2: 0.674\n"
     ]
    },
    {
     "data": {
      "image/png": "[encoded data removed]",
      "text/plain": [
       "<Figure size 432x288 with 1 Axes>"
      ]
     },
     "metadata": {
      "needs_background": "light"
     },
     "output_type": "display_data"
    },
    {
     "name": "stderr",
     "output_type": "stream",
     "text": [
      " 46%|████▌     | 462/1000 [02:07<02:28,  3.63it/s]"
     ]
    }
   ],
   "source": [
    "train_label_1_idx = np.where(train_label == 1)[0]\n",
    "train_label_2_idx = np.where(train_label == 2)[0]\n",
    "train_label_3_idx = np.where(train_label == 3)[0]\n",
    "test_label_1_idx = np.where(test_label == 1)[0]\n",
    "test_label_2_idx = np.where(test_label == 2)[0]\n",
    "test_label_3_idx = np.where(test_label == 3)[0]\n",
    "\n",
    "n = 2000\n",
    "n_train = 1000\n",
    "n_test = 1000\n",
    "\n",
    "num_exp = 50\n",
    "result_acc = np.zeros((num_exp, 2))\n",
    "L = 50\n",
    "for exp in range(num_exp):\n",
    "    random.seed(exp)\n",
    "    torch.manual_seed(exp)\n",
    "    np.random.seed(exp)\n",
    "    #####################################################################\n",
    "    # generate images\n",
    "    sign_img, sign = generate_sign(n = n)\n",
    "    train_sign = sign[0:n_train]\n",
    "    train_sign_img = sign_img[0:n_train, :]\n",
    "    test_sign = sign[n_train:n]\n",
    "    test_sign_img = sign_img[n_train:n, :]\n",
    "    train_1s = train_img[np.random.choice(train_label_1_idx, size = n_train, replace = False), :]\n",
    "    train_2s = train_img[np.random.choice(train_label_2_idx, size = n_train, replace = False), :]\n",
    "    test_1s = test_img[np.random.choice(test_label_1_idx, size = n_train, replace = False), :]\n",
    "    test_2s = test_img[np.random.choice(test_label_2_idx, size = n_train, replace = False), :]\n",
    "\n",
    "    train_predictors = np.zeros((n_train, 28*28*3))\n",
    "    train_outcomes = np.zeros((n_train, 28*28))\n",
    "    test_predictors = np.zeros((n_test, 28*28*3))\n",
    "    test_outcomes = np.zeros((n_test, 28*28))\n",
    "    train_outcomes_label = np.zeros(n_train)\n",
    "    test_outcomes_label = np.zeros(n_test)\n",
    "    for i in range(n_train):\n",
    "        train_1_i = train_1s[i, :].reshape((28, 28))\n",
    "        train_2_i = train_2s[i, :].reshape((28, 28))\n",
    "        train_sign_i = train_sign[i]\n",
    "        train_sign_img_i = train_sign_img[i, :].reshape((28, 28))\n",
    "        train_predictor_i = np.hstack((train_2_i, train_sign_img_i, train_1_i))\n",
    "        if train_sign_i == -1:\n",
    "            label_img_i = train_img[np.random.choice(train_label_1_idx, size = 1, replace = False), :]\n",
    "            train_outcomes_label[i] = 1\n",
    "        else:\n",
    "            label_img_i = train_img[np.random.choice(train_label_3_idx, size = 1, replace = False), :]\n",
    "            train_outcomes_label[i] = 3\n",
    "        train_predictors[i, :] = train_predictor_i.reshape(-1)\n",
    "        train_outcomes[i, :] = label_img_i\n",
    "\n",
    "    for i in range(n_test):\n",
    "        test_1_i = test_1s[i, :].reshape((28, 28))\n",
    "        test_2_i = test_2s[i, :].reshape((28, 28))\n",
    "        test_sign_i = test_sign[i]\n",
    "        test_sign_img_i = test_sign_img[i, :].reshape((28, 28))\n",
    "        test_predictor_i = np.hstack((test_2_i, test_sign_img_i, test_1_i))\n",
    "        if test_sign_i == -1:\n",
    "            label_img_i = test_img[np.random.choice(test_label_1_idx, size = 1, replace = False), :]\n",
    "            test_outcomes_label[i] = 1\n",
    "        else:\n",
    "            label_img_i = test_img[np.random.choice(test_label_3_idx, size = 1, replace = False), :]\n",
    "            test_outcomes_label[i] = 3\n",
    "        test_predictors[i, :] = test_predictor_i.reshape(-1)\n",
    "        test_outcomes[i, :] = label_img_i\n",
    "    \n",
    "    #####################################################################\n",
    "    # train cnn mnist classifier\n",
    "    cnn = CNN()\n",
    "    cnn_optimizer = torch.optim.Adam(cnn.parameters(), lr = 0.001)\n",
    "    cnn_loss = nn.functional.binary_cross_entropy\n",
    "\n",
    "    cnnX = torch.tensor(train_outcomes, dtype = torch.float32).reshape((n_train, 1, 28, 28))\n",
    "    cnny = torch.tensor(train_outcomes_label, dtype = torch.float32).reshape((n_train, 1))\n",
    "    cnny[cnny == 1] = 0\n",
    "    cnny[cnny == 3] = 1\n",
    "\n",
    "    cnn_dataset = Dataset(cnnX, cnny)\n",
    "    cnn_dataloader = torch.utils.data.DataLoader(cnn_dataset, batch_size = 64, shuffle = True)\n",
    "    \n",
    "    num_epochs = 100\n",
    "    cnn.train()\n",
    "    for epoch in range(num_epochs):\n",
    "        for (idx, (X_batch, y_batch)) in enumerate(cnn_dataloader):\n",
    "            output = cnn(X_batch)             \n",
    "            loss = cnn_loss(output, y_batch)\n",
    "\n",
    "            # clear gradients for this training step   \n",
    "            cnn_optimizer.zero_grad()           \n",
    "\n",
    "            # backpropagation, compute gradients \n",
    "            loss.backward()    \n",
    "            # apply gradients             \n",
    "            cnn_optimizer.step()      \n",
    "    \n",
    "    ###########################################################################################\n",
    "    predictor_grids = bird_gp.generate_grids([28, 84])\n",
    "    outcome_grids = bird_gp.generate_grids([28, 28])\n",
    "\n",
    "    length_scale = 0.05\n",
    "    nu = 1.5\n",
    "    K_predictor = Matern(length_scale = length_scale, nu = nu)(predictor_grids)\n",
    "    K_outcome = Matern(length_scale = length_scale, nu = nu)(outcome_grids)\n",
    "    v_predictors, Psi_predictors = np.linalg.eig(K_predictor)\n",
    "    v_outcomes, Psi_outcomes = np.linalg.eig(K_outcome)\n",
    "    \n",
    "    Psi_predictors = np.real(Psi_predictors[:, 0:50])\n",
    "    Psi_outcomes = np.real(Psi_outcomes[:, 0:50])\n",
    "    \n",
    "    birdgp = bird_gp.BIRD_GP(predictor_grids = predictor_grids,\n",
    "                             outcome_grids = outcome_grids,\n",
    "                             predictor_L = 50,\n",
    "                             outcome_L = 50,\n",
    "                             svgd_b_lambda = 1, \n",
    "                             bf_predictor_steps = 10000,\n",
    "                             bf_outcome_steps = 10000\n",
    "                             )\n",
    "    birdgp.fit(train_predictors, train_outcomes, Psi_predictors, Psi_outcomes)\n",
    "\n",
    "    train_pred = birdgp.predict_train()\n",
    "    test_pred = birdgp.predict_test(test_predictors)\n",
    "    \n",
    "    #####################################################################\n",
    "    # check prediction accuracy\n",
    "    train_pred = torch.tensor(train_pred, dtype = torch.float32).reshape((n_train, 1, 28, 28))\n",
    "    test_pred = torch.tensor(test_pred, dtype = torch.float32).reshape((n_test, 1, 28, 28))\n",
    "\n",
    "    result_acc[exp, 0] = sum( (cnn(train_pred).detach().numpy().reshape(-1) > 0.5) == (train_outcomes_label == 3) ) / n_train\n",
    "    result_acc[exp, 1] = sum( (cnn(test_pred).detach().numpy().reshape(-1) > 0.5) == (test_outcomes_label == 3) ) / n_test\n",
    "\n",
    "    np.savetxt(\"rebuttal_matern_acc.txt\", result_acc)"
   ]
  },
  {
   "cell_type": "code",
   "execution_count": null,
   "id": "abaef868-9597-4477-b00a-e9ad2c8ae40f",
   "metadata": {},
   "outputs": [],
   "source": []
  }
 ],
 "metadata": {
  "kernelspec": {
   "display_name": "Python 3 (ipykernel)",
   "language": "python",
   "name": "python3"
  },
  "language_info": {
   "codemirror_mode": {
    "name": "ipython",
    "version": 3
   },
   "file_extension": ".py",
   "mimetype": "text/x-python",
   "name": "python",
   "nbconvert_exporter": "python",
   "pygments_lexer": "ipython3",
   "version": "3.9.12"
  }
 },
 "nbformat": 4,
 "nbformat_minor": 5
}
