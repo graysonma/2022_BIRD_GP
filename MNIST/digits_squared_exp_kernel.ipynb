{
 "cells": [
  {
   "cell_type": "code",
   "execution_count": 1,
   "id": "3fc3b1d6-9e73-41b9-b47f-0ee306f3925f",
   "metadata": {},
   "outputs": [],
   "source": [
    "import sys\n",
    "sys.path.append(\"../birdgp\")\n",
    "\n",
    "import numpy as np\n",
    "import matplotlib.pyplot as plt\n",
    "import math\n",
    "import bird_gp\n",
    "import random\n",
    "import torch\n",
    "import mnist\n",
    "from sklearn.gaussian_process.kernels import RBF\n",
    "%matplotlib inline\n",
    "# mnist.init()\n",
    "\n",
    "def generate_sign(n = 2000, size = 28, length_min = 13, length_max = 20, width_min = 3, width_max = 5):\n",
    "    center = math.floor(size / 2)\n",
    "    sign = np.random.choice((-1, 1), size = n)\n",
    "    length = np.random.choice(np.arange(length_min, length_max + 1), size = n)\n",
    "    width = np.random.choice(np.arange(width_min, width_max + 1), size = n)\n",
    "    start = np.random.choice(np.arange(4, size - length_max - 1), size = n) - center\n",
    "    x = np.tile(np.arange(size), size) - center\n",
    "    y = np.repeat(np.arange(size), size) - center\n",
    "    \n",
    "    sign_img = np.zeros((n, size**2))\n",
    "    for i in range(n):\n",
    "        sign_i = sign[i]\n",
    "        length_i = length[i]\n",
    "        width_i = width[i]\n",
    "        start_i = start[i]\n",
    "        minus_i = ((x >= start_i) &\n",
    "                   (x <= start_i + length_i) &\n",
    "                   (y >= - math.floor(width_i / 2)) &\n",
    "                   (y <= - math.floor(width_i / 2) + width_i))\n",
    "        if sign_i == -1:\n",
    "            sign_img[i, :] = minus_i * 1\n",
    "        else:\n",
    "            mid_i = (length_i + 2 * start_i) / 2\n",
    "            minus_i_2 = ((x >= math.floor(mid_i - width_i / 2)) &\n",
    "                         (x <= math.floor(mid_i + width_i / 2)) &\n",
    "                         (y >= -math.floor(length_i / 2)) &\n",
    "                         (y <= -math.floor(length_i / 2) + length_i))\n",
    "            sign_img[i, :] = (minus_i | minus_i_2) * 1\n",
    "    \n",
    "    sign_img[sign_img > 0] = 0.9 * sign_img[sign_img > 0] + np.random.normal(scale = 0.05, size = np.sum(sign_img > 0))\n",
    "    return sign_img, sign\n",
    "\n",
    "class Dataset(torch.utils.data.Dataset):\n",
    "    def __init__(self, predictors, labels):\n",
    "        self.labels = labels\n",
    "        self.predictors = predictors\n",
    "\n",
    "    def __len__(self):\n",
    "        return self.labels.shape[0]\n",
    "\n",
    "    def __getitem__(self, index):\n",
    "        X = self.predictors[index, :]\n",
    "        y = self.labels[index, :]\n",
    "\n",
    "        return X, y\n",
    "    \n",
    "\n",
    "import torch.nn as nn\n",
    "\n",
    "class CNN(nn.Module):\n",
    "    def __init__(self):\n",
    "        super(CNN, self).__init__()\n",
    "        self.conv1 = nn.Sequential(         \n",
    "            nn.Conv2d(\n",
    "                in_channels=1,              \n",
    "                out_channels=16,            \n",
    "                kernel_size=5,              \n",
    "                stride=1,                   \n",
    "                padding=2,                  \n",
    "            ),                              \n",
    "            nn.ReLU(),                      \n",
    "            nn.MaxPool2d(kernel_size=2),    \n",
    "        )\n",
    "        self.conv2 = nn.Sequential(         \n",
    "            nn.Conv2d(16, 32, 5, 1, 2),     \n",
    "            nn.ReLU(),                      \n",
    "            nn.MaxPool2d(2),                \n",
    "        )\n",
    "        # fully connected layer, output 10 classes\n",
    "        self.linear = nn.Linear(32 * 7 * 7, 1)\n",
    "        self.sigmoid = nn.Sigmoid()\n",
    "        \n",
    "    def forward(self, x):\n",
    "        x = self.conv1(x)\n",
    "        x = self.conv2(x)\n",
    "        # flatten the output of conv2 to (batch_size, 32 * 7 * 7)\n",
    "        x = x.view(x.size(0), -1)       \n",
    "        x = self.linear(x)\n",
    "        x = self.sigmoid(x)\n",
    "        return x"
   ]
  },
  {
   "cell_type": "code",
   "execution_count": 2,
   "id": "83b1b296-6c9d-4f80-99df-d97f4935c85b",
   "metadata": {},
   "outputs": [],
   "source": [
    "train_img, train_label, test_img, test_label = mnist.load()\n",
    "train_img = train_img / 255\n",
    "test_img = test_img / 255"
   ]
  },
  {
   "cell_type": "code",
   "execution_count": null,
   "id": "31f8e68d-96bd-4e94-8c48-472fe76b1360",
   "metadata": {
    "collapsed": true,
    "jupyter": {
     "outputs_hidden": true
    },
    "tags": []
   },
   "outputs": [
    {
     "name": "stdout",
     "output_type": "stream",
     "text": [
      "fit basis coefficients for predictors ...\n"
     ]
    },
    {
     "name": "stderr",
     "output_type": "stream",
     "text": [
      "100%|██████████| 1000/1000 [04:32<00:00,  3.67it/s]\n"
     ]
    },
    {
     "name": "stdout",
     "output_type": "stream",
     "text": [
      "fit basis coefficients for outcomes ...\n"
     ]
    },
    {
     "name": "stderr",
     "output_type": "stream",
     "text": [
      "100%|██████████| 1000/1000 [04:28<00:00,  3.72it/s]\n"
     ]
    },
    {
     "name": "stdout",
     "output_type": "stream",
     "text": [
      "stein variation gradient descent ...\n",
      "epoch: 1 / 30, training rmse: 0.7504, training r2: 0.3687\n",
      "epoch: 2 / 30, training rmse: 0.6447, training r2: 0.534\n",
      "epoch: 3 / 30, training rmse: 0.5987, training r2: 0.5981\n",
      "epoch: 4 / 30, training rmse: 0.5814, training r2: 0.6211\n",
      "epoch: 5 / 30, training rmse: 0.574, training r2: 0.6307\n",
      "epoch: 6 / 30, training rmse: 0.5697, training r2: 0.6361\n",
      "epoch: 7 / 30, training rmse: 0.5666, training r2: 0.6401\n",
      "epoch: 8 / 30, training rmse: 0.5642, training r2: 0.6432\n",
      "epoch: 9 / 30, training rmse: 0.562, training r2: 0.646\n",
      "epoch: 10 / 30, training rmse: 0.5604, training r2: 0.648\n",
      "epoch: 11 / 30, training rmse: 0.5589, training r2: 0.6499\n",
      "epoch: 12 / 30, training rmse: 0.5563, training r2: 0.653\n",
      "epoch: 13 / 30, training rmse: 0.5561, training r2: 0.6534\n",
      "epoch: 14 / 30, training rmse: 0.5538, training r2: 0.6562\n",
      "epoch: 15 / 30, training rmse: 0.5528, training r2: 0.6574\n",
      "epoch: 16 / 30, training rmse: 0.5505, training r2: 0.6603\n",
      "epoch: 17 / 30, training rmse: 0.5499, training r2: 0.661\n",
      "epoch: 18 / 30, training rmse: 0.5484, training r2: 0.6628\n",
      "epoch: 19 / 30, training rmse: 0.5472, training r2: 0.6644\n",
      "epoch: 20 / 30, training rmse: 0.5449, training r2: 0.6672\n",
      "epoch: 21 / 30, training rmse: 0.5448, training r2: 0.6673\n",
      "epoch: 22 / 30, training rmse: 0.5433, training r2: 0.6691\n",
      "epoch: 23 / 30, training rmse: 0.5418, training r2: 0.6709\n",
      "epoch: 24 / 30, training rmse: 0.5403, training r2: 0.6727\n",
      "epoch: 25 / 30, training rmse: 0.5393, training r2: 0.6739\n",
      "epoch: 26 / 30, training rmse: 0.5377, training r2: 0.6758\n",
      "epoch: 27 / 30, training rmse: 0.5363, training r2: 0.6776\n",
      "epoch: 28 / 30, training rmse: 0.535, training r2: 0.6791\n",
      "epoch: 29 / 30, training rmse: 0.534, training r2: 0.6803\n",
      "epoch: 30 / 30, training rmse: 0.5324, training r2: 0.6822\n"
     ]
    },
    {
     "data": {
      "image/png": "[encoded data removed]",
      "text/plain": [
       "<Figure size 432x288 with 1 Axes>"
      ]
     },
     "metadata": {
      "needs_background": "light"
     },
     "output_type": "display_data"
    },
    {
     "name": "stderr",
     "output_type": "stream",
     "text": [
      "100%|██████████| 1000/1000 [04:32<00:00,  3.68it/s]\n"
     ]
    },
    {
     "name": "stdout",
     "output_type": "stream",
     "text": [
      "fit basis coefficients for predictors ...\n"
     ]
    },
    {
     "name": "stderr",
     "output_type": "stream",
     "text": [
      "100%|██████████| 1000/1000 [04:32<00:00,  3.67it/s]\n"
     ]
    },
    {
     "name": "stdout",
     "output_type": "stream",
     "text": [
      "fit basis coefficients for outcomes ...\n"
     ]
    },
    {
     "name": "stderr",
     "output_type": "stream",
     "text": [
      "100%|██████████| 1000/1000 [04:29<00:00,  3.71it/s]\n"
     ]
    },
    {
     "name": "stdout",
     "output_type": "stream",
     "text": [
      "stein variation gradient descent ...\n",
      "epoch: 1 / 30, training rmse: 0.7618, training r2: 0.3575\n",
      "epoch: 2 / 30, training rmse: 0.6521, training r2: 0.5292\n",
      "epoch: 3 / 30, training rmse: 0.6032, training r2: 0.5972\n",
      "epoch: 4 / 30, training rmse: 0.5861, training r2: 0.6197\n",
      "epoch: 5 / 30, training rmse: 0.5779, training r2: 0.6303\n",
      "epoch: 6 / 30, training rmse: 0.5742, training r2: 0.6349\n",
      "epoch: 7 / 30, training rmse: 0.5722, training r2: 0.6376\n",
      "epoch: 8 / 30, training rmse: 0.5688, training r2: 0.6418\n",
      "epoch: 9 / 30, training rmse: 0.5673, training r2: 0.6437\n",
      "epoch: 10 / 30, training rmse: 0.5642, training r2: 0.6475\n",
      "epoch: 11 / 30, training rmse: 0.5629, training r2: 0.6492\n",
      "epoch: 12 / 30, training rmse: 0.5615, training r2: 0.651\n",
      "epoch: 13 / 30, training rmse: 0.5598, training r2: 0.653\n",
      "epoch: 14 / 30, training rmse: 0.5582, training r2: 0.655\n",
      "epoch: 15 / 30, training rmse: 0.5571, training r2: 0.6563\n",
      "epoch: 16 / 30, training rmse: 0.5556, training r2: 0.6582\n",
      "epoch: 17 / 30, training rmse: 0.5544, training r2: 0.6597\n",
      "epoch: 18 / 30, training rmse: 0.5534, training r2: 0.6609\n",
      "epoch: 19 / 30, training rmse: 0.5525, training r2: 0.662\n",
      "epoch: 20 / 30, training rmse: 0.5511, training r2: 0.6638\n",
      "epoch: 21 / 30, training rmse: 0.5493, training r2: 0.6659\n",
      "epoch: 22 / 30, training rmse: 0.548, training r2: 0.6675\n",
      "epoch: 23 / 30, training rmse: 0.547, training r2: 0.6688\n",
      "epoch: 24 / 30, training rmse: 0.5456, training r2: 0.6704\n",
      "epoch: 25 / 30, training rmse: 0.5443, training r2: 0.672\n",
      "epoch: 26 / 30, training rmse: 0.5428, training r2: 0.6738\n",
      "epoch: 27 / 30, training rmse: 0.5424, training r2: 0.6743\n",
      "epoch: 28 / 30, training rmse: 0.54, training r2: 0.6772\n",
      "epoch: 29 / 30, training rmse: 0.5394, training r2: 0.6778\n",
      "epoch: 30 / 30, training rmse: 0.5391, training r2: 0.6783\n"
     ]
    },
    {
     "data": {
      "image/png": "[encoded data removed]",
      "text/plain": [
       "<Figure size 432x288 with 1 Axes>"
      ]
     },
     "metadata": {
      "needs_background": "light"
     },
     "output_type": "display_data"
    },
    {
     "name": "stderr",
     "output_type": "stream",
     "text": [
      "100%|██████████| 1000/1000 [04:31<00:00,  3.68it/s]\n"
     ]
    },
    {
     "name": "stdout",
     "output_type": "stream",
     "text": [
      "fit basis coefficients for predictors ...\n"
     ]
    },
    {
     "name": "stderr",
     "output_type": "stream",
     "text": [
      "100%|██████████| 1000/1000 [04:32<00:00,  3.67it/s]\n"
     ]
    },
    {
     "name": "stdout",
     "output_type": "stream",
     "text": [
      "fit basis coefficients for outcomes ...\n"
     ]
    },
    {
     "name": "stderr",
     "output_type": "stream",
     "text": [
      "100%|██████████| 1000/1000 [04:30<00:00,  3.70it/s]\n"
     ]
    },
    {
     "name": "stdout",
     "output_type": "stream",
     "text": [
      "stein variation gradient descent ...\n",
      "epoch: 1 / 30, training rmse: 0.7562, training r2: 0.3743\n",
      "epoch: 2 / 30, training rmse: 0.6469, training r2: 0.5421\n",
      "epoch: 3 / 30, training rmse: 0.5988, training r2: 0.6077\n",
      "epoch: 4 / 30, training rmse: 0.5819, training r2: 0.6295\n",
      "epoch: 5 / 30, training rmse: 0.5766, training r2: 0.6363\n",
      "epoch: 6 / 30, training rmse: 0.5722, training r2: 0.6418\n",
      "epoch: 7 / 30, training rmse: 0.5699, training r2: 0.6446\n",
      "epoch: 8 / 30, training rmse: 0.5667, training r2: 0.6486\n",
      "epoch: 9 / 30, training rmse: 0.5646, training r2: 0.6513\n",
      "epoch: 10 / 30, training rmse: 0.5626, training r2: 0.6537\n",
      "epoch: 11 / 30, training rmse: 0.5612, training r2: 0.6555\n",
      "epoch: 12 / 30, training rmse: 0.5601, training r2: 0.6567\n",
      "epoch: 13 / 30, training rmse: 0.5579, training r2: 0.6594\n",
      "epoch: 14 / 30, training rmse: 0.5563, training r2: 0.6614\n",
      "epoch: 15 / 30, training rmse: 0.5548, training r2: 0.6632\n",
      "epoch: 16 / 30, training rmse: 0.5539, training r2: 0.6643\n",
      "epoch: 17 / 30, training rmse: 0.5529, training r2: 0.6655\n",
      "epoch: 18 / 30, training rmse: 0.5512, training r2: 0.6676\n",
      "epoch: 19 / 30, training rmse: 0.5495, training r2: 0.6696\n",
      "epoch: 20 / 30, training rmse: 0.5489, training r2: 0.6703\n",
      "epoch: 21 / 30, training rmse: 0.5471, training r2: 0.6725\n",
      "epoch: 22 / 30, training rmse: 0.5453, training r2: 0.6746\n",
      "epoch: 23 / 30, training rmse: 0.5441, training r2: 0.676\n",
      "epoch: 24 / 30, training rmse: 0.5425, training r2: 0.678\n",
      "epoch: 25 / 30, training rmse: 0.542, training r2: 0.6786\n",
      "epoch: 26 / 30, training rmse: 0.5407, training r2: 0.6801\n",
      "epoch: 27 / 30, training rmse: 0.5394, training r2: 0.6817\n",
      "epoch: 28 / 30, training rmse: 0.5378, training r2: 0.6835\n",
      "epoch: 29 / 30, training rmse: 0.536, training r2: 0.6857\n",
      "epoch: 30 / 30, training rmse: 0.5347, training r2: 0.6871\n"
     ]
    },
    {
     "data": {
      "image/png": "[encoded data removed]",
      "text/plain": [
       "<Figure size 432x288 with 1 Axes>"
      ]
     },
     "metadata": {
      "needs_background": "light"
     },
     "output_type": "display_data"
    },
    {
     "name": "stderr",
     "output_type": "stream",
     "text": [
      " 62%|██████▏   | 616/1000 [02:47<01:44,  3.68it/s]"
     ]
    }
   ],
   "source": [
    "train_label_1_idx = np.where(train_label == 1)[0]\n",
    "train_label_2_idx = np.where(train_label == 2)[0]\n",
    "train_label_3_idx = np.where(train_label == 3)[0]\n",
    "test_label_1_idx = np.where(test_label == 1)[0]\n",
    "test_label_2_idx = np.where(test_label == 2)[0]\n",
    "test_label_3_idx = np.where(test_label == 3)[0]\n",
    "\n",
    "n = 2000\n",
    "n_train = 1000\n",
    "n_test = 1000\n",
    "\n",
    "num_exp = 50\n",
    "result_acc = np.zeros((num_exp, 2))\n",
    "L = 50\n",
    "for exp in range(num_exp):\n",
    "    random.seed(exp)\n",
    "    torch.manual_seed(exp)\n",
    "    np.random.seed(exp)\n",
    "    #####################################################################\n",
    "    # generate images\n",
    "    sign_img, sign = generate_sign(n = n)\n",
    "    train_sign = sign[0:n_train]\n",
    "    train_sign_img = sign_img[0:n_train, :]\n",
    "    test_sign = sign[n_train:n]\n",
    "    test_sign_img = sign_img[n_train:n, :]\n",
    "    train_1s = train_img[np.random.choice(train_label_1_idx, size = n_train, replace = False), :]\n",
    "    train_2s = train_img[np.random.choice(train_label_2_idx, size = n_train, replace = False), :]\n",
    "    test_1s = test_img[np.random.choice(test_label_1_idx, size = n_train, replace = False), :]\n",
    "    test_2s = test_img[np.random.choice(test_label_2_idx, size = n_train, replace = False), :]\n",
    "\n",
    "    train_predictors = np.zeros((n_train, 28*28*3))\n",
    "    train_outcomes = np.zeros((n_train, 28*28))\n",
    "    test_predictors = np.zeros((n_test, 28*28*3))\n",
    "    test_outcomes = np.zeros((n_test, 28*28))\n",
    "    train_outcomes_label = np.zeros(n_train)\n",
    "    test_outcomes_label = np.zeros(n_test)\n",
    "    for i in range(n_train):\n",
    "        train_1_i = train_1s[i, :].reshape((28, 28))\n",
    "        train_2_i = train_2s[i, :].reshape((28, 28))\n",
    "        train_sign_i = train_sign[i]\n",
    "        train_sign_img_i = train_sign_img[i, :].reshape((28, 28))\n",
    "        train_predictor_i = np.hstack((train_2_i, train_sign_img_i, train_1_i))\n",
    "        if train_sign_i == -1:\n",
    "            label_img_i = train_img[np.random.choice(train_label_1_idx, size = 1, replace = False), :]\n",
    "            train_outcomes_label[i] = 1\n",
    "        else:\n",
    "            label_img_i = train_img[np.random.choice(train_label_3_idx, size = 1, replace = False), :]\n",
    "            train_outcomes_label[i] = 3\n",
    "        train_predictors[i, :] = train_predictor_i.reshape(-1)\n",
    "        train_outcomes[i, :] = label_img_i\n",
    "\n",
    "    for i in range(n_test):\n",
    "        test_1_i = test_1s[i, :].reshape((28, 28))\n",
    "        test_2_i = test_2s[i, :].reshape((28, 28))\n",
    "        test_sign_i = test_sign[i]\n",
    "        test_sign_img_i = test_sign_img[i, :].reshape((28, 28))\n",
    "        test_predictor_i = np.hstack((test_2_i, test_sign_img_i, test_1_i))\n",
    "        if test_sign_i == -1:\n",
    "            label_img_i = test_img[np.random.choice(test_label_1_idx, size = 1, replace = False), :]\n",
    "            test_outcomes_label[i] = 1\n",
    "        else:\n",
    "            label_img_i = test_img[np.random.choice(test_label_3_idx, size = 1, replace = False), :]\n",
    "            test_outcomes_label[i] = 3\n",
    "        test_predictors[i, :] = test_predictor_i.reshape(-1)\n",
    "        test_outcomes[i, :] = label_img_i\n",
    "    \n",
    "    #####################################################################\n",
    "    # train cnn mnist classifier\n",
    "    cnn = CNN()\n",
    "    cnn_optimizer = torch.optim.Adam(cnn.parameters(), lr = 0.001)\n",
    "    cnn_loss = nn.functional.binary_cross_entropy\n",
    "\n",
    "    cnnX = torch.tensor(train_outcomes, dtype = torch.float32).reshape((n_train, 1, 28, 28))\n",
    "    cnny = torch.tensor(train_outcomes_label, dtype = torch.float32).reshape((n_train, 1))\n",
    "    cnny[cnny == 1] = 0\n",
    "    cnny[cnny == 3] = 1\n",
    "\n",
    "    cnn_dataset = Dataset(cnnX, cnny)\n",
    "    cnn_dataloader = torch.utils.data.DataLoader(cnn_dataset, batch_size = 64, shuffle = True)\n",
    "    \n",
    "    num_epochs = 100\n",
    "    cnn.train()\n",
    "    for epoch in range(num_epochs):\n",
    "        for (idx, (X_batch, y_batch)) in enumerate(cnn_dataloader):\n",
    "            output = cnn(X_batch)             \n",
    "            loss = cnn_loss(output, y_batch)\n",
    "\n",
    "            # clear gradients for this training step   \n",
    "            cnn_optimizer.zero_grad()           \n",
    "\n",
    "            # backpropagation, compute gradients \n",
    "            loss.backward()    \n",
    "            # apply gradients             \n",
    "            cnn_optimizer.step()      \n",
    "    \n",
    "    ###########################################################################################\n",
    "    predictor_grids = bird_gp.generate_grids([28, 84])\n",
    "    outcome_grids = bird_gp.generate_grids([28, 28])\n",
    "\n",
    "    length_scale = 0.05\n",
    "    K_predictor = RBF(length_scale = length_scale)(predictor_grids)\n",
    "    K_outcome = RBF(length_scale = length_scale)(outcome_grids)\n",
    "    v_predictors, Psi_predictors = np.linalg.eig(K_predictor)\n",
    "    v_outcomes, Psi_outcomes = np.linalg.eig(K_outcome)\n",
    "    \n",
    "    Psi_predictors = np.real(Psi_predictors[:, 0:50])\n",
    "    Psi_outcomes = np.real(Psi_outcomes[:, 0:50])\n",
    "    \n",
    "    birdgp = bird_gp.BIRD_GP(predictor_grids = predictor_grids,\n",
    "                             outcome_grids = outcome_grids,\n",
    "                             predictor_L = 50,\n",
    "                             outcome_L = 50,\n",
    "                             svgd_b_lambda = 1, \n",
    "                             bf_predictor_steps = 10000,\n",
    "                             bf_outcome_steps = 10000\n",
    "                             )\n",
    "    birdgp.fit(train_predictors, train_outcomes, Psi_predictors, Psi_outcomes)\n",
    "\n",
    "    train_pred = birdgp.predict_train()\n",
    "    test_pred = birdgp.predict_test(test_predictors)\n",
    "    \n",
    "    #####################################################################\n",
    "    # check prediction accuracy\n",
    "    train_pred = torch.tensor(train_pred, dtype = torch.float32).reshape((n_train, 1, 28, 28))\n",
    "    test_pred = torch.tensor(test_pred, dtype = torch.float32).reshape((n_test, 1, 28, 28))\n",
    "\n",
    "    result_acc[exp, 0] = sum( (cnn(train_pred).detach().numpy().reshape(-1) > 0.5) == (train_outcomes_label == 3) ) / n_train\n",
    "    result_acc[exp, 1] = sum( (cnn(test_pred).detach().numpy().reshape(-1) > 0.5) == (test_outcomes_label == 3) ) / n_test\n",
    "\n",
    "    np.savetxt(\"rebuttal_se_acc.txt\", result_acc)"
   ]
  },
  {
   "cell_type": "code",
   "execution_count": null,
   "id": "99fdcc76-e460-4b2c-a296-f5609eab5e0f",
   "metadata": {},
   "outputs": [],
   "source": []
  }
 ],
 "metadata": {
  "kernelspec": {
   "display_name": "Python 3 (ipykernel)",
   "language": "python",
   "name": "python3"
  },
  "language_info": {
   "codemirror_mode": {
    "name": "ipython",
    "version": 3
   },
   "file_extension": ".py",
   "mimetype": "text/x-python",
   "name": "python",
   "nbconvert_exporter": "python",
   "pygments_lexer": "ipython3",
   "version": "3.9.12"
  }
 },
 "nbformat": 4,
 "nbformat_minor": 5
}
