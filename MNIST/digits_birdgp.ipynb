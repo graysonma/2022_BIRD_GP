{
 "cells": [
  {
   "cell_type": "code",
   "execution_count": 1,
   "id": "3fc3b1d6-9e73-41b9-b47f-0ee306f3925f",
   "metadata": {},
   "outputs": [],
   "source": [
    "import subprocess\n",
    "import torch\n",
    "import numpy as np\n",
    "import mnist\n",
    "import matplotlib.pyplot as plt\n",
    "import math\n",
    "import svgd\n",
    "import random\n",
    "%matplotlib inline\n",
    "mnist.init()\n",
    "\n",
    "def generate_sign(n = 2000, size = 28, length_min = 13, length_max = 20, width_min = 3, width_max = 5):\n",
    "    center = math.floor(size / 2)\n",
    "    sign = np.random.choice((-1, 1), size = n)\n",
    "    length = np.random.choice(np.arange(length_min, length_max + 1), size = n)\n",
    "    width = np.random.choice(np.arange(width_min, width_max + 1), size = n)\n",
    "    start = np.random.choice(np.arange(4, size - length_max - 1), size = n) - center\n",
    "    x = np.tile(np.arange(size), size) - center\n",
    "    y = np.repeat(np.arange(size), size) - center\n",
    "    \n",
    "    sign_img = np.zeros((n, size**2))\n",
    "    for i in range(n):\n",
    "        sign_i = sign[i]\n",
    "        length_i = length[i]\n",
    "        width_i = width[i]\n",
    "        start_i = start[i]\n",
    "        minus_i = ((x >= start_i) &\n",
    "                   (x <= start_i + length_i) &\n",
    "                   (y >= - math.floor(width_i / 2)) &\n",
    "                   (y <= - math.floor(width_i / 2) + width_i))\n",
    "        if sign_i == -1:\n",
    "            sign_img[i, :] = minus_i * 1\n",
    "        else:\n",
    "            mid_i = (length_i + 2 * start_i) / 2\n",
    "            minus_i_2 = ((x >= math.floor(mid_i - width_i / 2)) &\n",
    "                         (x <= math.floor(mid_i + width_i / 2)) &\n",
    "                         (y >= -math.floor(length_i / 2)) &\n",
    "                         (y <= -math.floor(length_i / 2) + length_i))\n",
    "            sign_img[i, :] = (minus_i | minus_i_2) * 1\n",
    "    \n",
    "    sign_img[sign_img > 0] = 0.9 * sign_img[sign_img > 0] + np.random.normal(scale = 0.05, size = np.sum(sign_img > 0))\n",
    "    return sign_img, sign\n",
    "\n",
    "\n",
    "class BFNN(torch.nn.Module):\n",
    "    def __init__(self, d, L, n, V):\n",
    "        super().__init__()\n",
    "        self.d = d\n",
    "        self.L = L\n",
    "        self.n = n\n",
    "        self.V = V\n",
    "        self.theta = torch.nn.Parameter(torch.randn(self.n, self.L))\n",
    "\n",
    "        # define layers\n",
    "        #self.num_nodes = num_nodes\n",
    "        #self.layers = []\n",
    "        #for i in range(len(num_nodes)):\n",
    "        #  if i == 0:\n",
    "        #    self.layers.append(torch.nn.Linear(self.d, num_nodes[0]))\n",
    "        #  else:\n",
    "        #    self.layers.append(torch.nn.Linear(num_nodes[i-1], num_nodes[i]))\n",
    "        #self.layers.append(torch.nn.Linear(num_nodes[-1], L))\n",
    "        self.layer1 = torch.nn.Linear(d, 128)\n",
    "        self.layer2 = torch.nn.Linear(128, 128)\n",
    "        self.layer3 = torch.nn.Linear(128, 128)\n",
    "        self.layer4 = torch.nn.Linear(128, 128)\n",
    "        self.layerL = torch.nn.Linear(128, L)\n",
    "\n",
    "        # define activation functions\n",
    "        self.relu = torch.nn.ReLU()\n",
    "\n",
    "    def forward(self, X):\n",
    "        #for i in range(len(self.num_nodes)):\n",
    "        #  X = self.layers[i](X)\n",
    "        #  X = self.relu(X)\n",
    "        #self.Psi = self.layers[-1](X)\n",
    "\n",
    "        X = self.layer1(X)\n",
    "        X = self.relu(X)\n",
    "        X = self.layer2(X)\n",
    "        X = self.relu(X)\n",
    "        X = self.layer3(X)\n",
    "        X = self.relu(X)\n",
    "        X = self.layer4(X)\n",
    "        X = self.relu(X)\n",
    "        self.Psi = self.layerL(X)\n",
    "        self.yhat = self.theta @ self.Psi.t() \n",
    "        return self.yhat\n",
    "    \n",
    "\n",
    "class Dataset(torch.utils.data.Dataset):\n",
    "    def __init__(self, predictors, labels):\n",
    "        self.labels = labels\n",
    "        self.predictors = predictors\n",
    "\n",
    "    def __len__(self):\n",
    "        return self.labels.shape[0]\n",
    "\n",
    "    def __getitem__(self, index):\n",
    "        X = self.predictors[index, :]\n",
    "        y = self.labels[index, :]\n",
    "\n",
    "        return X, y\n",
    "    \n",
    "\n",
    "import torch.nn as nn\n",
    "\n",
    "class CNN(nn.Module):\n",
    "    def __init__(self):\n",
    "        super(CNN, self).__init__()\n",
    "        self.conv1 = nn.Sequential(         \n",
    "            nn.Conv2d(\n",
    "                in_channels=1,              \n",
    "                out_channels=16,            \n",
    "                kernel_size=5,              \n",
    "                stride=1,                   \n",
    "                padding=2,                  \n",
    "            ),                              \n",
    "            nn.ReLU(),                      \n",
    "            nn.MaxPool2d(kernel_size=2),    \n",
    "        )\n",
    "        self.conv2 = nn.Sequential(         \n",
    "            nn.Conv2d(16, 32, 5, 1, 2),     \n",
    "            nn.ReLU(),                      \n",
    "            nn.MaxPool2d(2),                \n",
    "        )\n",
    "        # fully connected layer, output 10 classes\n",
    "        self.linear = nn.Linear(32 * 7 * 7, 1)\n",
    "        self.sigmoid = nn.Sigmoid()\n",
    "        \n",
    "    def forward(self, x):\n",
    "        x = self.conv1(x)\n",
    "        x = self.conv2(x)\n",
    "        # flatten the output of conv2 to (batch_size, 32 * 7 * 7)\n",
    "        x = x.view(x.size(0), -1)       \n",
    "        x = self.linear(x)\n",
    "        x = self.sigmoid(x)\n",
    "        return x\n",
    "    \n",
    "\n",
    "import torch.nn as nn\n",
    "\n",
    "class CNN_FB(nn.Module):\n",
    "    def __init__(self):\n",
    "        super().__init__()\n",
    "        self.conv1 = nn.Sequential(         \n",
    "            nn.Conv2d(1, 64, 3, 1, \"same\"),                              \n",
    "            nn.ReLU(),                      \n",
    "            nn.MaxPool2d(kernel_size = 2),    \n",
    "        )\n",
    "        self.conv2 = nn.Sequential(         \n",
    "            nn.Conv2d(64, 32, 3, 1, \"same\"),     \n",
    "            nn.ReLU(),                      \n",
    "            nn.MaxPool2d(2),                \n",
    "        )\n",
    "        self.conv3 = nn.Sequential(         \n",
    "            nn.Conv2d(32, 32, 3, 1, \"same\"),     \n",
    "            nn.ReLU(),                      \n",
    "            nn.MaxPool2d(2),                \n",
    "        )\n",
    "        self.conv4 = nn.Sequential(         \n",
    "            nn.Conv2d(32, 32, 3, 1, \"same\"),     \n",
    "            nn.ReLU(),                      \n",
    "            nn.MaxPool2d(2),                \n",
    "        )\n",
    "        self.linear1 = nn.Linear(160, 64)\n",
    "        self.linear2 = nn.Linear(64, 784)\n",
    "        self.relu1 = nn.ReLU()\n",
    "        self.dropout = nn.Dropout(0.3)\n",
    "                                 \n",
    "        \n",
    "    def forward(self, x):\n",
    "        x = self.conv1(x)\n",
    "        x = self.conv2(x)\n",
    "        x = self.conv3(x)\n",
    "        x = self.conv4(x)\n",
    "        x = x.view(x.size(0), -1)      \n",
    "        x = self.linear1(x)\n",
    "        x = self.relu1(x)\n",
    "        x = self.dropout(x)\n",
    "        x = self.linear2(x)\n",
    "        return x"
   ]
  },
  {
   "cell_type": "code",
   "execution_count": 2,
   "id": "83b1b296-6c9d-4f80-99df-d97f4935c85b",
   "metadata": {},
   "outputs": [],
   "source": [
    "train_img, train_label, test_img, test_label = mnist.load()\n",
    "train_img = train_img / 255\n",
    "test_img = test_img / 255"
   ]
  },
  {
   "cell_type": "code",
   "execution_count": 6,
   "id": "31f8e68d-96bd-4e94-8c48-472fe76b1360",
   "metadata": {
    "collapsed": true,
    "jupyter": {
     "outputs_hidden": true
    },
    "tags": []
   },
   "outputs": [
    {
     "name": "stderr",
     "output_type": "stream",
     "text": [
      "Loading required package: lattice\n",
      "Loading required package: Rcpp\n",
      "Loading required package: RcppArmadillo\n",
      "Loading required package: glmnet\n",
      "Loading required package: Matrix\n",
      "Loaded glmnet 4.1-3\n",
      "Loading required package: horseshoe\n",
      "Loading required package: pgdraw\n"
     ]
    },
    {
     "name": "stdout",
     "output_type": "stream",
     "text": [
      "epoch: 1 / 30, training rmse: 1.0642, training r2: 0.145\n",
      "epoch: 2 / 30, training rmse: 0.9812, training r2: 0.2732\n",
      "epoch: 3 / 30, training rmse: 0.9064, training r2: 0.3798\n",
      "epoch: 4 / 30, training rmse: 0.8408, training r2: 0.4663\n",
      "epoch: 5 / 30, training rmse: 0.7901, training r2: 0.5287\n",
      "epoch: 6 / 30, training rmse: 0.757, training r2: 0.5673\n",
      "epoch: 7 / 30, training rmse: 0.7391, training r2: 0.5876\n",
      "epoch: 8 / 30, training rmse: 0.7282, training r2: 0.5996\n",
      "epoch: 9 / 30, training rmse: 0.7212, training r2: 0.6073\n",
      "epoch: 10 / 30, training rmse: 0.7156, training r2: 0.6135\n",
      "epoch: 11 / 30, training rmse: 0.7115, training r2: 0.6179\n",
      "epoch: 12 / 30, training rmse: 0.7085, training r2: 0.6211\n",
      "epoch: 13 / 30, training rmse: 0.7051, training r2: 0.6246\n",
      "epoch: 14 / 30, training rmse: 0.7028, training r2: 0.6271\n",
      "epoch: 15 / 30, training rmse: 0.7005, training r2: 0.6296\n",
      "epoch: 16 / 30, training rmse: 0.6982, training r2: 0.632\n",
      "epoch: 17 / 30, training rmse: 0.6959, training r2: 0.6344\n",
      "epoch: 18 / 30, training rmse: 0.6945, training r2: 0.6359\n",
      "epoch: 19 / 30, training rmse: 0.6919, training r2: 0.6386\n",
      "epoch: 20 / 30, training rmse: 0.6903, training r2: 0.6403\n",
      "epoch: 21 / 30, training rmse: 0.6886, training r2: 0.642\n",
      "epoch: 22 / 30, training rmse: 0.6864, training r2: 0.6444\n",
      "epoch: 23 / 30, training rmse: 0.6842, training r2: 0.6466\n",
      "epoch: 24 / 30, training rmse: 0.6826, training r2: 0.6483\n",
      "epoch: 25 / 30, training rmse: 0.6811, training r2: 0.6498\n",
      "epoch: 26 / 30, training rmse: 0.6793, training r2: 0.6517\n",
      "epoch: 27 / 30, training rmse: 0.6771, training r2: 0.6539\n",
      "epoch: 28 / 30, training rmse: 0.675, training r2: 0.656\n",
      "epoch: 29 / 30, training rmse: 0.6732, training r2: 0.6578\n",
      "epoch: 30 / 30, training rmse: 0.6715, training r2: 0.6596\n"
     ]
    },
    {
     "data": {
      "image/png": "[encoded data removed]",
      "text/plain": [
       "<Figure size 432x288 with 1 Axes>"
      ]
     },
     "metadata": {
      "needs_background": "light"
     },
     "output_type": "display_data"
    },
    {
     "name": "stdout",
     "output_type": "stream",
     "text": [
      "0 [1.    1.    0.989 0.996] [0.03696432 0.04464831 0.03839371 0.04655979]\n"
     ]
    },
    {
     "name": "stderr",
     "output_type": "stream",
     "text": [
      "Loading required package: lattice\n",
      "Loading required package: Rcpp\n",
      "Loading required package: RcppArmadillo\n",
      "Loading required package: glmnet\n",
      "Loading required package: Matrix\n",
      "Loaded glmnet 4.1-3\n",
      "Loading required package: horseshoe\n",
      "Loading required package: pgdraw\n"
     ]
    },
    {
     "name": "stdout",
     "output_type": "stream",
     "text": [
      "epoch: 1 / 30, training rmse: 1.0554, training r2: 0.1545\n",
      "epoch: 2 / 30, training rmse: 0.9726, training r2: 0.2819\n",
      "epoch: 3 / 30, training rmse: 0.8998, training r2: 0.3853\n",
      "epoch: 4 / 30, training rmse: 0.8381, training r2: 0.4668\n",
      "epoch: 5 / 30, training rmse: 0.792, training r2: 0.5239\n",
      "epoch: 6 / 30, training rmse: 0.7621, training r2: 0.5592\n",
      "epoch: 7 / 30, training rmse: 0.7451, training r2: 0.5786\n",
      "epoch: 8 / 30, training rmse: 0.7334, training r2: 0.5917\n",
      "epoch: 9 / 30, training rmse: 0.7248, training r2: 0.6012\n",
      "epoch: 10 / 30, training rmse: 0.7179, training r2: 0.6088\n",
      "epoch: 11 / 30, training rmse: 0.7125, training r2: 0.6146\n",
      "epoch: 12 / 30, training rmse: 0.708, training r2: 0.6195\n",
      "epoch: 13 / 30, training rmse: 0.7049, training r2: 0.6228\n",
      "epoch: 14 / 30, training rmse: 0.7014, training r2: 0.6266\n",
      "epoch: 15 / 30, training rmse: 0.6987, training r2: 0.6295\n",
      "epoch: 16 / 30, training rmse: 0.6967, training r2: 0.6316\n",
      "epoch: 17 / 30, training rmse: 0.6943, training r2: 0.6341\n",
      "epoch: 18 / 30, training rmse: 0.6921, training r2: 0.6364\n",
      "epoch: 19 / 30, training rmse: 0.6898, training r2: 0.6388\n",
      "epoch: 20 / 30, training rmse: 0.6876, training r2: 0.6411\n",
      "epoch: 21 / 30, training rmse: 0.6855, training r2: 0.6433\n",
      "epoch: 22 / 30, training rmse: 0.684, training r2: 0.6448\n",
      "epoch: 23 / 30, training rmse: 0.6822, training r2: 0.6467\n",
      "epoch: 24 / 30, training rmse: 0.6798, training r2: 0.6492\n",
      "epoch: 25 / 30, training rmse: 0.6779, training r2: 0.6511\n",
      "epoch: 26 / 30, training rmse: 0.6759, training r2: 0.6532\n",
      "epoch: 27 / 30, training rmse: 0.6738, training r2: 0.6554\n",
      "epoch: 28 / 30, training rmse: 0.6719, training r2: 0.6573\n",
      "epoch: 29 / 30, training rmse: 0.6698, training r2: 0.6594\n",
      "epoch: 30 / 30, training rmse: 0.6678, training r2: 0.6615\n"
     ]
    },
    {
     "data": {
      "image/png": "[encoded data removed]",
      "text/plain": [
       "<Figure size 432x288 with 1 Axes>"
      ]
     },
     "metadata": {
      "needs_background": "light"
     },
     "output_type": "display_data"
    },
    {
     "name": "stdout",
     "output_type": "stream",
     "text": [
      "1 [1.    1.    0.994 0.997] [0.03673954 0.04385884 0.03679138 0.0475305 ]\n"
     ]
    },
    {
     "name": "stderr",
     "output_type": "stream",
     "text": [
      "Loading required package: lattice\n",
      "Loading required package: Rcpp\n",
      "Loading required package: RcppArmadillo\n",
      "Loading required package: glmnet\n",
      "Loading required package: Matrix\n",
      "Loaded glmnet 4.1-3\n",
      "Loading required package: horseshoe\n",
      "Loading required package: pgdraw\n"
     ]
    },
    {
     "name": "stdout",
     "output_type": "stream",
     "text": [
      "epoch: 1 / 30, training rmse: 1.0613, training r2: 0.1579\n",
      "epoch: 2 / 30, training rmse: 0.9748, training r2: 0.2896\n",
      "epoch: 3 / 30, training rmse: 0.8972, training r2: 0.3982\n",
      "epoch: 4 / 30, training rmse: 0.832, training r2: 0.4825\n",
      "epoch: 5 / 30, training rmse: 0.7828, training r2: 0.5419\n",
      "epoch: 6 / 30, training rmse: 0.7521, training r2: 0.5772\n",
      "epoch: 7 / 30, training rmse: 0.7354, training r2: 0.5957\n",
      "epoch: 8 / 30, training rmse: 0.7257, training r2: 0.6063\n",
      "epoch: 9 / 30, training rmse: 0.7186, training r2: 0.614\n",
      "epoch: 10 / 30, training rmse: 0.7137, training r2: 0.6192\n",
      "epoch: 11 / 30, training rmse: 0.7093, training r2: 0.6238\n",
      "epoch: 12 / 30, training rmse: 0.7064, training r2: 0.6269\n",
      "epoch: 13 / 30, training rmse: 0.703, training r2: 0.6306\n",
      "epoch: 14 / 30, training rmse: 0.7003, training r2: 0.6334\n",
      "epoch: 15 / 30, training rmse: 0.6979, training r2: 0.6358\n",
      "epoch: 16 / 30, training rmse: 0.6957, training r2: 0.6382\n",
      "epoch: 17 / 30, training rmse: 0.6937, training r2: 0.6402\n",
      "epoch: 18 / 30, training rmse: 0.6914, training r2: 0.6426\n",
      "epoch: 19 / 30, training rmse: 0.6891, training r2: 0.645\n",
      "epoch: 20 / 30, training rmse: 0.6869, training r2: 0.6472\n",
      "epoch: 21 / 30, training rmse: 0.685, training r2: 0.6492\n",
      "epoch: 22 / 30, training rmse: 0.6829, training r2: 0.6514\n",
      "epoch: 23 / 30, training rmse: 0.6812, training r2: 0.6531\n",
      "epoch: 24 / 30, training rmse: 0.679, training r2: 0.6553\n",
      "epoch: 25 / 30, training rmse: 0.6765, training r2: 0.6578\n",
      "epoch: 26 / 30, training rmse: 0.6746, training r2: 0.6598\n",
      "epoch: 27 / 30, training rmse: 0.6728, training r2: 0.6616\n",
      "epoch: 28 / 30, training rmse: 0.6706, training r2: 0.6638\n",
      "epoch: 29 / 30, training rmse: 0.6682, training r2: 0.6662\n",
      "epoch: 30 / 30, training rmse: 0.6663, training r2: 0.6681\n"
     ]
    },
    {
     "data": {
      "image/png": "[encoded data removed]",
      "text/plain": [
       "<Figure size 432x288 with 1 Axes>"
      ]
     },
     "metadata": {
      "needs_background": "light"
     },
     "output_type": "display_data"
    },
    {
     "name": "stdout",
     "output_type": "stream",
     "text": [
      "2 [1.    1.    0.995 0.998] [0.03657688 0.04538249 0.03674162 0.04916062]\n"
     ]
    },
    {
     "name": "stderr",
     "output_type": "stream",
     "text": [
      "Loading required package: lattice\n",
      "Loading required package: Rcpp\n",
      "Loading required package: RcppArmadillo\n",
      "Loading required package: glmnet\n",
      "Loading required package: Matrix\n",
      "Loaded glmnet 4.1-3\n",
      "Loading required package: horseshoe\n",
      "Loading required package: pgdraw\n"
     ]
    },
    {
     "name": "stdout",
     "output_type": "stream",
     "text": [
      "epoch: 1 / 30, training rmse: 1.0563, training r2: 0.1458\n",
      "epoch: 2 / 30, training rmse: 0.9708, training r2: 0.2785\n",
      "epoch: 3 / 30, training rmse: 0.8945, training r2: 0.3876\n",
      "epoch: 4 / 30, training rmse: 0.8293, training r2: 0.4736\n",
      "epoch: 5 / 30, training rmse: 0.7803, training r2: 0.5339\n",
      "epoch: 6 / 30, training rmse: 0.7503, training r2: 0.5691\n",
      "epoch: 7 / 30, training rmse: 0.7332, training r2: 0.5885\n",
      "epoch: 8 / 30, training rmse: 0.7227, training r2: 0.6001\n",
      "epoch: 9 / 30, training rmse: 0.7147, training r2: 0.609\n",
      "epoch: 10 / 30, training rmse: 0.709, training r2: 0.6151\n",
      "epoch: 11 / 30, training rmse: 0.7044, training r2: 0.6201\n",
      "epoch: 12 / 30, training rmse: 0.7008, training r2: 0.624\n",
      "epoch: 13 / 30, training rmse: 0.6975, training r2: 0.6276\n",
      "epoch: 14 / 30, training rmse: 0.6945, training r2: 0.6307\n",
      "epoch: 15 / 30, training rmse: 0.6924, training r2: 0.6331\n",
      "epoch: 16 / 30, training rmse: 0.6897, training r2: 0.6358\n",
      "epoch: 17 / 30, training rmse: 0.687, training r2: 0.6387\n",
      "epoch: 18 / 30, training rmse: 0.6849, training r2: 0.641\n",
      "epoch: 19 / 30, training rmse: 0.6829, training r2: 0.643\n",
      "epoch: 20 / 30, training rmse: 0.681, training r2: 0.645\n",
      "epoch: 21 / 30, training rmse: 0.6791, training r2: 0.647\n",
      "epoch: 22 / 30, training rmse: 0.6772, training r2: 0.6489\n",
      "epoch: 23 / 30, training rmse: 0.6748, training r2: 0.6514\n",
      "epoch: 24 / 30, training rmse: 0.6728, training r2: 0.6535\n",
      "epoch: 25 / 30, training rmse: 0.6706, training r2: 0.6558\n",
      "epoch: 26 / 30, training rmse: 0.6686, training r2: 0.6578\n",
      "epoch: 27 / 30, training rmse: 0.6665, training r2: 0.66\n",
      "epoch: 28 / 30, training rmse: 0.6645, training r2: 0.6619\n",
      "epoch: 29 / 30, training rmse: 0.6625, training r2: 0.6641\n",
      "epoch: 30 / 30, training rmse: 0.6603, training r2: 0.6662\n"
     ]
    },
    {
     "data": {
      "image/png": "[encoded data removed]",
      "text/plain": [
       "<Figure size 432x288 with 1 Axes>"
      ]
     },
     "metadata": {
      "needs_background": "light"
     },
     "output_type": "display_data"
    },
    {
     "name": "stdout",
     "output_type": "stream",
     "text": [
      "3 [1.    1.    0.992 0.998] [0.03588937 0.04430479 0.03924873 0.04592192]\n"
     ]
    },
    {
     "name": "stderr",
     "output_type": "stream",
     "text": [
      "Loading required package: lattice\n",
      "Loading required package: Rcpp\n",
      "Loading required package: RcppArmadillo\n",
      "Loading required package: glmnet\n",
      "Loading required package: Matrix\n",
      "Loaded glmnet 4.1-3\n",
      "Loading required package: horseshoe\n",
      "Loading required package: pgdraw\n"
     ]
    },
    {
     "name": "stdout",
     "output_type": "stream",
     "text": [
      "epoch: 1 / 30, training rmse: 1.0571, training r2: 0.1535\n",
      "epoch: 2 / 30, training rmse: 0.9732, training r2: 0.2826\n",
      "epoch: 3 / 30, training rmse: 0.8994, training r2: 0.3872\n",
      "epoch: 4 / 30, training rmse: 0.8376, training r2: 0.4686\n",
      "epoch: 5 / 30, training rmse: 0.7914, training r2: 0.5256\n",
      "epoch: 6 / 30, training rmse: 0.7617, training r2: 0.5605\n",
      "epoch: 7 / 30, training rmse: 0.7451, training r2: 0.5795\n",
      "epoch: 8 / 30, training rmse: 0.7348, training r2: 0.591\n",
      "epoch: 9 / 30, training rmse: 0.7273, training r2: 0.5993\n",
      "epoch: 10 / 30, training rmse: 0.7216, training r2: 0.6056\n",
      "epoch: 11 / 30, training rmse: 0.7171, training r2: 0.6105\n",
      "epoch: 12 / 30, training rmse: 0.7133, training r2: 0.6146\n",
      "epoch: 13 / 30, training rmse: 0.7104, training r2: 0.6177\n",
      "epoch: 14 / 30, training rmse: 0.7073, training r2: 0.621\n",
      "epoch: 15 / 30, training rmse: 0.7053, training r2: 0.6232\n",
      "epoch: 16 / 30, training rmse: 0.7032, training r2: 0.6255\n",
      "epoch: 17 / 30, training rmse: 0.7005, training r2: 0.6284\n",
      "epoch: 18 / 30, training rmse: 0.6988, training r2: 0.6301\n",
      "epoch: 19 / 30, training rmse: 0.6967, training r2: 0.6323\n",
      "epoch: 20 / 30, training rmse: 0.6946, training r2: 0.6345\n",
      "epoch: 21 / 30, training rmse: 0.6931, training r2: 0.6362\n",
      "epoch: 22 / 30, training rmse: 0.6907, training r2: 0.6386\n",
      "epoch: 23 / 30, training rmse: 0.6889, training r2: 0.6405\n",
      "epoch: 24 / 30, training rmse: 0.6872, training r2: 0.6423\n",
      "epoch: 25 / 30, training rmse: 0.6852, training r2: 0.6443\n",
      "epoch: 26 / 30, training rmse: 0.6835, training r2: 0.6461\n",
      "epoch: 27 / 30, training rmse: 0.6814, training r2: 0.6482\n",
      "epoch: 28 / 30, training rmse: 0.6797, training r2: 0.6501\n",
      "epoch: 29 / 30, training rmse: 0.6777, training r2: 0.6521\n",
      "epoch: 30 / 30, training rmse: 0.6763, training r2: 0.6536\n"
     ]
    },
    {
     "data": {
      "image/png": "[encoded data removed]",
      "text/plain": [
       "<Figure size 432x288 with 1 Axes>"
      ]
     },
     "metadata": {
      "needs_background": "light"
     },
     "output_type": "display_data"
    },
    {
     "name": "stdout",
     "output_type": "stream",
     "text": [
      "4 [1.    1.    0.992 0.999] [0.03747211 0.04502889 0.03902916 0.04670369]\n"
     ]
    },
    {
     "name": "stderr",
     "output_type": "stream",
     "text": [
      "Loading required package: lattice\n",
      "Loading required package: Rcpp\n",
      "Loading required package: RcppArmadillo\n",
      "Loading required package: glmnet\n",
      "Loading required package: Matrix\n",
      "Loaded glmnet 4.1-3\n",
      "Loading required package: horseshoe\n",
      "Loading required package: pgdraw\n"
     ]
    },
    {
     "name": "stdout",
     "output_type": "stream",
     "text": [
      "epoch: 1 / 30, training rmse: 1.0546, training r2: 0.1491\n",
      "epoch: 2 / 30, training rmse: 0.9692, training r2: 0.2814\n",
      "epoch: 3 / 30, training rmse: 0.8912, training r2: 0.3924\n",
      "epoch: 4 / 30, training rmse: 0.8251, training r2: 0.4792\n",
      "epoch: 5 / 30, training rmse: 0.7749, training r2: 0.5407\n",
      "epoch: 6 / 30, training rmse: 0.744, training r2: 0.5765\n",
      "epoch: 7 / 30, training rmse: 0.7273, training r2: 0.5953\n",
      "epoch: 8 / 30, training rmse: 0.7174, training r2: 0.6062\n",
      "epoch: 9 / 30, training rmse: 0.7108, training r2: 0.6135\n",
      "epoch: 10 / 30, training rmse: 0.7057, training r2: 0.619\n",
      "epoch: 11 / 30, training rmse: 0.7017, training r2: 0.6234\n",
      "epoch: 12 / 30, training rmse: 0.6986, training r2: 0.6266\n",
      "epoch: 13 / 30, training rmse: 0.6955, training r2: 0.63\n",
      "epoch: 14 / 30, training rmse: 0.693, training r2: 0.6326\n",
      "epoch: 15 / 30, training rmse: 0.6906, training r2: 0.6352\n",
      "epoch: 16 / 30, training rmse: 0.6887, training r2: 0.6372\n",
      "epoch: 17 / 30, training rmse: 0.6863, training r2: 0.6396\n",
      "epoch: 18 / 30, training rmse: 0.6843, training r2: 0.6418\n",
      "epoch: 19 / 30, training rmse: 0.6818, training r2: 0.6443\n",
      "epoch: 20 / 30, training rmse: 0.6797, training r2: 0.6466\n",
      "epoch: 21 / 30, training rmse: 0.6776, training r2: 0.6487\n",
      "epoch: 22 / 30, training rmse: 0.6759, training r2: 0.6505\n",
      "epoch: 23 / 30, training rmse: 0.6735, training r2: 0.653\n",
      "epoch: 24 / 30, training rmse: 0.6719, training r2: 0.6546\n",
      "epoch: 25 / 30, training rmse: 0.6697, training r2: 0.6569\n",
      "epoch: 26 / 30, training rmse: 0.6676, training r2: 0.659\n",
      "epoch: 27 / 30, training rmse: 0.6657, training r2: 0.661\n",
      "epoch: 28 / 30, training rmse: 0.6637, training r2: 0.663\n",
      "epoch: 29 / 30, training rmse: 0.6613, training r2: 0.6654\n",
      "epoch: 30 / 30, training rmse: 0.6592, training r2: 0.6676\n"
     ]
    },
    {
     "data": {
      "image/png": "[encoded data removed]",
      "text/plain": [
       "<Figure size 432x288 with 1 Axes>"
      ]
     },
     "metadata": {
      "needs_background": "light"
     },
     "output_type": "display_data"
    },
    {
     "name": "stdout",
     "output_type": "stream",
     "text": [
      "5 [1.    1.    0.992 0.994] [0.03637581 0.04505684 0.03601903 0.04891197]\n"
     ]
    },
    {
     "name": "stderr",
     "output_type": "stream",
     "text": [
      "Loading required package: lattice\n",
      "Loading required package: Rcpp\n",
      "Loading required package: RcppArmadillo\n",
      "Loading required package: glmnet\n",
      "Loading required package: Matrix\n",
      "Loaded glmnet 4.1-3\n",
      "Loading required package: horseshoe\n",
      "Loading required package: pgdraw\n"
     ]
    },
    {
     "name": "stdout",
     "output_type": "stream",
     "text": [
      "epoch: 1 / 30, training rmse: 1.0584, training r2: 0.1524\n",
      "epoch: 2 / 30, training rmse: 0.9763, training r2: 0.2787\n",
      "epoch: 3 / 30, training rmse: 0.9041, training r2: 0.3816\n",
      "epoch: 4 / 30, training rmse: 0.8428, training r2: 0.4625\n",
      "epoch: 5 / 30, training rmse: 0.796, training r2: 0.5206\n",
      "epoch: 6 / 30, training rmse: 0.7652, training r2: 0.557\n",
      "epoch: 7 / 30, training rmse: 0.7477, training r2: 0.577\n",
      "epoch: 8 / 30, training rmse: 0.7359, training r2: 0.5903\n",
      "epoch: 9 / 30, training rmse: 0.7267, training r2: 0.6005\n",
      "epoch: 10 / 30, training rmse: 0.7194, training r2: 0.6084\n",
      "epoch: 11 / 30, training rmse: 0.7133, training r2: 0.615\n",
      "epoch: 12 / 30, training rmse: 0.7092, training r2: 0.6195\n",
      "epoch: 13 / 30, training rmse: 0.705, training r2: 0.624\n",
      "epoch: 14 / 30, training rmse: 0.7014, training r2: 0.6278\n",
      "epoch: 15 / 30, training rmse: 0.6989, training r2: 0.6304\n",
      "epoch: 16 / 30, training rmse: 0.6962, training r2: 0.6333\n",
      "epoch: 17 / 30, training rmse: 0.694, training r2: 0.6356\n",
      "epoch: 18 / 30, training rmse: 0.6917, training r2: 0.638\n",
      "epoch: 19 / 30, training rmse: 0.6895, training r2: 0.6403\n",
      "epoch: 20 / 30, training rmse: 0.6877, training r2: 0.6422\n",
      "epoch: 21 / 30, training rmse: 0.6857, training r2: 0.6443\n",
      "epoch: 22 / 30, training rmse: 0.6835, training r2: 0.6465\n",
      "epoch: 23 / 30, training rmse: 0.6819, training r2: 0.6482\n",
      "epoch: 24 / 30, training rmse: 0.6801, training r2: 0.6501\n",
      "epoch: 25 / 30, training rmse: 0.6784, training r2: 0.6518\n",
      "epoch: 26 / 30, training rmse: 0.6766, training r2: 0.6536\n",
      "epoch: 27 / 30, training rmse: 0.6752, training r2: 0.6551\n",
      "epoch: 28 / 30, training rmse: 0.673, training r2: 0.6573\n",
      "epoch: 29 / 30, training rmse: 0.6713, training r2: 0.6591\n",
      "epoch: 30 / 30, training rmse: 0.6695, training r2: 0.6608\n"
     ]
    },
    {
     "data": {
      "image/png": "[encoded data removed]",
      "text/plain": [
       "<Figure size 432x288 with 1 Axes>"
      ]
     },
     "metadata": {
      "needs_background": "light"
     },
     "output_type": "display_data"
    },
    {
     "name": "stdout",
     "output_type": "stream",
     "text": [
      "6 [1.    1.    0.995 1.   ] [0.03702606 0.04402541 0.03764444 0.04632778]\n"
     ]
    },
    {
     "name": "stderr",
     "output_type": "stream",
     "text": [
      "Loading required package: lattice\n",
      "Loading required package: Rcpp\n",
      "Loading required package: RcppArmadillo\n",
      "Loading required package: glmnet\n",
      "Loading required package: Matrix\n",
      "Loaded glmnet 4.1-3\n",
      "Loading required package: horseshoe\n",
      "Loading required package: pgdraw\n"
     ]
    },
    {
     "name": "stdout",
     "output_type": "stream",
     "text": [
      "epoch: 1 / 30, training rmse: 1.0471, training r2: 0.1591\n",
      "epoch: 2 / 30, training rmse: 0.9613, training r2: 0.2913\n",
      "epoch: 3 / 30, training rmse: 0.8841, training r2: 0.4006\n",
      "epoch: 4 / 30, training rmse: 0.8184, training r2: 0.4864\n",
      "epoch: 5 / 30, training rmse: 0.7688, training r2: 0.5467\n",
      "epoch: 6 / 30, training rmse: 0.738, training r2: 0.5823\n",
      "epoch: 7 / 30, training rmse: 0.7215, training r2: 0.6008\n",
      "epoch: 8 / 30, training rmse: 0.711, training r2: 0.6123\n",
      "epoch: 9 / 30, training rmse: 0.704, training r2: 0.6199\n",
      "epoch: 10 / 30, training rmse: 0.6986, training r2: 0.6257\n",
      "epoch: 11 / 30, training rmse: 0.695, training r2: 0.6295\n",
      "epoch: 12 / 30, training rmse: 0.6914, training r2: 0.6334\n",
      "epoch: 13 / 30, training rmse: 0.6886, training r2: 0.6364\n",
      "epoch: 14 / 30, training rmse: 0.6864, training r2: 0.6387\n",
      "epoch: 15 / 30, training rmse: 0.684, training r2: 0.6412\n",
      "epoch: 16 / 30, training rmse: 0.682, training r2: 0.6433\n",
      "epoch: 17 / 30, training rmse: 0.6799, training r2: 0.6455\n",
      "epoch: 18 / 30, training rmse: 0.6776, training r2: 0.6478\n",
      "epoch: 19 / 30, training rmse: 0.6756, training r2: 0.6499\n",
      "epoch: 20 / 30, training rmse: 0.6736, training r2: 0.652\n",
      "epoch: 21 / 30, training rmse: 0.672, training r2: 0.6536\n",
      "epoch: 22 / 30, training rmse: 0.6699, training r2: 0.6558\n",
      "epoch: 23 / 30, training rmse: 0.668, training r2: 0.6578\n",
      "epoch: 24 / 30, training rmse: 0.6664, training r2: 0.6594\n",
      "epoch: 25 / 30, training rmse: 0.6644, training r2: 0.6615\n",
      "epoch: 26 / 30, training rmse: 0.6624, training r2: 0.6635\n",
      "epoch: 27 / 30, training rmse: 0.6609, training r2: 0.665\n",
      "epoch: 28 / 30, training rmse: 0.6589, training r2: 0.667\n",
      "epoch: 29 / 30, training rmse: 0.6569, training r2: 0.669\n",
      "epoch: 30 / 30, training rmse: 0.6547, training r2: 0.6713\n"
     ]
    },
    {
     "data": {
      "image/png": "[encoded data removed]",
      "text/plain": [
       "<Figure size 432x288 with 1 Axes>"
      ]
     },
     "metadata": {
      "needs_background": "light"
     },
     "output_type": "display_data"
    },
    {
     "name": "stdout",
     "output_type": "stream",
     "text": [
      "7 [1. 1. 1. 1.] [0.03551371 0.04318775 0.03747423 0.04548248]\n"
     ]
    },
    {
     "name": "stderr",
     "output_type": "stream",
     "text": [
      "Loading required package: lattice\n",
      "Loading required package: Rcpp\n",
      "Loading required package: RcppArmadillo\n",
      "Loading required package: glmnet\n",
      "Loading required package: Matrix\n",
      "Loaded glmnet 4.1-3\n",
      "Loading required package: horseshoe\n",
      "Loading required package: pgdraw\n"
     ]
    },
    {
     "name": "stdout",
     "output_type": "stream",
     "text": [
      "epoch: 1 / 30, training rmse: 1.0639, training r2: 0.1504\n",
      "epoch: 2 / 30, training rmse: 0.9797, training r2: 0.2796\n",
      "epoch: 3 / 30, training rmse: 0.9031, training r2: 0.3879\n",
      "epoch: 4 / 30, training rmse: 0.8382, training r2: 0.4727\n",
      "epoch: 5 / 30, training rmse: 0.7885, training r2: 0.5333\n",
      "epoch: 6 / 30, training rmse: 0.7564, training r2: 0.5706\n",
      "epoch: 7 / 30, training rmse: 0.7384, training r2: 0.5908\n",
      "epoch: 8 / 30, training rmse: 0.7279, training r2: 0.6023\n",
      "epoch: 9 / 30, training rmse: 0.7201, training r2: 0.6108\n",
      "epoch: 10 / 30, training rmse: 0.715, training r2: 0.6163\n",
      "epoch: 11 / 30, training rmse: 0.7105, training r2: 0.6211\n",
      "epoch: 12 / 30, training rmse: 0.7077, training r2: 0.624\n",
      "epoch: 13 / 30, training rmse: 0.7044, training r2: 0.6276\n",
      "epoch: 14 / 30, training rmse: 0.702, training r2: 0.6301\n",
      "epoch: 15 / 30, training rmse: 0.6998, training r2: 0.6325\n",
      "epoch: 16 / 30, training rmse: 0.6974, training r2: 0.6349\n",
      "epoch: 17 / 30, training rmse: 0.6952, training r2: 0.6373\n",
      "epoch: 18 / 30, training rmse: 0.6933, training r2: 0.6393\n",
      "epoch: 19 / 30, training rmse: 0.6911, training r2: 0.6415\n",
      "epoch: 20 / 30, training rmse: 0.6891, training r2: 0.6436\n",
      "epoch: 21 / 30, training rmse: 0.6871, training r2: 0.6456\n",
      "epoch: 22 / 30, training rmse: 0.6856, training r2: 0.6472\n",
      "epoch: 23 / 30, training rmse: 0.6836, training r2: 0.6493\n",
      "epoch: 24 / 30, training rmse: 0.6813, training r2: 0.6516\n",
      "epoch: 25 / 30, training rmse: 0.6797, training r2: 0.6533\n",
      "epoch: 26 / 30, training rmse: 0.6776, training r2: 0.6553\n",
      "epoch: 27 / 30, training rmse: 0.6761, training r2: 0.6569\n",
      "epoch: 28 / 30, training rmse: 0.6738, training r2: 0.6593\n",
      "epoch: 29 / 30, training rmse: 0.6719, training r2: 0.6612\n",
      "epoch: 30 / 30, training rmse: 0.6704, training r2: 0.6627\n"
     ]
    },
    {
     "data": {
      "image/png": "[encoded data removed]",
      "text/plain": [
       "<Figure size 432x288 with 1 Axes>"
      ]
     },
     "metadata": {
      "needs_background": "light"
     },
     "output_type": "display_data"
    },
    {
     "name": "stdout",
     "output_type": "stream",
     "text": [
      "8 [1.    1.    1.    0.999] [0.03685891 0.04294361 0.03435116 0.04709223]\n"
     ]
    },
    {
     "name": "stderr",
     "output_type": "stream",
     "text": [
      "Loading required package: lattice\n",
      "Loading required package: Rcpp\n",
      "Loading required package: RcppArmadillo\n",
      "Loading required package: glmnet\n",
      "Loading required package: Matrix\n",
      "Loaded glmnet 4.1-3\n",
      "Loading required package: horseshoe\n",
      "Loading required package: pgdraw\n"
     ]
    },
    {
     "name": "stdout",
     "output_type": "stream",
     "text": [
      "epoch: 1 / 30, training rmse: 1.0448, training r2: 0.1451\n",
      "epoch: 2 / 30, training rmse: 0.9625, training r2: 0.2745\n",
      "epoch: 3 / 30, training rmse: 0.8894, training r2: 0.3805\n",
      "epoch: 4 / 30, training rmse: 0.8272, training r2: 0.4642\n",
      "epoch: 5 / 30, training rmse: 0.7794, training r2: 0.5243\n",
      "epoch: 6 / 30, training rmse: 0.7483, training r2: 0.5614\n",
      "epoch: 7 / 30, training rmse: 0.7297, training r2: 0.583\n",
      "epoch: 8 / 30, training rmse: 0.7179, training r2: 0.5964\n",
      "epoch: 9 / 30, training rmse: 0.7094, training r2: 0.6059\n",
      "epoch: 10 / 30, training rmse: 0.7026, training r2: 0.6134\n",
      "epoch: 11 / 30, training rmse: 0.6971, training r2: 0.6195\n",
      "epoch: 12 / 30, training rmse: 0.6932, training r2: 0.6237\n",
      "epoch: 13 / 30, training rmse: 0.6896, training r2: 0.6276\n",
      "epoch: 14 / 30, training rmse: 0.6868, training r2: 0.6306\n",
      "epoch: 15 / 30, training rmse: 0.6845, training r2: 0.6331\n",
      "epoch: 16 / 30, training rmse: 0.6822, training r2: 0.6355\n",
      "epoch: 17 / 30, training rmse: 0.6803, training r2: 0.6375\n",
      "epoch: 18 / 30, training rmse: 0.6777, training r2: 0.6403\n",
      "epoch: 19 / 30, training rmse: 0.6756, training r2: 0.6425\n",
      "epoch: 20 / 30, training rmse: 0.6737, training r2: 0.6446\n",
      "epoch: 21 / 30, training rmse: 0.6722, training r2: 0.6461\n",
      "epoch: 22 / 30, training rmse: 0.6699, training r2: 0.6485\n",
      "epoch: 23 / 30, training rmse: 0.6679, training r2: 0.6506\n",
      "epoch: 24 / 30, training rmse: 0.6662, training r2: 0.6524\n",
      "epoch: 25 / 30, training rmse: 0.6643, training r2: 0.6544\n",
      "epoch: 26 / 30, training rmse: 0.6624, training r2: 0.6564\n",
      "epoch: 27 / 30, training rmse: 0.6608, training r2: 0.658\n",
      "epoch: 28 / 30, training rmse: 0.6585, training r2: 0.6604\n",
      "epoch: 29 / 30, training rmse: 0.657, training r2: 0.662\n",
      "epoch: 30 / 30, training rmse: 0.6552, training r2: 0.6638\n"
     ]
    },
    {
     "data": {
      "image/png": "[encoded data removed]",
      "text/plain": [
       "<Figure size 432x288 with 1 Axes>"
      ]
     },
     "metadata": {
      "needs_background": "light"
     },
     "output_type": "display_data"
    },
    {
     "name": "stdout",
     "output_type": "stream",
     "text": [
      "9 [1.    1.    0.998 1.   ] [0.03618347 0.04488383 0.03909908 0.04572347]\n"
     ]
    },
    {
     "name": "stderr",
     "output_type": "stream",
     "text": [
      "Loading required package: lattice\n",
      "Loading required package: Rcpp\n",
      "Loading required package: RcppArmadillo\n",
      "Loading required package: glmnet\n",
      "Loading required package: Matrix\n",
      "Loaded glmnet 4.1-3\n",
      "Loading required package: horseshoe\n",
      "Loading required package: pgdraw\n"
     ]
    },
    {
     "name": "stdout",
     "output_type": "stream",
     "text": [
      "epoch: 1 / 30, training rmse: 1.0607, training r2: 0.1397\n",
      "epoch: 2 / 30, training rmse: 0.9773, training r2: 0.2697\n",
      "epoch: 3 / 30, training rmse: 0.9014, training r2: 0.3788\n",
      "epoch: 4 / 30, training rmse: 0.8355, training r2: 0.4663\n",
      "epoch: 5 / 30, training rmse: 0.7856, training r2: 0.5281\n",
      "epoch: 6 / 30, training rmse: 0.7552, training r2: 0.5639\n",
      "epoch: 7 / 30, training rmse: 0.7389, training r2: 0.5825\n",
      "epoch: 8 / 30, training rmse: 0.7299, training r2: 0.5926\n",
      "epoch: 9 / 30, training rmse: 0.7238, training r2: 0.5994\n",
      "epoch: 10 / 30, training rmse: 0.7193, training r2: 0.6044\n",
      "epoch: 11 / 30, training rmse: 0.7156, training r2: 0.6085\n",
      "epoch: 12 / 30, training rmse: 0.7125, training r2: 0.6118\n",
      "epoch: 13 / 30, training rmse: 0.7101, training r2: 0.6145\n",
      "epoch: 14 / 30, training rmse: 0.7075, training r2: 0.6172\n",
      "epoch: 15 / 30, training rmse: 0.7057, training r2: 0.6192\n",
      "epoch: 16 / 30, training rmse: 0.7036, training r2: 0.6215\n",
      "epoch: 17 / 30, training rmse: 0.7011, training r2: 0.6242\n",
      "epoch: 18 / 30, training rmse: 0.6988, training r2: 0.6266\n",
      "epoch: 19 / 30, training rmse: 0.6968, training r2: 0.6288\n",
      "epoch: 20 / 30, training rmse: 0.695, training r2: 0.6307\n",
      "epoch: 21 / 30, training rmse: 0.6931, training r2: 0.6327\n",
      "epoch: 22 / 30, training rmse: 0.6912, training r2: 0.6346\n",
      "epoch: 23 / 30, training rmse: 0.6892, training r2: 0.6368\n",
      "epoch: 24 / 30, training rmse: 0.6873, training r2: 0.6388\n",
      "epoch: 25 / 30, training rmse: 0.6853, training r2: 0.6409\n",
      "epoch: 26 / 30, training rmse: 0.6836, training r2: 0.6427\n",
      "epoch: 27 / 30, training rmse: 0.6816, training r2: 0.6448\n",
      "epoch: 28 / 30, training rmse: 0.6796, training r2: 0.6469\n",
      "epoch: 29 / 30, training rmse: 0.678, training r2: 0.6486\n",
      "epoch: 30 / 30, training rmse: 0.6757, training r2: 0.6509\n"
     ]
    },
    {
     "data": {
      "image/png": "[encoded data removed]",
      "text/plain": [
       "<Figure size 432x288 with 1 Axes>"
      ]
     },
     "metadata": {
      "needs_background": "light"
     },
     "output_type": "display_data"
    },
    {
     "name": "stdout",
     "output_type": "stream",
     "text": [
      "10 [1.    1.    0.982 0.983] [0.03782741 0.04384433 0.04083516 0.04603567]\n"
     ]
    },
    {
     "name": "stderr",
     "output_type": "stream",
     "text": [
      "Loading required package: lattice\n",
      "Loading required package: Rcpp\n",
      "Loading required package: RcppArmadillo\n",
      "Loading required package: glmnet\n",
      "Loading required package: Matrix\n",
      "Loaded glmnet 4.1-3\n",
      "Loading required package: horseshoe\n",
      "Loading required package: pgdraw\n"
     ]
    },
    {
     "name": "stdout",
     "output_type": "stream",
     "text": [
      "epoch: 1 / 30, training rmse: 1.0518, training r2: 0.1441\n",
      "epoch: 2 / 30, training rmse: 0.9694, training r2: 0.2729\n",
      "epoch: 3 / 30, training rmse: 0.8933, training r2: 0.3826\n",
      "epoch: 4 / 30, training rmse: 0.8284, training r2: 0.4691\n",
      "epoch: 5 / 30, training rmse: 0.7796, training r2: 0.5297\n",
      "epoch: 6 / 30, training rmse: 0.7484, training r2: 0.5666\n",
      "epoch: 7 / 30, training rmse: 0.7308, training r2: 0.5868\n",
      "epoch: 8 / 30, training rmse: 0.7212, training r2: 0.5976\n",
      "epoch: 9 / 30, training rmse: 0.7137, training r2: 0.6059\n",
      "epoch: 10 / 30, training rmse: 0.708, training r2: 0.6122\n",
      "epoch: 11 / 30, training rmse: 0.7037, training r2: 0.6168\n",
      "epoch: 12 / 30, training rmse: 0.7001, training r2: 0.6208\n",
      "epoch: 13 / 30, training rmse: 0.697, training r2: 0.6241\n",
      "epoch: 14 / 30, training rmse: 0.6943, training r2: 0.627\n",
      "epoch: 15 / 30, training rmse: 0.6917, training r2: 0.6299\n",
      "epoch: 16 / 30, training rmse: 0.6896, training r2: 0.6321\n",
      "epoch: 17 / 30, training rmse: 0.6874, training r2: 0.6344\n",
      "epoch: 18 / 30, training rmse: 0.6852, training r2: 0.6368\n",
      "epoch: 19 / 30, training rmse: 0.6832, training r2: 0.6389\n",
      "epoch: 20 / 30, training rmse: 0.681, training r2: 0.6412\n",
      "epoch: 21 / 30, training rmse: 0.6792, training r2: 0.6431\n",
      "epoch: 22 / 30, training rmse: 0.6771, training r2: 0.6453\n",
      "epoch: 23 / 30, training rmse: 0.6753, training r2: 0.6472\n",
      "epoch: 24 / 30, training rmse: 0.6734, training r2: 0.6491\n",
      "epoch: 25 / 30, training rmse: 0.6715, training r2: 0.6512\n",
      "epoch: 26 / 30, training rmse: 0.67, training r2: 0.6527\n",
      "epoch: 27 / 30, training rmse: 0.6679, training r2: 0.6549\n",
      "epoch: 28 / 30, training rmse: 0.6658, training r2: 0.6571\n",
      "epoch: 29 / 30, training rmse: 0.664, training r2: 0.6589\n",
      "epoch: 30 / 30, training rmse: 0.6617, training r2: 0.6612\n"
     ]
    },
    {
     "data": {
      "image/png": "[encoded data removed]",
      "text/plain": [
       "<Figure size 432x288 with 1 Axes>"
      ]
     },
     "metadata": {
      "needs_background": "light"
     },
     "output_type": "display_data"
    },
    {
     "name": "stdout",
     "output_type": "stream",
     "text": [
      "11 [1.    1.    0.999 1.   ] [0.03597293 0.04463234 0.03731573 0.0472117 ]\n"
     ]
    },
    {
     "name": "stderr",
     "output_type": "stream",
     "text": [
      "Loading required package: lattice\n",
      "Loading required package: Rcpp\n",
      "Loading required package: RcppArmadillo\n",
      "Loading required package: glmnet\n",
      "Loading required package: Matrix\n",
      "Loaded glmnet 4.1-3\n",
      "Loading required package: horseshoe\n",
      "Loading required package: pgdraw\n"
     ]
    },
    {
     "name": "stdout",
     "output_type": "stream",
     "text": [
      "epoch: 1 / 30, training rmse: 1.0569, training r2: 0.156\n",
      "epoch: 2 / 30, training rmse: 0.9727, training r2: 0.2851\n",
      "epoch: 3 / 30, training rmse: 0.8974, training r2: 0.3915\n",
      "epoch: 4 / 30, training rmse: 0.8336, training r2: 0.475\n",
      "epoch: 5 / 30, training rmse: 0.7862, training r2: 0.533\n",
      "epoch: 6 / 30, training rmse: 0.7576, training r2: 0.5663\n",
      "epoch: 7 / 30, training rmse: 0.7412, training r2: 0.5849\n",
      "epoch: 8 / 30, training rmse: 0.7311, training r2: 0.5962\n",
      "epoch: 9 / 30, training rmse: 0.7233, training r2: 0.6048\n",
      "epoch: 10 / 30, training rmse: 0.7175, training r2: 0.611\n",
      "epoch: 11 / 30, training rmse: 0.7129, training r2: 0.616\n",
      "epoch: 12 / 30, training rmse: 0.709, training r2: 0.6202\n",
      "epoch: 13 / 30, training rmse: 0.7059, training r2: 0.6235\n",
      "epoch: 14 / 30, training rmse: 0.703, training r2: 0.6266\n",
      "epoch: 15 / 30, training rmse: 0.6998, training r2: 0.63\n",
      "epoch: 16 / 30, training rmse: 0.6974, training r2: 0.6325\n",
      "epoch: 17 / 30, training rmse: 0.6956, training r2: 0.6344\n",
      "epoch: 18 / 30, training rmse: 0.6933, training r2: 0.6368\n",
      "epoch: 19 / 30, training rmse: 0.6915, training r2: 0.6387\n",
      "epoch: 20 / 30, training rmse: 0.6894, training r2: 0.6409\n",
      "epoch: 21 / 30, training rmse: 0.6877, training r2: 0.6427\n",
      "epoch: 22 / 30, training rmse: 0.6856, training r2: 0.6448\n",
      "epoch: 23 / 30, training rmse: 0.6837, training r2: 0.6468\n",
      "epoch: 24 / 30, training rmse: 0.6825, training r2: 0.6481\n",
      "epoch: 25 / 30, training rmse: 0.6801, training r2: 0.6505\n",
      "epoch: 26 / 30, training rmse: 0.6786, training r2: 0.652\n",
      "epoch: 27 / 30, training rmse: 0.6767, training r2: 0.654\n",
      "epoch: 28 / 30, training rmse: 0.6745, training r2: 0.6562\n",
      "epoch: 29 / 30, training rmse: 0.673, training r2: 0.6578\n",
      "epoch: 30 / 30, training rmse: 0.6713, training r2: 0.6595\n"
     ]
    },
    {
     "data": {
      "image/png": "[encoded data removed]",
      "text/plain": [
       "<Figure size 432x288 with 1 Axes>"
      ]
     },
     "metadata": {
      "needs_background": "light"
     },
     "output_type": "display_data"
    },
    {
     "name": "stdout",
     "output_type": "stream",
     "text": [
      "12 [1.    1.    0.992 0.998] [0.03699943 0.04418901 0.03395656 0.04871403]\n"
     ]
    },
    {
     "name": "stderr",
     "output_type": "stream",
     "text": [
      "Loading required package: lattice\n",
      "Loading required package: Rcpp\n",
      "Loading required package: RcppArmadillo\n",
      "Loading required package: glmnet\n",
      "Loading required package: Matrix\n",
      "Loaded glmnet 4.1-3\n",
      "Loading required package: horseshoe\n",
      "Loading required package: pgdraw\n"
     ]
    },
    {
     "name": "stdout",
     "output_type": "stream",
     "text": [
      "epoch: 1 / 30, training rmse: 1.0508, training r2: 0.1508\n",
      "epoch: 2 / 30, training rmse: 0.9654, training r2: 0.2833\n",
      "epoch: 3 / 30, training rmse: 0.8894, training r2: 0.3917\n",
      "epoch: 4 / 30, training rmse: 0.8242, training r2: 0.4776\n",
      "epoch: 5 / 30, training rmse: 0.7759, training r2: 0.537\n",
      "epoch: 6 / 30, training rmse: 0.7464, training r2: 0.5715\n",
      "epoch: 7 / 30, training rmse: 0.7298, training r2: 0.5904\n",
      "epoch: 8 / 30, training rmse: 0.7197, training r2: 0.6016\n",
      "epoch: 9 / 30, training rmse: 0.7121, training r2: 0.6101\n",
      "epoch: 10 / 30, training rmse: 0.7063, training r2: 0.6163\n",
      "epoch: 11 / 30, training rmse: 0.7016, training r2: 0.6215\n",
      "epoch: 12 / 30, training rmse: 0.6983, training r2: 0.625\n",
      "epoch: 13 / 30, training rmse: 0.6948, training r2: 0.6287\n",
      "epoch: 14 / 30, training rmse: 0.6922, training r2: 0.6316\n",
      "epoch: 15 / 30, training rmse: 0.6894, training r2: 0.6344\n",
      "epoch: 16 / 30, training rmse: 0.6876, training r2: 0.6364\n",
      "epoch: 17 / 30, training rmse: 0.6854, training r2: 0.6387\n",
      "epoch: 18 / 30, training rmse: 0.6832, training r2: 0.6411\n",
      "epoch: 19 / 30, training rmse: 0.681, training r2: 0.6434\n",
      "epoch: 20 / 30, training rmse: 0.679, training r2: 0.6454\n",
      "epoch: 21 / 30, training rmse: 0.6773, training r2: 0.6472\n",
      "epoch: 22 / 30, training rmse: 0.6752, training r2: 0.6494\n",
      "epoch: 23 / 30, training rmse: 0.6736, training r2: 0.651\n",
      "epoch: 24 / 30, training rmse: 0.6714, training r2: 0.6534\n",
      "epoch: 25 / 30, training rmse: 0.6696, training r2: 0.6552\n",
      "epoch: 26 / 30, training rmse: 0.6681, training r2: 0.6567\n",
      "epoch: 27 / 30, training rmse: 0.6658, training r2: 0.659\n",
      "epoch: 28 / 30, training rmse: 0.6639, training r2: 0.6611\n",
      "epoch: 29 / 30, training rmse: 0.6622, training r2: 0.6627\n",
      "epoch: 30 / 30, training rmse: 0.6605, training r2: 0.6645\n"
     ]
    },
    {
     "data": {
      "image/png": "[encoded data removed]",
      "text/plain": [
       "<Figure size 432x288 with 1 Axes>"
      ]
     },
     "metadata": {
      "needs_background": "light"
     },
     "output_type": "display_data"
    },
    {
     "name": "stdout",
     "output_type": "stream",
     "text": [
      "13 [1.    1.    0.992 1.   ] [0.03625105 0.04437096 0.03575091 0.0482313 ]\n"
     ]
    },
    {
     "name": "stderr",
     "output_type": "stream",
     "text": [
      "Loading required package: lattice\n",
      "Loading required package: Rcpp\n",
      "Loading required package: RcppArmadillo\n",
      "Loading required package: glmnet\n",
      "Loading required package: Matrix\n",
      "Loaded glmnet 4.1-3\n",
      "Loading required package: horseshoe\n",
      "Loading required package: pgdraw\n"
     ]
    },
    {
     "name": "stdout",
     "output_type": "stream",
     "text": [
      "epoch: 1 / 30, training rmse: 1.0652, training r2: 0.152\n",
      "epoch: 2 / 30, training rmse: 0.9795, training r2: 0.283\n",
      "epoch: 3 / 30, training rmse: 0.9027, training r2: 0.3911\n",
      "epoch: 4 / 30, training rmse: 0.8373, training r2: 0.4761\n",
      "epoch: 5 / 30, training rmse: 0.7874, training r2: 0.5367\n",
      "epoch: 6 / 30, training rmse: 0.7567, training r2: 0.5721\n",
      "epoch: 7 / 30, training rmse: 0.7393, training r2: 0.5916\n",
      "epoch: 8 / 30, training rmse: 0.7286, training r2: 0.6033\n",
      "epoch: 9 / 30, training rmse: 0.722, training r2: 0.6104\n",
      "epoch: 10 / 30, training rmse: 0.7161, training r2: 0.6168\n",
      "epoch: 11 / 30, training rmse: 0.7117, training r2: 0.6215\n",
      "epoch: 12 / 30, training rmse: 0.7078, training r2: 0.6256\n",
      "epoch: 13 / 30, training rmse: 0.7049, training r2: 0.6287\n",
      "epoch: 14 / 30, training rmse: 0.7023, training r2: 0.6315\n",
      "epoch: 15 / 30, training rmse: 0.6999, training r2: 0.6339\n",
      "epoch: 16 / 30, training rmse: 0.6978, training r2: 0.6361\n",
      "epoch: 17 / 30, training rmse: 0.6954, training r2: 0.6386\n",
      "epoch: 18 / 30, training rmse: 0.6934, training r2: 0.6407\n",
      "epoch: 19 / 30, training rmse: 0.6913, training r2: 0.6428\n",
      "epoch: 20 / 30, training rmse: 0.6896, training r2: 0.6447\n",
      "epoch: 21 / 30, training rmse: 0.6874, training r2: 0.6469\n",
      "epoch: 22 / 30, training rmse: 0.6857, training r2: 0.6486\n",
      "epoch: 23 / 30, training rmse: 0.6838, training r2: 0.6506\n",
      "epoch: 24 / 30, training rmse: 0.6821, training r2: 0.6523\n",
      "epoch: 25 / 30, training rmse: 0.6805, training r2: 0.654\n",
      "epoch: 26 / 30, training rmse: 0.6788, training r2: 0.6557\n",
      "epoch: 27 / 30, training rmse: 0.6766, training r2: 0.6579\n",
      "epoch: 28 / 30, training rmse: 0.6749, training r2: 0.6596\n",
      "epoch: 29 / 30, training rmse: 0.673, training r2: 0.6616\n",
      "epoch: 30 / 30, training rmse: 0.6711, training r2: 0.6634\n"
     ]
    },
    {
     "data": {
      "image/png": "[encoded data removed]",
      "text/plain": [
       "<Figure size 432x288 with 1 Axes>"
      ]
     },
     "metadata": {
      "needs_background": "light"
     },
     "output_type": "display_data"
    },
    {
     "name": "stdout",
     "output_type": "stream",
     "text": [
      "14 [1. 1. 1. 1.] [0.03698481 0.04393609 0.03701235 0.04708445]\n"
     ]
    },
    {
     "name": "stderr",
     "output_type": "stream",
     "text": [
      "Loading required package: lattice\n",
      "Loading required package: Rcpp\n",
      "Loading required package: RcppArmadillo\n",
      "Loading required package: glmnet\n",
      "Loading required package: Matrix\n",
      "Loaded glmnet 4.1-3\n",
      "Loading required package: horseshoe\n",
      "Loading required package: pgdraw\n"
     ]
    },
    {
     "name": "stdout",
     "output_type": "stream",
     "text": [
      "epoch: 1 / 30, training rmse: 1.0621, training r2: 0.1524\n",
      "epoch: 2 / 30, training rmse: 0.9776, training r2: 0.2819\n",
      "epoch: 3 / 30, training rmse: 0.8994, training r2: 0.3921\n",
      "epoch: 4 / 30, training rmse: 0.8316, training r2: 0.4803\n",
      "epoch: 5 / 30, training rmse: 0.7803, training r2: 0.5426\n",
      "epoch: 6 / 30, training rmse: 0.7484, training r2: 0.5791\n",
      "epoch: 7 / 30, training rmse: 0.731, training r2: 0.5984\n",
      "epoch: 8 / 30, training rmse: 0.7224, training r2: 0.6079\n",
      "epoch: 9 / 30, training rmse: 0.7167, training r2: 0.6141\n",
      "epoch: 10 / 30, training rmse: 0.7122, training r2: 0.6188\n",
      "epoch: 11 / 30, training rmse: 0.7087, training r2: 0.6226\n",
      "epoch: 12 / 30, training rmse: 0.706, training r2: 0.6254\n",
      "epoch: 13 / 30, training rmse: 0.7034, training r2: 0.6282\n",
      "epoch: 14 / 30, training rmse: 0.7009, training r2: 0.6308\n",
      "epoch: 15 / 30, training rmse: 0.6989, training r2: 0.633\n",
      "epoch: 16 / 30, training rmse: 0.6969, training r2: 0.6351\n",
      "epoch: 17 / 30, training rmse: 0.695, training r2: 0.6371\n",
      "epoch: 18 / 30, training rmse: 0.6927, training r2: 0.6394\n",
      "epoch: 19 / 30, training rmse: 0.6908, training r2: 0.6415\n",
      "epoch: 20 / 30, training rmse: 0.6888, training r2: 0.6434\n",
      "epoch: 21 / 30, training rmse: 0.6872, training r2: 0.6452\n",
      "epoch: 22 / 30, training rmse: 0.6855, training r2: 0.6469\n",
      "epoch: 23 / 30, training rmse: 0.6837, training r2: 0.6488\n",
      "epoch: 24 / 30, training rmse: 0.6815, training r2: 0.651\n",
      "epoch: 25 / 30, training rmse: 0.6798, training r2: 0.6527\n",
      "epoch: 26 / 30, training rmse: 0.6779, training r2: 0.6547\n",
      "epoch: 27 / 30, training rmse: 0.676, training r2: 0.6566\n",
      "epoch: 28 / 30, training rmse: 0.6743, training r2: 0.6584\n",
      "epoch: 29 / 30, training rmse: 0.6723, training r2: 0.6604\n",
      "epoch: 30 / 30, training rmse: 0.6707, training r2: 0.6619\n"
     ]
    },
    {
     "data": {
      "image/png": "[encoded data removed]",
      "text/plain": [
       "<Figure size 432x288 with 1 Axes>"
      ]
     },
     "metadata": {
      "needs_background": "light"
     },
     "output_type": "display_data"
    },
    {
     "name": "stdout",
     "output_type": "stream",
     "text": [
      "15 [1.    1.    0.991 0.998] [0.03723652 0.04367918 0.03732181 0.04780718]\n"
     ]
    },
    {
     "name": "stderr",
     "output_type": "stream",
     "text": [
      "Loading required package: lattice\n",
      "Loading required package: Rcpp\n",
      "Loading required package: RcppArmadillo\n",
      "Loading required package: glmnet\n",
      "Loading required package: Matrix\n",
      "Loaded glmnet 4.1-3\n",
      "Loading required package: horseshoe\n",
      "Loading required package: pgdraw\n"
     ]
    },
    {
     "name": "stdout",
     "output_type": "stream",
     "text": [
      "epoch: 1 / 30, training rmse: 1.062, training r2: 0.1593\n",
      "epoch: 2 / 30, training rmse: 0.9778, training r2: 0.2872\n",
      "epoch: 3 / 30, training rmse: 0.902, training r2: 0.3935\n",
      "epoch: 4 / 30, training rmse: 0.836, training r2: 0.479\n",
      "epoch: 5 / 30, training rmse: 0.7854, training r2: 0.5401\n",
      "epoch: 6 / 30, training rmse: 0.7528, training r2: 0.5775\n",
      "epoch: 7 / 30, training rmse: 0.7348, training r2: 0.5975\n",
      "epoch: 8 / 30, training rmse: 0.7241, training r2: 0.6091\n",
      "epoch: 9 / 30, training rmse: 0.7174, training r2: 0.6164\n",
      "epoch: 10 / 30, training rmse: 0.7117, training r2: 0.6224\n",
      "epoch: 11 / 30, training rmse: 0.7074, training r2: 0.6269\n",
      "epoch: 12 / 30, training rmse: 0.704, training r2: 0.6305\n",
      "epoch: 13 / 30, training rmse: 0.7015, training r2: 0.6332\n",
      "epoch: 14 / 30, training rmse: 0.6988, training r2: 0.636\n",
      "epoch: 15 / 30, training rmse: 0.6963, training r2: 0.6386\n",
      "epoch: 16 / 30, training rmse: 0.6937, training r2: 0.6413\n",
      "epoch: 17 / 30, training rmse: 0.6919, training r2: 0.6431\n",
      "epoch: 18 / 30, training rmse: 0.6895, training r2: 0.6456\n",
      "epoch: 19 / 30, training rmse: 0.6878, training r2: 0.6474\n",
      "epoch: 20 / 30, training rmse: 0.6857, training r2: 0.6495\n",
      "epoch: 21 / 30, training rmse: 0.6841, training r2: 0.6511\n",
      "epoch: 22 / 30, training rmse: 0.6821, training r2: 0.6531\n",
      "epoch: 23 / 30, training rmse: 0.6804, training r2: 0.6549\n",
      "epoch: 24 / 30, training rmse: 0.6785, training r2: 0.6568\n",
      "epoch: 25 / 30, training rmse: 0.6766, training r2: 0.6587\n",
      "epoch: 26 / 30, training rmse: 0.6747, training r2: 0.6607\n",
      "epoch: 27 / 30, training rmse: 0.6729, training r2: 0.6624\n",
      "epoch: 28 / 30, training rmse: 0.6714, training r2: 0.664\n",
      "epoch: 29 / 30, training rmse: 0.6695, training r2: 0.6659\n",
      "epoch: 30 / 30, training rmse: 0.6672, training r2: 0.6681\n"
     ]
    },
    {
     "data": {
      "image/png": "[encoded data removed]",
      "text/plain": [
       "<Figure size 432x288 with 1 Axes>"
      ]
     },
     "metadata": {
      "needs_background": "light"
     },
     "output_type": "display_data"
    },
    {
     "name": "stdout",
     "output_type": "stream",
     "text": [
      "16 [1.    1.    0.997 0.998] [0.03661729 0.0441509  0.03317477 0.04916949]\n"
     ]
    },
    {
     "name": "stderr",
     "output_type": "stream",
     "text": [
      "Loading required package: lattice\n",
      "Loading required package: Rcpp\n",
      "Loading required package: RcppArmadillo\n",
      "Loading required package: glmnet\n",
      "Loading required package: Matrix\n",
      "Loaded glmnet 4.1-3\n",
      "Loading required package: horseshoe\n",
      "Loading required package: pgdraw\n"
     ]
    },
    {
     "name": "stdout",
     "output_type": "stream",
     "text": [
      "epoch: 1 / 30, training rmse: 1.0658, training r2: 0.1451\n",
      "epoch: 2 / 30, training rmse: 0.9821, training r2: 0.2741\n",
      "epoch: 3 / 30, training rmse: 0.9048, training r2: 0.3839\n",
      "epoch: 4 / 30, training rmse: 0.837, training r2: 0.4727\n",
      "epoch: 5 / 30, training rmse: 0.786, training r2: 0.535\n",
      "epoch: 6 / 30, training rmse: 0.755, training r2: 0.571\n",
      "epoch: 7 / 30, training rmse: 0.7372, training r2: 0.591\n",
      "epoch: 8 / 30, training rmse: 0.7274, training r2: 0.6017\n",
      "epoch: 9 / 30, training rmse: 0.7209, training r2: 0.6089\n",
      "epoch: 10 / 30, training rmse: 0.7158, training r2: 0.6143\n",
      "epoch: 11 / 30, training rmse: 0.7121, training r2: 0.6183\n",
      "epoch: 12 / 30, training rmse: 0.7084, training r2: 0.6223\n",
      "epoch: 13 / 30, training rmse: 0.7062, training r2: 0.6247\n",
      "epoch: 14 / 30, training rmse: 0.7033, training r2: 0.6277\n",
      "epoch: 15 / 30, training rmse: 0.7013, training r2: 0.6298\n",
      "epoch: 16 / 30, training rmse: 0.6991, training r2: 0.6322\n",
      "epoch: 17 / 30, training rmse: 0.697, training r2: 0.6344\n",
      "epoch: 18 / 30, training rmse: 0.6949, training r2: 0.6366\n",
      "epoch: 19 / 30, training rmse: 0.6929, training r2: 0.6386\n",
      "epoch: 20 / 30, training rmse: 0.691, training r2: 0.6406\n",
      "epoch: 21 / 30, training rmse: 0.6893, training r2: 0.6424\n",
      "epoch: 22 / 30, training rmse: 0.6874, training r2: 0.6444\n",
      "epoch: 23 / 30, training rmse: 0.6853, training r2: 0.6465\n",
      "epoch: 24 / 30, training rmse: 0.6834, training r2: 0.6485\n",
      "epoch: 25 / 30, training rmse: 0.6817, training r2: 0.6503\n",
      "epoch: 26 / 30, training rmse: 0.6797, training r2: 0.6522\n",
      "epoch: 27 / 30, training rmse: 0.6779, training r2: 0.6541\n",
      "epoch: 28 / 30, training rmse: 0.6761, training r2: 0.656\n",
      "epoch: 29 / 30, training rmse: 0.6744, training r2: 0.6576\n",
      "epoch: 30 / 30, training rmse: 0.6726, training r2: 0.6595\n"
     ]
    },
    {
     "data": {
      "image/png": "[encoded data removed]",
      "text/plain": [
       "<Figure size 432x288 with 1 Axes>"
      ]
     },
     "metadata": {
      "needs_background": "light"
     },
     "output_type": "display_data"
    },
    {
     "name": "stdout",
     "output_type": "stream",
     "text": [
      "17 [1.    1.    0.999 1.   ] [0.03717331 0.0440618  0.03433411 0.0485232 ]\n"
     ]
    },
    {
     "name": "stderr",
     "output_type": "stream",
     "text": [
      "Loading required package: lattice\n",
      "Loading required package: Rcpp\n",
      "Loading required package: RcppArmadillo\n",
      "Loading required package: glmnet\n",
      "Loading required package: Matrix\n",
      "Loaded glmnet 4.1-3\n",
      "Loading required package: horseshoe\n",
      "Loading required package: pgdraw\n"
     ]
    },
    {
     "name": "stdout",
     "output_type": "stream",
     "text": [
      "epoch: 1 / 30, training rmse: 1.0527, training r2: 0.1463\n",
      "epoch: 2 / 30, training rmse: 0.9715, training r2: 0.2729\n",
      "epoch: 3 / 30, training rmse: 0.8972, training r2: 0.3799\n",
      "epoch: 4 / 30, training rmse: 0.834, training r2: 0.4642\n",
      "epoch: 5 / 30, training rmse: 0.7859, training r2: 0.5242\n",
      "epoch: 6 / 30, training rmse: 0.7555, training r2: 0.5603\n",
      "epoch: 7 / 30, training rmse: 0.7377, training r2: 0.5808\n",
      "epoch: 8 / 30, training rmse: 0.727, training r2: 0.5929\n",
      "epoch: 9 / 30, training rmse: 0.7195, training r2: 0.6013\n",
      "epoch: 10 / 30, training rmse: 0.7138, training r2: 0.6076\n",
      "epoch: 11 / 30, training rmse: 0.7093, training r2: 0.6124\n",
      "epoch: 12 / 30, training rmse: 0.7057, training r2: 0.6164\n",
      "epoch: 13 / 30, training rmse: 0.702, training r2: 0.6204\n",
      "epoch: 14 / 30, training rmse: 0.6997, training r2: 0.6229\n",
      "epoch: 15 / 30, training rmse: 0.6968, training r2: 0.626\n",
      "epoch: 16 / 30, training rmse: 0.6948, training r2: 0.6281\n",
      "epoch: 17 / 30, training rmse: 0.6927, training r2: 0.6303\n",
      "epoch: 18 / 30, training rmse: 0.6908, training r2: 0.6324\n",
      "epoch: 19 / 30, training rmse: 0.6885, training r2: 0.6349\n",
      "epoch: 20 / 30, training rmse: 0.687, training r2: 0.6365\n",
      "epoch: 21 / 30, training rmse: 0.6852, training r2: 0.6383\n",
      "epoch: 22 / 30, training rmse: 0.6832, training r2: 0.6405\n",
      "epoch: 23 / 30, training rmse: 0.6814, training r2: 0.6424\n",
      "epoch: 24 / 30, training rmse: 0.6795, training r2: 0.6444\n",
      "epoch: 25 / 30, training rmse: 0.6778, training r2: 0.6461\n",
      "epoch: 26 / 30, training rmse: 0.6761, training r2: 0.6479\n",
      "epoch: 27 / 30, training rmse: 0.6741, training r2: 0.6499\n",
      "epoch: 28 / 30, training rmse: 0.6723, training r2: 0.6518\n",
      "epoch: 29 / 30, training rmse: 0.6709, training r2: 0.6533\n",
      "epoch: 30 / 30, training rmse: 0.6693, training r2: 0.6549\n"
     ]
    },
    {
     "data": {
      "image/png": "[encoded data removed]",
      "text/plain": [
       "<Figure size 432x288 with 1 Axes>"
      ]
     },
     "metadata": {
      "needs_background": "light"
     },
     "output_type": "display_data"
    },
    {
     "name": "stdout",
     "output_type": "stream",
     "text": [
      "18 [1.    0.996 0.987 0.991] [0.03711997 0.04371798 0.03519789 0.04882337]\n"
     ]
    },
    {
     "name": "stderr",
     "output_type": "stream",
     "text": [
      "Loading required package: lattice\n",
      "Loading required package: Rcpp\n",
      "Loading required package: RcppArmadillo\n",
      "Loading required package: glmnet\n",
      "Loading required package: Matrix\n",
      "Loaded glmnet 4.1-3\n",
      "Loading required package: horseshoe\n",
      "Loading required package: pgdraw\n"
     ]
    },
    {
     "name": "stdout",
     "output_type": "stream",
     "text": [
      "epoch: 1 / 30, training rmse: 1.0553, training r2: 0.1572\n",
      "epoch: 2 / 30, training rmse: 0.9726, training r2: 0.2842\n",
      "epoch: 3 / 30, training rmse: 0.8987, training r2: 0.3888\n",
      "epoch: 4 / 30, training rmse: 0.8358, training r2: 0.4714\n",
      "epoch: 5 / 30, training rmse: 0.7893, training r2: 0.5285\n",
      "epoch: 6 / 30, training rmse: 0.7587, training r2: 0.5644\n",
      "epoch: 7 / 30, training rmse: 0.7419, training r2: 0.5835\n",
      "epoch: 8 / 30, training rmse: 0.7316, training r2: 0.595\n",
      "epoch: 9 / 30, training rmse: 0.7242, training r2: 0.6031\n",
      "epoch: 10 / 30, training rmse: 0.7187, training r2: 0.6092\n",
      "epoch: 11 / 30, training rmse: 0.7141, training r2: 0.6141\n",
      "epoch: 12 / 30, training rmse: 0.7105, training r2: 0.618\n",
      "epoch: 13 / 30, training rmse: 0.7074, training r2: 0.6214\n",
      "epoch: 14 / 30, training rmse: 0.705, training r2: 0.6239\n",
      "epoch: 15 / 30, training rmse: 0.7023, training r2: 0.6268\n",
      "epoch: 16 / 30, training rmse: 0.7001, training r2: 0.6291\n",
      "epoch: 17 / 30, training rmse: 0.698, training r2: 0.6313\n",
      "epoch: 18 / 30, training rmse: 0.6959, training r2: 0.6335\n",
      "epoch: 19 / 30, training rmse: 0.6937, training r2: 0.6359\n",
      "epoch: 20 / 30, training rmse: 0.6917, training r2: 0.6379\n",
      "epoch: 21 / 30, training rmse: 0.6897, training r2: 0.64\n",
      "epoch: 22 / 30, training rmse: 0.6876, training r2: 0.6422\n",
      "epoch: 23 / 30, training rmse: 0.6856, training r2: 0.6443\n",
      "epoch: 24 / 30, training rmse: 0.6835, training r2: 0.6464\n",
      "epoch: 25 / 30, training rmse: 0.6816, training r2: 0.6484\n",
      "epoch: 26 / 30, training rmse: 0.6798, training r2: 0.6503\n",
      "epoch: 27 / 30, training rmse: 0.6778, training r2: 0.6523\n",
      "epoch: 28 / 30, training rmse: 0.676, training r2: 0.6542\n",
      "epoch: 29 / 30, training rmse: 0.674, training r2: 0.6562\n",
      "epoch: 30 / 30, training rmse: 0.6722, training r2: 0.658\n"
     ]
    },
    {
     "data": {
      "image/png": "[encoded data removed]",
      "text/plain": [
       "<Figure size 432x288 with 1 Axes>"
      ]
     },
     "metadata": {
      "needs_background": "light"
     },
     "output_type": "display_data"
    },
    {
     "name": "stdout",
     "output_type": "stream",
     "text": [
      "19 [1.    1.    0.997 0.999] [0.03755321 0.04440293 0.03962207 0.04763429]\n"
     ]
    },
    {
     "name": "stderr",
     "output_type": "stream",
     "text": [
      "Loading required package: lattice\n",
      "Loading required package: Rcpp\n",
      "Loading required package: RcppArmadillo\n",
      "Loading required package: glmnet\n",
      "Loading required package: Matrix\n",
      "Loaded glmnet 4.1-3\n",
      "Loading required package: horseshoe\n",
      "Loading required package: pgdraw\n"
     ]
    },
    {
     "name": "stdout",
     "output_type": "stream",
     "text": [
      "epoch: 1 / 30, training rmse: 1.0635, training r2: 0.1455\n",
      "epoch: 2 / 30, training rmse: 0.9805, training r2: 0.2736\n",
      "epoch: 3 / 30, training rmse: 0.9035, training r2: 0.3832\n",
      "epoch: 4 / 30, training rmse: 0.8373, training r2: 0.4703\n",
      "epoch: 5 / 30, training rmse: 0.7859, training r2: 0.5334\n",
      "epoch: 6 / 30, training rmse: 0.7533, training r2: 0.5712\n",
      "epoch: 7 / 30, training rmse: 0.7352, training r2: 0.5916\n",
      "epoch: 8 / 30, training rmse: 0.7251, training r2: 0.6027\n",
      "epoch: 9 / 30, training rmse: 0.7185, training r2: 0.6099\n",
      "epoch: 10 / 30, training rmse: 0.7144, training r2: 0.6144\n",
      "epoch: 11 / 30, training rmse: 0.7102, training r2: 0.6189\n",
      "epoch: 12 / 30, training rmse: 0.7067, training r2: 0.6226\n",
      "epoch: 13 / 30, training rmse: 0.7044, training r2: 0.6251\n",
      "epoch: 14 / 30, training rmse: 0.7014, training r2: 0.6283\n",
      "epoch: 15 / 30, training rmse: 0.6996, training r2: 0.6302\n",
      "epoch: 16 / 30, training rmse: 0.6971, training r2: 0.6329\n",
      "epoch: 17 / 30, training rmse: 0.695, training r2: 0.6351\n",
      "epoch: 18 / 30, training rmse: 0.6929, training r2: 0.6372\n",
      "epoch: 19 / 30, training rmse: 0.6911, training r2: 0.6391\n",
      "epoch: 20 / 30, training rmse: 0.6892, training r2: 0.6411\n",
      "epoch: 21 / 30, training rmse: 0.6875, training r2: 0.6429\n",
      "epoch: 22 / 30, training rmse: 0.6854, training r2: 0.6451\n",
      "epoch: 23 / 30, training rmse: 0.6838, training r2: 0.6467\n",
      "epoch: 24 / 30, training rmse: 0.682, training r2: 0.6485\n",
      "epoch: 25 / 30, training rmse: 0.6799, training r2: 0.6507\n",
      "epoch: 26 / 30, training rmse: 0.678, training r2: 0.6526\n",
      "epoch: 27 / 30, training rmse: 0.6764, training r2: 0.6543\n",
      "epoch: 28 / 30, training rmse: 0.6745, training r2: 0.6562\n",
      "epoch: 29 / 30, training rmse: 0.673, training r2: 0.6577\n",
      "epoch: 30 / 30, training rmse: 0.6709, training r2: 0.6599\n"
     ]
    },
    {
     "data": {
      "image/png": "[encoded data removed]",
      "text/plain": [
       "<Figure size 432x288 with 1 Axes>"
      ]
     },
     "metadata": {
      "needs_background": "light"
     },
     "output_type": "display_data"
    },
    {
     "name": "stdout",
     "output_type": "stream",
     "text": [
      "20 [1.    0.998 1.    0.999] [0.03721555 0.04374567 0.03709277 0.04869646]\n"
     ]
    },
    {
     "name": "stderr",
     "output_type": "stream",
     "text": [
      "Loading required package: lattice\n",
      "Loading required package: Rcpp\n",
      "Loading required package: RcppArmadillo\n",
      "Loading required package: glmnet\n",
      "Loading required package: Matrix\n",
      "Loaded glmnet 4.1-3\n",
      "Loading required package: horseshoe\n",
      "Loading required package: pgdraw\n"
     ]
    },
    {
     "name": "stdout",
     "output_type": "stream",
     "text": [
      "epoch: 1 / 30, training rmse: 1.0575, training r2: 0.1527\n",
      "epoch: 2 / 30, training rmse: 0.9726, training r2: 0.2834\n",
      "epoch: 3 / 30, training rmse: 0.8946, training r2: 0.3937\n",
      "epoch: 4 / 30, training rmse: 0.8273, training r2: 0.4815\n",
      "epoch: 5 / 30, training rmse: 0.7777, training r2: 0.5418\n",
      "epoch: 6 / 30, training rmse: 0.747, training r2: 0.5772\n",
      "epoch: 7 / 30, training rmse: 0.7301, training r2: 0.5962\n",
      "epoch: 8 / 30, training rmse: 0.7207, training r2: 0.6065\n",
      "epoch: 9 / 30, training rmse: 0.7143, training r2: 0.6135\n",
      "epoch: 10 / 30, training rmse: 0.7098, training r2: 0.6183\n",
      "epoch: 11 / 30, training rmse: 0.7058, training r2: 0.6226\n",
      "epoch: 12 / 30, training rmse: 0.7029, training r2: 0.6257\n",
      "epoch: 13 / 30, training rmse: 0.7001, training r2: 0.6287\n",
      "epoch: 14 / 30, training rmse: 0.6975, training r2: 0.6314\n",
      "epoch: 15 / 30, training rmse: 0.6952, training r2: 0.6338\n",
      "epoch: 16 / 30, training rmse: 0.6933, training r2: 0.6359\n",
      "epoch: 17 / 30, training rmse: 0.6909, training r2: 0.6383\n",
      "epoch: 18 / 30, training rmse: 0.6888, training r2: 0.6406\n",
      "epoch: 19 / 30, training rmse: 0.6867, training r2: 0.6427\n",
      "epoch: 20 / 30, training rmse: 0.6845, training r2: 0.6451\n",
      "epoch: 21 / 30, training rmse: 0.6827, training r2: 0.6469\n",
      "epoch: 22 / 30, training rmse: 0.6808, training r2: 0.6489\n",
      "epoch: 23 / 30, training rmse: 0.6787, training r2: 0.6511\n",
      "epoch: 24 / 30, training rmse: 0.6767, training r2: 0.6531\n",
      "epoch: 25 / 30, training rmse: 0.6746, training r2: 0.6552\n",
      "epoch: 26 / 30, training rmse: 0.673, training r2: 0.6568\n",
      "epoch: 27 / 30, training rmse: 0.6706, training r2: 0.6593\n",
      "epoch: 28 / 30, training rmse: 0.6691, training r2: 0.6609\n",
      "epoch: 29 / 30, training rmse: 0.667, training r2: 0.6629\n",
      "epoch: 30 / 30, training rmse: 0.665, training r2: 0.665\n"
     ]
    },
    {
     "data": {
      "image/png": "[encoded data removed]",
      "text/plain": [
       "<Figure size 432x288 with 1 Axes>"
      ]
     },
     "metadata": {
      "needs_background": "light"
     },
     "output_type": "display_data"
    },
    {
     "name": "stdout",
     "output_type": "stream",
     "text": [
      "21 [1.    1.    0.996 0.998] [0.03652854 0.04527067 0.0369817  0.04859793]\n"
     ]
    },
    {
     "name": "stderr",
     "output_type": "stream",
     "text": [
      "Loading required package: lattice\n",
      "Loading required package: Rcpp\n",
      "Loading required package: RcppArmadillo\n",
      "Loading required package: glmnet\n",
      "Loading required package: Matrix\n",
      "Loaded glmnet 4.1-3\n",
      "Loading required package: horseshoe\n",
      "Loading required package: pgdraw\n",
      "Error in fast_horseshoe_lm(train_outcomes[i, ], Psi_o) : \n",
      "  chol(): decomposition failed\n",
      "Execution halted\n"
     ]
    },
    {
     "name": "stdout",
     "output_type": "stream",
     "text": [
      "epoch: 1 / 30, training rmse: 1.0661, training r2: 0.139\n",
      "epoch: 2 / 30, training rmse: 0.9819, training r2: 0.2696\n",
      "epoch: 3 / 30, training rmse: 0.9051, training r2: 0.3794\n",
      "epoch: 4 / 30, training rmse: 0.8374, training r2: 0.4688\n",
      "epoch: 5 / 30, training rmse: 0.7857, training r2: 0.5323\n",
      "epoch: 6 / 30, training rmse: 0.7524, training r2: 0.5711\n",
      "epoch: 7 / 30, training rmse: 0.7341, training r2: 0.5917\n",
      "epoch: 8 / 30, training rmse: 0.7239, training r2: 0.603\n",
      "epoch: 9 / 30, training rmse: 0.7171, training r2: 0.6104\n",
      "epoch: 10 / 30, training rmse: 0.7123, training r2: 0.6156\n",
      "epoch: 11 / 30, training rmse: 0.7086, training r2: 0.6196\n",
      "epoch: 12 / 30, training rmse: 0.7054, training r2: 0.623\n",
      "epoch: 13 / 30, training rmse: 0.7027, training r2: 0.6259\n",
      "epoch: 14 / 30, training rmse: 0.7002, training r2: 0.6286\n",
      "epoch: 15 / 30, training rmse: 0.6981, training r2: 0.6308\n",
      "epoch: 16 / 30, training rmse: 0.6958, training r2: 0.6333\n",
      "epoch: 17 / 30, training rmse: 0.6938, training r2: 0.6354\n",
      "epoch: 18 / 30, training rmse: 0.6916, training r2: 0.6377\n",
      "epoch: 19 / 30, training rmse: 0.6895, training r2: 0.6399\n",
      "epoch: 20 / 30, training rmse: 0.6878, training r2: 0.6416\n",
      "epoch: 21 / 30, training rmse: 0.6857, training r2: 0.6438\n",
      "epoch: 22 / 30, training rmse: 0.6842, training r2: 0.6454\n",
      "epoch: 23 / 30, training rmse: 0.682, training r2: 0.6476\n",
      "epoch: 24 / 30, training rmse: 0.6801, training r2: 0.6496\n",
      "epoch: 25 / 30, training rmse: 0.6785, training r2: 0.6512\n",
      "epoch: 26 / 30, training rmse: 0.6763, training r2: 0.6534\n",
      "epoch: 27 / 30, training rmse: 0.6747, training r2: 0.6552\n",
      "epoch: 28 / 30, training rmse: 0.6729, training r2: 0.657\n",
      "epoch: 29 / 30, training rmse: 0.6709, training r2: 0.659\n",
      "epoch: 30 / 30, training rmse: 0.669, training r2: 0.6609\n"
     ]
    },
    {
     "data": {
      "image/png": "[encoded data removed]",
      "text/plain": [
       "<Figure size 432x288 with 1 Axes>"
      ]
     },
     "metadata": {
      "needs_background": "light"
     },
     "output_type": "display_data"
    },
    {
     "name": "stdout",
     "output_type": "stream",
     "text": [
      "22 [0.496 0.518 0.997 0.997] [0.06159083 0.06072073 0.03624448 0.04936091]\n"
     ]
    },
    {
     "name": "stderr",
     "output_type": "stream",
     "text": [
      "Loading required package: lattice\n",
      "Loading required package: Rcpp\n",
      "Loading required package: RcppArmadillo\n",
      "Loading required package: glmnet\n",
      "Loading required package: Matrix\n",
      "Loaded glmnet 4.1-3\n",
      "Loading required package: horseshoe\n",
      "Loading required package: pgdraw\n"
     ]
    },
    {
     "name": "stdout",
     "output_type": "stream",
     "text": [
      "epoch: 1 / 30, training rmse: 1.0589, training r2: 0.1429\n",
      "epoch: 2 / 30, training rmse: 0.9753, training r2: 0.2729\n",
      "epoch: 3 / 30, training rmse: 0.8995, training r2: 0.3816\n",
      "epoch: 4 / 30, training rmse: 0.8335, training r2: 0.469\n",
      "epoch: 5 / 30, training rmse: 0.7842, training r2: 0.53\n",
      "epoch: 6 / 30, training rmse: 0.7531, training r2: 0.5666\n",
      "epoch: 7 / 30, training rmse: 0.736, training r2: 0.586\n",
      "epoch: 8 / 30, training rmse: 0.7264, training r2: 0.5967\n",
      "epoch: 9 / 30, training rmse: 0.72, training r2: 0.6037\n",
      "epoch: 10 / 30, training rmse: 0.7154, training r2: 0.6088\n",
      "epoch: 11 / 30, training rmse: 0.7119, training r2: 0.6127\n",
      "epoch: 12 / 30, training rmse: 0.7087, training r2: 0.6161\n",
      "epoch: 13 / 30, training rmse: 0.7057, training r2: 0.6194\n",
      "epoch: 14 / 30, training rmse: 0.7035, training r2: 0.6217\n",
      "epoch: 15 / 30, training rmse: 0.7014, training r2: 0.624\n",
      "epoch: 16 / 30, training rmse: 0.6992, training r2: 0.6263\n",
      "epoch: 17 / 30, training rmse: 0.6975, training r2: 0.6282\n",
      "epoch: 18 / 30, training rmse: 0.6952, training r2: 0.6306\n",
      "epoch: 19 / 30, training rmse: 0.6931, training r2: 0.6328\n",
      "epoch: 20 / 30, training rmse: 0.6916, training r2: 0.6344\n",
      "epoch: 21 / 30, training rmse: 0.6894, training r2: 0.6367\n",
      "epoch: 22 / 30, training rmse: 0.6876, training r2: 0.6387\n",
      "epoch: 23 / 30, training rmse: 0.6856, training r2: 0.6407\n",
      "epoch: 24 / 30, training rmse: 0.6839, training r2: 0.6426\n",
      "epoch: 25 / 30, training rmse: 0.6823, training r2: 0.6442\n",
      "epoch: 26 / 30, training rmse: 0.6804, training r2: 0.6461\n",
      "epoch: 27 / 30, training rmse: 0.6782, training r2: 0.6484\n",
      "epoch: 28 / 30, training rmse: 0.6766, training r2: 0.6501\n",
      "epoch: 29 / 30, training rmse: 0.6749, training r2: 0.6519\n",
      "epoch: 30 / 30, training rmse: 0.6733, training r2: 0.6535\n"
     ]
    },
    {
     "data": {
      "image/png": "[encoded data removed]",
      "text/plain": [
       "<Figure size 432x288 with 1 Axes>"
      ]
     },
     "metadata": {
      "needs_background": "light"
     },
     "output_type": "display_data"
    },
    {
     "name": "stdout",
     "output_type": "stream",
     "text": [
      "23 [1.    1.    0.994 0.999] [0.03763806 0.04411542 0.03858607 0.04700294]\n"
     ]
    },
    {
     "name": "stderr",
     "output_type": "stream",
     "text": [
      "Loading required package: lattice\n",
      "Loading required package: Rcpp\n",
      "Loading required package: RcppArmadillo\n",
      "Loading required package: glmnet\n",
      "Loading required package: Matrix\n",
      "Loaded glmnet 4.1-3\n",
      "Loading required package: horseshoe\n",
      "Loading required package: pgdraw\n"
     ]
    },
    {
     "name": "stdout",
     "output_type": "stream",
     "text": [
      "epoch: 1 / 30, training rmse: 1.0445, training r2: 0.1433\n",
      "epoch: 2 / 30, training rmse: 0.9612, training r2: 0.2745\n",
      "epoch: 3 / 30, training rmse: 0.8861, training r2: 0.3834\n",
      "epoch: 4 / 30, training rmse: 0.8226, training r2: 0.4686\n",
      "epoch: 5 / 30, training rmse: 0.7749, training r2: 0.5284\n",
      "epoch: 6 / 30, training rmse: 0.7453, training r2: 0.5637\n",
      "epoch: 7 / 30, training rmse: 0.7288, training r2: 0.5829\n",
      "epoch: 8 / 30, training rmse: 0.7185, training r2: 0.5946\n",
      "epoch: 9 / 30, training rmse: 0.7108, training r2: 0.6032\n",
      "epoch: 10 / 30, training rmse: 0.7048, training r2: 0.6099\n",
      "epoch: 11 / 30, training rmse: 0.7002, training r2: 0.615\n",
      "epoch: 12 / 30, training rmse: 0.6969, training r2: 0.6186\n",
      "epoch: 13 / 30, training rmse: 0.6934, training r2: 0.6224\n",
      "epoch: 14 / 30, training rmse: 0.691, training r2: 0.6251\n",
      "epoch: 15 / 30, training rmse: 0.6885, training r2: 0.6277\n",
      "epoch: 16 / 30, training rmse: 0.6861, training r2: 0.6303\n",
      "epoch: 17 / 30, training rmse: 0.6838, training r2: 0.6328\n",
      "epoch: 18 / 30, training rmse: 0.6822, training r2: 0.6345\n",
      "epoch: 19 / 30, training rmse: 0.6802, training r2: 0.6366\n",
      "epoch: 20 / 30, training rmse: 0.6783, training r2: 0.6387\n",
      "epoch: 21 / 30, training rmse: 0.6762, training r2: 0.6409\n",
      "epoch: 22 / 30, training rmse: 0.6741, training r2: 0.6432\n",
      "epoch: 23 / 30, training rmse: 0.6725, training r2: 0.6449\n",
      "epoch: 24 / 30, training rmse: 0.6705, training r2: 0.6469\n",
      "epoch: 25 / 30, training rmse: 0.6689, training r2: 0.6487\n",
      "epoch: 26 / 30, training rmse: 0.6667, training r2: 0.6509\n",
      "epoch: 27 / 30, training rmse: 0.6649, training r2: 0.6528\n",
      "epoch: 28 / 30, training rmse: 0.663, training r2: 0.6548\n",
      "epoch: 29 / 30, training rmse: 0.661, training r2: 0.6569\n",
      "epoch: 30 / 30, training rmse: 0.6592, training r2: 0.6587\n"
     ]
    },
    {
     "data": {
      "image/png": "[encoded data removed]",
      "text/plain": [
       "<Figure size 432x288 with 1 Axes>"
      ]
     },
     "metadata": {
      "needs_background": "light"
     },
     "output_type": "display_data"
    },
    {
     "name": "stdout",
     "output_type": "stream",
     "text": [
      "24 [1. 1. 1. 1.] [0.0359515  0.04512037 0.03944612 0.04639009]\n"
     ]
    },
    {
     "name": "stderr",
     "output_type": "stream",
     "text": [
      "Loading required package: lattice\n",
      "Loading required package: Rcpp\n",
      "Loading required package: RcppArmadillo\n",
      "Loading required package: glmnet\n",
      "Loading required package: Matrix\n",
      "Loaded glmnet 4.1-3\n",
      "Loading required package: horseshoe\n",
      "Loading required package: pgdraw\n"
     ]
    },
    {
     "name": "stdout",
     "output_type": "stream",
     "text": [
      "epoch: 1 / 30, training rmse: 1.0598, training r2: 0.1475\n",
      "epoch: 2 / 30, training rmse: 0.9743, training r2: 0.2795\n",
      "epoch: 3 / 30, training rmse: 0.8967, training r2: 0.3897\n",
      "epoch: 4 / 30, training rmse: 0.8301, training r2: 0.477\n",
      "epoch: 5 / 30, training rmse: 0.779, training r2: 0.5394\n",
      "epoch: 6 / 30, training rmse: 0.7468, training r2: 0.5767\n",
      "epoch: 7 / 30, training rmse: 0.7292, training r2: 0.5965\n",
      "epoch: 8 / 30, training rmse: 0.7195, training r2: 0.6071\n",
      "epoch: 9 / 30, training rmse: 0.7129, training r2: 0.6143\n",
      "epoch: 10 / 30, training rmse: 0.7078, training r2: 0.6198\n",
      "epoch: 11 / 30, training rmse: 0.7039, training r2: 0.6239\n",
      "epoch: 12 / 30, training rmse: 0.7006, training r2: 0.6275\n",
      "epoch: 13 / 30, training rmse: 0.6981, training r2: 0.6301\n",
      "epoch: 14 / 30, training rmse: 0.6952, training r2: 0.6331\n",
      "epoch: 15 / 30, training rmse: 0.6933, training r2: 0.6352\n",
      "epoch: 16 / 30, training rmse: 0.691, training r2: 0.6376\n",
      "epoch: 17 / 30, training rmse: 0.689, training r2: 0.6397\n",
      "epoch: 18 / 30, training rmse: 0.6863, training r2: 0.6425\n",
      "epoch: 19 / 30, training rmse: 0.6844, training r2: 0.6445\n",
      "epoch: 20 / 30, training rmse: 0.6824, training r2: 0.6466\n",
      "epoch: 21 / 30, training rmse: 0.6801, training r2: 0.649\n",
      "epoch: 22 / 30, training rmse: 0.6778, training r2: 0.6513\n",
      "epoch: 23 / 30, training rmse: 0.676, training r2: 0.6532\n",
      "epoch: 24 / 30, training rmse: 0.6737, training r2: 0.6555\n",
      "epoch: 25 / 30, training rmse: 0.6717, training r2: 0.6576\n",
      "epoch: 26 / 30, training rmse: 0.6699, training r2: 0.6594\n",
      "epoch: 27 / 30, training rmse: 0.6678, training r2: 0.6616\n",
      "epoch: 28 / 30, training rmse: 0.6656, training r2: 0.6637\n",
      "epoch: 29 / 30, training rmse: 0.6637, training r2: 0.6657\n",
      "epoch: 30 / 30, training rmse: 0.6619, training r2: 0.6675\n"
     ]
    },
    {
     "data": {
      "image/png": "[encoded data removed]",
      "text/plain": [
       "<Figure size 432x288 with 1 Axes>"
      ]
     },
     "metadata": {
      "needs_background": "light"
     },
     "output_type": "display_data"
    },
    {
     "name": "stdout",
     "output_type": "stream",
     "text": [
      "25 [1.    1.    0.975 0.986] [0.03654751 0.04486995 0.03699445 0.04826028]\n"
     ]
    },
    {
     "name": "stderr",
     "output_type": "stream",
     "text": [
      "Loading required package: lattice\n",
      "Loading required package: Rcpp\n",
      "Loading required package: RcppArmadillo\n",
      "Loading required package: glmnet\n",
      "Loading required package: Matrix\n",
      "Loaded glmnet 4.1-3\n",
      "Loading required package: horseshoe\n",
      "Loading required package: pgdraw\n"
     ]
    },
    {
     "name": "stdout",
     "output_type": "stream",
     "text": [
      "epoch: 1 / 30, training rmse: 1.0418, training r2: 0.1422\n",
      "epoch: 2 / 30, training rmse: 0.958, training r2: 0.2747\n",
      "epoch: 3 / 30, training rmse: 0.8823, training r2: 0.3848\n",
      "epoch: 4 / 30, training rmse: 0.8173, training r2: 0.4721\n",
      "epoch: 5 / 30, training rmse: 0.7693, training r2: 0.5323\n",
      "epoch: 6 / 30, training rmse: 0.7397, training r2: 0.5676\n",
      "epoch: 7 / 30, training rmse: 0.7236, training r2: 0.5862\n",
      "epoch: 8 / 30, training rmse: 0.7148, training r2: 0.5962\n",
      "epoch: 9 / 30, training rmse: 0.7082, training r2: 0.6036\n",
      "epoch: 10 / 30, training rmse: 0.7032, training r2: 0.6092\n",
      "epoch: 11 / 30, training rmse: 0.6996, training r2: 0.6131\n",
      "epoch: 12 / 30, training rmse: 0.6964, training r2: 0.6167\n",
      "epoch: 13 / 30, training rmse: 0.6932, training r2: 0.6202\n",
      "epoch: 14 / 30, training rmse: 0.6907, training r2: 0.6229\n",
      "epoch: 15 / 30, training rmse: 0.6885, training r2: 0.6253\n",
      "epoch: 16 / 30, training rmse: 0.6864, training r2: 0.6276\n",
      "epoch: 17 / 30, training rmse: 0.6842, training r2: 0.63\n",
      "epoch: 18 / 30, training rmse: 0.682, training r2: 0.6324\n",
      "epoch: 19 / 30, training rmse: 0.6799, training r2: 0.6347\n",
      "epoch: 20 / 30, training rmse: 0.6776, training r2: 0.6371\n",
      "epoch: 21 / 30, training rmse: 0.6755, training r2: 0.6393\n",
      "epoch: 22 / 30, training rmse: 0.6738, training r2: 0.6412\n",
      "epoch: 23 / 30, training rmse: 0.6716, training r2: 0.6435\n",
      "epoch: 24 / 30, training rmse: 0.6696, training r2: 0.6456\n",
      "epoch: 25 / 30, training rmse: 0.6677, training r2: 0.6476\n",
      "epoch: 26 / 30, training rmse: 0.6658, training r2: 0.6496\n",
      "epoch: 27 / 30, training rmse: 0.6638, training r2: 0.6518\n",
      "epoch: 28 / 30, training rmse: 0.6619, training r2: 0.6538\n",
      "epoch: 29 / 30, training rmse: 0.6597, training r2: 0.6561\n",
      "epoch: 30 / 30, training rmse: 0.6576, training r2: 0.6583\n"
     ]
    },
    {
     "data": {
      "image/png": "[encoded data removed]",
      "text/plain": [
       "<Figure size 432x288 with 1 Axes>"
      ]
     },
     "metadata": {
      "needs_background": "light"
     },
     "output_type": "display_data"
    },
    {
     "name": "stdout",
     "output_type": "stream",
     "text": [
      "26 [1.    1.    1.    0.999] [0.03585132 0.04338477 0.03824339 0.04547033]\n"
     ]
    },
    {
     "name": "stderr",
     "output_type": "stream",
     "text": [
      "Loading required package: lattice\n",
      "Loading required package: Rcpp\n",
      "Loading required package: RcppArmadillo\n",
      "Loading required package: glmnet\n",
      "Loading required package: Matrix\n",
      "Loaded glmnet 4.1-3\n",
      "Loading required package: horseshoe\n",
      "Loading required package: pgdraw\n"
     ]
    },
    {
     "name": "stdout",
     "output_type": "stream",
     "text": [
      "epoch: 1 / 30, training rmse: 1.0506, training r2: 0.142\n",
      "epoch: 2 / 30, training rmse: 0.9683, training r2: 0.2712\n",
      "epoch: 3 / 30, training rmse: 0.8919, training r2: 0.3816\n",
      "epoch: 4 / 30, training rmse: 0.8267, training r2: 0.4688\n",
      "epoch: 5 / 30, training rmse: 0.7778, training r2: 0.5298\n",
      "epoch: 6 / 30, training rmse: 0.7462, training r2: 0.5672\n",
      "epoch: 7 / 30, training rmse: 0.7282, training r2: 0.5878\n",
      "epoch: 8 / 30, training rmse: 0.7178, training r2: 0.5995\n",
      "epoch: 9 / 30, training rmse: 0.7101, training r2: 0.6081\n",
      "epoch: 10 / 30, training rmse: 0.7045, training r2: 0.6143\n",
      "epoch: 11 / 30, training rmse: 0.7002, training r2: 0.619\n",
      "epoch: 12 / 30, training rmse: 0.6966, training r2: 0.6228\n",
      "epoch: 13 / 30, training rmse: 0.694, training r2: 0.6256\n",
      "epoch: 14 / 30, training rmse: 0.6915, training r2: 0.6283\n",
      "epoch: 15 / 30, training rmse: 0.6893, training r2: 0.6307\n",
      "epoch: 16 / 30, training rmse: 0.6871, training r2: 0.633\n",
      "epoch: 17 / 30, training rmse: 0.6851, training r2: 0.6351\n",
      "epoch: 18 / 30, training rmse: 0.6834, training r2: 0.637\n",
      "epoch: 19 / 30, training rmse: 0.6818, training r2: 0.6387\n",
      "epoch: 20 / 30, training rmse: 0.6806, training r2: 0.64\n",
      "epoch: 21 / 30, training rmse: 0.6781, training r2: 0.6426\n",
      "epoch: 22 / 30, training rmse: 0.6765, training r2: 0.6442\n",
      "epoch: 23 / 30, training rmse: 0.6752, training r2: 0.6457\n",
      "epoch: 24 / 30, training rmse: 0.6731, training r2: 0.6478\n",
      "epoch: 25 / 30, training rmse: 0.6714, training r2: 0.6496\n",
      "epoch: 26 / 30, training rmse: 0.6699, training r2: 0.6512\n",
      "epoch: 27 / 30, training rmse: 0.6683, training r2: 0.6528\n",
      "epoch: 28 / 30, training rmse: 0.6664, training r2: 0.6548\n",
      "epoch: 29 / 30, training rmse: 0.6652, training r2: 0.656\n",
      "epoch: 30 / 30, training rmse: 0.6632, training r2: 0.6581\n"
     ]
    },
    {
     "data": {
      "image/png": "[encoded data removed]",
      "text/plain": [
       "<Figure size 432x288 with 1 Axes>"
      ]
     },
     "metadata": {
      "needs_background": "light"
     },
     "output_type": "display_data"
    },
    {
     "name": "stdout",
     "output_type": "stream",
     "text": [
      "27 [1.    1.    0.973 0.983] [0.0369027  0.04453629 0.0388483  0.04698695]\n"
     ]
    },
    {
     "name": "stderr",
     "output_type": "stream",
     "text": [
      "Loading required package: lattice\n",
      "Loading required package: Rcpp\n",
      "Loading required package: RcppArmadillo\n",
      "Loading required package: glmnet\n",
      "Loading required package: Matrix\n",
      "Loaded glmnet 4.1-3\n",
      "Loading required package: horseshoe\n",
      "Loading required package: pgdraw\n"
     ]
    },
    {
     "name": "stdout",
     "output_type": "stream",
     "text": [
      "epoch: 1 / 30, training rmse: 1.0622, training r2: 0.1525\n",
      "epoch: 2 / 30, training rmse: 0.9773, training r2: 0.2826\n",
      "epoch: 3 / 30, training rmse: 0.9018, training r2: 0.3892\n",
      "epoch: 4 / 30, training rmse: 0.8371, training r2: 0.4737\n",
      "epoch: 5 / 30, training rmse: 0.7879, training r2: 0.5337\n",
      "epoch: 6 / 30, training rmse: 0.7572, training r2: 0.5694\n",
      "epoch: 7 / 30, training rmse: 0.7396, training r2: 0.5891\n",
      "epoch: 8 / 30, training rmse: 0.7292, training r2: 0.6006\n",
      "epoch: 9 / 30, training rmse: 0.7215, training r2: 0.609\n",
      "epoch: 10 / 30, training rmse: 0.7159, training r2: 0.615\n",
      "epoch: 11 / 30, training rmse: 0.7111, training r2: 0.6201\n",
      "epoch: 12 / 30, training rmse: 0.7081, training r2: 0.6234\n",
      "epoch: 13 / 30, training rmse: 0.705, training r2: 0.6266\n",
      "epoch: 14 / 30, training rmse: 0.7023, training r2: 0.6295\n",
      "epoch: 15 / 30, training rmse: 0.6996, training r2: 0.6323\n",
      "epoch: 16 / 30, training rmse: 0.6977, training r2: 0.6344\n",
      "epoch: 17 / 30, training rmse: 0.6952, training r2: 0.637\n",
      "epoch: 18 / 30, training rmse: 0.6933, training r2: 0.6389\n",
      "epoch: 19 / 30, training rmse: 0.6911, training r2: 0.6412\n",
      "epoch: 20 / 30, training rmse: 0.6894, training r2: 0.643\n",
      "epoch: 21 / 30, training rmse: 0.6872, training r2: 0.6453\n",
      "epoch: 22 / 30, training rmse: 0.685, training r2: 0.6476\n",
      "epoch: 23 / 30, training rmse: 0.683, training r2: 0.6496\n",
      "epoch: 24 / 30, training rmse: 0.6809, training r2: 0.6517\n",
      "epoch: 25 / 30, training rmse: 0.679, training r2: 0.6537\n",
      "epoch: 26 / 30, training rmse: 0.6771, training r2: 0.6556\n",
      "epoch: 27 / 30, training rmse: 0.6753, training r2: 0.6575\n",
      "epoch: 28 / 30, training rmse: 0.6735, training r2: 0.6593\n",
      "epoch: 29 / 30, training rmse: 0.6714, training r2: 0.6614\n",
      "epoch: 30 / 30, training rmse: 0.6693, training r2: 0.6635\n"
     ]
    },
    {
     "data": {
      "image/png": "[encoded data removed]",
      "text/plain": [
       "<Figure size 432x288 with 1 Axes>"
      ]
     },
     "metadata": {
      "needs_background": "light"
     },
     "output_type": "display_data"
    },
    {
     "name": "stdout",
     "output_type": "stream",
     "text": [
      "28 [1.    1.    0.998 0.999] [0.03693085 0.04323742 0.04006697 0.04406707]\n"
     ]
    },
    {
     "name": "stderr",
     "output_type": "stream",
     "text": [
      "Loading required package: lattice\n",
      "Loading required package: Rcpp\n",
      "Loading required package: RcppArmadillo\n",
      "Loading required package: glmnet\n",
      "Loading required package: Matrix\n",
      "Loaded glmnet 4.1-3\n",
      "Loading required package: horseshoe\n",
      "Loading required package: pgdraw\n"
     ]
    },
    {
     "name": "stdout",
     "output_type": "stream",
     "text": [
      "epoch: 1 / 30, training rmse: 1.05, training r2: 0.1562\n",
      "epoch: 2 / 30, training rmse: 0.969, training r2: 0.2813\n",
      "epoch: 3 / 30, training rmse: 0.8964, training r2: 0.385\n",
      "epoch: 4 / 30, training rmse: 0.8349, training r2: 0.4665\n",
      "epoch: 5 / 30, training rmse: 0.7887, training r2: 0.5239\n",
      "epoch: 6 / 30, training rmse: 0.7587, training r2: 0.5594\n",
      "epoch: 7 / 30, training rmse: 0.7403, training r2: 0.5805\n",
      "epoch: 8 / 30, training rmse: 0.729, training r2: 0.5932\n",
      "epoch: 9 / 30, training rmse: 0.7206, training r2: 0.6026\n",
      "epoch: 10 / 30, training rmse: 0.7139, training r2: 0.6099\n",
      "epoch: 11 / 30, training rmse: 0.7087, training r2: 0.6156\n",
      "epoch: 12 / 30, training rmse: 0.7047, training r2: 0.6199\n",
      "epoch: 13 / 30, training rmse: 0.7011, training r2: 0.6238\n",
      "epoch: 14 / 30, training rmse: 0.6983, training r2: 0.6268\n",
      "epoch: 15 / 30, training rmse: 0.6953, training r2: 0.6299\n",
      "epoch: 16 / 30, training rmse: 0.693, training r2: 0.6324\n",
      "epoch: 17 / 30, training rmse: 0.6908, training r2: 0.6348\n",
      "epoch: 18 / 30, training rmse: 0.689, training r2: 0.6366\n",
      "epoch: 19 / 30, training rmse: 0.6868, training r2: 0.639\n",
      "epoch: 20 / 30, training rmse: 0.6848, training r2: 0.641\n",
      "epoch: 21 / 30, training rmse: 0.6832, training r2: 0.6428\n",
      "epoch: 22 / 30, training rmse: 0.6815, training r2: 0.6445\n",
      "epoch: 23 / 30, training rmse: 0.6793, training r2: 0.6468\n",
      "epoch: 24 / 30, training rmse: 0.6775, training r2: 0.6486\n",
      "epoch: 25 / 30, training rmse: 0.6754, training r2: 0.6508\n",
      "epoch: 26 / 30, training rmse: 0.6737, training r2: 0.6526\n",
      "epoch: 27 / 30, training rmse: 0.6721, training r2: 0.6542\n",
      "epoch: 28 / 30, training rmse: 0.6703, training r2: 0.6561\n",
      "epoch: 29 / 30, training rmse: 0.6688, training r2: 0.6577\n",
      "epoch: 30 / 30, training rmse: 0.6667, training r2: 0.6598\n"
     ]
    },
    {
     "data": {
      "image/png": "[encoded data removed]",
      "text/plain": [
       "<Figure size 432x288 with 1 Axes>"
      ]
     },
     "metadata": {
      "needs_background": "light"
     },
     "output_type": "display_data"
    },
    {
     "name": "stdout",
     "output_type": "stream",
     "text": [
      "29 [1.    1.    0.999 1.   ] [0.03665043 0.04370154 0.03302277 0.04977435]\n"
     ]
    },
    {
     "name": "stderr",
     "output_type": "stream",
     "text": [
      "Loading required package: lattice\n",
      "Loading required package: Rcpp\n",
      "Loading required package: RcppArmadillo\n",
      "Loading required package: glmnet\n",
      "Loading required package: Matrix\n",
      "Loaded glmnet 4.1-3\n",
      "Loading required package: horseshoe\n",
      "Loading required package: pgdraw\n"
     ]
    },
    {
     "name": "stdout",
     "output_type": "stream",
     "text": [
      "epoch: 1 / 30, training rmse: 1.0698, training r2: 0.1534\n",
      "epoch: 2 / 30, training rmse: 0.9861, training r2: 0.2808\n",
      "epoch: 3 / 30, training rmse: 0.91, training r2: 0.3875\n",
      "epoch: 4 / 30, training rmse: 0.844, training r2: 0.4731\n",
      "epoch: 5 / 30, training rmse: 0.7927, training r2: 0.5352\n",
      "epoch: 6 / 30, training rmse: 0.7595, training r2: 0.5733\n",
      "epoch: 7 / 30, training rmse: 0.7405, training r2: 0.5943\n",
      "epoch: 8 / 30, training rmse: 0.7294, training r2: 0.6064\n",
      "epoch: 9 / 30, training rmse: 0.7219, training r2: 0.6145\n",
      "epoch: 10 / 30, training rmse: 0.7156, training r2: 0.6212\n",
      "epoch: 11 / 30, training rmse: 0.7106, training r2: 0.6265\n",
      "epoch: 12 / 30, training rmse: 0.7063, training r2: 0.631\n",
      "epoch: 13 / 30, training rmse: 0.7032, training r2: 0.6342\n",
      "epoch: 14 / 30, training rmse: 0.6999, training r2: 0.6376\n",
      "epoch: 15 / 30, training rmse: 0.6975, training r2: 0.6402\n",
      "epoch: 16 / 30, training rmse: 0.6951, training r2: 0.6426\n",
      "epoch: 17 / 30, training rmse: 0.6927, training r2: 0.645\n",
      "epoch: 18 / 30, training rmse: 0.6911, training r2: 0.6467\n",
      "epoch: 19 / 30, training rmse: 0.6885, training r2: 0.6494\n",
      "epoch: 20 / 30, training rmse: 0.6866, training r2: 0.6513\n",
      "epoch: 21 / 30, training rmse: 0.6848, training r2: 0.6531\n",
      "epoch: 22 / 30, training rmse: 0.6827, training r2: 0.6552\n",
      "epoch: 23 / 30, training rmse: 0.6811, training r2: 0.6569\n",
      "epoch: 24 / 30, training rmse: 0.6789, training r2: 0.659\n",
      "epoch: 25 / 30, training rmse: 0.6772, training r2: 0.6607\n",
      "epoch: 26 / 30, training rmse: 0.6753, training r2: 0.6627\n",
      "epoch: 27 / 30, training rmse: 0.6736, training r2: 0.6643\n",
      "epoch: 28 / 30, training rmse: 0.6718, training r2: 0.6661\n",
      "epoch: 29 / 30, training rmse: 0.6702, training r2: 0.6677\n",
      "epoch: 30 / 30, training rmse: 0.6683, training r2: 0.6696\n"
     ]
    },
    {
     "data": {
      "image/png": "[encoded data removed]",
      "text/plain": [
       "<Figure size 432x288 with 1 Axes>"
      ]
     },
     "metadata": {
      "needs_background": "light"
     },
     "output_type": "display_data"
    },
    {
     "name": "stdout",
     "output_type": "stream",
     "text": [
      "30 [1.    1.    0.999 0.999] [0.03681941 0.04398235 0.04041916 0.04608573]\n"
     ]
    },
    {
     "name": "stderr",
     "output_type": "stream",
     "text": [
      "Loading required package: lattice\n",
      "Loading required package: Rcpp\n",
      "Loading required package: RcppArmadillo\n",
      "Loading required package: glmnet\n",
      "Loading required package: Matrix\n",
      "Loaded glmnet 4.1-3\n",
      "Loading required package: horseshoe\n",
      "Loading required package: pgdraw\n"
     ]
    },
    {
     "name": "stdout",
     "output_type": "stream",
     "text": [
      "epoch: 1 / 30, training rmse: 1.0609, training r2: 0.1429\n",
      "epoch: 2 / 30, training rmse: 0.9774, training r2: 0.2724\n",
      "epoch: 3 / 30, training rmse: 0.9015, training r2: 0.3811\n",
      "epoch: 4 / 30, training rmse: 0.8343, training r2: 0.4699\n",
      "epoch: 5 / 30, training rmse: 0.7835, training r2: 0.5325\n",
      "epoch: 6 / 30, training rmse: 0.7497, training r2: 0.5719\n",
      "epoch: 7 / 30, training rmse: 0.7319, training r2: 0.592\n",
      "epoch: 8 / 30, training rmse: 0.7217, training r2: 0.6034\n",
      "epoch: 9 / 30, training rmse: 0.7149, training r2: 0.6107\n",
      "epoch: 10 / 30, training rmse: 0.7093, training r2: 0.6168\n",
      "epoch: 11 / 30, training rmse: 0.7043, training r2: 0.6222\n",
      "epoch: 12 / 30, training rmse: 0.7008, training r2: 0.626\n",
      "epoch: 13 / 30, training rmse: 0.6974, training r2: 0.6296\n",
      "epoch: 14 / 30, training rmse: 0.6946, training r2: 0.6325\n",
      "epoch: 15 / 30, training rmse: 0.6922, training r2: 0.6351\n",
      "epoch: 16 / 30, training rmse: 0.6896, training r2: 0.6378\n",
      "epoch: 17 / 30, training rmse: 0.6874, training r2: 0.6401\n",
      "epoch: 18 / 30, training rmse: 0.6855, training r2: 0.6421\n",
      "epoch: 19 / 30, training rmse: 0.6834, training r2: 0.6443\n",
      "epoch: 20 / 30, training rmse: 0.6815, training r2: 0.6463\n",
      "epoch: 21 / 30, training rmse: 0.6794, training r2: 0.6485\n",
      "epoch: 22 / 30, training rmse: 0.6774, training r2: 0.6505\n",
      "epoch: 23 / 30, training rmse: 0.6758, training r2: 0.6522\n",
      "epoch: 24 / 30, training rmse: 0.6741, training r2: 0.6539\n",
      "epoch: 25 / 30, training rmse: 0.6722, training r2: 0.6559\n",
      "epoch: 26 / 30, training rmse: 0.6707, training r2: 0.6574\n",
      "epoch: 27 / 30, training rmse: 0.6687, training r2: 0.6594\n",
      "epoch: 28 / 30, training rmse: 0.667, training r2: 0.6612\n",
      "epoch: 29 / 30, training rmse: 0.6652, training r2: 0.663\n",
      "epoch: 30 / 30, training rmse: 0.6635, training r2: 0.6647\n"
     ]
    },
    {
     "data": {
      "image/png": "[encoded data removed]",
      "text/plain": [
       "<Figure size 432x288 with 1 Axes>"
      ]
     },
     "metadata": {
      "needs_background": "light"
     },
     "output_type": "display_data"
    },
    {
     "name": "stdout",
     "output_type": "stream",
     "text": [
      "31 [1.    1.    0.997 0.997] [0.03663133 0.04479508 0.03498715 0.04935262]\n"
     ]
    },
    {
     "name": "stderr",
     "output_type": "stream",
     "text": [
      "Loading required package: lattice\n",
      "Loading required package: Rcpp\n",
      "Loading required package: RcppArmadillo\n",
      "Loading required package: glmnet\n",
      "Loading required package: Matrix\n",
      "Loaded glmnet 4.1-3\n",
      "Loading required package: horseshoe\n",
      "Loading required package: pgdraw\n"
     ]
    },
    {
     "name": "stdout",
     "output_type": "stream",
     "text": [
      "epoch: 1 / 30, training rmse: 1.0537, training r2: 0.1462\n",
      "epoch: 2 / 30, training rmse: 0.9686, training r2: 0.2786\n",
      "epoch: 3 / 30, training rmse: 0.8924, training r2: 0.3876\n",
      "epoch: 4 / 30, training rmse: 0.8275, training r2: 0.4734\n",
      "epoch: 5 / 30, training rmse: 0.7793, training r2: 0.5329\n",
      "epoch: 6 / 30, training rmse: 0.7495, training r2: 0.568\n",
      "epoch: 7 / 30, training rmse: 0.7331, training r2: 0.5868\n",
      "epoch: 8 / 30, training rmse: 0.7229, training r2: 0.5981\n",
      "epoch: 9 / 30, training rmse: 0.7158, training r2: 0.606\n",
      "epoch: 10 / 30, training rmse: 0.7106, training r2: 0.6117\n",
      "epoch: 11 / 30, training rmse: 0.7063, training r2: 0.6164\n",
      "epoch: 12 / 30, training rmse: 0.7024, training r2: 0.6206\n",
      "epoch: 13 / 30, training rmse: 0.6995, training r2: 0.6237\n",
      "epoch: 14 / 30, training rmse: 0.6965, training r2: 0.6269\n",
      "epoch: 15 / 30, training rmse: 0.6942, training r2: 0.6294\n",
      "epoch: 16 / 30, training rmse: 0.6923, training r2: 0.6315\n",
      "epoch: 17 / 30, training rmse: 0.6898, training r2: 0.6341\n",
      "epoch: 18 / 30, training rmse: 0.6875, training r2: 0.6365\n",
      "epoch: 19 / 30, training rmse: 0.6858, training r2: 0.6383\n",
      "epoch: 20 / 30, training rmse: 0.6836, training r2: 0.6407\n",
      "epoch: 21 / 30, training rmse: 0.6815, training r2: 0.6428\n",
      "epoch: 22 / 30, training rmse: 0.6795, training r2: 0.6449\n",
      "epoch: 23 / 30, training rmse: 0.6777, training r2: 0.6468\n",
      "epoch: 24 / 30, training rmse: 0.6756, training r2: 0.649\n",
      "epoch: 25 / 30, training rmse: 0.6736, training r2: 0.6511\n",
      "epoch: 26 / 30, training rmse: 0.6715, training r2: 0.6532\n",
      "epoch: 27 / 30, training rmse: 0.6693, training r2: 0.6555\n",
      "epoch: 28 / 30, training rmse: 0.6676, training r2: 0.6573\n",
      "epoch: 29 / 30, training rmse: 0.6654, training r2: 0.6595\n",
      "epoch: 30 / 30, training rmse: 0.6634, training r2: 0.6616\n"
     ]
    },
    {
     "data": {
      "image/png": "[encoded data removed]",
      "text/plain": [
       "<Figure size 432x288 with 1 Axes>"
      ]
     },
     "metadata": {
      "needs_background": "light"
     },
     "output_type": "display_data"
    },
    {
     "name": "stdout",
     "output_type": "stream",
     "text": [
      "32 [1.    1.    0.994 0.999] [0.03585347 0.04372072 0.03524776 0.04774344]\n"
     ]
    },
    {
     "name": "stderr",
     "output_type": "stream",
     "text": [
      "Loading required package: lattice\n",
      "Loading required package: Rcpp\n",
      "Loading required package: RcppArmadillo\n",
      "Loading required package: glmnet\n",
      "Loading required package: Matrix\n",
      "Loaded glmnet 4.1-3\n",
      "Loading required package: horseshoe\n",
      "Loading required package: pgdraw\n",
      "Error in fast_horseshoe_lm(train_outcomes[i, ], Psi_o) : \n",
      "  chol(): decomposition failed\n",
      "Execution halted\n"
     ]
    },
    {
     "name": "stdout",
     "output_type": "stream",
     "text": [
      "epoch: 1 / 30, training rmse: 1.0524, training r2: 0.1483\n",
      "epoch: 2 / 30, training rmse: 0.9705, training r2: 0.2757\n",
      "epoch: 3 / 30, training rmse: 0.8961, training r2: 0.3825\n",
      "epoch: 4 / 30, training rmse: 0.8332, training r2: 0.4662\n",
      "epoch: 5 / 30, training rmse: 0.7854, training r2: 0.5257\n",
      "epoch: 6 / 30, training rmse: 0.7554, training r2: 0.5612\n",
      "epoch: 7 / 30, training rmse: 0.7388, training r2: 0.5803\n",
      "epoch: 8 / 30, training rmse: 0.7288, training r2: 0.5916\n",
      "epoch: 9 / 30, training rmse: 0.7211, training r2: 0.6001\n",
      "epoch: 10 / 30, training rmse: 0.7153, training r2: 0.6066\n",
      "epoch: 11 / 30, training rmse: 0.711, training r2: 0.6112\n",
      "epoch: 12 / 30, training rmse: 0.7077, training r2: 0.6149\n",
      "epoch: 13 / 30, training rmse: 0.7044, training r2: 0.6185\n",
      "epoch: 14 / 30, training rmse: 0.702, training r2: 0.6211\n",
      "epoch: 15 / 30, training rmse: 0.6998, training r2: 0.6234\n",
      "epoch: 16 / 30, training rmse: 0.6975, training r2: 0.6259\n",
      "epoch: 17 / 30, training rmse: 0.6958, training r2: 0.6277\n",
      "epoch: 18 / 30, training rmse: 0.6933, training r2: 0.6304\n",
      "epoch: 19 / 30, training rmse: 0.6912, training r2: 0.6326\n",
      "epoch: 20 / 30, training rmse: 0.6899, training r2: 0.634\n",
      "epoch: 21 / 30, training rmse: 0.6882, training r2: 0.6358\n",
      "epoch: 22 / 30, training rmse: 0.6861, training r2: 0.638\n",
      "epoch: 23 / 30, training rmse: 0.6844, training r2: 0.6399\n",
      "epoch: 24 / 30, training rmse: 0.6825, training r2: 0.6419\n",
      "epoch: 25 / 30, training rmse: 0.6807, training r2: 0.6437\n",
      "epoch: 26 / 30, training rmse: 0.6789, training r2: 0.6456\n",
      "epoch: 27 / 30, training rmse: 0.6772, training r2: 0.6473\n",
      "epoch: 28 / 30, training rmse: 0.6752, training r2: 0.6494\n",
      "epoch: 29 / 30, training rmse: 0.6735, training r2: 0.6512\n",
      "epoch: 30 / 30, training rmse: 0.6716, training r2: 0.6531\n"
     ]
    },
    {
     "data": {
      "image/png": "[encoded data removed]",
      "text/plain": [
       "<Figure size 432x288 with 1 Axes>"
      ]
     },
     "metadata": {
      "needs_background": "light"
     },
     "output_type": "display_data"
    },
    {
     "name": "stdout",
     "output_type": "stream",
     "text": [
      "33 [0.527 0.497 0.996 0.992] [0.06053085 0.05890499 0.0357524  0.04788927]\n"
     ]
    },
    {
     "name": "stderr",
     "output_type": "stream",
     "text": [
      "Loading required package: lattice\n",
      "Loading required package: Rcpp\n",
      "Loading required package: RcppArmadillo\n",
      "Loading required package: glmnet\n",
      "Loading required package: Matrix\n",
      "Loaded glmnet 4.1-3\n",
      "Loading required package: horseshoe\n",
      "Loading required package: pgdraw\n"
     ]
    },
    {
     "name": "stdout",
     "output_type": "stream",
     "text": [
      "epoch: 1 / 30, training rmse: 1.0549, training r2: 0.1449\n",
      "epoch: 2 / 30, training rmse: 0.9692, training r2: 0.2783\n",
      "epoch: 3 / 30, training rmse: 0.8922, training r2: 0.3883\n",
      "epoch: 4 / 30, training rmse: 0.8253, training r2: 0.4766\n",
      "epoch: 5 / 30, training rmse: 0.7746, training r2: 0.539\n",
      "epoch: 6 / 30, training rmse: 0.7426, training r2: 0.5763\n",
      "epoch: 7 / 30, training rmse: 0.7249, training r2: 0.5963\n",
      "epoch: 8 / 30, training rmse: 0.715, training r2: 0.6071\n",
      "epoch: 9 / 30, training rmse: 0.7091, training r2: 0.6137\n",
      "epoch: 10 / 30, training rmse: 0.7036, training r2: 0.6196\n",
      "epoch: 11 / 30, training rmse: 0.6999, training r2: 0.6236\n",
      "epoch: 12 / 30, training rmse: 0.697, training r2: 0.6267\n",
      "epoch: 13 / 30, training rmse: 0.6943, training r2: 0.6296\n",
      "epoch: 14 / 30, training rmse: 0.6916, training r2: 0.6325\n",
      "epoch: 15 / 30, training rmse: 0.6894, training r2: 0.6348\n",
      "epoch: 16 / 30, training rmse: 0.6873, training r2: 0.6371\n",
      "epoch: 17 / 30, training rmse: 0.6855, training r2: 0.639\n",
      "epoch: 18 / 30, training rmse: 0.6835, training r2: 0.641\n",
      "epoch: 19 / 30, training rmse: 0.6813, training r2: 0.6433\n",
      "epoch: 20 / 30, training rmse: 0.6793, training r2: 0.6455\n",
      "epoch: 21 / 30, training rmse: 0.6773, training r2: 0.6475\n",
      "epoch: 22 / 30, training rmse: 0.6758, training r2: 0.6491\n",
      "epoch: 23 / 30, training rmse: 0.6737, training r2: 0.6513\n",
      "epoch: 24 / 30, training rmse: 0.6715, training r2: 0.6535\n",
      "epoch: 25 / 30, training rmse: 0.6698, training r2: 0.6552\n",
      "epoch: 26 / 30, training rmse: 0.6679, training r2: 0.6572\n",
      "epoch: 27 / 30, training rmse: 0.666, training r2: 0.6592\n",
      "epoch: 28 / 30, training rmse: 0.6644, training r2: 0.6609\n",
      "epoch: 29 / 30, training rmse: 0.6622, training r2: 0.6631\n",
      "epoch: 30 / 30, training rmse: 0.6604, training r2: 0.6649\n"
     ]
    },
    {
     "data": {
      "image/png": "[encoded data removed]",
      "text/plain": [
       "<Figure size 432x288 with 1 Axes>"
      ]
     },
     "metadata": {
      "needs_background": "light"
     },
     "output_type": "display_data"
    },
    {
     "name": "stdout",
     "output_type": "stream",
     "text": [
      "34 [1.    1.    0.999 0.999] [0.03566639 0.04584154 0.03389485 0.05022725]\n"
     ]
    },
    {
     "name": "stderr",
     "output_type": "stream",
     "text": [
      "Loading required package: lattice\n",
      "Loading required package: Rcpp\n",
      "Loading required package: RcppArmadillo\n",
      "Loading required package: glmnet\n",
      "Loading required package: Matrix\n",
      "Loaded glmnet 4.1-3\n",
      "Loading required package: horseshoe\n",
      "Loading required package: pgdraw\n"
     ]
    },
    {
     "name": "stdout",
     "output_type": "stream",
     "text": [
      "epoch: 1 / 30, training rmse: 1.051, training r2: 0.1579\n",
      "epoch: 2 / 30, training rmse: 0.9662, training r2: 0.2882\n",
      "epoch: 3 / 30, training rmse: 0.8906, training r2: 0.3953\n",
      "epoch: 4 / 30, training rmse: 0.8261, training r2: 0.4797\n",
      "epoch: 5 / 30, training rmse: 0.777, training r2: 0.5397\n",
      "epoch: 6 / 30, training rmse: 0.7471, training r2: 0.5744\n",
      "epoch: 7 / 30, training rmse: 0.731, training r2: 0.5926\n",
      "epoch: 8 / 30, training rmse: 0.7214, training r2: 0.6032\n",
      "epoch: 9 / 30, training rmse: 0.715, training r2: 0.6102\n",
      "epoch: 10 / 30, training rmse: 0.7097, training r2: 0.616\n",
      "epoch: 11 / 30, training rmse: 0.7055, training r2: 0.6205\n",
      "epoch: 12 / 30, training rmse: 0.7021, training r2: 0.6242\n",
      "epoch: 13 / 30, training rmse: 0.699, training r2: 0.6275\n",
      "epoch: 14 / 30, training rmse: 0.6963, training r2: 0.6303\n",
      "epoch: 15 / 30, training rmse: 0.6937, training r2: 0.6331\n",
      "epoch: 16 / 30, training rmse: 0.6916, training r2: 0.6354\n",
      "epoch: 17 / 30, training rmse: 0.6889, training r2: 0.6382\n",
      "epoch: 18 / 30, training rmse: 0.6871, training r2: 0.6401\n",
      "epoch: 19 / 30, training rmse: 0.6853, training r2: 0.642\n",
      "epoch: 20 / 30, training rmse: 0.6831, training r2: 0.6442\n",
      "epoch: 21 / 30, training rmse: 0.6808, training r2: 0.6467\n",
      "epoch: 22 / 30, training rmse: 0.6786, training r2: 0.6489\n",
      "epoch: 23 / 30, training rmse: 0.6766, training r2: 0.6509\n",
      "epoch: 24 / 30, training rmse: 0.6749, training r2: 0.6527\n",
      "epoch: 25 / 30, training rmse: 0.673, training r2: 0.6547\n",
      "epoch: 26 / 30, training rmse: 0.671, training r2: 0.6568\n",
      "epoch: 27 / 30, training rmse: 0.6688, training r2: 0.659\n",
      "epoch: 28 / 30, training rmse: 0.6665, training r2: 0.6613\n",
      "epoch: 29 / 30, training rmse: 0.6649, training r2: 0.663\n",
      "epoch: 30 / 30, training rmse: 0.6628, training r2: 0.665\n"
     ]
    },
    {
     "data": {
      "image/png": "[encoded data removed]",
      "text/plain": [
       "<Figure size 432x288 with 1 Axes>"
      ]
     },
     "metadata": {
      "needs_background": "light"
     },
     "output_type": "display_data"
    },
    {
     "name": "stdout",
     "output_type": "stream",
     "text": [
      "35 [1.    1.    0.998 0.998] [0.03614283 0.04451361 0.03509947 0.04784324]\n"
     ]
    },
    {
     "name": "stderr",
     "output_type": "stream",
     "text": [
      "Loading required package: lattice\n",
      "Loading required package: Rcpp\n",
      "Loading required package: RcppArmadillo\n",
      "Loading required package: glmnet\n",
      "Loading required package: Matrix\n",
      "Loaded glmnet 4.1-3\n",
      "Loading required package: horseshoe\n",
      "Loading required package: pgdraw\n"
     ]
    },
    {
     "name": "stdout",
     "output_type": "stream",
     "text": [
      "epoch: 1 / 30, training rmse: 1.0627, training r2: 0.1429\n",
      "epoch: 2 / 30, training rmse: 0.9803, training r2: 0.2706\n",
      "epoch: 3 / 30, training rmse: 0.9066, training r2: 0.3762\n",
      "epoch: 4 / 30, training rmse: 0.8434, training r2: 0.4601\n",
      "epoch: 5 / 30, training rmse: 0.7952, training r2: 0.5201\n",
      "epoch: 6 / 30, training rmse: 0.7645, training r2: 0.5565\n",
      "epoch: 7 / 30, training rmse: 0.7469, training r2: 0.5766\n",
      "epoch: 8 / 30, training rmse: 0.7362, training r2: 0.5887\n",
      "epoch: 9 / 30, training rmse: 0.7281, training r2: 0.5977\n",
      "epoch: 10 / 30, training rmse: 0.7221, training r2: 0.6043\n",
      "epoch: 11 / 30, training rmse: 0.7169, training r2: 0.6099\n",
      "epoch: 12 / 30, training rmse: 0.7129, training r2: 0.6143\n",
      "epoch: 13 / 30, training rmse: 0.7096, training r2: 0.6179\n",
      "epoch: 14 / 30, training rmse: 0.7067, training r2: 0.621\n",
      "epoch: 15 / 30, training rmse: 0.7039, training r2: 0.624\n",
      "epoch: 16 / 30, training rmse: 0.7013, training r2: 0.6267\n",
      "epoch: 17 / 30, training rmse: 0.6994, training r2: 0.6288\n",
      "epoch: 18 / 30, training rmse: 0.6972, training r2: 0.6311\n",
      "epoch: 19 / 30, training rmse: 0.6951, training r2: 0.6333\n",
      "epoch: 20 / 30, training rmse: 0.6932, training r2: 0.6353\n",
      "epoch: 21 / 30, training rmse: 0.6911, training r2: 0.6375\n",
      "epoch: 22 / 30, training rmse: 0.6889, training r2: 0.6398\n",
      "epoch: 23 / 30, training rmse: 0.687, training r2: 0.6418\n",
      "epoch: 24 / 30, training rmse: 0.685, training r2: 0.6439\n",
      "epoch: 25 / 30, training rmse: 0.6832, training r2: 0.6458\n",
      "epoch: 26 / 30, training rmse: 0.6816, training r2: 0.6475\n",
      "epoch: 27 / 30, training rmse: 0.6793, training r2: 0.6498\n",
      "epoch: 28 / 30, training rmse: 0.6773, training r2: 0.6519\n",
      "epoch: 29 / 30, training rmse: 0.6753, training r2: 0.6539\n",
      "epoch: 30 / 30, training rmse: 0.6735, training r2: 0.6557\n"
     ]
    },
    {
     "data": {
      "image/png": "[encoded data removed]",
      "text/plain": [
       "<Figure size 432x288 with 1 Axes>"
      ]
     },
     "metadata": {
      "needs_background": "light"
     },
     "output_type": "display_data"
    },
    {
     "name": "stdout",
     "output_type": "stream",
     "text": [
      "36 [1.   1.   0.99 0.99] [0.03742779 0.04553107 0.03798674 0.04889296]\n"
     ]
    },
    {
     "name": "stderr",
     "output_type": "stream",
     "text": [
      "Loading required package: lattice\n",
      "Loading required package: Rcpp\n",
      "Loading required package: RcppArmadillo\n",
      "Loading required package: glmnet\n",
      "Loading required package: Matrix\n",
      "Loaded glmnet 4.1-3\n",
      "Loading required package: horseshoe\n",
      "Loading required package: pgdraw\n"
     ]
    },
    {
     "name": "stdout",
     "output_type": "stream",
     "text": [
      "epoch: 1 / 30, training rmse: 1.0513, training r2: 0.156\n",
      "epoch: 2 / 30, training rmse: 0.9678, training r2: 0.2847\n",
      "epoch: 3 / 30, training rmse: 0.8924, training r2: 0.3919\n",
      "epoch: 4 / 30, training rmse: 0.8293, training r2: 0.4748\n",
      "epoch: 5 / 30, training rmse: 0.7824, training r2: 0.5325\n",
      "epoch: 6 / 30, training rmse: 0.7543, training r2: 0.5655\n",
      "epoch: 7 / 30, training rmse: 0.7382, training r2: 0.5839\n",
      "epoch: 8 / 30, training rmse: 0.7286, training r2: 0.5946\n",
      "epoch: 9 / 30, training rmse: 0.7213, training r2: 0.6027\n",
      "epoch: 10 / 30, training rmse: 0.715, training r2: 0.6095\n",
      "epoch: 11 / 30, training rmse: 0.7098, training r2: 0.6152\n",
      "epoch: 12 / 30, training rmse: 0.7058, training r2: 0.6195\n",
      "epoch: 13 / 30, training rmse: 0.7027, training r2: 0.6229\n",
      "epoch: 14 / 30, training rmse: 0.6997, training r2: 0.6261\n",
      "epoch: 15 / 30, training rmse: 0.6969, training r2: 0.6291\n",
      "epoch: 16 / 30, training rmse: 0.6946, training r2: 0.6315\n",
      "epoch: 17 / 30, training rmse: 0.6923, training r2: 0.634\n",
      "epoch: 18 / 30, training rmse: 0.6901, training r2: 0.6363\n",
      "epoch: 19 / 30, training rmse: 0.6882, training r2: 0.6383\n",
      "epoch: 20 / 30, training rmse: 0.6864, training r2: 0.6402\n",
      "epoch: 21 / 30, training rmse: 0.6843, training r2: 0.6424\n",
      "epoch: 22 / 30, training rmse: 0.682, training r2: 0.6448\n",
      "epoch: 23 / 30, training rmse: 0.6804, training r2: 0.6465\n",
      "epoch: 24 / 30, training rmse: 0.6784, training r2: 0.6486\n",
      "epoch: 25 / 30, training rmse: 0.676, training r2: 0.651\n",
      "epoch: 26 / 30, training rmse: 0.6744, training r2: 0.6527\n",
      "epoch: 27 / 30, training rmse: 0.6724, training r2: 0.6547\n",
      "epoch: 28 / 30, training rmse: 0.6706, training r2: 0.6565\n",
      "epoch: 29 / 30, training rmse: 0.6688, training r2: 0.6584\n",
      "epoch: 30 / 30, training rmse: 0.6667, training r2: 0.6606\n"
     ]
    },
    {
     "data": {
      "image/png": "[encoded data removed]",
      "text/plain": [
       "<Figure size 432x288 with 1 Axes>"
      ]
     },
     "metadata": {
      "needs_background": "light"
     },
     "output_type": "display_data"
    },
    {
     "name": "stdout",
     "output_type": "stream",
     "text": [
      "37 [1.    1.    0.992 0.999] [0.03659562 0.04503658 0.03670695 0.04781012]\n"
     ]
    },
    {
     "name": "stderr",
     "output_type": "stream",
     "text": [
      "Loading required package: lattice\n",
      "Loading required package: Rcpp\n",
      "Loading required package: RcppArmadillo\n",
      "Loading required package: glmnet\n",
      "Loading required package: Matrix\n",
      "Loaded glmnet 4.1-3\n",
      "Loading required package: horseshoe\n",
      "Loading required package: pgdraw\n"
     ]
    },
    {
     "name": "stdout",
     "output_type": "stream",
     "text": [
      "epoch: 1 / 30, training rmse: 1.0591, training r2: 0.1474\n",
      "epoch: 2 / 30, training rmse: 0.9747, training r2: 0.2779\n",
      "epoch: 3 / 30, training rmse: 0.9017, training r2: 0.3821\n",
      "epoch: 4 / 30, training rmse: 0.8394, training r2: 0.4645\n",
      "epoch: 5 / 30, training rmse: 0.792, training r2: 0.5232\n",
      "epoch: 6 / 30, training rmse: 0.7607, training r2: 0.5602\n",
      "epoch: 7 / 30, training rmse: 0.7427, training r2: 0.5808\n",
      "epoch: 8 / 30, training rmse: 0.7311, training r2: 0.5938\n",
      "epoch: 9 / 30, training rmse: 0.7224, training r2: 0.6033\n",
      "epoch: 10 / 30, training rmse: 0.7159, training r2: 0.6105\n",
      "epoch: 11 / 30, training rmse: 0.7101, training r2: 0.6167\n",
      "epoch: 12 / 30, training rmse: 0.705, training r2: 0.6222\n",
      "epoch: 13 / 30, training rmse: 0.7008, training r2: 0.6267\n",
      "epoch: 14 / 30, training rmse: 0.6976, training r2: 0.6301\n",
      "epoch: 15 / 30, training rmse: 0.6945, training r2: 0.6334\n",
      "epoch: 16 / 30, training rmse: 0.6924, training r2: 0.6356\n",
      "epoch: 17 / 30, training rmse: 0.6895, training r2: 0.6386\n",
      "epoch: 18 / 30, training rmse: 0.6872, training r2: 0.6411\n",
      "epoch: 19 / 30, training rmse: 0.6854, training r2: 0.643\n",
      "epoch: 20 / 30, training rmse: 0.6832, training r2: 0.6453\n",
      "epoch: 21 / 30, training rmse: 0.6811, training r2: 0.6475\n",
      "epoch: 22 / 30, training rmse: 0.6791, training r2: 0.6495\n",
      "epoch: 23 / 30, training rmse: 0.6772, training r2: 0.6514\n",
      "epoch: 24 / 30, training rmse: 0.6754, training r2: 0.6533\n",
      "epoch: 25 / 30, training rmse: 0.6734, training r2: 0.6553\n",
      "epoch: 26 / 30, training rmse: 0.6716, training r2: 0.6572\n",
      "epoch: 27 / 30, training rmse: 0.6699, training r2: 0.6589\n",
      "epoch: 28 / 30, training rmse: 0.6679, training r2: 0.661\n",
      "epoch: 29 / 30, training rmse: 0.6663, training r2: 0.6626\n",
      "epoch: 30 / 30, training rmse: 0.6643, training r2: 0.6646\n"
     ]
    },
    {
     "data": {
      "image/png": "[encoded data removed]",
      "text/plain": [
       "<Figure size 432x288 with 1 Axes>"
      ]
     },
     "metadata": {
      "needs_background": "light"
     },
     "output_type": "display_data"
    },
    {
     "name": "stdout",
     "output_type": "stream",
     "text": [
      "38 [1.    1.    0.998 0.999] [0.03618916 0.04395414 0.03859448 0.04553241]\n"
     ]
    },
    {
     "name": "stderr",
     "output_type": "stream",
     "text": [
      "Loading required package: lattice\n",
      "Loading required package: Rcpp\n",
      "Loading required package: RcppArmadillo\n",
      "Loading required package: glmnet\n",
      "Loading required package: Matrix\n",
      "Loaded glmnet 4.1-3\n",
      "Loading required package: horseshoe\n",
      "Loading required package: pgdraw\n"
     ]
    },
    {
     "name": "stdout",
     "output_type": "stream",
     "text": [
      "epoch: 1 / 30, training rmse: 1.0583, training r2: 0.156\n",
      "epoch: 2 / 30, training rmse: 0.9755, training r2: 0.2829\n",
      "epoch: 3 / 30, training rmse: 0.902, training r2: 0.3869\n",
      "epoch: 4 / 30, training rmse: 0.8391, training r2: 0.4694\n",
      "epoch: 5 / 30, training rmse: 0.7926, training r2: 0.5266\n",
      "epoch: 6 / 30, training rmse: 0.763, training r2: 0.5613\n",
      "epoch: 7 / 30, training rmse: 0.7461, training r2: 0.5805\n",
      "epoch: 8 / 30, training rmse: 0.7358, training r2: 0.592\n",
      "epoch: 9 / 30, training rmse: 0.7288, training r2: 0.5997\n",
      "epoch: 10 / 30, training rmse: 0.7225, training r2: 0.6066\n",
      "epoch: 11 / 30, training rmse: 0.7178, training r2: 0.6117\n",
      "epoch: 12 / 30, training rmse: 0.7141, training r2: 0.6157\n",
      "epoch: 13 / 30, training rmse: 0.7109, training r2: 0.6192\n",
      "epoch: 14 / 30, training rmse: 0.7079, training r2: 0.6223\n",
      "epoch: 15 / 30, training rmse: 0.7058, training r2: 0.6246\n",
      "epoch: 16 / 30, training rmse: 0.7033, training r2: 0.6272\n",
      "epoch: 17 / 30, training rmse: 0.7011, training r2: 0.6296\n",
      "epoch: 18 / 30, training rmse: 0.6992, training r2: 0.6315\n",
      "epoch: 19 / 30, training rmse: 0.6973, training r2: 0.6336\n",
      "epoch: 20 / 30, training rmse: 0.6951, training r2: 0.6359\n",
      "epoch: 21 / 30, training rmse: 0.693, training r2: 0.638\n",
      "epoch: 22 / 30, training rmse: 0.6914, training r2: 0.6398\n",
      "epoch: 23 / 30, training rmse: 0.6893, training r2: 0.6419\n",
      "epoch: 24 / 30, training rmse: 0.6875, training r2: 0.6438\n",
      "epoch: 25 / 30, training rmse: 0.6854, training r2: 0.6459\n",
      "epoch: 26 / 30, training rmse: 0.6838, training r2: 0.6476\n",
      "epoch: 27 / 30, training rmse: 0.6819, training r2: 0.6496\n",
      "epoch: 28 / 30, training rmse: 0.6801, training r2: 0.6514\n",
      "epoch: 29 / 30, training rmse: 0.6782, training r2: 0.6534\n",
      "epoch: 30 / 30, training rmse: 0.676, training r2: 0.6556\n"
     ]
    },
    {
     "data": {
      "image/png": "[encoded data removed]",
      "text/plain": [
       "<Figure size 432x288 with 1 Axes>"
      ]
     },
     "metadata": {
      "needs_background": "light"
     },
     "output_type": "display_data"
    },
    {
     "name": "stdout",
     "output_type": "stream",
     "text": [
      "39 [1.    1.    0.98  0.988] [0.03776853 0.04454987 0.03517609 0.04949513]\n"
     ]
    },
    {
     "name": "stderr",
     "output_type": "stream",
     "text": [
      "Loading required package: lattice\n",
      "Loading required package: Rcpp\n",
      "Loading required package: RcppArmadillo\n",
      "Loading required package: glmnet\n",
      "Loading required package: Matrix\n",
      "Loaded glmnet 4.1-3\n",
      "Loading required package: horseshoe\n",
      "Loading required package: pgdraw\n"
     ]
    },
    {
     "name": "stdout",
     "output_type": "stream",
     "text": [
      "epoch: 1 / 30, training rmse: 1.0569, training r2: 0.1572\n",
      "epoch: 2 / 30, training rmse: 0.9747, training r2: 0.2832\n",
      "epoch: 3 / 30, training rmse: 0.9024, training r2: 0.3856\n",
      "epoch: 4 / 30, training rmse: 0.8407, training r2: 0.4668\n",
      "epoch: 5 / 30, training rmse: 0.7942, training r2: 0.5242\n",
      "epoch: 6 / 30, training rmse: 0.7654, training r2: 0.558\n",
      "epoch: 7 / 30, training rmse: 0.748, training r2: 0.5778\n",
      "epoch: 8 / 30, training rmse: 0.7367, training r2: 0.5906\n",
      "epoch: 9 / 30, training rmse: 0.7284, training r2: 0.5997\n",
      "epoch: 10 / 30, training rmse: 0.7213, training r2: 0.6075\n",
      "epoch: 11 / 30, training rmse: 0.7154, training r2: 0.6138\n",
      "epoch: 12 / 30, training rmse: 0.7111, training r2: 0.6185\n",
      "epoch: 13 / 30, training rmse: 0.7072, training r2: 0.6227\n",
      "epoch: 14 / 30, training rmse: 0.7041, training r2: 0.626\n",
      "epoch: 15 / 30, training rmse: 0.7013, training r2: 0.6289\n",
      "epoch: 16 / 30, training rmse: 0.6989, training r2: 0.6315\n",
      "epoch: 17 / 30, training rmse: 0.6964, training r2: 0.6341\n",
      "epoch: 18 / 30, training rmse: 0.6944, training r2: 0.6362\n",
      "epoch: 19 / 30, training rmse: 0.6929, training r2: 0.6378\n",
      "epoch: 20 / 30, training rmse: 0.6905, training r2: 0.6403\n",
      "epoch: 21 / 30, training rmse: 0.6886, training r2: 0.6423\n",
      "epoch: 22 / 30, training rmse: 0.6868, training r2: 0.6441\n",
      "epoch: 23 / 30, training rmse: 0.685, training r2: 0.646\n",
      "epoch: 24 / 30, training rmse: 0.6829, training r2: 0.6481\n",
      "epoch: 25 / 30, training rmse: 0.6813, training r2: 0.6498\n",
      "epoch: 26 / 30, training rmse: 0.6796, training r2: 0.6516\n",
      "epoch: 27 / 30, training rmse: 0.6777, training r2: 0.6535\n",
      "epoch: 28 / 30, training rmse: 0.6758, training r2: 0.6554\n",
      "epoch: 29 / 30, training rmse: 0.6742, training r2: 0.6571\n",
      "epoch: 30 / 30, training rmse: 0.6722, training r2: 0.6591\n"
     ]
    },
    {
     "data": {
      "image/png": "[encoded data removed]",
      "text/plain": [
       "<Figure size 432x288 with 1 Axes>"
      ]
     },
     "metadata": {
      "needs_background": "light"
     },
     "output_type": "display_data"
    },
    {
     "name": "stdout",
     "output_type": "stream",
     "text": [
      "40 [1.    1.    0.994 0.997] [0.03716635 0.04386818 0.03728396 0.04732075]\n"
     ]
    },
    {
     "name": "stderr",
     "output_type": "stream",
     "text": [
      "Loading required package: lattice\n",
      "Loading required package: Rcpp\n",
      "Loading required package: RcppArmadillo\n",
      "Loading required package: glmnet\n",
      "Loading required package: Matrix\n",
      "Loaded glmnet 4.1-3\n",
      "Loading required package: horseshoe\n",
      "Loading required package: pgdraw\n"
     ]
    },
    {
     "name": "stdout",
     "output_type": "stream",
     "text": [
      "epoch: 1 / 30, training rmse: 1.0583, training r2: 0.1484\n",
      "epoch: 2 / 30, training rmse: 0.9753, training r2: 0.2767\n",
      "epoch: 3 / 30, training rmse: 0.9016, training r2: 0.3819\n",
      "epoch: 4 / 30, training rmse: 0.8389, training r2: 0.4649\n",
      "epoch: 5 / 30, training rmse: 0.7918, training r2: 0.5232\n",
      "epoch: 6 / 30, training rmse: 0.7614, training r2: 0.5591\n",
      "epoch: 7 / 30, training rmse: 0.7431, training r2: 0.58\n",
      "epoch: 8 / 30, training rmse: 0.7323, training r2: 0.5922\n",
      "epoch: 9 / 30, training rmse: 0.7247, training r2: 0.6006\n",
      "epoch: 10 / 30, training rmse: 0.7186, training r2: 0.6073\n",
      "epoch: 11 / 30, training rmse: 0.7142, training r2: 0.6121\n",
      "epoch: 12 / 30, training rmse: 0.7103, training r2: 0.6163\n",
      "epoch: 13 / 30, training rmse: 0.7077, training r2: 0.6192\n",
      "epoch: 14 / 30, training rmse: 0.7046, training r2: 0.6225\n",
      "epoch: 15 / 30, training rmse: 0.7024, training r2: 0.6249\n",
      "epoch: 16 / 30, training rmse: 0.7001, training r2: 0.6273\n",
      "epoch: 17 / 30, training rmse: 0.6981, training r2: 0.6294\n",
      "epoch: 18 / 30, training rmse: 0.6957, training r2: 0.632\n",
      "epoch: 19 / 30, training rmse: 0.6938, training r2: 0.634\n",
      "epoch: 20 / 30, training rmse: 0.6918, training r2: 0.636\n",
      "epoch: 21 / 30, training rmse: 0.6899, training r2: 0.638\n",
      "epoch: 22 / 30, training rmse: 0.6885, training r2: 0.6396\n",
      "epoch: 23 / 30, training rmse: 0.6865, training r2: 0.6416\n",
      "epoch: 24 / 30, training rmse: 0.6849, training r2: 0.6433\n",
      "epoch: 25 / 30, training rmse: 0.6826, training r2: 0.6457\n",
      "epoch: 26 / 30, training rmse: 0.681, training r2: 0.6473\n",
      "epoch: 27 / 30, training rmse: 0.6792, training r2: 0.6492\n",
      "epoch: 28 / 30, training rmse: 0.6773, training r2: 0.6512\n",
      "epoch: 29 / 30, training rmse: 0.676, training r2: 0.6525\n",
      "epoch: 30 / 30, training rmse: 0.6737, training r2: 0.6548\n"
     ]
    },
    {
     "data": {
      "image/png": "[encoded data removed]",
      "text/plain": [
       "<Figure size 432x288 with 1 Axes>"
      ]
     },
     "metadata": {
      "needs_background": "light"
     },
     "output_type": "display_data"
    },
    {
     "name": "stdout",
     "output_type": "stream",
     "text": [
      "41 [1.    1.    0.993 0.994] [0.03758707 0.04469123 0.03764527 0.04895378]\n"
     ]
    },
    {
     "name": "stderr",
     "output_type": "stream",
     "text": [
      "Loading required package: lattice\n",
      "Loading required package: Rcpp\n",
      "Loading required package: RcppArmadillo\n",
      "Loading required package: glmnet\n",
      "Loading required package: Matrix\n",
      "Loaded glmnet 4.1-3\n",
      "Loading required package: horseshoe\n",
      "Loading required package: pgdraw\n"
     ]
    },
    {
     "name": "stdout",
     "output_type": "stream",
     "text": [
      "epoch: 1 / 30, training rmse: 1.0631, training r2: 0.1453\n",
      "epoch: 2 / 30, training rmse: 0.9793, training r2: 0.2747\n",
      "epoch: 3 / 30, training rmse: 0.9024, training r2: 0.3842\n",
      "epoch: 4 / 30, training rmse: 0.8349, training r2: 0.4729\n",
      "epoch: 5 / 30, training rmse: 0.7824, training r2: 0.537\n",
      "epoch: 6 / 30, training rmse: 0.7495, training r2: 0.5752\n",
      "epoch: 7 / 30, training rmse: 0.7314, training r2: 0.5955\n",
      "epoch: 8 / 30, training rmse: 0.7227, training r2: 0.6051\n",
      "epoch: 9 / 30, training rmse: 0.7162, training r2: 0.6121\n",
      "epoch: 10 / 30, training rmse: 0.7112, training r2: 0.6175\n",
      "epoch: 11 / 30, training rmse: 0.7071, training r2: 0.6219\n",
      "epoch: 12 / 30, training rmse: 0.7039, training r2: 0.6253\n",
      "epoch: 13 / 30, training rmse: 0.7013, training r2: 0.6281\n",
      "epoch: 14 / 30, training rmse: 0.6993, training r2: 0.6302\n",
      "epoch: 15 / 30, training rmse: 0.6963, training r2: 0.6334\n",
      "epoch: 16 / 30, training rmse: 0.6943, training r2: 0.6354\n",
      "epoch: 17 / 30, training rmse: 0.6919, training r2: 0.638\n",
      "epoch: 18 / 30, training rmse: 0.69, training r2: 0.6399\n",
      "epoch: 19 / 30, training rmse: 0.6881, training r2: 0.642\n",
      "epoch: 20 / 30, training rmse: 0.686, training r2: 0.6441\n",
      "epoch: 21 / 30, training rmse: 0.6838, training r2: 0.6464\n",
      "epoch: 22 / 30, training rmse: 0.6818, training r2: 0.6485\n",
      "epoch: 23 / 30, training rmse: 0.6803, training r2: 0.65\n",
      "epoch: 24 / 30, training rmse: 0.6782, training r2: 0.6522\n",
      "epoch: 25 / 30, training rmse: 0.6762, training r2: 0.6542\n",
      "epoch: 26 / 30, training rmse: 0.6744, training r2: 0.656\n",
      "epoch: 27 / 30, training rmse: 0.6728, training r2: 0.6577\n",
      "epoch: 28 / 30, training rmse: 0.6708, training r2: 0.6597\n",
      "epoch: 29 / 30, training rmse: 0.6689, training r2: 0.6616\n",
      "epoch: 30 / 30, training rmse: 0.6668, training r2: 0.6638\n"
     ]
    },
    {
     "data": {
      "image/png": "[encoded data removed]",
      "text/plain": [
       "<Figure size 432x288 with 1 Axes>"
      ]
     },
     "metadata": {
      "needs_background": "light"
     },
     "output_type": "display_data"
    },
    {
     "name": "stdout",
     "output_type": "stream",
     "text": [
      "42 [1.    1.    0.999 1.   ] [0.03639101 0.04249906 0.03522467 0.04703581]\n"
     ]
    },
    {
     "name": "stderr",
     "output_type": "stream",
     "text": [
      "Loading required package: lattice\n",
      "Loading required package: Rcpp\n",
      "Loading required package: RcppArmadillo\n",
      "Loading required package: glmnet\n",
      "Loading required package: Matrix\n",
      "Loaded glmnet 4.1-3\n",
      "Loading required package: horseshoe\n",
      "Loading required package: pgdraw\n"
     ]
    },
    {
     "name": "stdout",
     "output_type": "stream",
     "text": [
      "epoch: 1 / 30, training rmse: 1.0555, training r2: 0.1514\n",
      "epoch: 2 / 30, training rmse: 0.9735, training r2: 0.2782\n",
      "epoch: 3 / 30, training rmse: 0.9004, training r2: 0.3824\n",
      "epoch: 4 / 30, training rmse: 0.8377, training r2: 0.4655\n",
      "epoch: 5 / 30, training rmse: 0.7902, training r2: 0.5244\n",
      "epoch: 6 / 30, training rmse: 0.7603, training r2: 0.5597\n",
      "epoch: 7 / 30, training rmse: 0.7436, training r2: 0.5789\n",
      "epoch: 8 / 30, training rmse: 0.7339, training r2: 0.5897\n",
      "epoch: 9 / 30, training rmse: 0.7268, training r2: 0.5977\n",
      "epoch: 10 / 30, training rmse: 0.7214, training r2: 0.6036\n",
      "epoch: 11 / 30, training rmse: 0.717, training r2: 0.6085\n",
      "epoch: 12 / 30, training rmse: 0.7136, training r2: 0.6121\n",
      "epoch: 13 / 30, training rmse: 0.7106, training r2: 0.6154\n",
      "epoch: 14 / 30, training rmse: 0.7083, training r2: 0.6179\n",
      "epoch: 15 / 30, training rmse: 0.7059, training r2: 0.6204\n",
      "epoch: 16 / 30, training rmse: 0.7033, training r2: 0.6232\n",
      "epoch: 17 / 30, training rmse: 0.7014, training r2: 0.6252\n",
      "epoch: 18 / 30, training rmse: 0.6995, training r2: 0.6273\n",
      "epoch: 19 / 30, training rmse: 0.6978, training r2: 0.6291\n",
      "epoch: 20 / 30, training rmse: 0.6956, training r2: 0.6314\n",
      "epoch: 21 / 30, training rmse: 0.6937, training r2: 0.6334\n",
      "epoch: 22 / 30, training rmse: 0.692, training r2: 0.6352\n",
      "epoch: 23 / 30, training rmse: 0.6904, training r2: 0.6369\n",
      "epoch: 24 / 30, training rmse: 0.6881, training r2: 0.6393\n",
      "epoch: 25 / 30, training rmse: 0.6866, training r2: 0.641\n",
      "epoch: 26 / 30, training rmse: 0.6847, training r2: 0.6429\n",
      "epoch: 27 / 30, training rmse: 0.6828, training r2: 0.6449\n",
      "epoch: 28 / 30, training rmse: 0.6811, training r2: 0.6466\n",
      "epoch: 29 / 30, training rmse: 0.6795, training r2: 0.6483\n",
      "epoch: 30 / 30, training rmse: 0.6777, training r2: 0.6502\n"
     ]
    },
    {
     "data": {
      "image/png": "[encoded data removed]",
      "text/plain": [
       "<Figure size 432x288 with 1 Axes>"
      ]
     },
     "metadata": {
      "needs_background": "light"
     },
     "output_type": "display_data"
    },
    {
     "name": "stdout",
     "output_type": "stream",
     "text": [
      "43 [1.    1.    0.987 0.995] [0.03739249 0.04476322 0.03515576 0.05039389]\n"
     ]
    },
    {
     "name": "stderr",
     "output_type": "stream",
     "text": [
      "Loading required package: lattice\n",
      "Loading required package: Rcpp\n",
      "Loading required package: RcppArmadillo\n",
      "Loading required package: glmnet\n",
      "Loading required package: Matrix\n",
      "Loaded glmnet 4.1-3\n",
      "Loading required package: horseshoe\n",
      "Loading required package: pgdraw\n",
      "Error in fast_horseshoe_lm(test_outcomes[i, ], Psi_o) : \n",
      "  chol(): decomposition failed\n",
      "Execution halted\n"
     ]
    },
    {
     "name": "stdout",
     "output_type": "stream",
     "text": [
      "epoch: 1 / 30, training rmse: 1.0606, training r2: 0.1431\n",
      "epoch: 2 / 30, training rmse: 0.9771, training r2: 0.2727\n",
      "epoch: 3 / 30, training rmse: 0.9029, training r2: 0.3791\n",
      "epoch: 4 / 30, training rmse: 0.8387, training r2: 0.4642\n",
      "epoch: 5 / 30, training rmse: 0.79, training r2: 0.5246\n",
      "epoch: 6 / 30, training rmse: 0.7601, training r2: 0.5599\n",
      "epoch: 7 / 30, training rmse: 0.7428, training r2: 0.5797\n",
      "epoch: 8 / 30, training rmse: 0.7324, training r2: 0.5914\n",
      "epoch: 9 / 30, training rmse: 0.725, training r2: 0.5996\n",
      "epoch: 10 / 30, training rmse: 0.7201, training r2: 0.605\n",
      "epoch: 11 / 30, training rmse: 0.7155, training r2: 0.61\n",
      "epoch: 12 / 30, training rmse: 0.7117, training r2: 0.6141\n",
      "epoch: 13 / 30, training rmse: 0.7091, training r2: 0.617\n",
      "epoch: 14 / 30, training rmse: 0.7065, training r2: 0.6198\n",
      "epoch: 15 / 30, training rmse: 0.7041, training r2: 0.6224\n",
      "epoch: 16 / 30, training rmse: 0.7021, training r2: 0.6245\n",
      "epoch: 17 / 30, training rmse: 0.6995, training r2: 0.6273\n",
      "epoch: 18 / 30, training rmse: 0.6972, training r2: 0.6297\n",
      "epoch: 19 / 30, training rmse: 0.6956, training r2: 0.6315\n",
      "epoch: 20 / 30, training rmse: 0.6931, training r2: 0.634\n",
      "epoch: 21 / 30, training rmse: 0.6917, training r2: 0.6356\n",
      "epoch: 22 / 30, training rmse: 0.6892, training r2: 0.6382\n",
      "epoch: 23 / 30, training rmse: 0.6873, training r2: 0.6402\n",
      "epoch: 24 / 30, training rmse: 0.6855, training r2: 0.6421\n",
      "epoch: 25 / 30, training rmse: 0.6838, training r2: 0.6439\n",
      "epoch: 26 / 30, training rmse: 0.6818, training r2: 0.6459\n",
      "epoch: 27 / 30, training rmse: 0.6798, training r2: 0.648\n",
      "epoch: 28 / 30, training rmse: 0.6779, training r2: 0.6499\n",
      "epoch: 29 / 30, training rmse: 0.6761, training r2: 0.6518\n",
      "epoch: 30 / 30, training rmse: 0.674, training r2: 0.654\n"
     ]
    },
    {
     "data": {
      "image/png": "[encoded data removed]",
      "text/plain": [
       "<Figure size 432x288 with 1 Axes>"
      ]
     },
     "metadata": {
      "needs_background": "light"
     },
     "output_type": "display_data"
    },
    {
     "name": "stdout",
     "output_type": "stream",
     "text": [
      "44 [0.492 0.461 0.996 1.   ] [0.06136607 0.06200699 0.03474039 0.04972734]\n"
     ]
    },
    {
     "name": "stderr",
     "output_type": "stream",
     "text": [
      "Loading required package: lattice\n",
      "Loading required package: Rcpp\n",
      "Loading required package: RcppArmadillo\n",
      "Loading required package: glmnet\n",
      "Loading required package: Matrix\n",
      "Loaded glmnet 4.1-3\n",
      "Loading required package: horseshoe\n",
      "Loading required package: pgdraw\n"
     ]
    },
    {
     "name": "stdout",
     "output_type": "stream",
     "text": [
      "epoch: 1 / 30, training rmse: 1.0659, training r2: 0.1411\n",
      "epoch: 2 / 30, training rmse: 0.9813, training r2: 0.272\n",
      "epoch: 3 / 30, training rmse: 0.9055, training r2: 0.3802\n",
      "epoch: 4 / 30, training rmse: 0.8389, training r2: 0.468\n",
      "epoch: 5 / 30, training rmse: 0.7876, training r2: 0.5311\n",
      "epoch: 6 / 30, training rmse: 0.7545, training r2: 0.5697\n",
      "epoch: 7 / 30, training rmse: 0.7352, training r2: 0.5913\n",
      "epoch: 8 / 30, training rmse: 0.7248, training r2: 0.6029\n",
      "epoch: 9 / 30, training rmse: 0.7174, training r2: 0.6109\n",
      "epoch: 10 / 30, training rmse: 0.7119, training r2: 0.6169\n",
      "epoch: 11 / 30, training rmse: 0.7074, training r2: 0.6217\n",
      "epoch: 12 / 30, training rmse: 0.7041, training r2: 0.6252\n",
      "epoch: 13 / 30, training rmse: 0.7012, training r2: 0.6282\n",
      "epoch: 14 / 30, training rmse: 0.6985, training r2: 0.6311\n",
      "epoch: 15 / 30, training rmse: 0.6962, training r2: 0.6335\n",
      "epoch: 16 / 30, training rmse: 0.6935, training r2: 0.6364\n",
      "epoch: 17 / 30, training rmse: 0.6912, training r2: 0.6388\n",
      "epoch: 18 / 30, training rmse: 0.6893, training r2: 0.6408\n",
      "epoch: 19 / 30, training rmse: 0.6872, training r2: 0.643\n",
      "epoch: 20 / 30, training rmse: 0.6855, training r2: 0.6448\n",
      "epoch: 21 / 30, training rmse: 0.6833, training r2: 0.647\n",
      "epoch: 22 / 30, training rmse: 0.6813, training r2: 0.6491\n",
      "epoch: 23 / 30, training rmse: 0.6794, training r2: 0.651\n",
      "epoch: 24 / 30, training rmse: 0.6776, training r2: 0.6529\n",
      "epoch: 25 / 30, training rmse: 0.6756, training r2: 0.6549\n",
      "epoch: 26 / 30, training rmse: 0.6739, training r2: 0.6567\n",
      "epoch: 27 / 30, training rmse: 0.6717, training r2: 0.6589\n",
      "epoch: 28 / 30, training rmse: 0.6701, training r2: 0.6605\n",
      "epoch: 29 / 30, training rmse: 0.6678, training r2: 0.6628\n",
      "epoch: 30 / 30, training rmse: 0.6661, training r2: 0.6646\n"
     ]
    },
    {
     "data": {
      "image/png": "[encoded data removed]",
      "text/plain": [
       "<Figure size 432x288 with 1 Axes>"
      ]
     },
     "metadata": {
      "needs_background": "light"
     },
     "output_type": "display_data"
    },
    {
     "name": "stdout",
     "output_type": "stream",
     "text": [
      "45 [1.    0.999 1.    1.   ] [0.03719739 0.04531826 0.03709381 0.04799204]\n"
     ]
    },
    {
     "name": "stderr",
     "output_type": "stream",
     "text": [
      "Loading required package: lattice\n",
      "Loading required package: Rcpp\n",
      "Loading required package: RcppArmadillo\n",
      "Loading required package: glmnet\n",
      "Loading required package: Matrix\n",
      "Loaded glmnet 4.1-3\n",
      "Loading required package: horseshoe\n",
      "Loading required package: pgdraw\n"
     ]
    },
    {
     "name": "stdout",
     "output_type": "stream",
     "text": [
      "epoch: 1 / 30, training rmse: 1.0714, training r2: 0.145\n",
      "epoch: 2 / 30, training rmse: 0.9847, training r2: 0.2778\n",
      "epoch: 3 / 30, training rmse: 0.9058, training r2: 0.3889\n",
      "epoch: 4 / 30, training rmse: 0.8383, training r2: 0.4766\n",
      "epoch: 5 / 30, training rmse: 0.7881, training r2: 0.5374\n",
      "epoch: 6 / 30, training rmse: 0.7568, training r2: 0.5734\n",
      "epoch: 7 / 30, training rmse: 0.7397, training r2: 0.5924\n",
      "epoch: 8 / 30, training rmse: 0.7303, training r2: 0.6027\n",
      "epoch: 9 / 30, training rmse: 0.7232, training r2: 0.6104\n",
      "epoch: 10 / 30, training rmse: 0.7187, training r2: 0.6153\n",
      "epoch: 11 / 30, training rmse: 0.7143, training r2: 0.62\n",
      "epoch: 12 / 30, training rmse: 0.7108, training r2: 0.6236\n",
      "epoch: 13 / 30, training rmse: 0.7077, training r2: 0.627\n",
      "epoch: 14 / 30, training rmse: 0.7054, training r2: 0.6294\n",
      "epoch: 15 / 30, training rmse: 0.7024, training r2: 0.6326\n",
      "epoch: 16 / 30, training rmse: 0.7, training r2: 0.635\n",
      "epoch: 17 / 30, training rmse: 0.6977, training r2: 0.6375\n",
      "epoch: 18 / 30, training rmse: 0.6953, training r2: 0.6399\n",
      "epoch: 19 / 30, training rmse: 0.6936, training r2: 0.6416\n",
      "epoch: 20 / 30, training rmse: 0.6914, training r2: 0.644\n",
      "epoch: 21 / 30, training rmse: 0.6897, training r2: 0.6457\n",
      "epoch: 22 / 30, training rmse: 0.6872, training r2: 0.6482\n",
      "epoch: 23 / 30, training rmse: 0.6851, training r2: 0.6504\n",
      "epoch: 24 / 30, training rmse: 0.6833, training r2: 0.6522\n",
      "epoch: 25 / 30, training rmse: 0.6811, training r2: 0.6544\n",
      "epoch: 26 / 30, training rmse: 0.6791, training r2: 0.6566\n",
      "epoch: 27 / 30, training rmse: 0.6769, training r2: 0.6587\n",
      "epoch: 28 / 30, training rmse: 0.675, training r2: 0.6606\n",
      "epoch: 29 / 30, training rmse: 0.6733, training r2: 0.6624\n",
      "epoch: 30 / 30, training rmse: 0.6712, training r2: 0.6645\n"
     ]
    },
    {
     "data": {
      "image/png": "[encoded data removed]",
      "text/plain": [
       "<Figure size 432x288 with 1 Axes>"
      ]
     },
     "metadata": {
      "needs_background": "light"
     },
     "output_type": "display_data"
    },
    {
     "name": "stdout",
     "output_type": "stream",
     "text": [
      "46 [1.    1.    0.997 1.   ] [0.03720966 0.04569933 0.03988066 0.04761736]\n"
     ]
    },
    {
     "name": "stderr",
     "output_type": "stream",
     "text": [
      "Loading required package: lattice\n",
      "Loading required package: Rcpp\n",
      "Loading required package: RcppArmadillo\n",
      "Loading required package: glmnet\n",
      "Loading required package: Matrix\n",
      "Loaded glmnet 4.1-3\n",
      "Loading required package: horseshoe\n",
      "Loading required package: pgdraw\n"
     ]
    },
    {
     "name": "stdout",
     "output_type": "stream",
     "text": [
      "epoch: 1 / 30, training rmse: 1.069, training r2: 0.1514\n",
      "epoch: 2 / 30, training rmse: 0.9832, training r2: 0.2822\n",
      "epoch: 3 / 30, training rmse: 0.9061, training r2: 0.3904\n",
      "epoch: 4 / 30, training rmse: 0.8403, training r2: 0.4757\n",
      "epoch: 5 / 30, training rmse: 0.7895, training r2: 0.5371\n",
      "epoch: 6 / 30, training rmse: 0.7581, training r2: 0.5733\n",
      "epoch: 7 / 30, training rmse: 0.7402, training r2: 0.5932\n",
      "epoch: 8 / 30, training rmse: 0.7296, training r2: 0.6047\n",
      "epoch: 9 / 30, training rmse: 0.7223, training r2: 0.6126\n",
      "epoch: 10 / 30, training rmse: 0.7166, training r2: 0.6187\n",
      "epoch: 11 / 30, training rmse: 0.7119, training r2: 0.6237\n",
      "epoch: 12 / 30, training rmse: 0.7082, training r2: 0.6276\n",
      "epoch: 13 / 30, training rmse: 0.705, training r2: 0.631\n",
      "epoch: 14 / 30, training rmse: 0.7023, training r2: 0.6338\n",
      "epoch: 15 / 30, training rmse: 0.6994, training r2: 0.6368\n",
      "epoch: 16 / 30, training rmse: 0.6973, training r2: 0.639\n",
      "epoch: 17 / 30, training rmse: 0.6948, training r2: 0.6416\n",
      "epoch: 18 / 30, training rmse: 0.6931, training r2: 0.6433\n",
      "epoch: 19 / 30, training rmse: 0.6907, training r2: 0.6457\n",
      "epoch: 20 / 30, training rmse: 0.6884, training r2: 0.6482\n",
      "epoch: 21 / 30, training rmse: 0.6866, training r2: 0.6499\n",
      "epoch: 22 / 30, training rmse: 0.6847, training r2: 0.6519\n",
      "epoch: 23 / 30, training rmse: 0.6827, training r2: 0.654\n",
      "epoch: 24 / 30, training rmse: 0.6805, training r2: 0.6561\n",
      "epoch: 25 / 30, training rmse: 0.6787, training r2: 0.6579\n",
      "epoch: 26 / 30, training rmse: 0.6768, training r2: 0.6599\n",
      "epoch: 27 / 30, training rmse: 0.6747, training r2: 0.662\n",
      "epoch: 28 / 30, training rmse: 0.6729, training r2: 0.6638\n",
      "epoch: 29 / 30, training rmse: 0.6708, training r2: 0.6659\n",
      "epoch: 30 / 30, training rmse: 0.6687, training r2: 0.668\n"
     ]
    },
    {
     "data": {
      "image/png": "[encoded data removed]",
      "text/plain": [
       "<Figure size 432x288 with 1 Axes>"
      ]
     },
     "metadata": {
      "needs_background": "light"
     },
     "output_type": "display_data"
    },
    {
     "name": "stdout",
     "output_type": "stream",
     "text": [
      "47 [1.    1.    0.998 0.998] [0.03663395 0.04394354 0.03475663 0.0495648 ]\n"
     ]
    },
    {
     "name": "stderr",
     "output_type": "stream",
     "text": [
      "Loading required package: lattice\n",
      "Loading required package: Rcpp\n",
      "Loading required package: RcppArmadillo\n",
      "Loading required package: glmnet\n",
      "Loading required package: Matrix\n",
      "Loaded glmnet 4.1-3\n",
      "Loading required package: horseshoe\n",
      "Loading required package: pgdraw\n"
     ]
    },
    {
     "name": "stdout",
     "output_type": "stream",
     "text": [
      "epoch: 1 / 30, training rmse: 1.0599, training r2: 0.1394\n",
      "epoch: 2 / 30, training rmse: 0.9756, training r2: 0.2709\n",
      "epoch: 3 / 30, training rmse: 0.8995, training r2: 0.3801\n",
      "epoch: 4 / 30, training rmse: 0.8333, training r2: 0.4681\n",
      "epoch: 5 / 30, training rmse: 0.7833, training r2: 0.5299\n",
      "epoch: 6 / 30, training rmse: 0.752, training r2: 0.5668\n",
      "epoch: 7 / 30, training rmse: 0.7345, training r2: 0.5867\n",
      "epoch: 8 / 30, training rmse: 0.7246, training r2: 0.5978\n",
      "epoch: 9 / 30, training rmse: 0.7177, training r2: 0.6054\n",
      "epoch: 10 / 30, training rmse: 0.7128, training r2: 0.6108\n",
      "epoch: 11 / 30, training rmse: 0.7087, training r2: 0.6152\n",
      "epoch: 12 / 30, training rmse: 0.7061, training r2: 0.618\n",
      "epoch: 13 / 30, training rmse: 0.703, training r2: 0.6214\n",
      "epoch: 14 / 30, training rmse: 0.7004, training r2: 0.6242\n",
      "epoch: 15 / 30, training rmse: 0.6984, training r2: 0.6263\n",
      "epoch: 16 / 30, training rmse: 0.6962, training r2: 0.6287\n",
      "epoch: 17 / 30, training rmse: 0.6939, training r2: 0.6312\n",
      "epoch: 18 / 30, training rmse: 0.6918, training r2: 0.6334\n",
      "epoch: 19 / 30, training rmse: 0.6897, training r2: 0.6356\n",
      "epoch: 20 / 30, training rmse: 0.6876, training r2: 0.6378\n",
      "epoch: 21 / 30, training rmse: 0.6857, training r2: 0.6398\n",
      "epoch: 22 / 30, training rmse: 0.6838, training r2: 0.6418\n",
      "epoch: 23 / 30, training rmse: 0.6821, training r2: 0.6436\n",
      "epoch: 24 / 30, training rmse: 0.6801, training r2: 0.6457\n",
      "epoch: 25 / 30, training rmse: 0.6779, training r2: 0.6479\n",
      "epoch: 26 / 30, training rmse: 0.6761, training r2: 0.6498\n",
      "epoch: 27 / 30, training rmse: 0.6742, training r2: 0.6517\n",
      "epoch: 28 / 30, training rmse: 0.6724, training r2: 0.6537\n",
      "epoch: 29 / 30, training rmse: 0.6702, training r2: 0.6559\n",
      "epoch: 30 / 30, training rmse: 0.6683, training r2: 0.6578\n"
     ]
    },
    {
     "data": {
      "image/png": "[encoded data removed]",
      "text/plain": [
       "<Figure size 432x288 with 1 Axes>"
      ]
     },
     "metadata": {
      "needs_background": "light"
     },
     "output_type": "display_data"
    },
    {
     "name": "stdout",
     "output_type": "stream",
     "text": [
      "48 [0.998 1.    0.998 0.994] [0.03647432 0.04481717 0.03693943 0.04891785]\n"
     ]
    },
    {
     "name": "stderr",
     "output_type": "stream",
     "text": [
      "Loading required package: lattice\n",
      "Loading required package: Rcpp\n",
      "Loading required package: RcppArmadillo\n",
      "Loading required package: glmnet\n",
      "Loading required package: Matrix\n",
      "Loaded glmnet 4.1-3\n",
      "Loading required package: horseshoe\n",
      "Loading required package: pgdraw\n"
     ]
    },
    {
     "name": "stdout",
     "output_type": "stream",
     "text": [
      "epoch: 1 / 30, training rmse: 1.0581, training r2: 0.1425\n",
      "epoch: 2 / 30, training rmse: 0.976, training r2: 0.2703\n",
      "epoch: 3 / 30, training rmse: 0.9013, training r2: 0.3778\n",
      "epoch: 4 / 30, training rmse: 0.8373, training r2: 0.463\n",
      "epoch: 5 / 30, training rmse: 0.79, training r2: 0.522\n",
      "epoch: 6 / 30, training rmse: 0.7601, training r2: 0.5574\n",
      "epoch: 7 / 30, training rmse: 0.7426, training r2: 0.5776\n",
      "epoch: 8 / 30, training rmse: 0.7328, training r2: 0.5886\n",
      "epoch: 9 / 30, training rmse: 0.7242, training r2: 0.5983\n",
      "epoch: 10 / 30, training rmse: 0.7176, training r2: 0.6056\n",
      "epoch: 11 / 30, training rmse: 0.7123, training r2: 0.6114\n",
      "epoch: 12 / 30, training rmse: 0.7078, training r2: 0.6162\n",
      "epoch: 13 / 30, training rmse: 0.7048, training r2: 0.6195\n",
      "epoch: 14 / 30, training rmse: 0.7011, training r2: 0.6235\n",
      "epoch: 15 / 30, training rmse: 0.6984, training r2: 0.6264\n",
      "epoch: 16 / 30, training rmse: 0.6957, training r2: 0.6292\n",
      "epoch: 17 / 30, training rmse: 0.6941, training r2: 0.631\n",
      "epoch: 18 / 30, training rmse: 0.6917, training r2: 0.6335\n",
      "epoch: 19 / 30, training rmse: 0.6893, training r2: 0.636\n",
      "epoch: 20 / 30, training rmse: 0.6876, training r2: 0.6379\n",
      "epoch: 21 / 30, training rmse: 0.6854, training r2: 0.6402\n",
      "epoch: 22 / 30, training rmse: 0.6837, training r2: 0.6419\n",
      "epoch: 23 / 30, training rmse: 0.6815, training r2: 0.6442\n",
      "epoch: 24 / 30, training rmse: 0.6795, training r2: 0.6463\n",
      "epoch: 25 / 30, training rmse: 0.6778, training r2: 0.6481\n",
      "epoch: 26 / 30, training rmse: 0.6754, training r2: 0.6506\n",
      "epoch: 27 / 30, training rmse: 0.6737, training r2: 0.6524\n",
      "epoch: 28 / 30, training rmse: 0.6713, training r2: 0.6548\n",
      "epoch: 29 / 30, training rmse: 0.6696, training r2: 0.6565\n",
      "epoch: 30 / 30, training rmse: 0.6678, training r2: 0.6584\n"
     ]
    },
    {
     "data": {
      "image/png": "[encoded data removed]",
      "text/plain": [
       "<Figure size 432x288 with 1 Axes>"
      ]
     },
     "metadata": {
      "needs_background": "light"
     },
     "output_type": "display_data"
    },
    {
     "name": "stdout",
     "output_type": "stream",
     "text": [
      "49 [1.    1.    0.998 0.999] [0.03661582 0.04451446 0.03291816 0.05006242]\n"
     ]
    }
   ],
   "source": [
    "train_label_1_idx = np.where(train_label == 1)[0]\n",
    "train_label_2_idx = np.where(train_label == 2)[0]\n",
    "train_label_3_idx = np.where(train_label == 3)[0]\n",
    "test_label_1_idx = np.where(test_label == 1)[0]\n",
    "test_label_2_idx = np.where(test_label == 2)[0]\n",
    "test_label_3_idx = np.where(test_label == 3)[0]\n",
    "\n",
    "n = 2000\n",
    "n_train = 1000\n",
    "n_test = 1000\n",
    "\n",
    "num_exp = 50\n",
    "result_mse = np.zeros((num_exp, 4))\n",
    "result_acc = np.zeros((num_exp, 4))\n",
    "L = 50\n",
    "for exp in range(num_exp):\n",
    "    random.seed(exp)\n",
    "    torch.manual_seed(exp)\n",
    "    np.random.seed(exp)\n",
    "    #####################################################################\n",
    "    # generate images\n",
    "    sign_img, sign = generate_sign(n = n)\n",
    "    train_sign = sign[0:n_train]\n",
    "    train_sign_img = sign_img[0:n_train, :]\n",
    "    test_sign = sign[n_train:n]\n",
    "    test_sign_img = sign_img[n_train:n, :]\n",
    "    train_1s = train_img[np.random.choice(train_label_1_idx, size = n_train, replace = False), :]\n",
    "    train_2s = train_img[np.random.choice(train_label_2_idx, size = n_train, replace = False), :]\n",
    "    test_1s = test_img[np.random.choice(test_label_1_idx, size = n_train, replace = False), :]\n",
    "    test_2s = test_img[np.random.choice(test_label_2_idx, size = n_train, replace = False), :]\n",
    "\n",
    "    train_predictors = np.zeros((n_train, 28*28*3))\n",
    "    train_outcomes = np.zeros((n_train, 28*28))\n",
    "    test_predictors = np.zeros((n_test, 28*28*3))\n",
    "    test_outcomes = np.zeros((n_test, 28*28))\n",
    "    train_outcomes_label = np.zeros(n_train)\n",
    "    test_outcomes_label = np.zeros(n_test)\n",
    "    for i in range(n_train):\n",
    "        train_1_i = train_1s[i, :].reshape((28, 28))\n",
    "        train_2_i = train_2s[i, :].reshape((28, 28))\n",
    "        train_sign_i = train_sign[i]\n",
    "        train_sign_img_i = train_sign_img[i, :].reshape((28, 28))\n",
    "        train_predictor_i = np.hstack((train_2_i, train_sign_img_i, train_1_i))\n",
    "        if train_sign_i == -1:\n",
    "            label_img_i = train_img[np.random.choice(train_label_1_idx, size = 1, replace = False), :]\n",
    "            train_outcomes_label[i] = 1\n",
    "        else:\n",
    "            label_img_i = train_img[np.random.choice(train_label_3_idx, size = 1, replace = False), :]\n",
    "            train_outcomes_label[i] = 3\n",
    "        train_predictors[i, :] = train_predictor_i.reshape(-1)\n",
    "        train_outcomes[i, :] = label_img_i\n",
    "\n",
    "    for i in range(n_test):\n",
    "        test_1_i = test_1s[i, :].reshape((28, 28))\n",
    "        test_2_i = test_2s[i, :].reshape((28, 28))\n",
    "        test_sign_i = test_sign[i]\n",
    "        test_sign_img_i = test_sign_img[i, :].reshape((28, 28))\n",
    "        test_predictor_i = np.hstack((test_2_i, test_sign_img_i, test_1_i))\n",
    "        if test_sign_i == -1:\n",
    "            label_img_i = test_img[np.random.choice(test_label_1_idx, size = 1, replace = False), :]\n",
    "            test_outcomes_label[i] = 1\n",
    "        else:\n",
    "            label_img_i = test_img[np.random.choice(test_label_3_idx, size = 1, replace = False), :]\n",
    "            test_outcomes_label[i] = 3\n",
    "        test_predictors[i, :] = test_predictor_i.reshape(-1)\n",
    "        test_outcomes[i, :] = label_img_i\n",
    "\n",
    "    np.savetxt(\"train_predictors.txt\", train_predictors)\n",
    "    np.savetxt(\"test_predictors.txt\", test_predictors)\n",
    "    np.savetxt(\"train_outcomes.txt\", train_outcomes)\n",
    "    np.savetxt(\"test_outcomes.txt\", test_outcomes)\n",
    "    \n",
    "    #####################################################################\n",
    "    # train cnn mnist classifier\n",
    "    cnn = CNN()\n",
    "    cnn_optimizer = torch.optim.Adam(cnn.parameters(), lr = 0.001)\n",
    "    cnn_loss = nn.functional.binary_cross_entropy\n",
    "\n",
    "    cnnX = torch.tensor(train_outcomes, dtype = torch.float32).reshape((n_train, 1, 28, 28))\n",
    "    cnny = torch.tensor(train_outcomes_label, dtype = torch.float32).reshape((n_train, 1))\n",
    "    cnny[cnny == 1] = 0\n",
    "    cnny[cnny == 3] = 1\n",
    "\n",
    "    cnn_dataset = Dataset(cnnX, cnny)\n",
    "    cnn_dataloader = torch.utils.data.DataLoader(cnn_dataset, batch_size = 64, shuffle = True)\n",
    "    \n",
    "    num_epochs = 100\n",
    "    cnn.train()\n",
    "    for epoch in range(num_epochs):\n",
    "        for (idx, (X_batch, y_batch)) in enumerate(cnn_dataloader):\n",
    "            output = cnn(X_batch)             \n",
    "            loss = cnn_loss(output, y_batch)\n",
    "\n",
    "            # clear gradients for this training step   \n",
    "            cnn_optimizer.zero_grad()           \n",
    "\n",
    "            # backpropagation, compute gradients \n",
    "            loss.backward()    \n",
    "            # apply gradients             \n",
    "            cnn_optimizer.step()      \n",
    "            \n",
    "    #####################################################################\n",
    "    # fit basis for predictors\n",
    "    grid_x = np.tile(np.arange(84), 28)\n",
    "    grid_y = np.repeat(np.arange(28), 84)\n",
    "    grid_x = (grid_x - 83 / 2) / (83 / 2)\n",
    "    grid_y = (grid_y - 27 / 2) / (27 / 2)\n",
    "    grids = np.vstack((grid_x, grid_y))\n",
    "\n",
    "    X = grids.T\n",
    "    X = torch.tensor(X, dtype = torch.float32)\n",
    "    y = train_predictors\n",
    "    y = torch.tensor(y, dtype = torch.float32)\n",
    "\n",
    "    model = BFNN(d = 2, L = L, n = n_train, V = 28*28*3)\n",
    "    optimizer = torch.optim.Adam(model.parameters(), lr = 1e-3)\n",
    "    mse_criterion = torch.nn.MSELoss()\n",
    "    for epoch in range(10000):\n",
    "        yhat = model.forward(X)\n",
    "        loss = mse_criterion(yhat, y)\n",
    "        optimizer.zero_grad()\n",
    "        loss.backward()\n",
    "        optimizer.step()\n",
    "\n",
    "    np.savetxt(\"Psi_predictors.txt\", model.Psi.detach().numpy(), delimiter = \",\")\n",
    "    \n",
    "    #####################################################################\n",
    "    # fit basis for outcomes\n",
    "    grid_x = np.tile(np.arange(28), 28)\n",
    "    grid_y = np.repeat(np.arange(28), 28)\n",
    "    grid_x = (grid_x - 27 / 2) / (27 / 2)\n",
    "    grid_y = (grid_y - 27 / 2) / (27 / 2)\n",
    "    grids = np.vstack((grid_x, grid_y))\n",
    "\n",
    "    X = grids.T\n",
    "    X = torch.tensor(X, dtype = torch.float32)\n",
    "    y = train_outcomes\n",
    "    y = torch.tensor(y, dtype = torch.float32)\n",
    "    model = BFNN(d = 2, L = L, n = n_train, V = 28*28)\n",
    "    optimizer = torch.optim.Adam(model.parameters(), lr = 1e-3)\n",
    "    mse_criterion = torch.nn.MSELoss()\n",
    "    for epoch in range(10000):\n",
    "        optimizer.zero_grad()\n",
    "        yhat = model.forward(X)\n",
    "        loss = mse_criterion(yhat, y)\n",
    "        loss.backward()\n",
    "        optimizer.step()\n",
    "\n",
    "    np.savetxt(\"Psi_outcomes.txt\", model.Psi.detach().numpy(), delimiter = \",\")\n",
    "    \n",
    "    #####################################################################\n",
    "    # orthogolize basis and find basis coefficients\n",
    "    subprocess.call([\"/sw/arcts/centos7/stacks/gcc/8.2.0/R/4.0.3/bin/Rscript\", \"part2.R\", \"{}\".format(L)], stdout=subprocess.DEVNULL)\n",
    "    \n",
    "    #####################################################################\n",
    "    # load coefficients and orthogonalized basis\n",
    "    theta_train_predictors = np.loadtxt(\"theta_train_predictors.txt\")\n",
    "    theta_test_predictors = np.loadtxt(\"theta_test_predictors.txt\")\n",
    "    theta_train_outcomes = np.loadtxt(\"theta_train_outcomes.txt\")\n",
    "    theta_test_outcomes = np.loadtxt(\"theta_test_outcomes.txt\")\n",
    "    Psi_p = np.loadtxt(\"Psi_p.txt\")\n",
    "    Psi_o = np.loadtxt(\"Psi_o.txt\")\n",
    "    \n",
    "    #####################################################################\n",
    "    # model relationship of coefficients\n",
    "    svgd_nn = svgd.svgd_bnn(X_train = theta_train_predictors, \n",
    "                        y_train = theta_train_outcomes,\n",
    "                        a_gamma = 1, \n",
    "                        b_gamma = 1, \n",
    "                        a_lambda = 1, \n",
    "                        b_lambda = 1, \n",
    "                        batch_size = 64, \n",
    "                        epochs = 30)\n",
    "    svgd_nn.train()\n",
    "    \n",
    "    #####################################################################\n",
    "    # check prediction accuracy\n",
    "    theta_train_pred, _, _ = svgd_nn.predict(theta_train_predictors, 0.9)\n",
    "    theta_test_pred, _, _ = svgd_nn.predict(theta_test_predictors, 0.9)\n",
    "    train_pred = theta_train_pred @ Psi_o.T\n",
    "    test_pred = theta_test_pred @ Psi_o.T\n",
    "    train_pred = torch.tensor(train_pred, dtype = torch.float32).reshape((n_train, 1, 28, 28))\n",
    "    test_pred = torch.tensor(test_pred, dtype = torch.float32).reshape((n_test, 1, 28, 28))\n",
    "\n",
    "    result_acc[exp, 0] = sum( (cnn(train_pred).detach().numpy().reshape(-1) > 0.5) == (train_outcomes_label == 3) ) / n_train\n",
    "    result_acc[exp, 1] = sum( (cnn(test_pred).detach().numpy().reshape(-1) > 0.5) == (test_outcomes_label == 3) ) / n_test\n",
    "\n",
    "    result_mse[exp, 0] = np.mean((train_pred.detach().numpy().reshape((n_train, 784)) - train_outcomes)**2)\n",
    "    result_mse[exp, 1] = np.mean((test_pred.detach().numpy().reshape((n_test, 784)) - test_outcomes)**2)\n",
    "    \n",
    "    #####################################################################\n",
    "    # use cnn pipeline to predict outcomes from predictors directly\n",
    "    cnn_fb = CNN_FB()\n",
    "    cnn_train_predictors = torch.tensor(train_predictors, dtype = torch.float32).reshape((n_train, 1, 28, 84))\n",
    "    cnn_train_outcomes = torch.tensor(train_outcomes, dtype = torch.float32).reshape((n_train, 784))\n",
    "    cnn_fb_loss = nn.functional.mse_loss\n",
    "    cnn_fb_optim = torch.optim.Adam(cnn_fb.parameters(), lr = 1e-3)\n",
    "\n",
    "    cnn_fb_dataset = Dataset(cnn_train_predictors, cnn_train_outcomes)\n",
    "    cnn_fb_dataloader = torch.utils.data.DataLoader(cnn_fb_dataset, batch_size = 64, shuffle = True)\n",
    "\n",
    "    num_epochs = 100\n",
    "    cnn.train()\n",
    "    for epoch in range(num_epochs):\n",
    "        for (idx, (X_batch, y_batch)) in enumerate(cnn_fb_dataloader):\n",
    "            output = cnn_fb(X_batch)             \n",
    "            loss = cnn_fb_loss(output, y_batch)\n",
    "\n",
    "            cnn_fb_optim .zero_grad()           \n",
    "            loss.backward()            \n",
    "            cnn_fb_optim .step()                \n",
    "\n",
    "    cnn_train_pred = cnn_fb(cnn_train_predictors).reshape((n_train, 1, 28, 28))\n",
    "    cnn_test_pred = cnn_fb(torch.tensor(test_predictors, dtype = torch.float32).reshape((n_test, 1, 28, 84))).reshape((n_test, 1, 28, 28))\n",
    "\n",
    "    result_acc[exp, 2] = sum( (cnn(cnn_train_pred).detach().numpy().reshape(-1) > 0.5) == (train_outcomes_label == 3) ) / n_train\n",
    "    result_acc[exp, 3] = sum( (cnn(cnn_test_pred).detach().numpy().reshape(-1) > 0.5) == (test_outcomes_label == 3) ) / n_test\n",
    "\n",
    "    result_mse[exp, 2] = np.mean((cnn_train_pred.detach().numpy().reshape((n_train, 784)) - train_outcomes)**2)\n",
    "    result_mse[exp, 3] = np.mean((cnn_test_pred.detach().numpy().reshape((n_test, 784)) - test_outcomes)**2)\n",
    "    \n",
    "    print(exp, result_acc[exp, :], result_mse[exp, :])\n",
    "\n",
    "np.savetxt(\"result_mse.txt\", result_mse)\n",
    "np.savetxt(\"result_acc.txt\", result_acc)"
   ]
  }
 ],
 "metadata": {
  "kernelspec": {
   "display_name": "Python 3 (ipykernel)",
   "language": "python",
   "name": "python3"
  },
  "language_info": {
   "codemirror_mode": {
    "name": "ipython",
    "version": 3
   },
   "file_extension": ".py",
   "mimetype": "text/x-python",
   "name": "python",
   "nbconvert_exporter": "python",
   "pygments_lexer": "ipython3",
   "version": "3.9.12"
  }
 },
 "nbformat": 4,
 "nbformat_minor": 5
}
