{
  "cells": [
    {
      "cell_type": "markdown",
      "metadata": {
        "id": "NcYSkmesslU6"
      },
      "source": [
        "## BIRD-GP: A Synthesized Fashion MNIST Example"
      ],
      "id": "NcYSkmesslU6"
    },
    {
      "cell_type": "markdown",
      "metadata": {
        "id": "xmTiObTxr95l"
      },
      "source": [
        "### Install from Github"
      ],
      "id": "xmTiObTxr95l"
    },
    {
      "cell_type": "code",
      "execution_count": 1,
      "metadata": {
        "colab": {
          "base_uri": "https://localhost:8080/"
        },
        "id": "YXW7X312rXo0",
        "outputId": "1b649d05-e430-4756-f1d7-16b4e4511077"
      },
      "outputs": [
        {
          "output_type": "stream",
          "name": "stdout",
          "text": [
            "Looking in indexes: https://pypi.org/simple, https://us-python.pkg.dev/colab-wheels/public/simple/\n",
            "Collecting git+https://github.com/guoxuan-ma/2022_BIRD_GP\n",
            "  Cloning https://github.com/guoxuan-ma/2022_BIRD_GP to /tmp/pip-req-build-1bd8x_qk\n",
            "  Running command git clone -q https://github.com/guoxuan-ma/2022_BIRD_GP /tmp/pip-req-build-1bd8x_qk\n",
            "Requirement already satisfied: numpy in /usr/local/lib/python3.7/dist-packages (from bird-gp==0.0.1) (1.21.6)\n",
            "Requirement already satisfied: torch in /usr/local/lib/python3.7/dist-packages (from bird-gp==0.0.1) (1.12.1+cu113)\n",
            "Collecting tdqm\n",
            "  Downloading tdqm-0.0.1.tar.gz (1.4 kB)\n",
            "Requirement already satisfied: scipy in /usr/local/lib/python3.7/dist-packages (from bird-gp==0.0.1) (1.7.3)\n",
            "Requirement already satisfied: matplotlib in /usr/local/lib/python3.7/dist-packages (from bird-gp==0.0.1) (3.2.2)\n",
            "Requirement already satisfied: python-dateutil>=2.1 in /usr/local/lib/python3.7/dist-packages (from matplotlib->bird-gp==0.0.1) (2.8.2)\n",
            "Requirement already satisfied: kiwisolver>=1.0.1 in /usr/local/lib/python3.7/dist-packages (from matplotlib->bird-gp==0.0.1) (1.4.4)\n",
            "Requirement already satisfied: cycler>=0.10 in /usr/local/lib/python3.7/dist-packages (from matplotlib->bird-gp==0.0.1) (0.11.0)\n",
            "Requirement already satisfied: pyparsing!=2.0.4,!=2.1.2,!=2.1.6,>=2.0.1 in /usr/local/lib/python3.7/dist-packages (from matplotlib->bird-gp==0.0.1) (3.0.9)\n",
            "Requirement already satisfied: typing-extensions in /usr/local/lib/python3.7/dist-packages (from kiwisolver>=1.0.1->matplotlib->bird-gp==0.0.1) (4.1.1)\n",
            "Requirement already satisfied: six>=1.5 in /usr/local/lib/python3.7/dist-packages (from python-dateutil>=2.1->matplotlib->bird-gp==0.0.1) (1.15.0)\n",
            "Requirement already satisfied: tqdm in /usr/local/lib/python3.7/dist-packages (from tdqm->bird-gp==0.0.1) (4.64.1)\n",
            "Building wheels for collected packages: bird-gp, tdqm\n",
            "  Building wheel for bird-gp (setup.py) ... \u001b[?25l\u001b[?25hdone\n",
            "  Created wheel for bird-gp: filename=bird_gp-0.0.1-py3-none-any.whl size=11118 sha256=f5d8d3f8062f4aa554c871b0a3f7f1bce4bad9ad67c92802fd30fa5c668ad274\n",
            "  Stored in directory: /tmp/pip-ephem-wheel-cache-nsaoynlk/wheels/84/9d/01/56796991036d59d1f313b8d94b70367917b1e6199928754e0f\n",
            "  Building wheel for tdqm (setup.py) ... \u001b[?25l\u001b[?25hdone\n",
            "  Created wheel for tdqm: filename=tdqm-0.0.1-py3-none-any.whl size=1319 sha256=d952a02a94b2cb112d242e17502552fe3e9f80432a301dbcd688474bcae897a7\n",
            "  Stored in directory: /root/.cache/pip/wheels/c6/f0/d9/9fa5ff78c0f9d5a0a427bbbb4893c283520ddfccb885ea2205\n",
            "Successfully built bird-gp tdqm\n",
            "Installing collected packages: tdqm, bird-gp\n",
            "Successfully installed bird-gp-0.0.1 tdqm-0.0.1\n"
          ]
        }
      ],
      "source": [
        "!pip install git+https://github.com/guoxuan-ma/2022_BIRD_GP"
      ],
      "id": "YXW7X312rXo0"
    },
    {
      "cell_type": "code",
      "execution_count": 2,
      "metadata": {
        "id": "3fc3b1d6-9e73-41b9-b47f-0ee306f3925f"
      },
      "outputs": [],
      "source": [
        "import numpy as np\n",
        "import matplotlib.pyplot as plt\n",
        "import math\n",
        "import bird_gp\n",
        "import random\n",
        "import torch"
      ],
      "id": "3fc3b1d6-9e73-41b9-b47f-0ee306f3925f"
    },
    {
      "cell_type": "markdown",
      "metadata": {
        "id": "cb0d12d9-ea66-45e7-988f-9ed60cdd20f9"
      },
      "source": [
        "### Read images and generate synthesized images"
      ],
      "id": "cb0d12d9-ea66-45e7-988f-9ed60cdd20f9"
    },
    {
      "cell_type": "code",
      "execution_count": 3,
      "metadata": {
        "id": "d07d7ae7-0631-49fb-a972-cc294dbf18c0"
      },
      "outputs": [],
      "source": [
        "#####################################################################\n",
        "# read images\n",
        "train_data = np.loadtxt(\"fashion_mnist_train_example_data.txt\")\n",
        "test_data = np.loadtxt(\"fashion_mnist_test_example_data.txt\")\n",
        "\n",
        "train_imgs = train_data[:, 1:]\n",
        "test_imgs = test_data[:, 1:]\n",
        "train_lbs = train_data[:, 0]\n",
        "test_lbs = test_data[:, 0]\n",
        "train_imgs = train_imgs / 255\n",
        "test_imgs = test_imgs / 255\n",
        "\n",
        "n_train = train_imgs.shape[0]\n",
        "n_test = test_imgs.shape[0]\n",
        "n = n_train + n_test\n",
        "\n",
        "seed = 0\n",
        "random.seed(seed)\n",
        "torch.manual_seed(seed)\n",
        "np.random.seed(seed)\n",
        "\n",
        "#####################################################################\n",
        "# generate images\n",
        "train_quantiles = np.zeros((4, n_train))\n",
        "for i in range(n_train):\n",
        "    train_img_i = train_imgs[i, :]\n",
        "    train_img_i = train_img_i[train_img_i > 0]\n",
        "    train_quantiles[:, i] = np.quantile(train_img_i, [0, 0.25, 0.5, 0.75])\n",
        "\n",
        "train_q0 = np.tile(train_quantiles[0, :].reshape((n_train, 1)), (1, 784))\n",
        "train_q1 = np.tile(train_quantiles[1, :].reshape((n_train, 1)), (1, 784))\n",
        "train_q2 = np.tile(train_quantiles[2, :].reshape((n_train, 1)), (1, 784))\n",
        "train_q3 = np.tile(train_quantiles[3, :].reshape((n_train, 1)), (1, 784))\n",
        "\n",
        "train_p0 = np.zeros((n_train, 784))\n",
        "train_p1 = np.zeros((n_train, 784))\n",
        "train_p2 = np.zeros((n_train, 784))\n",
        "train_p3 = np.zeros((n_train, 784))\n",
        "\n",
        "train_p3[train_imgs >= train_q3] = train_imgs[train_imgs >= train_q3]\n",
        "train_p2[(train_imgs >= train_q2) & (train_imgs < train_q3)] = train_imgs[(train_imgs >= train_q2) & (train_imgs < train_q3)]\n",
        "train_p1[(train_imgs >= train_q1) & (train_imgs < train_q2)] = train_imgs[(train_imgs >= train_q1) & (train_imgs < train_q2)]\n",
        "train_p0[(train_imgs >= train_q0) & (train_imgs < train_q1)] = train_imgs[(train_imgs >= train_q0) & (train_imgs < train_q1)]\n",
        "\n",
        "train_predictors = np.zeros((n_train, 28*28*4))\n",
        "train_outcomes = train_imgs\n",
        "for i in range(n_train):\n",
        "    train_p0_i = train_p0[i, :].reshape((28, 28))\n",
        "    train_p1_i = train_p1[i, :].reshape((28, 28))\n",
        "    train_p2_i = train_p2[i, :].reshape((28, 28))\n",
        "    train_p3_i = train_p3[i, :].reshape((28, 28))\n",
        "    train_predictor_i = np.hstack((train_p0_i, train_p1_i, train_p2_i, train_p3_i))\n",
        "    train_predictors[i, :] = train_predictor_i.reshape(-1)\n",
        "\n",
        "test_quantiles = np.zeros((4, n_test))\n",
        "for i in range(n_test):\n",
        "    test_img_i = test_imgs[i, :]\n",
        "    test_img_i = test_img_i[test_img_i > 0]\n",
        "    test_quantiles[:, i] = np.quantile(test_img_i, [0, 0.25, 0.5, 0.75])\n",
        "\n",
        "\n",
        "test_q0 = np.tile(test_quantiles[0, :].reshape((n_test, 1)), (1, 784))\n",
        "test_q1 = np.tile(test_quantiles[1, :].reshape((n_test, 1)), (1, 784))\n",
        "test_q2 = np.tile(test_quantiles[2, :].reshape((n_test, 1)), (1, 784))\n",
        "test_q3 = np.tile(test_quantiles[3, :].reshape((n_test, 1)), (1, 784))\n",
        "\n",
        "test_p0 = np.zeros((n_test, 784))\n",
        "test_p1 = np.zeros((n_test, 784))\n",
        "test_p2 = np.zeros((n_test, 784))\n",
        "test_p3 = np.zeros((n_test, 784))\n",
        "\n",
        "test_p3[test_imgs >= test_q3] = test_imgs[test_imgs >= test_q3]\n",
        "test_p2[(test_imgs >= test_q2) & (test_imgs < test_q3)] = test_imgs[(test_imgs >= test_q2) & (test_imgs < test_q3)]\n",
        "test_p1[(test_imgs >= test_q1) & (test_imgs < test_q2)] = test_imgs[(test_imgs >= test_q1) & (test_imgs < test_q2)]\n",
        "test_p0[(test_imgs >= test_q0) & (test_imgs < test_q1)] = test_imgs[(test_imgs >= test_q0) & (test_imgs < test_q1)]\n",
        "\n",
        "test_predictors = np.zeros((n_test, 28*28*4))\n",
        "test_outcomes = test_imgs\n",
        "for i in range(n_test):\n",
        "    test_p0_i = test_p0[i, :].reshape((28, 28))\n",
        "    test_p1_i = test_p1[i, :].reshape((28, 28))\n",
        "    test_p2_i = test_p2[i, :].reshape((28, 28))\n",
        "    test_p3_i = test_p3[i, :].reshape((28, 28))\n",
        "    test_predictor_i = np.hstack((test_p0_i, test_p1_i, test_p2_i, test_p3_i))\n",
        "    test_predictors[i, :] = test_predictor_i.reshape(-1)"
      ],
      "id": "d07d7ae7-0631-49fb-a972-cc294dbf18c0"
    },
    {
      "cell_type": "markdown",
      "metadata": {
        "id": "92cd2a72-ca81-48b9-b58f-659e3f6b9aee"
      },
      "source": [
        "### Generate grids"
      ],
      "id": "92cd2a72-ca81-48b9-b58f-659e3f6b9aee"
    },
    {
      "cell_type": "code",
      "execution_count": 4,
      "metadata": {
        "id": "616dcf88-c929-43c1-8e5a-27d022b6b30b"
      },
      "outputs": [],
      "source": [
        "predictor_grids = bird_gp.generate_grids([28, 112])\n",
        "outcome_grids = bird_gp.generate_grids([28, 28])"
      ],
      "id": "616dcf88-c929-43c1-8e5a-27d022b6b30b"
    },
    {
      "cell_type": "markdown",
      "metadata": {
        "id": "dbc6ae86-11ce-450e-8ba1-93a9ee51c3e0"
      },
      "source": [
        "### Create BIRD_GP object and fit"
      ],
      "id": "dbc6ae86-11ce-450e-8ba1-93a9ee51c3e0"
    },
    {
      "cell_type": "code",
      "execution_count": 5,
      "metadata": {
        "id": "6e43eab3-694e-434b-9d84-767c9d0b0835",
        "colab": {
          "base_uri": "https://localhost:8080/",
          "height": 979
        },
        "outputId": "d8a6c715-fb47-4792-a32e-55ba436e6b70"
      },
      "outputs": [
        {
          "output_type": "stream",
          "name": "stdout",
          "text": [
            "fit basis for predictors ...\n"
          ]
        },
        {
          "output_type": "stream",
          "name": "stderr",
          "text": [
            "100%|██████████| 10000/10000 [11:35<00:00, 14.37it/s]\n"
          ]
        },
        {
          "output_type": "stream",
          "name": "stdout",
          "text": [
            "fit basis for outcomes ...\n"
          ]
        },
        {
          "output_type": "stream",
          "name": "stderr",
          "text": [
            "100%|██████████| 10000/10000 [03:17<00:00, 50.73it/s]\n"
          ]
        },
        {
          "output_type": "stream",
          "name": "stdout",
          "text": [
            "basis orthogonalization ...\n",
            "fit basis coefficients for predictors ...\n"
          ]
        },
        {
          "output_type": "stream",
          "name": "stderr",
          "text": [
            "100%|██████████| 1000/1000 [09:26<00:00,  1.76it/s]\n"
          ]
        },
        {
          "output_type": "stream",
          "name": "stdout",
          "text": [
            "fit basis coefficients for outcomes ...\n"
          ]
        },
        {
          "output_type": "stream",
          "name": "stderr",
          "text": [
            "100%|██████████| 1000/1000 [09:30<00:00,  1.75it/s]\n"
          ]
        },
        {
          "output_type": "stream",
          "name": "stdout",
          "text": [
            "stein variation gradient descent ...\n",
            "epoch: 1 / 30, training rmse: 1.6287, training r2: 0.126\n",
            "epoch: 2 / 30, training rmse: 1.5065, training r2: 0.2523\n",
            "epoch: 3 / 30, training rmse: 1.3739, training r2: 0.3781\n",
            "epoch: 4 / 30, training rmse: 1.2235, training r2: 0.5068\n",
            "epoch: 5 / 30, training rmse: 1.0598, training r2: 0.6299\n",
            "epoch: 6 / 30, training rmse: 0.8986, training r2: 0.7339\n",
            "epoch: 7 / 30, training rmse: 0.762, training r2: 0.8087\n",
            "epoch: 8 / 30, training rmse: 0.6578, training r2: 0.8574\n",
            "epoch: 9 / 30, training rmse: 0.5822, training r2: 0.8883\n",
            "epoch: 10 / 30, training rmse: 0.5321, training r2: 0.9067\n",
            "epoch: 11 / 30, training rmse: 0.4995, training r2: 0.9178\n",
            "epoch: 12 / 30, training rmse: 0.476, training r2: 0.9254\n",
            "epoch: 13 / 30, training rmse: 0.4608, training r2: 0.93\n",
            "epoch: 14 / 30, training rmse: 0.4492, training r2: 0.9335\n",
            "epoch: 15 / 30, training rmse: 0.4426, training r2: 0.9355\n",
            "epoch: 16 / 30, training rmse: 0.4352, training r2: 0.9376\n",
            "epoch: 17 / 30, training rmse: 0.4299, training r2: 0.9391\n",
            "epoch: 18 / 30, training rmse: 0.4261, training r2: 0.9402\n",
            "epoch: 19 / 30, training rmse: 0.4218, training r2: 0.9414\n",
            "epoch: 20 / 30, training rmse: 0.4195, training r2: 0.942\n",
            "epoch: 21 / 30, training rmse: 0.4163, training r2: 0.9429\n",
            "epoch: 22 / 30, training rmse: 0.4146, training r2: 0.9434\n",
            "epoch: 23 / 30, training rmse: 0.4119, training r2: 0.9441\n",
            "epoch: 24 / 30, training rmse: 0.4109, training r2: 0.9444\n",
            "epoch: 25 / 30, training rmse: 0.4093, training r2: 0.9448\n",
            "epoch: 26 / 30, training rmse: 0.408, training r2: 0.9451\n",
            "epoch: 27 / 30, training rmse: 0.4069, training r2: 0.9454\n",
            "epoch: 28 / 30, training rmse: 0.4054, training r2: 0.9458\n",
            "epoch: 29 / 30, training rmse: 0.4047, training r2: 0.946\n",
            "epoch: 30 / 30, training rmse: 0.405, training r2: 0.9459\n"
          ]
        },
        {
          "output_type": "display_data",
          "data": {
            "text/plain": [
              "<Figure size 432x288 with 1 Axes>"
            ],
            "image/png": "[encoded data removed]"
          },
          "metadata": {
            "needs_background": "light"
          }
        }
      ],
      "source": [
        "birdgp = bird_gp.BIRD_GP(predictor_grids = predictor_grids,\n",
        "                         outcome_grids = outcome_grids,\n",
        "                         predictor_L = 50,\n",
        "                         outcome_L = 50,\n",
        "                         svgd_b_lambda = 1e2, \n",
        "                         bf_predictor_steps = 10000,\n",
        "                         bf_outcome_steps = 10000)\n",
        "birdgp.fit(train_predictors, train_outcomes)"
      ],
      "id": "6e43eab3-694e-434b-9d84-767c9d0b0835"
    },
    {
      "cell_type": "markdown",
      "metadata": {
        "id": "d739a671-df45-47c7-819d-0d140bf30e3e"
      },
      "source": [
        "### Evaluation on training data"
      ],
      "id": "d739a671-df45-47c7-819d-0d140bf30e3e"
    },
    {
      "cell_type": "code",
      "execution_count": 6,
      "metadata": {
        "colab": {
          "base_uri": "https://localhost:8080/"
        },
        "id": "e7cd1480-1f51-4293-88d8-8221bca559ca",
        "outputId": "3b42af9a-72f4-4b2a-eb03-c531476fefc7"
      },
      "outputs": [
        {
          "output_type": "execute_result",
          "data": {
            "text/plain": [
              "0.024533286114017255"
            ]
          },
          "metadata": {},
          "execution_count": 6
        }
      ],
      "source": [
        "train_pred = birdgp.predict_train()\n",
        "np.mean((train_pred - train_outcomes)**2)"
      ],
      "id": "e7cd1480-1f51-4293-88d8-8221bca559ca"
    },
    {
      "cell_type": "markdown",
      "metadata": {
        "id": "5554dc29-4e9d-4b35-b677-a7d4247e6db9"
      },
      "source": [
        "### Evaluation on testing data"
      ],
      "id": "5554dc29-4e9d-4b35-b677-a7d4247e6db9"
    },
    {
      "cell_type": "code",
      "execution_count": 7,
      "metadata": {
        "colab": {
          "base_uri": "https://localhost:8080/"
        },
        "id": "c844dc82-0983-45d6-8c6f-d286d86440c1",
        "outputId": "999dcebf-ef65-46c5-aeff-4292bf8a711f"
      },
      "outputs": [
        {
          "output_type": "stream",
          "name": "stderr",
          "text": [
            "100%|██████████| 1000/1000 [09:29<00:00,  1.76it/s]\n"
          ]
        },
        {
          "output_type": "execute_result",
          "data": {
            "text/plain": [
              "0.02714640670307424"
            ]
          },
          "metadata": {},
          "execution_count": 7
        }
      ],
      "source": [
        "test_pred = birdgp.predict_test(test_predictors)\n",
        "np.mean((test_pred - test_outcomes)**2)"
      ],
      "id": "c844dc82-0983-45d6-8c6f-d286d86440c1"
    },
    {
      "cell_type": "code",
      "execution_count": null,
      "metadata": {
        "id": "n97wM9OI_qPs"
      },
      "outputs": [],
      "source": [],
      "id": "n97wM9OI_qPs"
    }
  ],
  "metadata": {
    "colab": {
      "collapsed_sections": [],
      "provenance": []
    },
    "kernelspec": {
      "display_name": "torchenv",
      "language": "python",
      "name": "torchenv"
    },
    "language_info": {
      "codemirror_mode": {
        "name": "ipython",
        "version": 3
      },
      "file_extension": ".py",
      "mimetype": "text/x-python",
      "name": "python",
      "nbconvert_exporter": "python",
      "pygments_lexer": "ipython3",
      "version": "3.9.7"
    }
  },
  "nbformat": 4,
  "nbformat_minor": 5
}